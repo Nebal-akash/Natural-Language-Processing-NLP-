{
  "nbformat": 4,
  "nbformat_minor": 0,
  "metadata": {
    "colab": {
      "provenance": []
    },
    "kernelspec": {
      "name": "python3",
      "display_name": "Python 3"
    },
    "language_info": {
      "name": "python"
    }
  },
  "cells": [
    {
      "cell_type": "markdown",
      "source": [
        "#DAY 2\n"
      ],
      "metadata": {
        "id": "7CJ4mS2W24LW"
      }
    },
    {
      "cell_type": "code",
      "source": [
        "# BOW\n",
        "''' \"ai\" → column 0\n",
        "\n",
        "\"love\" → column 1\n",
        "\n",
        "\"loves\" → column 2\n",
        "\n",
        "\"me\" → column 3 '''\n",
        "from sklearn.feature_extraction.text import CountVectorizer\n",
        "docs=[\" I love AI\", \"AI loves me\",]\n",
        "cv= CountVectorizer()\n",
        "x=cv.fit_transform(docs)\n",
        "print(\"Vocabulary (unique words):\",cv.vocabulary_)\n",
        "print(\"Document term matrix:\\n\",x.toarray())"
      ],
      "metadata": {
        "id": "WHgzl808YMc6",
        "colab": {
          "base_uri": "https://localhost:8080/"
        },
        "outputId": "93990ca5-bd7f-4bee-a3ef-2a447244251e"
      },
      "execution_count": null,
      "outputs": [
        {
          "output_type": "stream",
          "name": "stdout",
          "text": [
            "Vocabulary (unique words): {'love': 1, 'ai': 0, 'loves': 2, 'me': 3}\n",
            "Document term matrix:\n",
            " [[1 1 0 0]\n",
            " [1 0 1 1]]\n"
          ]
        }
      ]
    },
    {
      "cell_type": "code",
      "source": [
        "#TF-IDF\n",
        "#TF-IDF(word,doc)=TF(word,doc)×log(N/df)​\n",
        "#TF(word,doc)=Number of times the word appears in the document​/Total number of words in the document\n",
        "#Eg:\n",
        "#TF(\"AI\", doc) = 1/3 ≈ 0.333\n",
        "#TF(\"loves\", doc) = 1/3 ≈ 0.333\n",
        "#TF(\"me\", doc) = 1/3 ≈ 0.333\n",
        "from sklearn.feature_extraction.text import TfidfVectorizer\n",
        "docs=[\" I love AI\", \"AI loves me\",]\n",
        "tfidf=TfidfVectorizer()\n",
        "x=tfidf.fit_transform(docs)\n",
        "print(\"Vocabulary (unique words):\",tfidf.vocabulary_)\n",
        "print(\"Document term matrix:\\n\",x.toarray())\n"
      ],
      "metadata": {
        "colab": {
          "base_uri": "https://localhost:8080/"
        },
        "id": "4gJy3xCXnT87",
        "outputId": "4996a1c0-cf77-402a-cb26-61b096811cc0"
      },
      "execution_count": null,
      "outputs": [
        {
          "output_type": "stream",
          "name": "stdout",
          "text": [
            "Vocabulary (unique words): {'love': 1, 'ai': 0, 'loves': 2, 'me': 3}\n",
            "Document term matrix:\n",
            " [[0.57973867 0.81480247 0.         0.        ]\n",
            " [0.44943642 0.         0.6316672  0.6316672 ]]\n"
          ]
        }
      ]
    },
    {
      "cell_type": "code",
      "source": [
        "!pip install gensim"
      ],
      "metadata": {
        "colab": {
          "base_uri": "https://localhost:8080/"
        },
        "id": "h-uGDzYX5AYs",
        "outputId": "4675b5c0-b755-47c1-d14e-39c26730d310"
      },
      "execution_count": null,
      "outputs": [
        {
          "output_type": "stream",
          "name": "stdout",
          "text": [
            "Requirement already satisfied: gensim in /usr/local/lib/python3.12/dist-packages (4.3.3)\n",
            "Requirement already satisfied: numpy<2.0,>=1.18.5 in /usr/local/lib/python3.12/dist-packages (from gensim) (1.26.4)\n",
            "Requirement already satisfied: scipy<1.14.0,>=1.7.0 in /usr/local/lib/python3.12/dist-packages (from gensim) (1.13.1)\n",
            "Requirement already satisfied: smart-open>=1.8.1 in /usr/local/lib/python3.12/dist-packages (from gensim) (7.3.0.post1)\n",
            "Requirement already satisfied: wrapt in /usr/local/lib/python3.12/dist-packages (from smart-open>=1.8.1->gensim) (1.17.3)\n"
          ]
        }
      ]
    },
    {
      "cell_type": "code",
      "source": [
        "\n",
        "from gensim.models import Word2Vec\n",
        "sentences =[\n",
        "    [\"dog\",\"bark\"],\n",
        "    [\"cat\",'meow'],\n",
        "    [\"dog\",\"runs\"],\n",
        "    [\"bird\",\"sings\"],\n",
        "    [\"cat\",\"sleeps\"],\n",
        "    [\"bird\",\"flys\"]\n",
        "]\n",
        "model=Word2Vec(sentences,vector_size=10,window=2,min_count=1,workers=2)\n",
        "print(\"vector for dog\",model.wv['dog'])"
      ],
      "metadata": {
        "colab": {
          "base_uri": "https://localhost:8080/"
        },
        "id": "hTc4TlAZ3kIh",
        "outputId": "75456f3c-2e5a-4d0b-8fec-758f328f823c"
      },
      "execution_count": null,
      "outputs": [
        {
          "output_type": "stream",
          "name": "stdout",
          "text": [
            "vector for dog [ 0.07311766  0.05070262  0.06757693  0.00762866  0.06350891 -0.03405366\n",
            " -0.00946401  0.05768573 -0.07521638 -0.03936104]\n"
          ]
        }
      ]
    },
    {
      "cell_type": "code",
      "source": [
        "import gensim.downloader as api\n",
        "model=api.load(\"glove-wiki-gigaword-50\")\n",
        "similar_words=model.most_similar(\"cat\")\n",
        "print(\"Most similar words to 'cat :\",similar_words)\n"
      ],
      "metadata": {
        "colab": {
          "base_uri": "https://localhost:8080/"
        },
        "id": "YMhPrgxi-Ih8",
        "outputId": "c75df27a-299e-45c7-c2d9-c92f6d87f90f"
      },
      "execution_count": null,
      "outputs": [
        {
          "output_type": "stream",
          "name": "stdout",
          "text": [
            "[==================================================] 100.0% 66.0/66.0MB downloaded\n",
            "Most similar words to 'cat : [('dog', 0.9218006134033203), ('rabbit', 0.8487821221351624), ('monkey', 0.8041081428527832), ('rat', 0.7891963124275208), ('cats', 0.7865270972251892), ('snake', 0.7798910737037659), ('dogs', 0.7795814871788025), ('pet', 0.7792249917984009), ('mouse', 0.773166835308075), ('bite', 0.7728800177574158)]\n"
          ]
        }
      ]
    },
    {
      "cell_type": "code",
      "source": [
        "import numpy as np\n",
        "from sklearn.model_selection import train_test_split\n",
        "from sklearn.linear_model import LogisticRegression\n",
        "from sklearn.metrics import accuracy_score\n",
        "x=np.array([[1],[2],[3],[4],[5],[6],[7],[8],[9]])\n",
        "y=np.array([0,0,0,0,1,1,1,1,1])\n",
        "x_train,x_test,y_train,y_test=train_test_split(x,y,test_size=0.3,random_state=42)\n",
        "model=LogisticRegression()\n",
        "print(x_train)\n",
        "print(y_train)\n",
        "model.fit(x_train,y_train)\n",
        "y_pred=model.predict(x_test)\n",
        "accuracy=accuracy_score(y_test,y_pred)\n",
        "print(accuracy)"
      ],
      "metadata": {
        "colab": {
          "base_uri": "https://localhost:8080/"
        },
        "id": "qdBsVlC7ClP7",
        "outputId": "3e052afe-cc90-46d5-9c44-8784ef96bb9d"
      },
      "execution_count": null,
      "outputs": [
        {
          "output_type": "stream",
          "name": "stdout",
          "text": [
            "[[1]\n",
            " [9]\n",
            " [3]\n",
            " [5]\n",
            " [4]\n",
            " [7]]\n",
            "[0 1 0 1 0 1]\n",
            "1.0\n"
          ]
        }
      ]
    },
    {
      "cell_type": "code",
      "source": [
        "import nltk\n",
        "nltk.download('punkt')\n",
        "nltk.download('punkt_tab')\n",
        "!pip install gensim transformers torch nltk -q\n",
        "from gensim.models import Word2Vec\n",
        "from nltk.tokenize import word_tokenize\n",
        "from transformers import BertTokenizer, BertModel\n",
        "import torch\n",
        "sentence1=\"He sat on the bank of the river.\"\n",
        "sentences2=\"I deposited money in the bank.\"\n",
        "sentences=[sentence1,sentences2]\n",
        "tokenized_data=[word_tokenize(sent.lower()) for sent in sentences]\n",
        "w2v_model=Word2Vec(tokenized_data,vector_size=100,window=5,min_count=1,workers=4)\n",
        "print(w2v_model.wv['bank'])\n"
      ],
      "metadata": {
        "colab": {
          "base_uri": "https://localhost:8080/"
        },
        "id": "u5bSDjQ6LKak",
        "outputId": "15015446-b980-43a6-97b4-f968c4c67a9c"
      },
      "execution_count": null,
      "outputs": [
        {
          "output_type": "stream",
          "name": "stderr",
          "text": [
            "[nltk_data] Downloading package punkt to /root/nltk_data...\n",
            "[nltk_data]   Package punkt is already up-to-date!\n",
            "[nltk_data] Downloading package punkt_tab to /root/nltk_data...\n",
            "[nltk_data]   Package punkt_tab is already up-to-date!\n"
          ]
        },
        {
          "output_type": "stream",
          "name": "stdout",
          "text": [
            "[ 9.4563962e-05  3.0773198e-03 -6.8126451e-03 -1.3754654e-03\n",
            "  7.6685809e-03  7.3464094e-03 -3.6732971e-03  2.6427018e-03\n",
            " -8.3171297e-03  6.2054861e-03 -4.6373224e-03 -3.1641065e-03\n",
            "  9.3113566e-03  8.7338570e-04  7.4907029e-03 -6.0740625e-03\n",
            "  5.1605068e-03  9.9228229e-03 -8.4573915e-03 -5.1356913e-03\n",
            " -7.0648370e-03 -4.8626517e-03 -3.7785638e-03 -8.5361991e-03\n",
            "  7.9556061e-03 -4.8439382e-03  8.4236134e-03  5.2625705e-03\n",
            " -6.5500261e-03  3.9578713e-03  5.4701497e-03 -7.4265362e-03\n",
            " -7.4057197e-03 -2.4752307e-03 -8.6257253e-03 -1.5815723e-03\n",
            " -4.0343284e-04  3.2996845e-03  1.4418805e-03 -8.8142155e-04\n",
            " -5.5940580e-03  1.7303658e-03 -8.9737179e-04  6.7936908e-03\n",
            "  3.9735902e-03  4.5294715e-03  1.4343059e-03 -2.6998555e-03\n",
            " -4.3668128e-03 -1.0320747e-03  1.4370275e-03 -2.6460087e-03\n",
            " -7.0737829e-03 -7.8053069e-03 -9.1217868e-03 -5.9351693e-03\n",
            " -1.8474245e-03 -4.3238713e-03 -6.4606704e-03 -3.7173224e-03\n",
            "  4.2891586e-03 -3.7390434e-03  8.3781751e-03  1.5339935e-03\n",
            " -7.2423196e-03  9.4337985e-03  7.6312125e-03  5.4932819e-03\n",
            " -6.8488456e-03  5.8226790e-03  4.0090932e-03  5.1853694e-03\n",
            "  4.2559016e-03  1.9397545e-03 -3.1701624e-03  8.3538452e-03\n",
            "  9.6121803e-03  3.7926030e-03 -2.8369951e-03  7.1275235e-06\n",
            "  1.2188185e-03 -8.4583247e-03 -8.2239453e-03 -2.3101569e-04\n",
            "  1.2372875e-03 -5.7433806e-03 -4.7252737e-03 -7.3460746e-03\n",
            "  8.3286157e-03  1.2129784e-04 -4.5093987e-03  5.7017053e-03\n",
            "  9.1800150e-03 -4.0998720e-03  7.9646818e-03  5.3754342e-03\n",
            "  5.8791232e-03  5.1259040e-04  8.2130842e-03 -7.0190406e-03]\n"
          ]
        }
      ]
    },
    {
      "cell_type": "code",
      "source": [
        "from gensim.models import fasttext\n",
        "sentence=[[\"happy\",\"happiness\",\"unhappy\",\"unhappiness\"]]\n",
        "ft_model=fasttext.FastText(sentence,vector_size=100,window=5,min_count=1,workers=4)\n",
        "print(\"vector for unhappiness:\\n\",ft_model.wv['unhappiness'])\n",
        "print(\"Most similiar to 'unhappiness :\",ft_model.wv.most_similar(\"unhappiness\"))\n",
        "print(\"Most similiar to 'happy :\",ft_model.wv.most_similar(\"happy\"))"
      ],
      "metadata": {
        "colab": {
          "base_uri": "https://localhost:8080/"
        },
        "id": "rxOSFOgpOYxk",
        "outputId": "000f6db7-da3d-47dd-aea7-08724f96bd78"
      },
      "execution_count": null,
      "outputs": [
        {
          "output_type": "stream",
          "name": "stdout",
          "text": [
            "vector for unhappiness:\n",
            " [-1.4853789e-03 -1.1603916e-04 -2.6417556e-04  1.1438081e-03\n",
            " -8.1752997e-04 -5.4228184e-04  1.1870451e-03  3.4255657e-04\n",
            " -8.2351820e-04  2.2573932e-04  9.8163390e-04  3.5353398e-04\n",
            "  9.3867898e-04  1.2089836e-03  4.9651033e-05 -1.1284894e-03\n",
            "  1.3815335e-03  6.9125171e-04  4.9050205e-04 -4.6529397e-04\n",
            "  9.9748909e-04  1.5839431e-04 -1.4485023e-04  5.4476346e-04\n",
            "  2.4787354e-04 -1.0724869e-03 -8.7360683e-04  1.6209706e-04\n",
            " -8.8858698e-04  3.1862097e-04 -2.3912589e-04  1.9212552e-05\n",
            " -3.4380897e-05  7.1254489e-04  1.8871486e-05  3.2873513e-04\n",
            " -1.1267792e-03  5.9013313e-05 -5.4184196e-04  8.1133458e-04\n",
            " -1.3385013e-03  9.0538560e-05 -9.3875977e-04  2.8281425e-05\n",
            " -4.4753894e-04  1.5761622e-03 -1.3700468e-03  3.4709636e-04\n",
            "  3.1044416e-04  1.0422460e-03  1.8874579e-04 -1.1543221e-03\n",
            " -1.4086190e-03 -1.2028741e-03 -8.1470772e-04 -3.7127556e-04\n",
            " -7.9761801e-04 -1.5276838e-03  8.5123332e-04  1.7463227e-04\n",
            "  6.3609367e-04 -9.5208018e-04  5.3143554e-04 -6.4415572e-04\n",
            " -1.1153717e-03  1.3501280e-03 -1.4643796e-03  1.4484806e-03\n",
            " -1.4181433e-03  9.7660301e-04 -4.9502516e-05  4.9274601e-04\n",
            "  3.4747875e-04 -1.3664770e-03  1.6628414e-04  3.0661715e-04\n",
            "  1.8437508e-03  2.8605058e-04 -3.6886381e-04  7.8701251e-04\n",
            " -1.4375478e-03 -2.1015967e-03  2.3758225e-04  1.1913174e-04\n",
            " -4.1113101e-04 -5.0180042e-05 -9.5920684e-04 -9.2991424e-04\n",
            "  3.6925910e-04 -2.0305370e-05 -1.4884006e-03 -1.0531822e-03\n",
            " -3.4296838e-05 -1.6030062e-03 -2.4977329e-03  2.9588988e-04\n",
            " -2.9344298e-04  8.0599514e-04 -6.3236948e-04 -6.0758425e-04]\n",
            "Most similiar to 'unhappiness : [('happiness', 0.7931649684906006), ('unhappy', 0.41798579692840576), ('happy', 0.13856150209903717)]\n",
            "Most similiar to 'happy : [('unhappy', 0.5397574305534363), ('happiness', 0.2657625377178192), ('unhappiness', 0.13856150209903717)]\n"
          ]
        }
      ]
    }
  ]
}
