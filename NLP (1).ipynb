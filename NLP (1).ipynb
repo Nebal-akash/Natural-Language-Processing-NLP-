{
  "nbformat": 4,
  "nbformat_minor": 0,
  "metadata": {
    "colab": {
      "provenance": []
    },
    "kernelspec": {
      "name": "python3",
      "display_name": "Python 3"
    },
    "language_info": {
      "name": "python"
    },
    "widgets": {
      "application/vnd.jupyter.widget-state+json": {
        "a552c5012f664e9cb682b6942c2dc805": {
          "model_module": "@jupyter-widgets/controls",
          "model_name": "HBoxModel",
          "model_module_version": "1.5.0",
          "state": {
            "_dom_classes": [],
            "_model_module": "@jupyter-widgets/controls",
            "_model_module_version": "1.5.0",
            "_model_name": "HBoxModel",
            "_view_count": null,
            "_view_module": "@jupyter-widgets/controls",
            "_view_module_version": "1.5.0",
            "_view_name": "HBoxView",
            "box_style": "",
            "children": [
              "IPY_MODEL_72ea21b4b41040bfb106ef7d372d1bb1",
              "IPY_MODEL_68c393742dc543e4bc439aa7277c1ce9",
              "IPY_MODEL_06aebbe3a93843f487ccb6a93b0aa681"
            ],
            "layout": "IPY_MODEL_ff878d7ebddc49698d8b4ddc09c07587"
          }
        },
        "72ea21b4b41040bfb106ef7d372d1bb1": {
          "model_module": "@jupyter-widgets/controls",
          "model_name": "HTMLModel",
          "model_module_version": "1.5.0",
          "state": {
            "_dom_classes": [],
            "_model_module": "@jupyter-widgets/controls",
            "_model_module_version": "1.5.0",
            "_model_name": "HTMLModel",
            "_view_count": null,
            "_view_module": "@jupyter-widgets/controls",
            "_view_module_version": "1.5.0",
            "_view_name": "HTMLView",
            "description": "",
            "description_tooltip": null,
            "layout": "IPY_MODEL_b1a6b55b649f4f1599bc532f78fae25e",
            "placeholder": "​",
            "style": "IPY_MODEL_f9fbc96d3558455d86b47baae70cae77",
            "value": "config.json: 100%"
          }
        },
        "68c393742dc543e4bc439aa7277c1ce9": {
          "model_module": "@jupyter-widgets/controls",
          "model_name": "FloatProgressModel",
          "model_module_version": "1.5.0",
          "state": {
            "_dom_classes": [],
            "_model_module": "@jupyter-widgets/controls",
            "_model_module_version": "1.5.0",
            "_model_name": "FloatProgressModel",
            "_view_count": null,
            "_view_module": "@jupyter-widgets/controls",
            "_view_module_version": "1.5.0",
            "_view_name": "ProgressView",
            "bar_style": "success",
            "description": "",
            "description_tooltip": null,
            "layout": "IPY_MODEL_8ba97d11e2104321a3e2cb9bdae7e87e",
            "max": 665,
            "min": 0,
            "orientation": "horizontal",
            "style": "IPY_MODEL_b5a75a091c5746c1a3b117d5f3ad6bc1",
            "value": 665
          }
        },
        "06aebbe3a93843f487ccb6a93b0aa681": {
          "model_module": "@jupyter-widgets/controls",
          "model_name": "HTMLModel",
          "model_module_version": "1.5.0",
          "state": {
            "_dom_classes": [],
            "_model_module": "@jupyter-widgets/controls",
            "_model_module_version": "1.5.0",
            "_model_name": "HTMLModel",
            "_view_count": null,
            "_view_module": "@jupyter-widgets/controls",
            "_view_module_version": "1.5.0",
            "_view_name": "HTMLView",
            "description": "",
            "description_tooltip": null,
            "layout": "IPY_MODEL_50d9487953da45d19705f7b06de3d13e",
            "placeholder": "​",
            "style": "IPY_MODEL_30137cc55ae44ecc9de5b961b900701b",
            "value": " 665/665 [00:00&lt;00:00, 51.6kB/s]"
          }
        },
        "ff878d7ebddc49698d8b4ddc09c07587": {
          "model_module": "@jupyter-widgets/base",
          "model_name": "LayoutModel",
          "model_module_version": "1.2.0",
          "state": {
            "_model_module": "@jupyter-widgets/base",
            "_model_module_version": "1.2.0",
            "_model_name": "LayoutModel",
            "_view_count": null,
            "_view_module": "@jupyter-widgets/base",
            "_view_module_version": "1.2.0",
            "_view_name": "LayoutView",
            "align_content": null,
            "align_items": null,
            "align_self": null,
            "border": null,
            "bottom": null,
            "display": null,
            "flex": null,
            "flex_flow": null,
            "grid_area": null,
            "grid_auto_columns": null,
            "grid_auto_flow": null,
            "grid_auto_rows": null,
            "grid_column": null,
            "grid_gap": null,
            "grid_row": null,
            "grid_template_areas": null,
            "grid_template_columns": null,
            "grid_template_rows": null,
            "height": null,
            "justify_content": null,
            "justify_items": null,
            "left": null,
            "margin": null,
            "max_height": null,
            "max_width": null,
            "min_height": null,
            "min_width": null,
            "object_fit": null,
            "object_position": null,
            "order": null,
            "overflow": null,
            "overflow_x": null,
            "overflow_y": null,
            "padding": null,
            "right": null,
            "top": null,
            "visibility": null,
            "width": null
          }
        },
        "b1a6b55b649f4f1599bc532f78fae25e": {
          "model_module": "@jupyter-widgets/base",
          "model_name": "LayoutModel",
          "model_module_version": "1.2.0",
          "state": {
            "_model_module": "@jupyter-widgets/base",
            "_model_module_version": "1.2.0",
            "_model_name": "LayoutModel",
            "_view_count": null,
            "_view_module": "@jupyter-widgets/base",
            "_view_module_version": "1.2.0",
            "_view_name": "LayoutView",
            "align_content": null,
            "align_items": null,
            "align_self": null,
            "border": null,
            "bottom": null,
            "display": null,
            "flex": null,
            "flex_flow": null,
            "grid_area": null,
            "grid_auto_columns": null,
            "grid_auto_flow": null,
            "grid_auto_rows": null,
            "grid_column": null,
            "grid_gap": null,
            "grid_row": null,
            "grid_template_areas": null,
            "grid_template_columns": null,
            "grid_template_rows": null,
            "height": null,
            "justify_content": null,
            "justify_items": null,
            "left": null,
            "margin": null,
            "max_height": null,
            "max_width": null,
            "min_height": null,
            "min_width": null,
            "object_fit": null,
            "object_position": null,
            "order": null,
            "overflow": null,
            "overflow_x": null,
            "overflow_y": null,
            "padding": null,
            "right": null,
            "top": null,
            "visibility": null,
            "width": null
          }
        },
        "f9fbc96d3558455d86b47baae70cae77": {
          "model_module": "@jupyter-widgets/controls",
          "model_name": "DescriptionStyleModel",
          "model_module_version": "1.5.0",
          "state": {
            "_model_module": "@jupyter-widgets/controls",
            "_model_module_version": "1.5.0",
            "_model_name": "DescriptionStyleModel",
            "_view_count": null,
            "_view_module": "@jupyter-widgets/base",
            "_view_module_version": "1.2.0",
            "_view_name": "StyleView",
            "description_width": ""
          }
        },
        "8ba97d11e2104321a3e2cb9bdae7e87e": {
          "model_module": "@jupyter-widgets/base",
          "model_name": "LayoutModel",
          "model_module_version": "1.2.0",
          "state": {
            "_model_module": "@jupyter-widgets/base",
            "_model_module_version": "1.2.0",
            "_model_name": "LayoutModel",
            "_view_count": null,
            "_view_module": "@jupyter-widgets/base",
            "_view_module_version": "1.2.0",
            "_view_name": "LayoutView",
            "align_content": null,
            "align_items": null,
            "align_self": null,
            "border": null,
            "bottom": null,
            "display": null,
            "flex": null,
            "flex_flow": null,
            "grid_area": null,
            "grid_auto_columns": null,
            "grid_auto_flow": null,
            "grid_auto_rows": null,
            "grid_column": null,
            "grid_gap": null,
            "grid_row": null,
            "grid_template_areas": null,
            "grid_template_columns": null,
            "grid_template_rows": null,
            "height": null,
            "justify_content": null,
            "justify_items": null,
            "left": null,
            "margin": null,
            "max_height": null,
            "max_width": null,
            "min_height": null,
            "min_width": null,
            "object_fit": null,
            "object_position": null,
            "order": null,
            "overflow": null,
            "overflow_x": null,
            "overflow_y": null,
            "padding": null,
            "right": null,
            "top": null,
            "visibility": null,
            "width": null
          }
        },
        "b5a75a091c5746c1a3b117d5f3ad6bc1": {
          "model_module": "@jupyter-widgets/controls",
          "model_name": "ProgressStyleModel",
          "model_module_version": "1.5.0",
          "state": {
            "_model_module": "@jupyter-widgets/controls",
            "_model_module_version": "1.5.0",
            "_model_name": "ProgressStyleModel",
            "_view_count": null,
            "_view_module": "@jupyter-widgets/base",
            "_view_module_version": "1.2.0",
            "_view_name": "StyleView",
            "bar_color": null,
            "description_width": ""
          }
        },
        "50d9487953da45d19705f7b06de3d13e": {
          "model_module": "@jupyter-widgets/base",
          "model_name": "LayoutModel",
          "model_module_version": "1.2.0",
          "state": {
            "_model_module": "@jupyter-widgets/base",
            "_model_module_version": "1.2.0",
            "_model_name": "LayoutModel",
            "_view_count": null,
            "_view_module": "@jupyter-widgets/base",
            "_view_module_version": "1.2.0",
            "_view_name": "LayoutView",
            "align_content": null,
            "align_items": null,
            "align_self": null,
            "border": null,
            "bottom": null,
            "display": null,
            "flex": null,
            "flex_flow": null,
            "grid_area": null,
            "grid_auto_columns": null,
            "grid_auto_flow": null,
            "grid_auto_rows": null,
            "grid_column": null,
            "grid_gap": null,
            "grid_row": null,
            "grid_template_areas": null,
            "grid_template_columns": null,
            "grid_template_rows": null,
            "height": null,
            "justify_content": null,
            "justify_items": null,
            "left": null,
            "margin": null,
            "max_height": null,
            "max_width": null,
            "min_height": null,
            "min_width": null,
            "object_fit": null,
            "object_position": null,
            "order": null,
            "overflow": null,
            "overflow_x": null,
            "overflow_y": null,
            "padding": null,
            "right": null,
            "top": null,
            "visibility": null,
            "width": null
          }
        },
        "30137cc55ae44ecc9de5b961b900701b": {
          "model_module": "@jupyter-widgets/controls",
          "model_name": "DescriptionStyleModel",
          "model_module_version": "1.5.0",
          "state": {
            "_model_module": "@jupyter-widgets/controls",
            "_model_module_version": "1.5.0",
            "_model_name": "DescriptionStyleModel",
            "_view_count": null,
            "_view_module": "@jupyter-widgets/base",
            "_view_module_version": "1.2.0",
            "_view_name": "StyleView",
            "description_width": ""
          }
        },
        "4db475d049ba453e801a0c81c1f832be": {
          "model_module": "@jupyter-widgets/controls",
          "model_name": "HBoxModel",
          "model_module_version": "1.5.0",
          "state": {
            "_dom_classes": [],
            "_model_module": "@jupyter-widgets/controls",
            "_model_module_version": "1.5.0",
            "_model_name": "HBoxModel",
            "_view_count": null,
            "_view_module": "@jupyter-widgets/controls",
            "_view_module_version": "1.5.0",
            "_view_name": "HBoxView",
            "box_style": "",
            "children": [
              "IPY_MODEL_a4264be560da42518f21fc05b72d2175",
              "IPY_MODEL_5270e571275d40bb99b52a80f9800b9e",
              "IPY_MODEL_f7f3a1ed5ba94ba39dd42a37b5ec77d4"
            ],
            "layout": "IPY_MODEL_c0cb2cf70da54aa48ac5befaea1e1130"
          }
        },
        "a4264be560da42518f21fc05b72d2175": {
          "model_module": "@jupyter-widgets/controls",
          "model_name": "HTMLModel",
          "model_module_version": "1.5.0",
          "state": {
            "_dom_classes": [],
            "_model_module": "@jupyter-widgets/controls",
            "_model_module_version": "1.5.0",
            "_model_name": "HTMLModel",
            "_view_count": null,
            "_view_module": "@jupyter-widgets/controls",
            "_view_module_version": "1.5.0",
            "_view_name": "HTMLView",
            "description": "",
            "description_tooltip": null,
            "layout": "IPY_MODEL_1205cc3c02f54cee90971e1e4b0a6579",
            "placeholder": "​",
            "style": "IPY_MODEL_db7dc95e5edc45069d0b8ffed7b7f8f4",
            "value": "model.safetensors: 100%"
          }
        },
        "5270e571275d40bb99b52a80f9800b9e": {
          "model_module": "@jupyter-widgets/controls",
          "model_name": "FloatProgressModel",
          "model_module_version": "1.5.0",
          "state": {
            "_dom_classes": [],
            "_model_module": "@jupyter-widgets/controls",
            "_model_module_version": "1.5.0",
            "_model_name": "FloatProgressModel",
            "_view_count": null,
            "_view_module": "@jupyter-widgets/controls",
            "_view_module_version": "1.5.0",
            "_view_name": "ProgressView",
            "bar_style": "success",
            "description": "",
            "description_tooltip": null,
            "layout": "IPY_MODEL_9e8383e3b0ef4d9c9c5bf767f700eb2c",
            "max": 548105171,
            "min": 0,
            "orientation": "horizontal",
            "style": "IPY_MODEL_0d3591d2879c41e08ac9ae6a6624aa45",
            "value": 548105171
          }
        },
        "f7f3a1ed5ba94ba39dd42a37b5ec77d4": {
          "model_module": "@jupyter-widgets/controls",
          "model_name": "HTMLModel",
          "model_module_version": "1.5.0",
          "state": {
            "_dom_classes": [],
            "_model_module": "@jupyter-widgets/controls",
            "_model_module_version": "1.5.0",
            "_model_name": "HTMLModel",
            "_view_count": null,
            "_view_module": "@jupyter-widgets/controls",
            "_view_module_version": "1.5.0",
            "_view_name": "HTMLView",
            "description": "",
            "description_tooltip": null,
            "layout": "IPY_MODEL_f4868e0726844bdda355a2360bf86582",
            "placeholder": "​",
            "style": "IPY_MODEL_f9888c9584034f8f8fc0067af17da9ba",
            "value": " 548M/548M [00:06&lt;00:00, 130MB/s]"
          }
        },
        "c0cb2cf70da54aa48ac5befaea1e1130": {
          "model_module": "@jupyter-widgets/base",
          "model_name": "LayoutModel",
          "model_module_version": "1.2.0",
          "state": {
            "_model_module": "@jupyter-widgets/base",
            "_model_module_version": "1.2.0",
            "_model_name": "LayoutModel",
            "_view_count": null,
            "_view_module": "@jupyter-widgets/base",
            "_view_module_version": "1.2.0",
            "_view_name": "LayoutView",
            "align_content": null,
            "align_items": null,
            "align_self": null,
            "border": null,
            "bottom": null,
            "display": null,
            "flex": null,
            "flex_flow": null,
            "grid_area": null,
            "grid_auto_columns": null,
            "grid_auto_flow": null,
            "grid_auto_rows": null,
            "grid_column": null,
            "grid_gap": null,
            "grid_row": null,
            "grid_template_areas": null,
            "grid_template_columns": null,
            "grid_template_rows": null,
            "height": null,
            "justify_content": null,
            "justify_items": null,
            "left": null,
            "margin": null,
            "max_height": null,
            "max_width": null,
            "min_height": null,
            "min_width": null,
            "object_fit": null,
            "object_position": null,
            "order": null,
            "overflow": null,
            "overflow_x": null,
            "overflow_y": null,
            "padding": null,
            "right": null,
            "top": null,
            "visibility": null,
            "width": null
          }
        },
        "1205cc3c02f54cee90971e1e4b0a6579": {
          "model_module": "@jupyter-widgets/base",
          "model_name": "LayoutModel",
          "model_module_version": "1.2.0",
          "state": {
            "_model_module": "@jupyter-widgets/base",
            "_model_module_version": "1.2.0",
            "_model_name": "LayoutModel",
            "_view_count": null,
            "_view_module": "@jupyter-widgets/base",
            "_view_module_version": "1.2.0",
            "_view_name": "LayoutView",
            "align_content": null,
            "align_items": null,
            "align_self": null,
            "border": null,
            "bottom": null,
            "display": null,
            "flex": null,
            "flex_flow": null,
            "grid_area": null,
            "grid_auto_columns": null,
            "grid_auto_flow": null,
            "grid_auto_rows": null,
            "grid_column": null,
            "grid_gap": null,
            "grid_row": null,
            "grid_template_areas": null,
            "grid_template_columns": null,
            "grid_template_rows": null,
            "height": null,
            "justify_content": null,
            "justify_items": null,
            "left": null,
            "margin": null,
            "max_height": null,
            "max_width": null,
            "min_height": null,
            "min_width": null,
            "object_fit": null,
            "object_position": null,
            "order": null,
            "overflow": null,
            "overflow_x": null,
            "overflow_y": null,
            "padding": null,
            "right": null,
            "top": null,
            "visibility": null,
            "width": null
          }
        },
        "db7dc95e5edc45069d0b8ffed7b7f8f4": {
          "model_module": "@jupyter-widgets/controls",
          "model_name": "DescriptionStyleModel",
          "model_module_version": "1.5.0",
          "state": {
            "_model_module": "@jupyter-widgets/controls",
            "_model_module_version": "1.5.0",
            "_model_name": "DescriptionStyleModel",
            "_view_count": null,
            "_view_module": "@jupyter-widgets/base",
            "_view_module_version": "1.2.0",
            "_view_name": "StyleView",
            "description_width": ""
          }
        },
        "9e8383e3b0ef4d9c9c5bf767f700eb2c": {
          "model_module": "@jupyter-widgets/base",
          "model_name": "LayoutModel",
          "model_module_version": "1.2.0",
          "state": {
            "_model_module": "@jupyter-widgets/base",
            "_model_module_version": "1.2.0",
            "_model_name": "LayoutModel",
            "_view_count": null,
            "_view_module": "@jupyter-widgets/base",
            "_view_module_version": "1.2.0",
            "_view_name": "LayoutView",
            "align_content": null,
            "align_items": null,
            "align_self": null,
            "border": null,
            "bottom": null,
            "display": null,
            "flex": null,
            "flex_flow": null,
            "grid_area": null,
            "grid_auto_columns": null,
            "grid_auto_flow": null,
            "grid_auto_rows": null,
            "grid_column": null,
            "grid_gap": null,
            "grid_row": null,
            "grid_template_areas": null,
            "grid_template_columns": null,
            "grid_template_rows": null,
            "height": null,
            "justify_content": null,
            "justify_items": null,
            "left": null,
            "margin": null,
            "max_height": null,
            "max_width": null,
            "min_height": null,
            "min_width": null,
            "object_fit": null,
            "object_position": null,
            "order": null,
            "overflow": null,
            "overflow_x": null,
            "overflow_y": null,
            "padding": null,
            "right": null,
            "top": null,
            "visibility": null,
            "width": null
          }
        },
        "0d3591d2879c41e08ac9ae6a6624aa45": {
          "model_module": "@jupyter-widgets/controls",
          "model_name": "ProgressStyleModel",
          "model_module_version": "1.5.0",
          "state": {
            "_model_module": "@jupyter-widgets/controls",
            "_model_module_version": "1.5.0",
            "_model_name": "ProgressStyleModel",
            "_view_count": null,
            "_view_module": "@jupyter-widgets/base",
            "_view_module_version": "1.2.0",
            "_view_name": "StyleView",
            "bar_color": null,
            "description_width": ""
          }
        },
        "f4868e0726844bdda355a2360bf86582": {
          "model_module": "@jupyter-widgets/base",
          "model_name": "LayoutModel",
          "model_module_version": "1.2.0",
          "state": {
            "_model_module": "@jupyter-widgets/base",
            "_model_module_version": "1.2.0",
            "_model_name": "LayoutModel",
            "_view_count": null,
            "_view_module": "@jupyter-widgets/base",
            "_view_module_version": "1.2.0",
            "_view_name": "LayoutView",
            "align_content": null,
            "align_items": null,
            "align_self": null,
            "border": null,
            "bottom": null,
            "display": null,
            "flex": null,
            "flex_flow": null,
            "grid_area": null,
            "grid_auto_columns": null,
            "grid_auto_flow": null,
            "grid_auto_rows": null,
            "grid_column": null,
            "grid_gap": null,
            "grid_row": null,
            "grid_template_areas": null,
            "grid_template_columns": null,
            "grid_template_rows": null,
            "height": null,
            "justify_content": null,
            "justify_items": null,
            "left": null,
            "margin": null,
            "max_height": null,
            "max_width": null,
            "min_height": null,
            "min_width": null,
            "object_fit": null,
            "object_position": null,
            "order": null,
            "overflow": null,
            "overflow_x": null,
            "overflow_y": null,
            "padding": null,
            "right": null,
            "top": null,
            "visibility": null,
            "width": null
          }
        },
        "f9888c9584034f8f8fc0067af17da9ba": {
          "model_module": "@jupyter-widgets/controls",
          "model_name": "DescriptionStyleModel",
          "model_module_version": "1.5.0",
          "state": {
            "_model_module": "@jupyter-widgets/controls",
            "_model_module_version": "1.5.0",
            "_model_name": "DescriptionStyleModel",
            "_view_count": null,
            "_view_module": "@jupyter-widgets/base",
            "_view_module_version": "1.2.0",
            "_view_name": "StyleView",
            "description_width": ""
          }
        },
        "e33bd049fbe14232b89fc9ef0812f2d3": {
          "model_module": "@jupyter-widgets/controls",
          "model_name": "HBoxModel",
          "model_module_version": "1.5.0",
          "state": {
            "_dom_classes": [],
            "_model_module": "@jupyter-widgets/controls",
            "_model_module_version": "1.5.0",
            "_model_name": "HBoxModel",
            "_view_count": null,
            "_view_module": "@jupyter-widgets/controls",
            "_view_module_version": "1.5.0",
            "_view_name": "HBoxView",
            "box_style": "",
            "children": [
              "IPY_MODEL_3e8eefbede274e75a56e0a9f5b3cb7c3",
              "IPY_MODEL_24cd1b650686460581019206815c0878",
              "IPY_MODEL_86cb8161e15d49c4a5bd9fa47815bc5f"
            ],
            "layout": "IPY_MODEL_799357dd4f594a6899a9140cabbb61ba"
          }
        },
        "3e8eefbede274e75a56e0a9f5b3cb7c3": {
          "model_module": "@jupyter-widgets/controls",
          "model_name": "HTMLModel",
          "model_module_version": "1.5.0",
          "state": {
            "_dom_classes": [],
            "_model_module": "@jupyter-widgets/controls",
            "_model_module_version": "1.5.0",
            "_model_name": "HTMLModel",
            "_view_count": null,
            "_view_module": "@jupyter-widgets/controls",
            "_view_module_version": "1.5.0",
            "_view_name": "HTMLView",
            "description": "",
            "description_tooltip": null,
            "layout": "IPY_MODEL_0cd43257af464ad9b46af82aa66a2851",
            "placeholder": "​",
            "style": "IPY_MODEL_2200c7392eb94d879ebfb1f6167a2cdd",
            "value": "generation_config.json: 100%"
          }
        },
        "24cd1b650686460581019206815c0878": {
          "model_module": "@jupyter-widgets/controls",
          "model_name": "FloatProgressModel",
          "model_module_version": "1.5.0",
          "state": {
            "_dom_classes": [],
            "_model_module": "@jupyter-widgets/controls",
            "_model_module_version": "1.5.0",
            "_model_name": "FloatProgressModel",
            "_view_count": null,
            "_view_module": "@jupyter-widgets/controls",
            "_view_module_version": "1.5.0",
            "_view_name": "ProgressView",
            "bar_style": "success",
            "description": "",
            "description_tooltip": null,
            "layout": "IPY_MODEL_0211aa5e244441d4a71263469bed7c2e",
            "max": 124,
            "min": 0,
            "orientation": "horizontal",
            "style": "IPY_MODEL_4edae341d0144f219e37c23a3dc4563d",
            "value": 124
          }
        },
        "86cb8161e15d49c4a5bd9fa47815bc5f": {
          "model_module": "@jupyter-widgets/controls",
          "model_name": "HTMLModel",
          "model_module_version": "1.5.0",
          "state": {
            "_dom_classes": [],
            "_model_module": "@jupyter-widgets/controls",
            "_model_module_version": "1.5.0",
            "_model_name": "HTMLModel",
            "_view_count": null,
            "_view_module": "@jupyter-widgets/controls",
            "_view_module_version": "1.5.0",
            "_view_name": "HTMLView",
            "description": "",
            "description_tooltip": null,
            "layout": "IPY_MODEL_3368dab0cd654d0ba961549674dc4f63",
            "placeholder": "​",
            "style": "IPY_MODEL_7eab1e7e73e54c9f831f988e298a9697",
            "value": " 124/124 [00:00&lt;00:00, 7.98kB/s]"
          }
        },
        "799357dd4f594a6899a9140cabbb61ba": {
          "model_module": "@jupyter-widgets/base",
          "model_name": "LayoutModel",
          "model_module_version": "1.2.0",
          "state": {
            "_model_module": "@jupyter-widgets/base",
            "_model_module_version": "1.2.0",
            "_model_name": "LayoutModel",
            "_view_count": null,
            "_view_module": "@jupyter-widgets/base",
            "_view_module_version": "1.2.0",
            "_view_name": "LayoutView",
            "align_content": null,
            "align_items": null,
            "align_self": null,
            "border": null,
            "bottom": null,
            "display": null,
            "flex": null,
            "flex_flow": null,
            "grid_area": null,
            "grid_auto_columns": null,
            "grid_auto_flow": null,
            "grid_auto_rows": null,
            "grid_column": null,
            "grid_gap": null,
            "grid_row": null,
            "grid_template_areas": null,
            "grid_template_columns": null,
            "grid_template_rows": null,
            "height": null,
            "justify_content": null,
            "justify_items": null,
            "left": null,
            "margin": null,
            "max_height": null,
            "max_width": null,
            "min_height": null,
            "min_width": null,
            "object_fit": null,
            "object_position": null,
            "order": null,
            "overflow": null,
            "overflow_x": null,
            "overflow_y": null,
            "padding": null,
            "right": null,
            "top": null,
            "visibility": null,
            "width": null
          }
        },
        "0cd43257af464ad9b46af82aa66a2851": {
          "model_module": "@jupyter-widgets/base",
          "model_name": "LayoutModel",
          "model_module_version": "1.2.0",
          "state": {
            "_model_module": "@jupyter-widgets/base",
            "_model_module_version": "1.2.0",
            "_model_name": "LayoutModel",
            "_view_count": null,
            "_view_module": "@jupyter-widgets/base",
            "_view_module_version": "1.2.0",
            "_view_name": "LayoutView",
            "align_content": null,
            "align_items": null,
            "align_self": null,
            "border": null,
            "bottom": null,
            "display": null,
            "flex": null,
            "flex_flow": null,
            "grid_area": null,
            "grid_auto_columns": null,
            "grid_auto_flow": null,
            "grid_auto_rows": null,
            "grid_column": null,
            "grid_gap": null,
            "grid_row": null,
            "grid_template_areas": null,
            "grid_template_columns": null,
            "grid_template_rows": null,
            "height": null,
            "justify_content": null,
            "justify_items": null,
            "left": null,
            "margin": null,
            "max_height": null,
            "max_width": null,
            "min_height": null,
            "min_width": null,
            "object_fit": null,
            "object_position": null,
            "order": null,
            "overflow": null,
            "overflow_x": null,
            "overflow_y": null,
            "padding": null,
            "right": null,
            "top": null,
            "visibility": null,
            "width": null
          }
        },
        "2200c7392eb94d879ebfb1f6167a2cdd": {
          "model_module": "@jupyter-widgets/controls",
          "model_name": "DescriptionStyleModel",
          "model_module_version": "1.5.0",
          "state": {
            "_model_module": "@jupyter-widgets/controls",
            "_model_module_version": "1.5.0",
            "_model_name": "DescriptionStyleModel",
            "_view_count": null,
            "_view_module": "@jupyter-widgets/base",
            "_view_module_version": "1.2.0",
            "_view_name": "StyleView",
            "description_width": ""
          }
        },
        "0211aa5e244441d4a71263469bed7c2e": {
          "model_module": "@jupyter-widgets/base",
          "model_name": "LayoutModel",
          "model_module_version": "1.2.0",
          "state": {
            "_model_module": "@jupyter-widgets/base",
            "_model_module_version": "1.2.0",
            "_model_name": "LayoutModel",
            "_view_count": null,
            "_view_module": "@jupyter-widgets/base",
            "_view_module_version": "1.2.0",
            "_view_name": "LayoutView",
            "align_content": null,
            "align_items": null,
            "align_self": null,
            "border": null,
            "bottom": null,
            "display": null,
            "flex": null,
            "flex_flow": null,
            "grid_area": null,
            "grid_auto_columns": null,
            "grid_auto_flow": null,
            "grid_auto_rows": null,
            "grid_column": null,
            "grid_gap": null,
            "grid_row": null,
            "grid_template_areas": null,
            "grid_template_columns": null,
            "grid_template_rows": null,
            "height": null,
            "justify_content": null,
            "justify_items": null,
            "left": null,
            "margin": null,
            "max_height": null,
            "max_width": null,
            "min_height": null,
            "min_width": null,
            "object_fit": null,
            "object_position": null,
            "order": null,
            "overflow": null,
            "overflow_x": null,
            "overflow_y": null,
            "padding": null,
            "right": null,
            "top": null,
            "visibility": null,
            "width": null
          }
        },
        "4edae341d0144f219e37c23a3dc4563d": {
          "model_module": "@jupyter-widgets/controls",
          "model_name": "ProgressStyleModel",
          "model_module_version": "1.5.0",
          "state": {
            "_model_module": "@jupyter-widgets/controls",
            "_model_module_version": "1.5.0",
            "_model_name": "ProgressStyleModel",
            "_view_count": null,
            "_view_module": "@jupyter-widgets/base",
            "_view_module_version": "1.2.0",
            "_view_name": "StyleView",
            "bar_color": null,
            "description_width": ""
          }
        },
        "3368dab0cd654d0ba961549674dc4f63": {
          "model_module": "@jupyter-widgets/base",
          "model_name": "LayoutModel",
          "model_module_version": "1.2.0",
          "state": {
            "_model_module": "@jupyter-widgets/base",
            "_model_module_version": "1.2.0",
            "_model_name": "LayoutModel",
            "_view_count": null,
            "_view_module": "@jupyter-widgets/base",
            "_view_module_version": "1.2.0",
            "_view_name": "LayoutView",
            "align_content": null,
            "align_items": null,
            "align_self": null,
            "border": null,
            "bottom": null,
            "display": null,
            "flex": null,
            "flex_flow": null,
            "grid_area": null,
            "grid_auto_columns": null,
            "grid_auto_flow": null,
            "grid_auto_rows": null,
            "grid_column": null,
            "grid_gap": null,
            "grid_row": null,
            "grid_template_areas": null,
            "grid_template_columns": null,
            "grid_template_rows": null,
            "height": null,
            "justify_content": null,
            "justify_items": null,
            "left": null,
            "margin": null,
            "max_height": null,
            "max_width": null,
            "min_height": null,
            "min_width": null,
            "object_fit": null,
            "object_position": null,
            "order": null,
            "overflow": null,
            "overflow_x": null,
            "overflow_y": null,
            "padding": null,
            "right": null,
            "top": null,
            "visibility": null,
            "width": null
          }
        },
        "7eab1e7e73e54c9f831f988e298a9697": {
          "model_module": "@jupyter-widgets/controls",
          "model_name": "DescriptionStyleModel",
          "model_module_version": "1.5.0",
          "state": {
            "_model_module": "@jupyter-widgets/controls",
            "_model_module_version": "1.5.0",
            "_model_name": "DescriptionStyleModel",
            "_view_count": null,
            "_view_module": "@jupyter-widgets/base",
            "_view_module_version": "1.2.0",
            "_view_name": "StyleView",
            "description_width": ""
          }
        },
        "60dd44a486eb461280c18d6db7ec7489": {
          "model_module": "@jupyter-widgets/controls",
          "model_name": "HBoxModel",
          "model_module_version": "1.5.0",
          "state": {
            "_dom_classes": [],
            "_model_module": "@jupyter-widgets/controls",
            "_model_module_version": "1.5.0",
            "_model_name": "HBoxModel",
            "_view_count": null,
            "_view_module": "@jupyter-widgets/controls",
            "_view_module_version": "1.5.0",
            "_view_name": "HBoxView",
            "box_style": "",
            "children": [
              "IPY_MODEL_c2acb9b2275a45bb96f6255becf562d7",
              "IPY_MODEL_c224b2aa054a41c7a4f285c2da361f81",
              "IPY_MODEL_1c2f5133f1b04752a5cf4ce39f5e3766"
            ],
            "layout": "IPY_MODEL_0e6bdeadfc10475e82270822700aeec9"
          }
        },
        "c2acb9b2275a45bb96f6255becf562d7": {
          "model_module": "@jupyter-widgets/controls",
          "model_name": "HTMLModel",
          "model_module_version": "1.5.0",
          "state": {
            "_dom_classes": [],
            "_model_module": "@jupyter-widgets/controls",
            "_model_module_version": "1.5.0",
            "_model_name": "HTMLModel",
            "_view_count": null,
            "_view_module": "@jupyter-widgets/controls",
            "_view_module_version": "1.5.0",
            "_view_name": "HTMLView",
            "description": "",
            "description_tooltip": null,
            "layout": "IPY_MODEL_edbc17c127d345f88259118f668feb4b",
            "placeholder": "​",
            "style": "IPY_MODEL_861dd20984a74d93a560f0708be09f2f",
            "value": "tokenizer_config.json: 100%"
          }
        },
        "c224b2aa054a41c7a4f285c2da361f81": {
          "model_module": "@jupyter-widgets/controls",
          "model_name": "FloatProgressModel",
          "model_module_version": "1.5.0",
          "state": {
            "_dom_classes": [],
            "_model_module": "@jupyter-widgets/controls",
            "_model_module_version": "1.5.0",
            "_model_name": "FloatProgressModel",
            "_view_count": null,
            "_view_module": "@jupyter-widgets/controls",
            "_view_module_version": "1.5.0",
            "_view_name": "ProgressView",
            "bar_style": "success",
            "description": "",
            "description_tooltip": null,
            "layout": "IPY_MODEL_f96961bbecb842af9a2c324389bae17d",
            "max": 26,
            "min": 0,
            "orientation": "horizontal",
            "style": "IPY_MODEL_a13e7ff208664e6e9ec209c0cefb9463",
            "value": 26
          }
        },
        "1c2f5133f1b04752a5cf4ce39f5e3766": {
          "model_module": "@jupyter-widgets/controls",
          "model_name": "HTMLModel",
          "model_module_version": "1.5.0",
          "state": {
            "_dom_classes": [],
            "_model_module": "@jupyter-widgets/controls",
            "_model_module_version": "1.5.0",
            "_model_name": "HTMLModel",
            "_view_count": null,
            "_view_module": "@jupyter-widgets/controls",
            "_view_module_version": "1.5.0",
            "_view_name": "HTMLView",
            "description": "",
            "description_tooltip": null,
            "layout": "IPY_MODEL_2bc44316dfa0419a94510e335cc363c8",
            "placeholder": "​",
            "style": "IPY_MODEL_c806478973dd4983b7602db8cf3f5b3c",
            "value": " 26.0/26.0 [00:00&lt;00:00, 1.29kB/s]"
          }
        },
        "0e6bdeadfc10475e82270822700aeec9": {
          "model_module": "@jupyter-widgets/base",
          "model_name": "LayoutModel",
          "model_module_version": "1.2.0",
          "state": {
            "_model_module": "@jupyter-widgets/base",
            "_model_module_version": "1.2.0",
            "_model_name": "LayoutModel",
            "_view_count": null,
            "_view_module": "@jupyter-widgets/base",
            "_view_module_version": "1.2.0",
            "_view_name": "LayoutView",
            "align_content": null,
            "align_items": null,
            "align_self": null,
            "border": null,
            "bottom": null,
            "display": null,
            "flex": null,
            "flex_flow": null,
            "grid_area": null,
            "grid_auto_columns": null,
            "grid_auto_flow": null,
            "grid_auto_rows": null,
            "grid_column": null,
            "grid_gap": null,
            "grid_row": null,
            "grid_template_areas": null,
            "grid_template_columns": null,
            "grid_template_rows": null,
            "height": null,
            "justify_content": null,
            "justify_items": null,
            "left": null,
            "margin": null,
            "max_height": null,
            "max_width": null,
            "min_height": null,
            "min_width": null,
            "object_fit": null,
            "object_position": null,
            "order": null,
            "overflow": null,
            "overflow_x": null,
            "overflow_y": null,
            "padding": null,
            "right": null,
            "top": null,
            "visibility": null,
            "width": null
          }
        },
        "edbc17c127d345f88259118f668feb4b": {
          "model_module": "@jupyter-widgets/base",
          "model_name": "LayoutModel",
          "model_module_version": "1.2.0",
          "state": {
            "_model_module": "@jupyter-widgets/base",
            "_model_module_version": "1.2.0",
            "_model_name": "LayoutModel",
            "_view_count": null,
            "_view_module": "@jupyter-widgets/base",
            "_view_module_version": "1.2.0",
            "_view_name": "LayoutView",
            "align_content": null,
            "align_items": null,
            "align_self": null,
            "border": null,
            "bottom": null,
            "display": null,
            "flex": null,
            "flex_flow": null,
            "grid_area": null,
            "grid_auto_columns": null,
            "grid_auto_flow": null,
            "grid_auto_rows": null,
            "grid_column": null,
            "grid_gap": null,
            "grid_row": null,
            "grid_template_areas": null,
            "grid_template_columns": null,
            "grid_template_rows": null,
            "height": null,
            "justify_content": null,
            "justify_items": null,
            "left": null,
            "margin": null,
            "max_height": null,
            "max_width": null,
            "min_height": null,
            "min_width": null,
            "object_fit": null,
            "object_position": null,
            "order": null,
            "overflow": null,
            "overflow_x": null,
            "overflow_y": null,
            "padding": null,
            "right": null,
            "top": null,
            "visibility": null,
            "width": null
          }
        },
        "861dd20984a74d93a560f0708be09f2f": {
          "model_module": "@jupyter-widgets/controls",
          "model_name": "DescriptionStyleModel",
          "model_module_version": "1.5.0",
          "state": {
            "_model_module": "@jupyter-widgets/controls",
            "_model_module_version": "1.5.0",
            "_model_name": "DescriptionStyleModel",
            "_view_count": null,
            "_view_module": "@jupyter-widgets/base",
            "_view_module_version": "1.2.0",
            "_view_name": "StyleView",
            "description_width": ""
          }
        },
        "f96961bbecb842af9a2c324389bae17d": {
          "model_module": "@jupyter-widgets/base",
          "model_name": "LayoutModel",
          "model_module_version": "1.2.0",
          "state": {
            "_model_module": "@jupyter-widgets/base",
            "_model_module_version": "1.2.0",
            "_model_name": "LayoutModel",
            "_view_count": null,
            "_view_module": "@jupyter-widgets/base",
            "_view_module_version": "1.2.0",
            "_view_name": "LayoutView",
            "align_content": null,
            "align_items": null,
            "align_self": null,
            "border": null,
            "bottom": null,
            "display": null,
            "flex": null,
            "flex_flow": null,
            "grid_area": null,
            "grid_auto_columns": null,
            "grid_auto_flow": null,
            "grid_auto_rows": null,
            "grid_column": null,
            "grid_gap": null,
            "grid_row": null,
            "grid_template_areas": null,
            "grid_template_columns": null,
            "grid_template_rows": null,
            "height": null,
            "justify_content": null,
            "justify_items": null,
            "left": null,
            "margin": null,
            "max_height": null,
            "max_width": null,
            "min_height": null,
            "min_width": null,
            "object_fit": null,
            "object_position": null,
            "order": null,
            "overflow": null,
            "overflow_x": null,
            "overflow_y": null,
            "padding": null,
            "right": null,
            "top": null,
            "visibility": null,
            "width": null
          }
        },
        "a13e7ff208664e6e9ec209c0cefb9463": {
          "model_module": "@jupyter-widgets/controls",
          "model_name": "ProgressStyleModel",
          "model_module_version": "1.5.0",
          "state": {
            "_model_module": "@jupyter-widgets/controls",
            "_model_module_version": "1.5.0",
            "_model_name": "ProgressStyleModel",
            "_view_count": null,
            "_view_module": "@jupyter-widgets/base",
            "_view_module_version": "1.2.0",
            "_view_name": "StyleView",
            "bar_color": null,
            "description_width": ""
          }
        },
        "2bc44316dfa0419a94510e335cc363c8": {
          "model_module": "@jupyter-widgets/base",
          "model_name": "LayoutModel",
          "model_module_version": "1.2.0",
          "state": {
            "_model_module": "@jupyter-widgets/base",
            "_model_module_version": "1.2.0",
            "_model_name": "LayoutModel",
            "_view_count": null,
            "_view_module": "@jupyter-widgets/base",
            "_view_module_version": "1.2.0",
            "_view_name": "LayoutView",
            "align_content": null,
            "align_items": null,
            "align_self": null,
            "border": null,
            "bottom": null,
            "display": null,
            "flex": null,
            "flex_flow": null,
            "grid_area": null,
            "grid_auto_columns": null,
            "grid_auto_flow": null,
            "grid_auto_rows": null,
            "grid_column": null,
            "grid_gap": null,
            "grid_row": null,
            "grid_template_areas": null,
            "grid_template_columns": null,
            "grid_template_rows": null,
            "height": null,
            "justify_content": null,
            "justify_items": null,
            "left": null,
            "margin": null,
            "max_height": null,
            "max_width": null,
            "min_height": null,
            "min_width": null,
            "object_fit": null,
            "object_position": null,
            "order": null,
            "overflow": null,
            "overflow_x": null,
            "overflow_y": null,
            "padding": null,
            "right": null,
            "top": null,
            "visibility": null,
            "width": null
          }
        },
        "c806478973dd4983b7602db8cf3f5b3c": {
          "model_module": "@jupyter-widgets/controls",
          "model_name": "DescriptionStyleModel",
          "model_module_version": "1.5.0",
          "state": {
            "_model_module": "@jupyter-widgets/controls",
            "_model_module_version": "1.5.0",
            "_model_name": "DescriptionStyleModel",
            "_view_count": null,
            "_view_module": "@jupyter-widgets/base",
            "_view_module_version": "1.2.0",
            "_view_name": "StyleView",
            "description_width": ""
          }
        },
        "d0b7525d75c245abad172ae25582ea47": {
          "model_module": "@jupyter-widgets/controls",
          "model_name": "HBoxModel",
          "model_module_version": "1.5.0",
          "state": {
            "_dom_classes": [],
            "_model_module": "@jupyter-widgets/controls",
            "_model_module_version": "1.5.0",
            "_model_name": "HBoxModel",
            "_view_count": null,
            "_view_module": "@jupyter-widgets/controls",
            "_view_module_version": "1.5.0",
            "_view_name": "HBoxView",
            "box_style": "",
            "children": [
              "IPY_MODEL_a044791308994d30ab2ccc38ed4d375c",
              "IPY_MODEL_14b9177d6a5a454fae27d0ec2948004b",
              "IPY_MODEL_e2e77c7165de4188933f11345b3ed0b3"
            ],
            "layout": "IPY_MODEL_5b0c4733167e4e92a295a57109c91eb2"
          }
        },
        "a044791308994d30ab2ccc38ed4d375c": {
          "model_module": "@jupyter-widgets/controls",
          "model_name": "HTMLModel",
          "model_module_version": "1.5.0",
          "state": {
            "_dom_classes": [],
            "_model_module": "@jupyter-widgets/controls",
            "_model_module_version": "1.5.0",
            "_model_name": "HTMLModel",
            "_view_count": null,
            "_view_module": "@jupyter-widgets/controls",
            "_view_module_version": "1.5.0",
            "_view_name": "HTMLView",
            "description": "",
            "description_tooltip": null,
            "layout": "IPY_MODEL_d25c3ebcb8194b6dbd8ded1cfb3b2224",
            "placeholder": "​",
            "style": "IPY_MODEL_6754a23583944c5d805d291bc2b17d94",
            "value": "vocab.json: 100%"
          }
        },
        "14b9177d6a5a454fae27d0ec2948004b": {
          "model_module": "@jupyter-widgets/controls",
          "model_name": "FloatProgressModel",
          "model_module_version": "1.5.0",
          "state": {
            "_dom_classes": [],
            "_model_module": "@jupyter-widgets/controls",
            "_model_module_version": "1.5.0",
            "_model_name": "FloatProgressModel",
            "_view_count": null,
            "_view_module": "@jupyter-widgets/controls",
            "_view_module_version": "1.5.0",
            "_view_name": "ProgressView",
            "bar_style": "success",
            "description": "",
            "description_tooltip": null,
            "layout": "IPY_MODEL_7eaf3471bd5d445e9735d30e81af14b5",
            "max": 1042301,
            "min": 0,
            "orientation": "horizontal",
            "style": "IPY_MODEL_79c245304938488dbca99b8b74543c16",
            "value": 1042301
          }
        },
        "e2e77c7165de4188933f11345b3ed0b3": {
          "model_module": "@jupyter-widgets/controls",
          "model_name": "HTMLModel",
          "model_module_version": "1.5.0",
          "state": {
            "_dom_classes": [],
            "_model_module": "@jupyter-widgets/controls",
            "_model_module_version": "1.5.0",
            "_model_name": "HTMLModel",
            "_view_count": null,
            "_view_module": "@jupyter-widgets/controls",
            "_view_module_version": "1.5.0",
            "_view_name": "HTMLView",
            "description": "",
            "description_tooltip": null,
            "layout": "IPY_MODEL_40bfd446e71d442bb0cd11ab475fddbb",
            "placeholder": "​",
            "style": "IPY_MODEL_9a5e9a47037d4d9d9171e91343358f7f",
            "value": " 1.04M/1.04M [00:00&lt;00:00, 6.27MB/s]"
          }
        },
        "5b0c4733167e4e92a295a57109c91eb2": {
          "model_module": "@jupyter-widgets/base",
          "model_name": "LayoutModel",
          "model_module_version": "1.2.0",
          "state": {
            "_model_module": "@jupyter-widgets/base",
            "_model_module_version": "1.2.0",
            "_model_name": "LayoutModel",
            "_view_count": null,
            "_view_module": "@jupyter-widgets/base",
            "_view_module_version": "1.2.0",
            "_view_name": "LayoutView",
            "align_content": null,
            "align_items": null,
            "align_self": null,
            "border": null,
            "bottom": null,
            "display": null,
            "flex": null,
            "flex_flow": null,
            "grid_area": null,
            "grid_auto_columns": null,
            "grid_auto_flow": null,
            "grid_auto_rows": null,
            "grid_column": null,
            "grid_gap": null,
            "grid_row": null,
            "grid_template_areas": null,
            "grid_template_columns": null,
            "grid_template_rows": null,
            "height": null,
            "justify_content": null,
            "justify_items": null,
            "left": null,
            "margin": null,
            "max_height": null,
            "max_width": null,
            "min_height": null,
            "min_width": null,
            "object_fit": null,
            "object_position": null,
            "order": null,
            "overflow": null,
            "overflow_x": null,
            "overflow_y": null,
            "padding": null,
            "right": null,
            "top": null,
            "visibility": null,
            "width": null
          }
        },
        "d25c3ebcb8194b6dbd8ded1cfb3b2224": {
          "model_module": "@jupyter-widgets/base",
          "model_name": "LayoutModel",
          "model_module_version": "1.2.0",
          "state": {
            "_model_module": "@jupyter-widgets/base",
            "_model_module_version": "1.2.0",
            "_model_name": "LayoutModel",
            "_view_count": null,
            "_view_module": "@jupyter-widgets/base",
            "_view_module_version": "1.2.0",
            "_view_name": "LayoutView",
            "align_content": null,
            "align_items": null,
            "align_self": null,
            "border": null,
            "bottom": null,
            "display": null,
            "flex": null,
            "flex_flow": null,
            "grid_area": null,
            "grid_auto_columns": null,
            "grid_auto_flow": null,
            "grid_auto_rows": null,
            "grid_column": null,
            "grid_gap": null,
            "grid_row": null,
            "grid_template_areas": null,
            "grid_template_columns": null,
            "grid_template_rows": null,
            "height": null,
            "justify_content": null,
            "justify_items": null,
            "left": null,
            "margin": null,
            "max_height": null,
            "max_width": null,
            "min_height": null,
            "min_width": null,
            "object_fit": null,
            "object_position": null,
            "order": null,
            "overflow": null,
            "overflow_x": null,
            "overflow_y": null,
            "padding": null,
            "right": null,
            "top": null,
            "visibility": null,
            "width": null
          }
        },
        "6754a23583944c5d805d291bc2b17d94": {
          "model_module": "@jupyter-widgets/controls",
          "model_name": "DescriptionStyleModel",
          "model_module_version": "1.5.0",
          "state": {
            "_model_module": "@jupyter-widgets/controls",
            "_model_module_version": "1.5.0",
            "_model_name": "DescriptionStyleModel",
            "_view_count": null,
            "_view_module": "@jupyter-widgets/base",
            "_view_module_version": "1.2.0",
            "_view_name": "StyleView",
            "description_width": ""
          }
        },
        "7eaf3471bd5d445e9735d30e81af14b5": {
          "model_module": "@jupyter-widgets/base",
          "model_name": "LayoutModel",
          "model_module_version": "1.2.0",
          "state": {
            "_model_module": "@jupyter-widgets/base",
            "_model_module_version": "1.2.0",
            "_model_name": "LayoutModel",
            "_view_count": null,
            "_view_module": "@jupyter-widgets/base",
            "_view_module_version": "1.2.0",
            "_view_name": "LayoutView",
            "align_content": null,
            "align_items": null,
            "align_self": null,
            "border": null,
            "bottom": null,
            "display": null,
            "flex": null,
            "flex_flow": null,
            "grid_area": null,
            "grid_auto_columns": null,
            "grid_auto_flow": null,
            "grid_auto_rows": null,
            "grid_column": null,
            "grid_gap": null,
            "grid_row": null,
            "grid_template_areas": null,
            "grid_template_columns": null,
            "grid_template_rows": null,
            "height": null,
            "justify_content": null,
            "justify_items": null,
            "left": null,
            "margin": null,
            "max_height": null,
            "max_width": null,
            "min_height": null,
            "min_width": null,
            "object_fit": null,
            "object_position": null,
            "order": null,
            "overflow": null,
            "overflow_x": null,
            "overflow_y": null,
            "padding": null,
            "right": null,
            "top": null,
            "visibility": null,
            "width": null
          }
        },
        "79c245304938488dbca99b8b74543c16": {
          "model_module": "@jupyter-widgets/controls",
          "model_name": "ProgressStyleModel",
          "model_module_version": "1.5.0",
          "state": {
            "_model_module": "@jupyter-widgets/controls",
            "_model_module_version": "1.5.0",
            "_model_name": "ProgressStyleModel",
            "_view_count": null,
            "_view_module": "@jupyter-widgets/base",
            "_view_module_version": "1.2.0",
            "_view_name": "StyleView",
            "bar_color": null,
            "description_width": ""
          }
        },
        "40bfd446e71d442bb0cd11ab475fddbb": {
          "model_module": "@jupyter-widgets/base",
          "model_name": "LayoutModel",
          "model_module_version": "1.2.0",
          "state": {
            "_model_module": "@jupyter-widgets/base",
            "_model_module_version": "1.2.0",
            "_model_name": "LayoutModel",
            "_view_count": null,
            "_view_module": "@jupyter-widgets/base",
            "_view_module_version": "1.2.0",
            "_view_name": "LayoutView",
            "align_content": null,
            "align_items": null,
            "align_self": null,
            "border": null,
            "bottom": null,
            "display": null,
            "flex": null,
            "flex_flow": null,
            "grid_area": null,
            "grid_auto_columns": null,
            "grid_auto_flow": null,
            "grid_auto_rows": null,
            "grid_column": null,
            "grid_gap": null,
            "grid_row": null,
            "grid_template_areas": null,
            "grid_template_columns": null,
            "grid_template_rows": null,
            "height": null,
            "justify_content": null,
            "justify_items": null,
            "left": null,
            "margin": null,
            "max_height": null,
            "max_width": null,
            "min_height": null,
            "min_width": null,
            "object_fit": null,
            "object_position": null,
            "order": null,
            "overflow": null,
            "overflow_x": null,
            "overflow_y": null,
            "padding": null,
            "right": null,
            "top": null,
            "visibility": null,
            "width": null
          }
        },
        "9a5e9a47037d4d9d9171e91343358f7f": {
          "model_module": "@jupyter-widgets/controls",
          "model_name": "DescriptionStyleModel",
          "model_module_version": "1.5.0",
          "state": {
            "_model_module": "@jupyter-widgets/controls",
            "_model_module_version": "1.5.0",
            "_model_name": "DescriptionStyleModel",
            "_view_count": null,
            "_view_module": "@jupyter-widgets/base",
            "_view_module_version": "1.2.0",
            "_view_name": "StyleView",
            "description_width": ""
          }
        },
        "ff0e5ce91c57415fac33069bfe92316d": {
          "model_module": "@jupyter-widgets/controls",
          "model_name": "HBoxModel",
          "model_module_version": "1.5.0",
          "state": {
            "_dom_classes": [],
            "_model_module": "@jupyter-widgets/controls",
            "_model_module_version": "1.5.0",
            "_model_name": "HBoxModel",
            "_view_count": null,
            "_view_module": "@jupyter-widgets/controls",
            "_view_module_version": "1.5.0",
            "_view_name": "HBoxView",
            "box_style": "",
            "children": [
              "IPY_MODEL_ae7671033bf845838be4c1d07f1d1a42",
              "IPY_MODEL_61fd4301f73e4e25964b73356bff9d51",
              "IPY_MODEL_69d9d6c8d07041d2a562aeb362d1c3e5"
            ],
            "layout": "IPY_MODEL_57c0eeb3a4d341cb809d0d9692e139cb"
          }
        },
        "ae7671033bf845838be4c1d07f1d1a42": {
          "model_module": "@jupyter-widgets/controls",
          "model_name": "HTMLModel",
          "model_module_version": "1.5.0",
          "state": {
            "_dom_classes": [],
            "_model_module": "@jupyter-widgets/controls",
            "_model_module_version": "1.5.0",
            "_model_name": "HTMLModel",
            "_view_count": null,
            "_view_module": "@jupyter-widgets/controls",
            "_view_module_version": "1.5.0",
            "_view_name": "HTMLView",
            "description": "",
            "description_tooltip": null,
            "layout": "IPY_MODEL_a0fb9eebb6e14731996398665c21b62e",
            "placeholder": "​",
            "style": "IPY_MODEL_be325eb0cc5347f69e2d4244277c94f1",
            "value": "merges.txt: 100%"
          }
        },
        "61fd4301f73e4e25964b73356bff9d51": {
          "model_module": "@jupyter-widgets/controls",
          "model_name": "FloatProgressModel",
          "model_module_version": "1.5.0",
          "state": {
            "_dom_classes": [],
            "_model_module": "@jupyter-widgets/controls",
            "_model_module_version": "1.5.0",
            "_model_name": "FloatProgressModel",
            "_view_count": null,
            "_view_module": "@jupyter-widgets/controls",
            "_view_module_version": "1.5.0",
            "_view_name": "ProgressView",
            "bar_style": "success",
            "description": "",
            "description_tooltip": null,
            "layout": "IPY_MODEL_078715757354423887ec4b4d089b3433",
            "max": 456318,
            "min": 0,
            "orientation": "horizontal",
            "style": "IPY_MODEL_d02d95f41889400dbe11f85b58eb1e57",
            "value": 456318
          }
        },
        "69d9d6c8d07041d2a562aeb362d1c3e5": {
          "model_module": "@jupyter-widgets/controls",
          "model_name": "HTMLModel",
          "model_module_version": "1.5.0",
          "state": {
            "_dom_classes": [],
            "_model_module": "@jupyter-widgets/controls",
            "_model_module_version": "1.5.0",
            "_model_name": "HTMLModel",
            "_view_count": null,
            "_view_module": "@jupyter-widgets/controls",
            "_view_module_version": "1.5.0",
            "_view_name": "HTMLView",
            "description": "",
            "description_tooltip": null,
            "layout": "IPY_MODEL_bc08745e24dd4f519351f857beb2a7b0",
            "placeholder": "​",
            "style": "IPY_MODEL_52fe4ab51c3c45e4a7b5bd142017c2f9",
            "value": " 456k/456k [00:00&lt;00:00, 3.22MB/s]"
          }
        },
        "57c0eeb3a4d341cb809d0d9692e139cb": {
          "model_module": "@jupyter-widgets/base",
          "model_name": "LayoutModel",
          "model_module_version": "1.2.0",
          "state": {
            "_model_module": "@jupyter-widgets/base",
            "_model_module_version": "1.2.0",
            "_model_name": "LayoutModel",
            "_view_count": null,
            "_view_module": "@jupyter-widgets/base",
            "_view_module_version": "1.2.0",
            "_view_name": "LayoutView",
            "align_content": null,
            "align_items": null,
            "align_self": null,
            "border": null,
            "bottom": null,
            "display": null,
            "flex": null,
            "flex_flow": null,
            "grid_area": null,
            "grid_auto_columns": null,
            "grid_auto_flow": null,
            "grid_auto_rows": null,
            "grid_column": null,
            "grid_gap": null,
            "grid_row": null,
            "grid_template_areas": null,
            "grid_template_columns": null,
            "grid_template_rows": null,
            "height": null,
            "justify_content": null,
            "justify_items": null,
            "left": null,
            "margin": null,
            "max_height": null,
            "max_width": null,
            "min_height": null,
            "min_width": null,
            "object_fit": null,
            "object_position": null,
            "order": null,
            "overflow": null,
            "overflow_x": null,
            "overflow_y": null,
            "padding": null,
            "right": null,
            "top": null,
            "visibility": null,
            "width": null
          }
        },
        "a0fb9eebb6e14731996398665c21b62e": {
          "model_module": "@jupyter-widgets/base",
          "model_name": "LayoutModel",
          "model_module_version": "1.2.0",
          "state": {
            "_model_module": "@jupyter-widgets/base",
            "_model_module_version": "1.2.0",
            "_model_name": "LayoutModel",
            "_view_count": null,
            "_view_module": "@jupyter-widgets/base",
            "_view_module_version": "1.2.0",
            "_view_name": "LayoutView",
            "align_content": null,
            "align_items": null,
            "align_self": null,
            "border": null,
            "bottom": null,
            "display": null,
            "flex": null,
            "flex_flow": null,
            "grid_area": null,
            "grid_auto_columns": null,
            "grid_auto_flow": null,
            "grid_auto_rows": null,
            "grid_column": null,
            "grid_gap": null,
            "grid_row": null,
            "grid_template_areas": null,
            "grid_template_columns": null,
            "grid_template_rows": null,
            "height": null,
            "justify_content": null,
            "justify_items": null,
            "left": null,
            "margin": null,
            "max_height": null,
            "max_width": null,
            "min_height": null,
            "min_width": null,
            "object_fit": null,
            "object_position": null,
            "order": null,
            "overflow": null,
            "overflow_x": null,
            "overflow_y": null,
            "padding": null,
            "right": null,
            "top": null,
            "visibility": null,
            "width": null
          }
        },
        "be325eb0cc5347f69e2d4244277c94f1": {
          "model_module": "@jupyter-widgets/controls",
          "model_name": "DescriptionStyleModel",
          "model_module_version": "1.5.0",
          "state": {
            "_model_module": "@jupyter-widgets/controls",
            "_model_module_version": "1.5.0",
            "_model_name": "DescriptionStyleModel",
            "_view_count": null,
            "_view_module": "@jupyter-widgets/base",
            "_view_module_version": "1.2.0",
            "_view_name": "StyleView",
            "description_width": ""
          }
        },
        "078715757354423887ec4b4d089b3433": {
          "model_module": "@jupyter-widgets/base",
          "model_name": "LayoutModel",
          "model_module_version": "1.2.0",
          "state": {
            "_model_module": "@jupyter-widgets/base",
            "_model_module_version": "1.2.0",
            "_model_name": "LayoutModel",
            "_view_count": null,
            "_view_module": "@jupyter-widgets/base",
            "_view_module_version": "1.2.0",
            "_view_name": "LayoutView",
            "align_content": null,
            "align_items": null,
            "align_self": null,
            "border": null,
            "bottom": null,
            "display": null,
            "flex": null,
            "flex_flow": null,
            "grid_area": null,
            "grid_auto_columns": null,
            "grid_auto_flow": null,
            "grid_auto_rows": null,
            "grid_column": null,
            "grid_gap": null,
            "grid_row": null,
            "grid_template_areas": null,
            "grid_template_columns": null,
            "grid_template_rows": null,
            "height": null,
            "justify_content": null,
            "justify_items": null,
            "left": null,
            "margin": null,
            "max_height": null,
            "max_width": null,
            "min_height": null,
            "min_width": null,
            "object_fit": null,
            "object_position": null,
            "order": null,
            "overflow": null,
            "overflow_x": null,
            "overflow_y": null,
            "padding": null,
            "right": null,
            "top": null,
            "visibility": null,
            "width": null
          }
        },
        "d02d95f41889400dbe11f85b58eb1e57": {
          "model_module": "@jupyter-widgets/controls",
          "model_name": "ProgressStyleModel",
          "model_module_version": "1.5.0",
          "state": {
            "_model_module": "@jupyter-widgets/controls",
            "_model_module_version": "1.5.0",
            "_model_name": "ProgressStyleModel",
            "_view_count": null,
            "_view_module": "@jupyter-widgets/base",
            "_view_module_version": "1.2.0",
            "_view_name": "StyleView",
            "bar_color": null,
            "description_width": ""
          }
        },
        "bc08745e24dd4f519351f857beb2a7b0": {
          "model_module": "@jupyter-widgets/base",
          "model_name": "LayoutModel",
          "model_module_version": "1.2.0",
          "state": {
            "_model_module": "@jupyter-widgets/base",
            "_model_module_version": "1.2.0",
            "_model_name": "LayoutModel",
            "_view_count": null,
            "_view_module": "@jupyter-widgets/base",
            "_view_module_version": "1.2.0",
            "_view_name": "LayoutView",
            "align_content": null,
            "align_items": null,
            "align_self": null,
            "border": null,
            "bottom": null,
            "display": null,
            "flex": null,
            "flex_flow": null,
            "grid_area": null,
            "grid_auto_columns": null,
            "grid_auto_flow": null,
            "grid_auto_rows": null,
            "grid_column": null,
            "grid_gap": null,
            "grid_row": null,
            "grid_template_areas": null,
            "grid_template_columns": null,
            "grid_template_rows": null,
            "height": null,
            "justify_content": null,
            "justify_items": null,
            "left": null,
            "margin": null,
            "max_height": null,
            "max_width": null,
            "min_height": null,
            "min_width": null,
            "object_fit": null,
            "object_position": null,
            "order": null,
            "overflow": null,
            "overflow_x": null,
            "overflow_y": null,
            "padding": null,
            "right": null,
            "top": null,
            "visibility": null,
            "width": null
          }
        },
        "52fe4ab51c3c45e4a7b5bd142017c2f9": {
          "model_module": "@jupyter-widgets/controls",
          "model_name": "DescriptionStyleModel",
          "model_module_version": "1.5.0",
          "state": {
            "_model_module": "@jupyter-widgets/controls",
            "_model_module_version": "1.5.0",
            "_model_name": "DescriptionStyleModel",
            "_view_count": null,
            "_view_module": "@jupyter-widgets/base",
            "_view_module_version": "1.2.0",
            "_view_name": "StyleView",
            "description_width": ""
          }
        },
        "bf6a316b9f0b40dda013c407ad73e95c": {
          "model_module": "@jupyter-widgets/controls",
          "model_name": "HBoxModel",
          "model_module_version": "1.5.0",
          "state": {
            "_dom_classes": [],
            "_model_module": "@jupyter-widgets/controls",
            "_model_module_version": "1.5.0",
            "_model_name": "HBoxModel",
            "_view_count": null,
            "_view_module": "@jupyter-widgets/controls",
            "_view_module_version": "1.5.0",
            "_view_name": "HBoxView",
            "box_style": "",
            "children": [
              "IPY_MODEL_883729c6cbf14a23a28facbdc0db2ec6",
              "IPY_MODEL_c09e783d9a814f58a717e787fa120868",
              "IPY_MODEL_0bb94477e5054b0bb18102aca49995fb"
            ],
            "layout": "IPY_MODEL_9d81c1b415d844d393143aaea799e2c8"
          }
        },
        "883729c6cbf14a23a28facbdc0db2ec6": {
          "model_module": "@jupyter-widgets/controls",
          "model_name": "HTMLModel",
          "model_module_version": "1.5.0",
          "state": {
            "_dom_classes": [],
            "_model_module": "@jupyter-widgets/controls",
            "_model_module_version": "1.5.0",
            "_model_name": "HTMLModel",
            "_view_count": null,
            "_view_module": "@jupyter-widgets/controls",
            "_view_module_version": "1.5.0",
            "_view_name": "HTMLView",
            "description": "",
            "description_tooltip": null,
            "layout": "IPY_MODEL_6d4719244094414599d01e4713d81934",
            "placeholder": "​",
            "style": "IPY_MODEL_4cbf5545f5544cb6a9e6378610b6b343",
            "value": "tokenizer.json: 100%"
          }
        },
        "c09e783d9a814f58a717e787fa120868": {
          "model_module": "@jupyter-widgets/controls",
          "model_name": "FloatProgressModel",
          "model_module_version": "1.5.0",
          "state": {
            "_dom_classes": [],
            "_model_module": "@jupyter-widgets/controls",
            "_model_module_version": "1.5.0",
            "_model_name": "FloatProgressModel",
            "_view_count": null,
            "_view_module": "@jupyter-widgets/controls",
            "_view_module_version": "1.5.0",
            "_view_name": "ProgressView",
            "bar_style": "success",
            "description": "",
            "description_tooltip": null,
            "layout": "IPY_MODEL_65584cf97f134b01aa065b38ca3c9d70",
            "max": 1355256,
            "min": 0,
            "orientation": "horizontal",
            "style": "IPY_MODEL_a7a9f05a9cbc450fb226b17008eea979",
            "value": 1355256
          }
        },
        "0bb94477e5054b0bb18102aca49995fb": {
          "model_module": "@jupyter-widgets/controls",
          "model_name": "HTMLModel",
          "model_module_version": "1.5.0",
          "state": {
            "_dom_classes": [],
            "_model_module": "@jupyter-widgets/controls",
            "_model_module_version": "1.5.0",
            "_model_name": "HTMLModel",
            "_view_count": null,
            "_view_module": "@jupyter-widgets/controls",
            "_view_module_version": "1.5.0",
            "_view_name": "HTMLView",
            "description": "",
            "description_tooltip": null,
            "layout": "IPY_MODEL_016ce95a894b43299577df36639ae1d1",
            "placeholder": "​",
            "style": "IPY_MODEL_44003520b7c34c198c5705bfe82dbbcf",
            "value": " 1.36M/1.36M [00:00&lt;00:00, 4.98MB/s]"
          }
        },
        "9d81c1b415d844d393143aaea799e2c8": {
          "model_module": "@jupyter-widgets/base",
          "model_name": "LayoutModel",
          "model_module_version": "1.2.0",
          "state": {
            "_model_module": "@jupyter-widgets/base",
            "_model_module_version": "1.2.0",
            "_model_name": "LayoutModel",
            "_view_count": null,
            "_view_module": "@jupyter-widgets/base",
            "_view_module_version": "1.2.0",
            "_view_name": "LayoutView",
            "align_content": null,
            "align_items": null,
            "align_self": null,
            "border": null,
            "bottom": null,
            "display": null,
            "flex": null,
            "flex_flow": null,
            "grid_area": null,
            "grid_auto_columns": null,
            "grid_auto_flow": null,
            "grid_auto_rows": null,
            "grid_column": null,
            "grid_gap": null,
            "grid_row": null,
            "grid_template_areas": null,
            "grid_template_columns": null,
            "grid_template_rows": null,
            "height": null,
            "justify_content": null,
            "justify_items": null,
            "left": null,
            "margin": null,
            "max_height": null,
            "max_width": null,
            "min_height": null,
            "min_width": null,
            "object_fit": null,
            "object_position": null,
            "order": null,
            "overflow": null,
            "overflow_x": null,
            "overflow_y": null,
            "padding": null,
            "right": null,
            "top": null,
            "visibility": null,
            "width": null
          }
        },
        "6d4719244094414599d01e4713d81934": {
          "model_module": "@jupyter-widgets/base",
          "model_name": "LayoutModel",
          "model_module_version": "1.2.0",
          "state": {
            "_model_module": "@jupyter-widgets/base",
            "_model_module_version": "1.2.0",
            "_model_name": "LayoutModel",
            "_view_count": null,
            "_view_module": "@jupyter-widgets/base",
            "_view_module_version": "1.2.0",
            "_view_name": "LayoutView",
            "align_content": null,
            "align_items": null,
            "align_self": null,
            "border": null,
            "bottom": null,
            "display": null,
            "flex": null,
            "flex_flow": null,
            "grid_area": null,
            "grid_auto_columns": null,
            "grid_auto_flow": null,
            "grid_auto_rows": null,
            "grid_column": null,
            "grid_gap": null,
            "grid_row": null,
            "grid_template_areas": null,
            "grid_template_columns": null,
            "grid_template_rows": null,
            "height": null,
            "justify_content": null,
            "justify_items": null,
            "left": null,
            "margin": null,
            "max_height": null,
            "max_width": null,
            "min_height": null,
            "min_width": null,
            "object_fit": null,
            "object_position": null,
            "order": null,
            "overflow": null,
            "overflow_x": null,
            "overflow_y": null,
            "padding": null,
            "right": null,
            "top": null,
            "visibility": null,
            "width": null
          }
        },
        "4cbf5545f5544cb6a9e6378610b6b343": {
          "model_module": "@jupyter-widgets/controls",
          "model_name": "DescriptionStyleModel",
          "model_module_version": "1.5.0",
          "state": {
            "_model_module": "@jupyter-widgets/controls",
            "_model_module_version": "1.5.0",
            "_model_name": "DescriptionStyleModel",
            "_view_count": null,
            "_view_module": "@jupyter-widgets/base",
            "_view_module_version": "1.2.0",
            "_view_name": "StyleView",
            "description_width": ""
          }
        },
        "65584cf97f134b01aa065b38ca3c9d70": {
          "model_module": "@jupyter-widgets/base",
          "model_name": "LayoutModel",
          "model_module_version": "1.2.0",
          "state": {
            "_model_module": "@jupyter-widgets/base",
            "_model_module_version": "1.2.0",
            "_model_name": "LayoutModel",
            "_view_count": null,
            "_view_module": "@jupyter-widgets/base",
            "_view_module_version": "1.2.0",
            "_view_name": "LayoutView",
            "align_content": null,
            "align_items": null,
            "align_self": null,
            "border": null,
            "bottom": null,
            "display": null,
            "flex": null,
            "flex_flow": null,
            "grid_area": null,
            "grid_auto_columns": null,
            "grid_auto_flow": null,
            "grid_auto_rows": null,
            "grid_column": null,
            "grid_gap": null,
            "grid_row": null,
            "grid_template_areas": null,
            "grid_template_columns": null,
            "grid_template_rows": null,
            "height": null,
            "justify_content": null,
            "justify_items": null,
            "left": null,
            "margin": null,
            "max_height": null,
            "max_width": null,
            "min_height": null,
            "min_width": null,
            "object_fit": null,
            "object_position": null,
            "order": null,
            "overflow": null,
            "overflow_x": null,
            "overflow_y": null,
            "padding": null,
            "right": null,
            "top": null,
            "visibility": null,
            "width": null
          }
        },
        "a7a9f05a9cbc450fb226b17008eea979": {
          "model_module": "@jupyter-widgets/controls",
          "model_name": "ProgressStyleModel",
          "model_module_version": "1.5.0",
          "state": {
            "_model_module": "@jupyter-widgets/controls",
            "_model_module_version": "1.5.0",
            "_model_name": "ProgressStyleModel",
            "_view_count": null,
            "_view_module": "@jupyter-widgets/base",
            "_view_module_version": "1.2.0",
            "_view_name": "StyleView",
            "bar_color": null,
            "description_width": ""
          }
        },
        "016ce95a894b43299577df36639ae1d1": {
          "model_module": "@jupyter-widgets/base",
          "model_name": "LayoutModel",
          "model_module_version": "1.2.0",
          "state": {
            "_model_module": "@jupyter-widgets/base",
            "_model_module_version": "1.2.0",
            "_model_name": "LayoutModel",
            "_view_count": null,
            "_view_module": "@jupyter-widgets/base",
            "_view_module_version": "1.2.0",
            "_view_name": "LayoutView",
            "align_content": null,
            "align_items": null,
            "align_self": null,
            "border": null,
            "bottom": null,
            "display": null,
            "flex": null,
            "flex_flow": null,
            "grid_area": null,
            "grid_auto_columns": null,
            "grid_auto_flow": null,
            "grid_auto_rows": null,
            "grid_column": null,
            "grid_gap": null,
            "grid_row": null,
            "grid_template_areas": null,
            "grid_template_columns": null,
            "grid_template_rows": null,
            "height": null,
            "justify_content": null,
            "justify_items": null,
            "left": null,
            "margin": null,
            "max_height": null,
            "max_width": null,
            "min_height": null,
            "min_width": null,
            "object_fit": null,
            "object_position": null,
            "order": null,
            "overflow": null,
            "overflow_x": null,
            "overflow_y": null,
            "padding": null,
            "right": null,
            "top": null,
            "visibility": null,
            "width": null
          }
        },
        "44003520b7c34c198c5705bfe82dbbcf": {
          "model_module": "@jupyter-widgets/controls",
          "model_name": "DescriptionStyleModel",
          "model_module_version": "1.5.0",
          "state": {
            "_model_module": "@jupyter-widgets/controls",
            "_model_module_version": "1.5.0",
            "_model_name": "DescriptionStyleModel",
            "_view_count": null,
            "_view_module": "@jupyter-widgets/base",
            "_view_module_version": "1.2.0",
            "_view_name": "StyleView",
            "description_width": ""
          }
        },
        "8236d722f54249cc9276c437e6f9db44": {
          "model_module": "@jupyter-widgets/controls",
          "model_name": "HBoxModel",
          "model_module_version": "1.5.0",
          "state": {
            "_dom_classes": [],
            "_model_module": "@jupyter-widgets/controls",
            "_model_module_version": "1.5.0",
            "_model_name": "HBoxModel",
            "_view_count": null,
            "_view_module": "@jupyter-widgets/controls",
            "_view_module_version": "1.5.0",
            "_view_name": "HBoxView",
            "box_style": "",
            "children": [
              "IPY_MODEL_35773122ca134c54b6eb1f3732db6703",
              "IPY_MODEL_b68a60dcd59d4bd9a021a61fa4ee4f2f",
              "IPY_MODEL_72ed22065766433c8cacfb794d4be152"
            ],
            "layout": "IPY_MODEL_fd2e7f890ca5494c9a0eed9c20f4b1b4"
          }
        },
        "35773122ca134c54b6eb1f3732db6703": {
          "model_module": "@jupyter-widgets/controls",
          "model_name": "HTMLModel",
          "model_module_version": "1.5.0",
          "state": {
            "_dom_classes": [],
            "_model_module": "@jupyter-widgets/controls",
            "_model_module_version": "1.5.0",
            "_model_name": "HTMLModel",
            "_view_count": null,
            "_view_module": "@jupyter-widgets/controls",
            "_view_module_version": "1.5.0",
            "_view_name": "HTMLView",
            "description": "",
            "description_tooltip": null,
            "layout": "IPY_MODEL_f24e89f703144a23a4ba8092b7fec3ef",
            "placeholder": "​",
            "style": "IPY_MODEL_757aa4c3b6904c53ba352a5ebeab14e2",
            "value": "config.json: "
          }
        },
        "b68a60dcd59d4bd9a021a61fa4ee4f2f": {
          "model_module": "@jupyter-widgets/controls",
          "model_name": "FloatProgressModel",
          "model_module_version": "1.5.0",
          "state": {
            "_dom_classes": [],
            "_model_module": "@jupyter-widgets/controls",
            "_model_module_version": "1.5.0",
            "_model_name": "FloatProgressModel",
            "_view_count": null,
            "_view_module": "@jupyter-widgets/controls",
            "_view_module_version": "1.5.0",
            "_view_name": "ProgressView",
            "bar_style": "success",
            "description": "",
            "description_tooltip": null,
            "layout": "IPY_MODEL_f8390e56dd2f4a4bab8c8b7c1bfbf653",
            "max": 1,
            "min": 0,
            "orientation": "horizontal",
            "style": "IPY_MODEL_1a32f3d25a704d24a1f9fb10ef0cd1fb",
            "value": 1
          }
        },
        "72ed22065766433c8cacfb794d4be152": {
          "model_module": "@jupyter-widgets/controls",
          "model_name": "HTMLModel",
          "model_module_version": "1.5.0",
          "state": {
            "_dom_classes": [],
            "_model_module": "@jupyter-widgets/controls",
            "_model_module_version": "1.5.0",
            "_model_name": "HTMLModel",
            "_view_count": null,
            "_view_module": "@jupyter-widgets/controls",
            "_view_module_version": "1.5.0",
            "_view_name": "HTMLView",
            "description": "",
            "description_tooltip": null,
            "layout": "IPY_MODEL_9666b4294e6f4e3c869faea9932c3a17",
            "placeholder": "​",
            "style": "IPY_MODEL_caf25285655b40a5ae54b8efde972534",
            "value": " 1.58k/? [00:00&lt;00:00, 87.5kB/s]"
          }
        },
        "fd2e7f890ca5494c9a0eed9c20f4b1b4": {
          "model_module": "@jupyter-widgets/base",
          "model_name": "LayoutModel",
          "model_module_version": "1.2.0",
          "state": {
            "_model_module": "@jupyter-widgets/base",
            "_model_module_version": "1.2.0",
            "_model_name": "LayoutModel",
            "_view_count": null,
            "_view_module": "@jupyter-widgets/base",
            "_view_module_version": "1.2.0",
            "_view_name": "LayoutView",
            "align_content": null,
            "align_items": null,
            "align_self": null,
            "border": null,
            "bottom": null,
            "display": null,
            "flex": null,
            "flex_flow": null,
            "grid_area": null,
            "grid_auto_columns": null,
            "grid_auto_flow": null,
            "grid_auto_rows": null,
            "grid_column": null,
            "grid_gap": null,
            "grid_row": null,
            "grid_template_areas": null,
            "grid_template_columns": null,
            "grid_template_rows": null,
            "height": null,
            "justify_content": null,
            "justify_items": null,
            "left": null,
            "margin": null,
            "max_height": null,
            "max_width": null,
            "min_height": null,
            "min_width": null,
            "object_fit": null,
            "object_position": null,
            "order": null,
            "overflow": null,
            "overflow_x": null,
            "overflow_y": null,
            "padding": null,
            "right": null,
            "top": null,
            "visibility": null,
            "width": null
          }
        },
        "f24e89f703144a23a4ba8092b7fec3ef": {
          "model_module": "@jupyter-widgets/base",
          "model_name": "LayoutModel",
          "model_module_version": "1.2.0",
          "state": {
            "_model_module": "@jupyter-widgets/base",
            "_model_module_version": "1.2.0",
            "_model_name": "LayoutModel",
            "_view_count": null,
            "_view_module": "@jupyter-widgets/base",
            "_view_module_version": "1.2.0",
            "_view_name": "LayoutView",
            "align_content": null,
            "align_items": null,
            "align_self": null,
            "border": null,
            "bottom": null,
            "display": null,
            "flex": null,
            "flex_flow": null,
            "grid_area": null,
            "grid_auto_columns": null,
            "grid_auto_flow": null,
            "grid_auto_rows": null,
            "grid_column": null,
            "grid_gap": null,
            "grid_row": null,
            "grid_template_areas": null,
            "grid_template_columns": null,
            "grid_template_rows": null,
            "height": null,
            "justify_content": null,
            "justify_items": null,
            "left": null,
            "margin": null,
            "max_height": null,
            "max_width": null,
            "min_height": null,
            "min_width": null,
            "object_fit": null,
            "object_position": null,
            "order": null,
            "overflow": null,
            "overflow_x": null,
            "overflow_y": null,
            "padding": null,
            "right": null,
            "top": null,
            "visibility": null,
            "width": null
          }
        },
        "757aa4c3b6904c53ba352a5ebeab14e2": {
          "model_module": "@jupyter-widgets/controls",
          "model_name": "DescriptionStyleModel",
          "model_module_version": "1.5.0",
          "state": {
            "_model_module": "@jupyter-widgets/controls",
            "_model_module_version": "1.5.0",
            "_model_name": "DescriptionStyleModel",
            "_view_count": null,
            "_view_module": "@jupyter-widgets/base",
            "_view_module_version": "1.2.0",
            "_view_name": "StyleView",
            "description_width": ""
          }
        },
        "f8390e56dd2f4a4bab8c8b7c1bfbf653": {
          "model_module": "@jupyter-widgets/base",
          "model_name": "LayoutModel",
          "model_module_version": "1.2.0",
          "state": {
            "_model_module": "@jupyter-widgets/base",
            "_model_module_version": "1.2.0",
            "_model_name": "LayoutModel",
            "_view_count": null,
            "_view_module": "@jupyter-widgets/base",
            "_view_module_version": "1.2.0",
            "_view_name": "LayoutView",
            "align_content": null,
            "align_items": null,
            "align_self": null,
            "border": null,
            "bottom": null,
            "display": null,
            "flex": null,
            "flex_flow": null,
            "grid_area": null,
            "grid_auto_columns": null,
            "grid_auto_flow": null,
            "grid_auto_rows": null,
            "grid_column": null,
            "grid_gap": null,
            "grid_row": null,
            "grid_template_areas": null,
            "grid_template_columns": null,
            "grid_template_rows": null,
            "height": null,
            "justify_content": null,
            "justify_items": null,
            "left": null,
            "margin": null,
            "max_height": null,
            "max_width": null,
            "min_height": null,
            "min_width": null,
            "object_fit": null,
            "object_position": null,
            "order": null,
            "overflow": null,
            "overflow_x": null,
            "overflow_y": null,
            "padding": null,
            "right": null,
            "top": null,
            "visibility": null,
            "width": "20px"
          }
        },
        "1a32f3d25a704d24a1f9fb10ef0cd1fb": {
          "model_module": "@jupyter-widgets/controls",
          "model_name": "ProgressStyleModel",
          "model_module_version": "1.5.0",
          "state": {
            "_model_module": "@jupyter-widgets/controls",
            "_model_module_version": "1.5.0",
            "_model_name": "ProgressStyleModel",
            "_view_count": null,
            "_view_module": "@jupyter-widgets/base",
            "_view_module_version": "1.2.0",
            "_view_name": "StyleView",
            "bar_color": null,
            "description_width": ""
          }
        },
        "9666b4294e6f4e3c869faea9932c3a17": {
          "model_module": "@jupyter-widgets/base",
          "model_name": "LayoutModel",
          "model_module_version": "1.2.0",
          "state": {
            "_model_module": "@jupyter-widgets/base",
            "_model_module_version": "1.2.0",
            "_model_name": "LayoutModel",
            "_view_count": null,
            "_view_module": "@jupyter-widgets/base",
            "_view_module_version": "1.2.0",
            "_view_name": "LayoutView",
            "align_content": null,
            "align_items": null,
            "align_self": null,
            "border": null,
            "bottom": null,
            "display": null,
            "flex": null,
            "flex_flow": null,
            "grid_area": null,
            "grid_auto_columns": null,
            "grid_auto_flow": null,
            "grid_auto_rows": null,
            "grid_column": null,
            "grid_gap": null,
            "grid_row": null,
            "grid_template_areas": null,
            "grid_template_columns": null,
            "grid_template_rows": null,
            "height": null,
            "justify_content": null,
            "justify_items": null,
            "left": null,
            "margin": null,
            "max_height": null,
            "max_width": null,
            "min_height": null,
            "min_width": null,
            "object_fit": null,
            "object_position": null,
            "order": null,
            "overflow": null,
            "overflow_x": null,
            "overflow_y": null,
            "padding": null,
            "right": null,
            "top": null,
            "visibility": null,
            "width": null
          }
        },
        "caf25285655b40a5ae54b8efde972534": {
          "model_module": "@jupyter-widgets/controls",
          "model_name": "DescriptionStyleModel",
          "model_module_version": "1.5.0",
          "state": {
            "_model_module": "@jupyter-widgets/controls",
            "_model_module_version": "1.5.0",
            "_model_name": "DescriptionStyleModel",
            "_view_count": null,
            "_view_module": "@jupyter-widgets/base",
            "_view_module_version": "1.2.0",
            "_view_name": "StyleView",
            "description_width": ""
          }
        },
        "c3d6530f7d5c4520be77aa8d37f27243": {
          "model_module": "@jupyter-widgets/controls",
          "model_name": "HBoxModel",
          "model_module_version": "1.5.0",
          "state": {
            "_dom_classes": [],
            "_model_module": "@jupyter-widgets/controls",
            "_model_module_version": "1.5.0",
            "_model_name": "HBoxModel",
            "_view_count": null,
            "_view_module": "@jupyter-widgets/controls",
            "_view_module_version": "1.5.0",
            "_view_name": "HBoxView",
            "box_style": "",
            "children": [
              "IPY_MODEL_b30bfb8f3392475ab819afd882b8311c",
              "IPY_MODEL_fe30e6443b0c44f58e1cc60ce7c1f517",
              "IPY_MODEL_f2d6721548194291bc71417d36005539"
            ],
            "layout": "IPY_MODEL_3b8f7245846942ad8d8b4b672c53ff74"
          }
        },
        "b30bfb8f3392475ab819afd882b8311c": {
          "model_module": "@jupyter-widgets/controls",
          "model_name": "HTMLModel",
          "model_module_version": "1.5.0",
          "state": {
            "_dom_classes": [],
            "_model_module": "@jupyter-widgets/controls",
            "_model_module_version": "1.5.0",
            "_model_name": "HTMLModel",
            "_view_count": null,
            "_view_module": "@jupyter-widgets/controls",
            "_view_module_version": "1.5.0",
            "_view_name": "HTMLView",
            "description": "",
            "description_tooltip": null,
            "layout": "IPY_MODEL_045ebf3b265d40b2bf3e45f23bf3220e",
            "placeholder": "​",
            "style": "IPY_MODEL_189489a5655b45bb9c6776c969188890",
            "value": "model.safetensors: 100%"
          }
        },
        "fe30e6443b0c44f58e1cc60ce7c1f517": {
          "model_module": "@jupyter-widgets/controls",
          "model_name": "FloatProgressModel",
          "model_module_version": "1.5.0",
          "state": {
            "_dom_classes": [],
            "_model_module": "@jupyter-widgets/controls",
            "_model_module_version": "1.5.0",
            "_model_name": "FloatProgressModel",
            "_view_count": null,
            "_view_module": "@jupyter-widgets/controls",
            "_view_module_version": "1.5.0",
            "_view_name": "ProgressView",
            "bar_style": "success",
            "description": "",
            "description_tooltip": null,
            "layout": "IPY_MODEL_ce9de2841a3141d2b7e245316a0889d8",
            "max": 1625222120,
            "min": 0,
            "orientation": "horizontal",
            "style": "IPY_MODEL_89f840b52afd412192c6172d62f03d7b",
            "value": 1625222120
          }
        },
        "f2d6721548194291bc71417d36005539": {
          "model_module": "@jupyter-widgets/controls",
          "model_name": "HTMLModel",
          "model_module_version": "1.5.0",
          "state": {
            "_dom_classes": [],
            "_model_module": "@jupyter-widgets/controls",
            "_model_module_version": "1.5.0",
            "_model_name": "HTMLModel",
            "_view_count": null,
            "_view_module": "@jupyter-widgets/controls",
            "_view_module_version": "1.5.0",
            "_view_name": "HTMLView",
            "description": "",
            "description_tooltip": null,
            "layout": "IPY_MODEL_8c807c322be048d8a4f5cdfd74d9ec71",
            "placeholder": "​",
            "style": "IPY_MODEL_1aed0b1b63734914a921d3aeae1d16dd",
            "value": " 1.63G/1.63G [00:38&lt;00:00, 66.3MB/s]"
          }
        },
        "3b8f7245846942ad8d8b4b672c53ff74": {
          "model_module": "@jupyter-widgets/base",
          "model_name": "LayoutModel",
          "model_module_version": "1.2.0",
          "state": {
            "_model_module": "@jupyter-widgets/base",
            "_model_module_version": "1.2.0",
            "_model_name": "LayoutModel",
            "_view_count": null,
            "_view_module": "@jupyter-widgets/base",
            "_view_module_version": "1.2.0",
            "_view_name": "LayoutView",
            "align_content": null,
            "align_items": null,
            "align_self": null,
            "border": null,
            "bottom": null,
            "display": null,
            "flex": null,
            "flex_flow": null,
            "grid_area": null,
            "grid_auto_columns": null,
            "grid_auto_flow": null,
            "grid_auto_rows": null,
            "grid_column": null,
            "grid_gap": null,
            "grid_row": null,
            "grid_template_areas": null,
            "grid_template_columns": null,
            "grid_template_rows": null,
            "height": null,
            "justify_content": null,
            "justify_items": null,
            "left": null,
            "margin": null,
            "max_height": null,
            "max_width": null,
            "min_height": null,
            "min_width": null,
            "object_fit": null,
            "object_position": null,
            "order": null,
            "overflow": null,
            "overflow_x": null,
            "overflow_y": null,
            "padding": null,
            "right": null,
            "top": null,
            "visibility": null,
            "width": null
          }
        },
        "045ebf3b265d40b2bf3e45f23bf3220e": {
          "model_module": "@jupyter-widgets/base",
          "model_name": "LayoutModel",
          "model_module_version": "1.2.0",
          "state": {
            "_model_module": "@jupyter-widgets/base",
            "_model_module_version": "1.2.0",
            "_model_name": "LayoutModel",
            "_view_count": null,
            "_view_module": "@jupyter-widgets/base",
            "_view_module_version": "1.2.0",
            "_view_name": "LayoutView",
            "align_content": null,
            "align_items": null,
            "align_self": null,
            "border": null,
            "bottom": null,
            "display": null,
            "flex": null,
            "flex_flow": null,
            "grid_area": null,
            "grid_auto_columns": null,
            "grid_auto_flow": null,
            "grid_auto_rows": null,
            "grid_column": null,
            "grid_gap": null,
            "grid_row": null,
            "grid_template_areas": null,
            "grid_template_columns": null,
            "grid_template_rows": null,
            "height": null,
            "justify_content": null,
            "justify_items": null,
            "left": null,
            "margin": null,
            "max_height": null,
            "max_width": null,
            "min_height": null,
            "min_width": null,
            "object_fit": null,
            "object_position": null,
            "order": null,
            "overflow": null,
            "overflow_x": null,
            "overflow_y": null,
            "padding": null,
            "right": null,
            "top": null,
            "visibility": null,
            "width": null
          }
        },
        "189489a5655b45bb9c6776c969188890": {
          "model_module": "@jupyter-widgets/controls",
          "model_name": "DescriptionStyleModel",
          "model_module_version": "1.5.0",
          "state": {
            "_model_module": "@jupyter-widgets/controls",
            "_model_module_version": "1.5.0",
            "_model_name": "DescriptionStyleModel",
            "_view_count": null,
            "_view_module": "@jupyter-widgets/base",
            "_view_module_version": "1.2.0",
            "_view_name": "StyleView",
            "description_width": ""
          }
        },
        "ce9de2841a3141d2b7e245316a0889d8": {
          "model_module": "@jupyter-widgets/base",
          "model_name": "LayoutModel",
          "model_module_version": "1.2.0",
          "state": {
            "_model_module": "@jupyter-widgets/base",
            "_model_module_version": "1.2.0",
            "_model_name": "LayoutModel",
            "_view_count": null,
            "_view_module": "@jupyter-widgets/base",
            "_view_module_version": "1.2.0",
            "_view_name": "LayoutView",
            "align_content": null,
            "align_items": null,
            "align_self": null,
            "border": null,
            "bottom": null,
            "display": null,
            "flex": null,
            "flex_flow": null,
            "grid_area": null,
            "grid_auto_columns": null,
            "grid_auto_flow": null,
            "grid_auto_rows": null,
            "grid_column": null,
            "grid_gap": null,
            "grid_row": null,
            "grid_template_areas": null,
            "grid_template_columns": null,
            "grid_template_rows": null,
            "height": null,
            "justify_content": null,
            "justify_items": null,
            "left": null,
            "margin": null,
            "max_height": null,
            "max_width": null,
            "min_height": null,
            "min_width": null,
            "object_fit": null,
            "object_position": null,
            "order": null,
            "overflow": null,
            "overflow_x": null,
            "overflow_y": null,
            "padding": null,
            "right": null,
            "top": null,
            "visibility": null,
            "width": null
          }
        },
        "89f840b52afd412192c6172d62f03d7b": {
          "model_module": "@jupyter-widgets/controls",
          "model_name": "ProgressStyleModel",
          "model_module_version": "1.5.0",
          "state": {
            "_model_module": "@jupyter-widgets/controls",
            "_model_module_version": "1.5.0",
            "_model_name": "ProgressStyleModel",
            "_view_count": null,
            "_view_module": "@jupyter-widgets/base",
            "_view_module_version": "1.2.0",
            "_view_name": "StyleView",
            "bar_color": null,
            "description_width": ""
          }
        },
        "8c807c322be048d8a4f5cdfd74d9ec71": {
          "model_module": "@jupyter-widgets/base",
          "model_name": "LayoutModel",
          "model_module_version": "1.2.0",
          "state": {
            "_model_module": "@jupyter-widgets/base",
            "_model_module_version": "1.2.0",
            "_model_name": "LayoutModel",
            "_view_count": null,
            "_view_module": "@jupyter-widgets/base",
            "_view_module_version": "1.2.0",
            "_view_name": "LayoutView",
            "align_content": null,
            "align_items": null,
            "align_self": null,
            "border": null,
            "bottom": null,
            "display": null,
            "flex": null,
            "flex_flow": null,
            "grid_area": null,
            "grid_auto_columns": null,
            "grid_auto_flow": null,
            "grid_auto_rows": null,
            "grid_column": null,
            "grid_gap": null,
            "grid_row": null,
            "grid_template_areas": null,
            "grid_template_columns": null,
            "grid_template_rows": null,
            "height": null,
            "justify_content": null,
            "justify_items": null,
            "left": null,
            "margin": null,
            "max_height": null,
            "max_width": null,
            "min_height": null,
            "min_width": null,
            "object_fit": null,
            "object_position": null,
            "order": null,
            "overflow": null,
            "overflow_x": null,
            "overflow_y": null,
            "padding": null,
            "right": null,
            "top": null,
            "visibility": null,
            "width": null
          }
        },
        "1aed0b1b63734914a921d3aeae1d16dd": {
          "model_module": "@jupyter-widgets/controls",
          "model_name": "DescriptionStyleModel",
          "model_module_version": "1.5.0",
          "state": {
            "_model_module": "@jupyter-widgets/controls",
            "_model_module_version": "1.5.0",
            "_model_name": "DescriptionStyleModel",
            "_view_count": null,
            "_view_module": "@jupyter-widgets/base",
            "_view_module_version": "1.2.0",
            "_view_name": "StyleView",
            "description_width": ""
          }
        },
        "5e867a66ce4f4823a6039c823e774922": {
          "model_module": "@jupyter-widgets/controls",
          "model_name": "HBoxModel",
          "model_module_version": "1.5.0",
          "state": {
            "_dom_classes": [],
            "_model_module": "@jupyter-widgets/controls",
            "_model_module_version": "1.5.0",
            "_model_name": "HBoxModel",
            "_view_count": null,
            "_view_module": "@jupyter-widgets/controls",
            "_view_module_version": "1.5.0",
            "_view_name": "HBoxView",
            "box_style": "",
            "children": [
              "IPY_MODEL_2e0e39be2f8046fb9d97fc79b2877d0a",
              "IPY_MODEL_abd3a8d470fd47e7aca08ab5545c1a24",
              "IPY_MODEL_d842e87404bd4b5b9a7f5b63b8f76097"
            ],
            "layout": "IPY_MODEL_a4b52a2ee0604dc784f1ce9864f90ed3"
          }
        },
        "2e0e39be2f8046fb9d97fc79b2877d0a": {
          "model_module": "@jupyter-widgets/controls",
          "model_name": "HTMLModel",
          "model_module_version": "1.5.0",
          "state": {
            "_dom_classes": [],
            "_model_module": "@jupyter-widgets/controls",
            "_model_module_version": "1.5.0",
            "_model_name": "HTMLModel",
            "_view_count": null,
            "_view_module": "@jupyter-widgets/controls",
            "_view_module_version": "1.5.0",
            "_view_name": "HTMLView",
            "description": "",
            "description_tooltip": null,
            "layout": "IPY_MODEL_4c01911ee16444b5af54f0db31f6fcc6",
            "placeholder": "​",
            "style": "IPY_MODEL_5474b154a28c4520806c9ff33a2a3a63",
            "value": "generation_config.json: 100%"
          }
        },
        "abd3a8d470fd47e7aca08ab5545c1a24": {
          "model_module": "@jupyter-widgets/controls",
          "model_name": "FloatProgressModel",
          "model_module_version": "1.5.0",
          "state": {
            "_dom_classes": [],
            "_model_module": "@jupyter-widgets/controls",
            "_model_module_version": "1.5.0",
            "_model_name": "FloatProgressModel",
            "_view_count": null,
            "_view_module": "@jupyter-widgets/controls",
            "_view_module_version": "1.5.0",
            "_view_name": "ProgressView",
            "bar_style": "success",
            "description": "",
            "description_tooltip": null,
            "layout": "IPY_MODEL_80550fc8cfb54cc0b25def3862d675e6",
            "max": 363,
            "min": 0,
            "orientation": "horizontal",
            "style": "IPY_MODEL_9ff9051c32864823ac1e3c47e8075b09",
            "value": 363
          }
        },
        "d842e87404bd4b5b9a7f5b63b8f76097": {
          "model_module": "@jupyter-widgets/controls",
          "model_name": "HTMLModel",
          "model_module_version": "1.5.0",
          "state": {
            "_dom_classes": [],
            "_model_module": "@jupyter-widgets/controls",
            "_model_module_version": "1.5.0",
            "_model_name": "HTMLModel",
            "_view_count": null,
            "_view_module": "@jupyter-widgets/controls",
            "_view_module_version": "1.5.0",
            "_view_name": "HTMLView",
            "description": "",
            "description_tooltip": null,
            "layout": "IPY_MODEL_2cbb2d06a4dc413d93a40623ec7bb922",
            "placeholder": "​",
            "style": "IPY_MODEL_590db3d1add840b3b1a0eb2ee71c6f34",
            "value": " 363/363 [00:00&lt;00:00, 31.2kB/s]"
          }
        },
        "a4b52a2ee0604dc784f1ce9864f90ed3": {
          "model_module": "@jupyter-widgets/base",
          "model_name": "LayoutModel",
          "model_module_version": "1.2.0",
          "state": {
            "_model_module": "@jupyter-widgets/base",
            "_model_module_version": "1.2.0",
            "_model_name": "LayoutModel",
            "_view_count": null,
            "_view_module": "@jupyter-widgets/base",
            "_view_module_version": "1.2.0",
            "_view_name": "LayoutView",
            "align_content": null,
            "align_items": null,
            "align_self": null,
            "border": null,
            "bottom": null,
            "display": null,
            "flex": null,
            "flex_flow": null,
            "grid_area": null,
            "grid_auto_columns": null,
            "grid_auto_flow": null,
            "grid_auto_rows": null,
            "grid_column": null,
            "grid_gap": null,
            "grid_row": null,
            "grid_template_areas": null,
            "grid_template_columns": null,
            "grid_template_rows": null,
            "height": null,
            "justify_content": null,
            "justify_items": null,
            "left": null,
            "margin": null,
            "max_height": null,
            "max_width": null,
            "min_height": null,
            "min_width": null,
            "object_fit": null,
            "object_position": null,
            "order": null,
            "overflow": null,
            "overflow_x": null,
            "overflow_y": null,
            "padding": null,
            "right": null,
            "top": null,
            "visibility": null,
            "width": null
          }
        },
        "4c01911ee16444b5af54f0db31f6fcc6": {
          "model_module": "@jupyter-widgets/base",
          "model_name": "LayoutModel",
          "model_module_version": "1.2.0",
          "state": {
            "_model_module": "@jupyter-widgets/base",
            "_model_module_version": "1.2.0",
            "_model_name": "LayoutModel",
            "_view_count": null,
            "_view_module": "@jupyter-widgets/base",
            "_view_module_version": "1.2.0",
            "_view_name": "LayoutView",
            "align_content": null,
            "align_items": null,
            "align_self": null,
            "border": null,
            "bottom": null,
            "display": null,
            "flex": null,
            "flex_flow": null,
            "grid_area": null,
            "grid_auto_columns": null,
            "grid_auto_flow": null,
            "grid_auto_rows": null,
            "grid_column": null,
            "grid_gap": null,
            "grid_row": null,
            "grid_template_areas": null,
            "grid_template_columns": null,
            "grid_template_rows": null,
            "height": null,
            "justify_content": null,
            "justify_items": null,
            "left": null,
            "margin": null,
            "max_height": null,
            "max_width": null,
            "min_height": null,
            "min_width": null,
            "object_fit": null,
            "object_position": null,
            "order": null,
            "overflow": null,
            "overflow_x": null,
            "overflow_y": null,
            "padding": null,
            "right": null,
            "top": null,
            "visibility": null,
            "width": null
          }
        },
        "5474b154a28c4520806c9ff33a2a3a63": {
          "model_module": "@jupyter-widgets/controls",
          "model_name": "DescriptionStyleModel",
          "model_module_version": "1.5.0",
          "state": {
            "_model_module": "@jupyter-widgets/controls",
            "_model_module_version": "1.5.0",
            "_model_name": "DescriptionStyleModel",
            "_view_count": null,
            "_view_module": "@jupyter-widgets/base",
            "_view_module_version": "1.2.0",
            "_view_name": "StyleView",
            "description_width": ""
          }
        },
        "80550fc8cfb54cc0b25def3862d675e6": {
          "model_module": "@jupyter-widgets/base",
          "model_name": "LayoutModel",
          "model_module_version": "1.2.0",
          "state": {
            "_model_module": "@jupyter-widgets/base",
            "_model_module_version": "1.2.0",
            "_model_name": "LayoutModel",
            "_view_count": null,
            "_view_module": "@jupyter-widgets/base",
            "_view_module_version": "1.2.0",
            "_view_name": "LayoutView",
            "align_content": null,
            "align_items": null,
            "align_self": null,
            "border": null,
            "bottom": null,
            "display": null,
            "flex": null,
            "flex_flow": null,
            "grid_area": null,
            "grid_auto_columns": null,
            "grid_auto_flow": null,
            "grid_auto_rows": null,
            "grid_column": null,
            "grid_gap": null,
            "grid_row": null,
            "grid_template_areas": null,
            "grid_template_columns": null,
            "grid_template_rows": null,
            "height": null,
            "justify_content": null,
            "justify_items": null,
            "left": null,
            "margin": null,
            "max_height": null,
            "max_width": null,
            "min_height": null,
            "min_width": null,
            "object_fit": null,
            "object_position": null,
            "order": null,
            "overflow": null,
            "overflow_x": null,
            "overflow_y": null,
            "padding": null,
            "right": null,
            "top": null,
            "visibility": null,
            "width": null
          }
        },
        "9ff9051c32864823ac1e3c47e8075b09": {
          "model_module": "@jupyter-widgets/controls",
          "model_name": "ProgressStyleModel",
          "model_module_version": "1.5.0",
          "state": {
            "_model_module": "@jupyter-widgets/controls",
            "_model_module_version": "1.5.0",
            "_model_name": "ProgressStyleModel",
            "_view_count": null,
            "_view_module": "@jupyter-widgets/base",
            "_view_module_version": "1.2.0",
            "_view_name": "StyleView",
            "bar_color": null,
            "description_width": ""
          }
        },
        "2cbb2d06a4dc413d93a40623ec7bb922": {
          "model_module": "@jupyter-widgets/base",
          "model_name": "LayoutModel",
          "model_module_version": "1.2.0",
          "state": {
            "_model_module": "@jupyter-widgets/base",
            "_model_module_version": "1.2.0",
            "_model_name": "LayoutModel",
            "_view_count": null,
            "_view_module": "@jupyter-widgets/base",
            "_view_module_version": "1.2.0",
            "_view_name": "LayoutView",
            "align_content": null,
            "align_items": null,
            "align_self": null,
            "border": null,
            "bottom": null,
            "display": null,
            "flex": null,
            "flex_flow": null,
            "grid_area": null,
            "grid_auto_columns": null,
            "grid_auto_flow": null,
            "grid_auto_rows": null,
            "grid_column": null,
            "grid_gap": null,
            "grid_row": null,
            "grid_template_areas": null,
            "grid_template_columns": null,
            "grid_template_rows": null,
            "height": null,
            "justify_content": null,
            "justify_items": null,
            "left": null,
            "margin": null,
            "max_height": null,
            "max_width": null,
            "min_height": null,
            "min_width": null,
            "object_fit": null,
            "object_position": null,
            "order": null,
            "overflow": null,
            "overflow_x": null,
            "overflow_y": null,
            "padding": null,
            "right": null,
            "top": null,
            "visibility": null,
            "width": null
          }
        },
        "590db3d1add840b3b1a0eb2ee71c6f34": {
          "model_module": "@jupyter-widgets/controls",
          "model_name": "DescriptionStyleModel",
          "model_module_version": "1.5.0",
          "state": {
            "_model_module": "@jupyter-widgets/controls",
            "_model_module_version": "1.5.0",
            "_model_name": "DescriptionStyleModel",
            "_view_count": null,
            "_view_module": "@jupyter-widgets/base",
            "_view_module_version": "1.2.0",
            "_view_name": "StyleView",
            "description_width": ""
          }
        },
        "1ecf598f78e6472eacd48b0b9c94acd7": {
          "model_module": "@jupyter-widgets/controls",
          "model_name": "HBoxModel",
          "model_module_version": "1.5.0",
          "state": {
            "_dom_classes": [],
            "_model_module": "@jupyter-widgets/controls",
            "_model_module_version": "1.5.0",
            "_model_name": "HBoxModel",
            "_view_count": null,
            "_view_module": "@jupyter-widgets/controls",
            "_view_module_version": "1.5.0",
            "_view_name": "HBoxView",
            "box_style": "",
            "children": [
              "IPY_MODEL_f7e768b795914b66ab9dbc09b676df57",
              "IPY_MODEL_aa1931121abe49e9ab104c2b5d0807a1",
              "IPY_MODEL_fd563959bf36408c80d671685c46626f"
            ],
            "layout": "IPY_MODEL_e83634dcac49428b9f28711d9e122aa7"
          }
        },
        "f7e768b795914b66ab9dbc09b676df57": {
          "model_module": "@jupyter-widgets/controls",
          "model_name": "HTMLModel",
          "model_module_version": "1.5.0",
          "state": {
            "_dom_classes": [],
            "_model_module": "@jupyter-widgets/controls",
            "_model_module_version": "1.5.0",
            "_model_name": "HTMLModel",
            "_view_count": null,
            "_view_module": "@jupyter-widgets/controls",
            "_view_module_version": "1.5.0",
            "_view_name": "HTMLView",
            "description": "",
            "description_tooltip": null,
            "layout": "IPY_MODEL_26f7371fd1e3496690e850a251420bc8",
            "placeholder": "​",
            "style": "IPY_MODEL_3841a97da3834893b7f3fef4b559c50c",
            "value": "vocab.json: "
          }
        },
        "aa1931121abe49e9ab104c2b5d0807a1": {
          "model_module": "@jupyter-widgets/controls",
          "model_name": "FloatProgressModel",
          "model_module_version": "1.5.0",
          "state": {
            "_dom_classes": [],
            "_model_module": "@jupyter-widgets/controls",
            "_model_module_version": "1.5.0",
            "_model_name": "FloatProgressModel",
            "_view_count": null,
            "_view_module": "@jupyter-widgets/controls",
            "_view_module_version": "1.5.0",
            "_view_name": "ProgressView",
            "bar_style": "success",
            "description": "",
            "description_tooltip": null,
            "layout": "IPY_MODEL_561cc770833447f7935a152263a7ab23",
            "max": 1,
            "min": 0,
            "orientation": "horizontal",
            "style": "IPY_MODEL_45e6b215776741e2a21fbea1ad425833",
            "value": 1
          }
        },
        "fd563959bf36408c80d671685c46626f": {
          "model_module": "@jupyter-widgets/controls",
          "model_name": "HTMLModel",
          "model_module_version": "1.5.0",
          "state": {
            "_dom_classes": [],
            "_model_module": "@jupyter-widgets/controls",
            "_model_module_version": "1.5.0",
            "_model_name": "HTMLModel",
            "_view_count": null,
            "_view_module": "@jupyter-widgets/controls",
            "_view_module_version": "1.5.0",
            "_view_name": "HTMLView",
            "description": "",
            "description_tooltip": null,
            "layout": "IPY_MODEL_8af3ffde6560494ca5b6bbf25bb6f18b",
            "placeholder": "​",
            "style": "IPY_MODEL_4ae9de9f5c5c42f89b10c08725b79316",
            "value": " 899k/? [00:00&lt;00:00, 15.8MB/s]"
          }
        },
        "e83634dcac49428b9f28711d9e122aa7": {
          "model_module": "@jupyter-widgets/base",
          "model_name": "LayoutModel",
          "model_module_version": "1.2.0",
          "state": {
            "_model_module": "@jupyter-widgets/base",
            "_model_module_version": "1.2.0",
            "_model_name": "LayoutModel",
            "_view_count": null,
            "_view_module": "@jupyter-widgets/base",
            "_view_module_version": "1.2.0",
            "_view_name": "LayoutView",
            "align_content": null,
            "align_items": null,
            "align_self": null,
            "border": null,
            "bottom": null,
            "display": null,
            "flex": null,
            "flex_flow": null,
            "grid_area": null,
            "grid_auto_columns": null,
            "grid_auto_flow": null,
            "grid_auto_rows": null,
            "grid_column": null,
            "grid_gap": null,
            "grid_row": null,
            "grid_template_areas": null,
            "grid_template_columns": null,
            "grid_template_rows": null,
            "height": null,
            "justify_content": null,
            "justify_items": null,
            "left": null,
            "margin": null,
            "max_height": null,
            "max_width": null,
            "min_height": null,
            "min_width": null,
            "object_fit": null,
            "object_position": null,
            "order": null,
            "overflow": null,
            "overflow_x": null,
            "overflow_y": null,
            "padding": null,
            "right": null,
            "top": null,
            "visibility": null,
            "width": null
          }
        },
        "26f7371fd1e3496690e850a251420bc8": {
          "model_module": "@jupyter-widgets/base",
          "model_name": "LayoutModel",
          "model_module_version": "1.2.0",
          "state": {
            "_model_module": "@jupyter-widgets/base",
            "_model_module_version": "1.2.0",
            "_model_name": "LayoutModel",
            "_view_count": null,
            "_view_module": "@jupyter-widgets/base",
            "_view_module_version": "1.2.0",
            "_view_name": "LayoutView",
            "align_content": null,
            "align_items": null,
            "align_self": null,
            "border": null,
            "bottom": null,
            "display": null,
            "flex": null,
            "flex_flow": null,
            "grid_area": null,
            "grid_auto_columns": null,
            "grid_auto_flow": null,
            "grid_auto_rows": null,
            "grid_column": null,
            "grid_gap": null,
            "grid_row": null,
            "grid_template_areas": null,
            "grid_template_columns": null,
            "grid_template_rows": null,
            "height": null,
            "justify_content": null,
            "justify_items": null,
            "left": null,
            "margin": null,
            "max_height": null,
            "max_width": null,
            "min_height": null,
            "min_width": null,
            "object_fit": null,
            "object_position": null,
            "order": null,
            "overflow": null,
            "overflow_x": null,
            "overflow_y": null,
            "padding": null,
            "right": null,
            "top": null,
            "visibility": null,
            "width": null
          }
        },
        "3841a97da3834893b7f3fef4b559c50c": {
          "model_module": "@jupyter-widgets/controls",
          "model_name": "DescriptionStyleModel",
          "model_module_version": "1.5.0",
          "state": {
            "_model_module": "@jupyter-widgets/controls",
            "_model_module_version": "1.5.0",
            "_model_name": "DescriptionStyleModel",
            "_view_count": null,
            "_view_module": "@jupyter-widgets/base",
            "_view_module_version": "1.2.0",
            "_view_name": "StyleView",
            "description_width": ""
          }
        },
        "561cc770833447f7935a152263a7ab23": {
          "model_module": "@jupyter-widgets/base",
          "model_name": "LayoutModel",
          "model_module_version": "1.2.0",
          "state": {
            "_model_module": "@jupyter-widgets/base",
            "_model_module_version": "1.2.0",
            "_model_name": "LayoutModel",
            "_view_count": null,
            "_view_module": "@jupyter-widgets/base",
            "_view_module_version": "1.2.0",
            "_view_name": "LayoutView",
            "align_content": null,
            "align_items": null,
            "align_self": null,
            "border": null,
            "bottom": null,
            "display": null,
            "flex": null,
            "flex_flow": null,
            "grid_area": null,
            "grid_auto_columns": null,
            "grid_auto_flow": null,
            "grid_auto_rows": null,
            "grid_column": null,
            "grid_gap": null,
            "grid_row": null,
            "grid_template_areas": null,
            "grid_template_columns": null,
            "grid_template_rows": null,
            "height": null,
            "justify_content": null,
            "justify_items": null,
            "left": null,
            "margin": null,
            "max_height": null,
            "max_width": null,
            "min_height": null,
            "min_width": null,
            "object_fit": null,
            "object_position": null,
            "order": null,
            "overflow": null,
            "overflow_x": null,
            "overflow_y": null,
            "padding": null,
            "right": null,
            "top": null,
            "visibility": null,
            "width": "20px"
          }
        },
        "45e6b215776741e2a21fbea1ad425833": {
          "model_module": "@jupyter-widgets/controls",
          "model_name": "ProgressStyleModel",
          "model_module_version": "1.5.0",
          "state": {
            "_model_module": "@jupyter-widgets/controls",
            "_model_module_version": "1.5.0",
            "_model_name": "ProgressStyleModel",
            "_view_count": null,
            "_view_module": "@jupyter-widgets/base",
            "_view_module_version": "1.2.0",
            "_view_name": "StyleView",
            "bar_color": null,
            "description_width": ""
          }
        },
        "8af3ffde6560494ca5b6bbf25bb6f18b": {
          "model_module": "@jupyter-widgets/base",
          "model_name": "LayoutModel",
          "model_module_version": "1.2.0",
          "state": {
            "_model_module": "@jupyter-widgets/base",
            "_model_module_version": "1.2.0",
            "_model_name": "LayoutModel",
            "_view_count": null,
            "_view_module": "@jupyter-widgets/base",
            "_view_module_version": "1.2.0",
            "_view_name": "LayoutView",
            "align_content": null,
            "align_items": null,
            "align_self": null,
            "border": null,
            "bottom": null,
            "display": null,
            "flex": null,
            "flex_flow": null,
            "grid_area": null,
            "grid_auto_columns": null,
            "grid_auto_flow": null,
            "grid_auto_rows": null,
            "grid_column": null,
            "grid_gap": null,
            "grid_row": null,
            "grid_template_areas": null,
            "grid_template_columns": null,
            "grid_template_rows": null,
            "height": null,
            "justify_content": null,
            "justify_items": null,
            "left": null,
            "margin": null,
            "max_height": null,
            "max_width": null,
            "min_height": null,
            "min_width": null,
            "object_fit": null,
            "object_position": null,
            "order": null,
            "overflow": null,
            "overflow_x": null,
            "overflow_y": null,
            "padding": null,
            "right": null,
            "top": null,
            "visibility": null,
            "width": null
          }
        },
        "4ae9de9f5c5c42f89b10c08725b79316": {
          "model_module": "@jupyter-widgets/controls",
          "model_name": "DescriptionStyleModel",
          "model_module_version": "1.5.0",
          "state": {
            "_model_module": "@jupyter-widgets/controls",
            "_model_module_version": "1.5.0",
            "_model_name": "DescriptionStyleModel",
            "_view_count": null,
            "_view_module": "@jupyter-widgets/base",
            "_view_module_version": "1.2.0",
            "_view_name": "StyleView",
            "description_width": ""
          }
        },
        "dc286e5aa6ae4f428d44a80e31619db4": {
          "model_module": "@jupyter-widgets/controls",
          "model_name": "HBoxModel",
          "model_module_version": "1.5.0",
          "state": {
            "_dom_classes": [],
            "_model_module": "@jupyter-widgets/controls",
            "_model_module_version": "1.5.0",
            "_model_name": "HBoxModel",
            "_view_count": null,
            "_view_module": "@jupyter-widgets/controls",
            "_view_module_version": "1.5.0",
            "_view_name": "HBoxView",
            "box_style": "",
            "children": [
              "IPY_MODEL_edabd15b6a644929919fb7f45137b18c",
              "IPY_MODEL_5eb773e422934aa2a2b02e4cf1ab321f",
              "IPY_MODEL_eb80bca010d9430bb776038d2f41c260"
            ],
            "layout": "IPY_MODEL_a50f4f7eb6d944c3b5dbaa14dbf3efef"
          }
        },
        "edabd15b6a644929919fb7f45137b18c": {
          "model_module": "@jupyter-widgets/controls",
          "model_name": "HTMLModel",
          "model_module_version": "1.5.0",
          "state": {
            "_dom_classes": [],
            "_model_module": "@jupyter-widgets/controls",
            "_model_module_version": "1.5.0",
            "_model_name": "HTMLModel",
            "_view_count": null,
            "_view_module": "@jupyter-widgets/controls",
            "_view_module_version": "1.5.0",
            "_view_name": "HTMLView",
            "description": "",
            "description_tooltip": null,
            "layout": "IPY_MODEL_85c39c5ef0954b06b25bd1660e9fad27",
            "placeholder": "​",
            "style": "IPY_MODEL_14c5a63b0221425287f736f0f30448dd",
            "value": "merges.txt: "
          }
        },
        "5eb773e422934aa2a2b02e4cf1ab321f": {
          "model_module": "@jupyter-widgets/controls",
          "model_name": "FloatProgressModel",
          "model_module_version": "1.5.0",
          "state": {
            "_dom_classes": [],
            "_model_module": "@jupyter-widgets/controls",
            "_model_module_version": "1.5.0",
            "_model_name": "FloatProgressModel",
            "_view_count": null,
            "_view_module": "@jupyter-widgets/controls",
            "_view_module_version": "1.5.0",
            "_view_name": "ProgressView",
            "bar_style": "success",
            "description": "",
            "description_tooltip": null,
            "layout": "IPY_MODEL_ee425647ff684fa8852a75ee01869a83",
            "max": 1,
            "min": 0,
            "orientation": "horizontal",
            "style": "IPY_MODEL_ee5f093219c8441a98e5594e428b7d3b",
            "value": 1
          }
        },
        "eb80bca010d9430bb776038d2f41c260": {
          "model_module": "@jupyter-widgets/controls",
          "model_name": "HTMLModel",
          "model_module_version": "1.5.0",
          "state": {
            "_dom_classes": [],
            "_model_module": "@jupyter-widgets/controls",
            "_model_module_version": "1.5.0",
            "_model_name": "HTMLModel",
            "_view_count": null,
            "_view_module": "@jupyter-widgets/controls",
            "_view_module_version": "1.5.0",
            "_view_name": "HTMLView",
            "description": "",
            "description_tooltip": null,
            "layout": "IPY_MODEL_52f3b27d96494467b6c99b9cd3437938",
            "placeholder": "​",
            "style": "IPY_MODEL_253323a8a6ff4afc9474c68e4e70dd8f",
            "value": " 456k/? [00:00&lt;00:00, 23.4MB/s]"
          }
        },
        "a50f4f7eb6d944c3b5dbaa14dbf3efef": {
          "model_module": "@jupyter-widgets/base",
          "model_name": "LayoutModel",
          "model_module_version": "1.2.0",
          "state": {
            "_model_module": "@jupyter-widgets/base",
            "_model_module_version": "1.2.0",
            "_model_name": "LayoutModel",
            "_view_count": null,
            "_view_module": "@jupyter-widgets/base",
            "_view_module_version": "1.2.0",
            "_view_name": "LayoutView",
            "align_content": null,
            "align_items": null,
            "align_self": null,
            "border": null,
            "bottom": null,
            "display": null,
            "flex": null,
            "flex_flow": null,
            "grid_area": null,
            "grid_auto_columns": null,
            "grid_auto_flow": null,
            "grid_auto_rows": null,
            "grid_column": null,
            "grid_gap": null,
            "grid_row": null,
            "grid_template_areas": null,
            "grid_template_columns": null,
            "grid_template_rows": null,
            "height": null,
            "justify_content": null,
            "justify_items": null,
            "left": null,
            "margin": null,
            "max_height": null,
            "max_width": null,
            "min_height": null,
            "min_width": null,
            "object_fit": null,
            "object_position": null,
            "order": null,
            "overflow": null,
            "overflow_x": null,
            "overflow_y": null,
            "padding": null,
            "right": null,
            "top": null,
            "visibility": null,
            "width": null
          }
        },
        "85c39c5ef0954b06b25bd1660e9fad27": {
          "model_module": "@jupyter-widgets/base",
          "model_name": "LayoutModel",
          "model_module_version": "1.2.0",
          "state": {
            "_model_module": "@jupyter-widgets/base",
            "_model_module_version": "1.2.0",
            "_model_name": "LayoutModel",
            "_view_count": null,
            "_view_module": "@jupyter-widgets/base",
            "_view_module_version": "1.2.0",
            "_view_name": "LayoutView",
            "align_content": null,
            "align_items": null,
            "align_self": null,
            "border": null,
            "bottom": null,
            "display": null,
            "flex": null,
            "flex_flow": null,
            "grid_area": null,
            "grid_auto_columns": null,
            "grid_auto_flow": null,
            "grid_auto_rows": null,
            "grid_column": null,
            "grid_gap": null,
            "grid_row": null,
            "grid_template_areas": null,
            "grid_template_columns": null,
            "grid_template_rows": null,
            "height": null,
            "justify_content": null,
            "justify_items": null,
            "left": null,
            "margin": null,
            "max_height": null,
            "max_width": null,
            "min_height": null,
            "min_width": null,
            "object_fit": null,
            "object_position": null,
            "order": null,
            "overflow": null,
            "overflow_x": null,
            "overflow_y": null,
            "padding": null,
            "right": null,
            "top": null,
            "visibility": null,
            "width": null
          }
        },
        "14c5a63b0221425287f736f0f30448dd": {
          "model_module": "@jupyter-widgets/controls",
          "model_name": "DescriptionStyleModel",
          "model_module_version": "1.5.0",
          "state": {
            "_model_module": "@jupyter-widgets/controls",
            "_model_module_version": "1.5.0",
            "_model_name": "DescriptionStyleModel",
            "_view_count": null,
            "_view_module": "@jupyter-widgets/base",
            "_view_module_version": "1.2.0",
            "_view_name": "StyleView",
            "description_width": ""
          }
        },
        "ee425647ff684fa8852a75ee01869a83": {
          "model_module": "@jupyter-widgets/base",
          "model_name": "LayoutModel",
          "model_module_version": "1.2.0",
          "state": {
            "_model_module": "@jupyter-widgets/base",
            "_model_module_version": "1.2.0",
            "_model_name": "LayoutModel",
            "_view_count": null,
            "_view_module": "@jupyter-widgets/base",
            "_view_module_version": "1.2.0",
            "_view_name": "LayoutView",
            "align_content": null,
            "align_items": null,
            "align_self": null,
            "border": null,
            "bottom": null,
            "display": null,
            "flex": null,
            "flex_flow": null,
            "grid_area": null,
            "grid_auto_columns": null,
            "grid_auto_flow": null,
            "grid_auto_rows": null,
            "grid_column": null,
            "grid_gap": null,
            "grid_row": null,
            "grid_template_areas": null,
            "grid_template_columns": null,
            "grid_template_rows": null,
            "height": null,
            "justify_content": null,
            "justify_items": null,
            "left": null,
            "margin": null,
            "max_height": null,
            "max_width": null,
            "min_height": null,
            "min_width": null,
            "object_fit": null,
            "object_position": null,
            "order": null,
            "overflow": null,
            "overflow_x": null,
            "overflow_y": null,
            "padding": null,
            "right": null,
            "top": null,
            "visibility": null,
            "width": "20px"
          }
        },
        "ee5f093219c8441a98e5594e428b7d3b": {
          "model_module": "@jupyter-widgets/controls",
          "model_name": "ProgressStyleModel",
          "model_module_version": "1.5.0",
          "state": {
            "_model_module": "@jupyter-widgets/controls",
            "_model_module_version": "1.5.0",
            "_model_name": "ProgressStyleModel",
            "_view_count": null,
            "_view_module": "@jupyter-widgets/base",
            "_view_module_version": "1.2.0",
            "_view_name": "StyleView",
            "bar_color": null,
            "description_width": ""
          }
        },
        "52f3b27d96494467b6c99b9cd3437938": {
          "model_module": "@jupyter-widgets/base",
          "model_name": "LayoutModel",
          "model_module_version": "1.2.0",
          "state": {
            "_model_module": "@jupyter-widgets/base",
            "_model_module_version": "1.2.0",
            "_model_name": "LayoutModel",
            "_view_count": null,
            "_view_module": "@jupyter-widgets/base",
            "_view_module_version": "1.2.0",
            "_view_name": "LayoutView",
            "align_content": null,
            "align_items": null,
            "align_self": null,
            "border": null,
            "bottom": null,
            "display": null,
            "flex": null,
            "flex_flow": null,
            "grid_area": null,
            "grid_auto_columns": null,
            "grid_auto_flow": null,
            "grid_auto_rows": null,
            "grid_column": null,
            "grid_gap": null,
            "grid_row": null,
            "grid_template_areas": null,
            "grid_template_columns": null,
            "grid_template_rows": null,
            "height": null,
            "justify_content": null,
            "justify_items": null,
            "left": null,
            "margin": null,
            "max_height": null,
            "max_width": null,
            "min_height": null,
            "min_width": null,
            "object_fit": null,
            "object_position": null,
            "order": null,
            "overflow": null,
            "overflow_x": null,
            "overflow_y": null,
            "padding": null,
            "right": null,
            "top": null,
            "visibility": null,
            "width": null
          }
        },
        "253323a8a6ff4afc9474c68e4e70dd8f": {
          "model_module": "@jupyter-widgets/controls",
          "model_name": "DescriptionStyleModel",
          "model_module_version": "1.5.0",
          "state": {
            "_model_module": "@jupyter-widgets/controls",
            "_model_module_version": "1.5.0",
            "_model_name": "DescriptionStyleModel",
            "_view_count": null,
            "_view_module": "@jupyter-widgets/base",
            "_view_module_version": "1.2.0",
            "_view_name": "StyleView",
            "description_width": ""
          }
        },
        "2affebbf06614a359a4851a6512f4eb2": {
          "model_module": "@jupyter-widgets/controls",
          "model_name": "HBoxModel",
          "model_module_version": "1.5.0",
          "state": {
            "_dom_classes": [],
            "_model_module": "@jupyter-widgets/controls",
            "_model_module_version": "1.5.0",
            "_model_name": "HBoxModel",
            "_view_count": null,
            "_view_module": "@jupyter-widgets/controls",
            "_view_module_version": "1.5.0",
            "_view_name": "HBoxView",
            "box_style": "",
            "children": [
              "IPY_MODEL_547733bb5bba4b43b55cbcb3bec34d40",
              "IPY_MODEL_60fdc6eca9ae443ea51ef1a594002932",
              "IPY_MODEL_6c2632330fce48bb864fd44f08a6a744"
            ],
            "layout": "IPY_MODEL_41f634f5f06f401cbf0b88cd64264dd7"
          }
        },
        "547733bb5bba4b43b55cbcb3bec34d40": {
          "model_module": "@jupyter-widgets/controls",
          "model_name": "HTMLModel",
          "model_module_version": "1.5.0",
          "state": {
            "_dom_classes": [],
            "_model_module": "@jupyter-widgets/controls",
            "_model_module_version": "1.5.0",
            "_model_name": "HTMLModel",
            "_view_count": null,
            "_view_module": "@jupyter-widgets/controls",
            "_view_module_version": "1.5.0",
            "_view_name": "HTMLView",
            "description": "",
            "description_tooltip": null,
            "layout": "IPY_MODEL_2ca2398a0063401da567560323684426",
            "placeholder": "​",
            "style": "IPY_MODEL_e9306f7a320442cab7ad1277a7871992",
            "value": "tokenizer.json: "
          }
        },
        "60fdc6eca9ae443ea51ef1a594002932": {
          "model_module": "@jupyter-widgets/controls",
          "model_name": "FloatProgressModel",
          "model_module_version": "1.5.0",
          "state": {
            "_dom_classes": [],
            "_model_module": "@jupyter-widgets/controls",
            "_model_module_version": "1.5.0",
            "_model_name": "FloatProgressModel",
            "_view_count": null,
            "_view_module": "@jupyter-widgets/controls",
            "_view_module_version": "1.5.0",
            "_view_name": "ProgressView",
            "bar_style": "success",
            "description": "",
            "description_tooltip": null,
            "layout": "IPY_MODEL_7f961b3859564e34890e36c99e2c21ff",
            "max": 1,
            "min": 0,
            "orientation": "horizontal",
            "style": "IPY_MODEL_2d74c1c88b914dc19fbb4f13b6319d45",
            "value": 1
          }
        },
        "6c2632330fce48bb864fd44f08a6a744": {
          "model_module": "@jupyter-widgets/controls",
          "model_name": "HTMLModel",
          "model_module_version": "1.5.0",
          "state": {
            "_dom_classes": [],
            "_model_module": "@jupyter-widgets/controls",
            "_model_module_version": "1.5.0",
            "_model_name": "HTMLModel",
            "_view_count": null,
            "_view_module": "@jupyter-widgets/controls",
            "_view_module_version": "1.5.0",
            "_view_name": "HTMLView",
            "description": "",
            "description_tooltip": null,
            "layout": "IPY_MODEL_8356ffbbc1f34a22bb6278a69f355df9",
            "placeholder": "​",
            "style": "IPY_MODEL_9786037d32184758a5ff19eaa7fedaff",
            "value": " 1.36M/? [00:00&lt;00:00, 30.4MB/s]"
          }
        },
        "41f634f5f06f401cbf0b88cd64264dd7": {
          "model_module": "@jupyter-widgets/base",
          "model_name": "LayoutModel",
          "model_module_version": "1.2.0",
          "state": {
            "_model_module": "@jupyter-widgets/base",
            "_model_module_version": "1.2.0",
            "_model_name": "LayoutModel",
            "_view_count": null,
            "_view_module": "@jupyter-widgets/base",
            "_view_module_version": "1.2.0",
            "_view_name": "LayoutView",
            "align_content": null,
            "align_items": null,
            "align_self": null,
            "border": null,
            "bottom": null,
            "display": null,
            "flex": null,
            "flex_flow": null,
            "grid_area": null,
            "grid_auto_columns": null,
            "grid_auto_flow": null,
            "grid_auto_rows": null,
            "grid_column": null,
            "grid_gap": null,
            "grid_row": null,
            "grid_template_areas": null,
            "grid_template_columns": null,
            "grid_template_rows": null,
            "height": null,
            "justify_content": null,
            "justify_items": null,
            "left": null,
            "margin": null,
            "max_height": null,
            "max_width": null,
            "min_height": null,
            "min_width": null,
            "object_fit": null,
            "object_position": null,
            "order": null,
            "overflow": null,
            "overflow_x": null,
            "overflow_y": null,
            "padding": null,
            "right": null,
            "top": null,
            "visibility": null,
            "width": null
          }
        },
        "2ca2398a0063401da567560323684426": {
          "model_module": "@jupyter-widgets/base",
          "model_name": "LayoutModel",
          "model_module_version": "1.2.0",
          "state": {
            "_model_module": "@jupyter-widgets/base",
            "_model_module_version": "1.2.0",
            "_model_name": "LayoutModel",
            "_view_count": null,
            "_view_module": "@jupyter-widgets/base",
            "_view_module_version": "1.2.0",
            "_view_name": "LayoutView",
            "align_content": null,
            "align_items": null,
            "align_self": null,
            "border": null,
            "bottom": null,
            "display": null,
            "flex": null,
            "flex_flow": null,
            "grid_area": null,
            "grid_auto_columns": null,
            "grid_auto_flow": null,
            "grid_auto_rows": null,
            "grid_column": null,
            "grid_gap": null,
            "grid_row": null,
            "grid_template_areas": null,
            "grid_template_columns": null,
            "grid_template_rows": null,
            "height": null,
            "justify_content": null,
            "justify_items": null,
            "left": null,
            "margin": null,
            "max_height": null,
            "max_width": null,
            "min_height": null,
            "min_width": null,
            "object_fit": null,
            "object_position": null,
            "order": null,
            "overflow": null,
            "overflow_x": null,
            "overflow_y": null,
            "padding": null,
            "right": null,
            "top": null,
            "visibility": null,
            "width": null
          }
        },
        "e9306f7a320442cab7ad1277a7871992": {
          "model_module": "@jupyter-widgets/controls",
          "model_name": "DescriptionStyleModel",
          "model_module_version": "1.5.0",
          "state": {
            "_model_module": "@jupyter-widgets/controls",
            "_model_module_version": "1.5.0",
            "_model_name": "DescriptionStyleModel",
            "_view_count": null,
            "_view_module": "@jupyter-widgets/base",
            "_view_module_version": "1.2.0",
            "_view_name": "StyleView",
            "description_width": ""
          }
        },
        "7f961b3859564e34890e36c99e2c21ff": {
          "model_module": "@jupyter-widgets/base",
          "model_name": "LayoutModel",
          "model_module_version": "1.2.0",
          "state": {
            "_model_module": "@jupyter-widgets/base",
            "_model_module_version": "1.2.0",
            "_model_name": "LayoutModel",
            "_view_count": null,
            "_view_module": "@jupyter-widgets/base",
            "_view_module_version": "1.2.0",
            "_view_name": "LayoutView",
            "align_content": null,
            "align_items": null,
            "align_self": null,
            "border": null,
            "bottom": null,
            "display": null,
            "flex": null,
            "flex_flow": null,
            "grid_area": null,
            "grid_auto_columns": null,
            "grid_auto_flow": null,
            "grid_auto_rows": null,
            "grid_column": null,
            "grid_gap": null,
            "grid_row": null,
            "grid_template_areas": null,
            "grid_template_columns": null,
            "grid_template_rows": null,
            "height": null,
            "justify_content": null,
            "justify_items": null,
            "left": null,
            "margin": null,
            "max_height": null,
            "max_width": null,
            "min_height": null,
            "min_width": null,
            "object_fit": null,
            "object_position": null,
            "order": null,
            "overflow": null,
            "overflow_x": null,
            "overflow_y": null,
            "padding": null,
            "right": null,
            "top": null,
            "visibility": null,
            "width": "20px"
          }
        },
        "2d74c1c88b914dc19fbb4f13b6319d45": {
          "model_module": "@jupyter-widgets/controls",
          "model_name": "ProgressStyleModel",
          "model_module_version": "1.5.0",
          "state": {
            "_model_module": "@jupyter-widgets/controls",
            "_model_module_version": "1.5.0",
            "_model_name": "ProgressStyleModel",
            "_view_count": null,
            "_view_module": "@jupyter-widgets/base",
            "_view_module_version": "1.2.0",
            "_view_name": "StyleView",
            "bar_color": null,
            "description_width": ""
          }
        },
        "8356ffbbc1f34a22bb6278a69f355df9": {
          "model_module": "@jupyter-widgets/base",
          "model_name": "LayoutModel",
          "model_module_version": "1.2.0",
          "state": {
            "_model_module": "@jupyter-widgets/base",
            "_model_module_version": "1.2.0",
            "_model_name": "LayoutModel",
            "_view_count": null,
            "_view_module": "@jupyter-widgets/base",
            "_view_module_version": "1.2.0",
            "_view_name": "LayoutView",
            "align_content": null,
            "align_items": null,
            "align_self": null,
            "border": null,
            "bottom": null,
            "display": null,
            "flex": null,
            "flex_flow": null,
            "grid_area": null,
            "grid_auto_columns": null,
            "grid_auto_flow": null,
            "grid_auto_rows": null,
            "grid_column": null,
            "grid_gap": null,
            "grid_row": null,
            "grid_template_areas": null,
            "grid_template_columns": null,
            "grid_template_rows": null,
            "height": null,
            "justify_content": null,
            "justify_items": null,
            "left": null,
            "margin": null,
            "max_height": null,
            "max_width": null,
            "min_height": null,
            "min_width": null,
            "object_fit": null,
            "object_position": null,
            "order": null,
            "overflow": null,
            "overflow_x": null,
            "overflow_y": null,
            "padding": null,
            "right": null,
            "top": null,
            "visibility": null,
            "width": null
          }
        },
        "9786037d32184758a5ff19eaa7fedaff": {
          "model_module": "@jupyter-widgets/controls",
          "model_name": "DescriptionStyleModel",
          "model_module_version": "1.5.0",
          "state": {
            "_model_module": "@jupyter-widgets/controls",
            "_model_module_version": "1.5.0",
            "_model_name": "DescriptionStyleModel",
            "_view_count": null,
            "_view_module": "@jupyter-widgets/base",
            "_view_module_version": "1.2.0",
            "_view_name": "StyleView",
            "description_width": ""
          }
        }
      }
    }
  },
  "cells": [
    {
      "cell_type": "markdown",
      "source": [
        "#DAY 1\n"
      ],
      "metadata": {
        "id": "BpthQZxf3Ax3"
      }
    },
    {
      "cell_type": "code",
      "execution_count": null,
      "metadata": {
        "id": "Si-KBiEAbMyk"
      },
      "outputs": [],
      "source": [
        "text=\"I love you all and love me too\""
      ]
    },
    {
      "cell_type": "code",
      "source": [
        "print(text)"
      ],
      "metadata": {
        "colab": {
          "base_uri": "https://localhost:8080/"
        },
        "id": "CPirB1qVf0kf",
        "outputId": "f04b3e9e-ec57-4b4d-9675-bca7b1d6ed48"
      },
      "execution_count": null,
      "outputs": [
        {
          "output_type": "stream",
          "name": "stdout",
          "text": [
            "I love you all and love me too\n"
          ]
        }
      ]
    },
    {
      "cell_type": "code",
      "source": [
        "print(\"Length of text:\",len(text))\n"
      ],
      "metadata": {
        "colab": {
          "base_uri": "https://localhost:8080/"
        },
        "id": "M0xhuojbf3Hy",
        "outputId": "e838dba1-bb56-4f08-b22c-3aefe8b47f25"
      },
      "execution_count": null,
      "outputs": [
        {
          "output_type": "stream",
          "name": "stdout",
          "text": [
            "Length of text: 30\n"
          ]
        }
      ]
    },
    {
      "cell_type": "code",
      "source": [
        "print(\"Lowercasse :\",text.lower())"
      ],
      "metadata": {
        "colab": {
          "base_uri": "https://localhost:8080/"
        },
        "id": "UDKMmwpPf9FS",
        "outputId": "15f6c1ce-72e3-46c1-9781-dc851d23ad6c"
      },
      "execution_count": null,
      "outputs": [
        {
          "output_type": "stream",
          "name": "stdout",
          "text": [
            "Lowercasse : i love you all and love me too\n"
          ]
        }
      ]
    },
    {
      "cell_type": "code",
      "source": [
        "words = text.split()\n",
        "print(\"Words:\",words)"
      ],
      "metadata": {
        "colab": {
          "base_uri": "https://localhost:8080/"
        },
        "id": "PcEjkopYgCxs",
        "outputId": "dce65b4e-3f2d-4a54-a5a8-1a971f94c5d7"
      },
      "execution_count": null,
      "outputs": [
        {
          "output_type": "stream",
          "name": "stdout",
          "text": [
            "Words: ['I', 'love', 'you', 'all', 'and', 'love', 'me', 'too']\n"
          ]
        }
      ]
    },
    {
      "cell_type": "code",
      "source": [
        "\n",
        "from collections import Counter\n",
        "word_count = Counter(words)\n",
        "print(\"Word Count:\",word_count)"
      ],
      "metadata": {
        "colab": {
          "base_uri": "https://localhost:8080/"
        },
        "id": "c6j0C9pjikNR",
        "outputId": "591dded5-d24f-4525-8427-c669123eb39a"
      },
      "execution_count": null,
      "outputs": [
        {
          "output_type": "stream",
          "name": "stdout",
          "text": [
            "Word Count: Counter({'love': 2, 'I': 1, 'you': 1, 'all': 1, 'and': 1, 'me': 1, 'too': 1})\n"
          ]
        }
      ]
    },
    {
      "cell_type": "code",
      "source": [
        "import re\n",
        "text2= \"WOW !! SUPER BORING AND NLP is future ....2025 :)\"\n",
        "cleaned=re.sub(r'[^a-zA-Z ]','',text2)\n",
        "print(\"before cleaning : \",text2 )\n",
        "print(\"After cleaning :\",cleaned)"
      ],
      "metadata": {
        "colab": {
          "base_uri": "https://localhost:8080/"
        },
        "id": "IqWXBgOLio8z",
        "outputId": "66c7f6d2-caa5-4180-fa84-130f6606007c"
      },
      "execution_count": null,
      "outputs": [
        {
          "output_type": "stream",
          "name": "stdout",
          "text": [
            "before cleaning :  WOW !! SUPER BORING AND NLP is future ....2025 :)\n",
            "After cleaning : WOW  SUPER BORING AND NLP is future  \n"
          ]
        }
      ]
    },
    {
      "cell_type": "code",
      "source": [
        "#punkt is used for word and sentence tokenization\n",
        "import nltk\n",
        "#to download module\n",
        "nltk.download('punkt')\n",
        "nltk.download(\"punkt_tab\")\n"
      ],
      "metadata": {
        "colab": {
          "base_uri": "https://localhost:8080/"
        },
        "id": "MeS8456qqIbK",
        "outputId": "739676f9-15ff-4eb0-be83-b172bfb73775"
      },
      "execution_count": null,
      "outputs": [
        {
          "output_type": "stream",
          "name": "stderr",
          "text": [
            "[nltk_data] Downloading package punkt to /root/nltk_data...\n",
            "[nltk_data]   Unzipping tokenizers/punkt.zip.\n",
            "[nltk_data] Downloading package punkt_tab to /root/nltk_data...\n",
            "[nltk_data]   Unzipping tokenizers/punkt_tab.zip.\n"
          ]
        },
        {
          "output_type": "execute_result",
          "data": {
            "text/plain": [
              "True"
            ]
          },
          "metadata": {},
          "execution_count": 8
        }
      ]
    },
    {
      "cell_type": "code",
      "source": [
        "#import word_tokenize function for splitting a sentence into words\n",
        "from nltk.tokenize import word_tokenize\n",
        "tokens=word_tokenize(text)\n",
        "print(\"Tokens:\",tokens)\n",
        "print(Counter(tokens))"
      ],
      "metadata": {
        "colab": {
          "base_uri": "https://localhost:8080/"
        },
        "id": "e6mdMYX0uDRl",
        "outputId": "4fe2d87f-e276-4797-8d81-937a9685892a"
      },
      "execution_count": null,
      "outputs": [
        {
          "output_type": "stream",
          "name": "stdout",
          "text": [
            "Tokens: ['I', 'love', 'you', 'all', 'and', 'love', 'me', 'too']\n",
            "Counter({'love': 2, 'I': 1, 'you': 1, 'all': 1, 'and': 1, 'me': 1, 'too': 1})\n"
          ]
        }
      ]
    },
    {
      "cell_type": "code",
      "source": [
        "from nltk.corpus import stopwords\n",
        "nltk.download(\"stopwords\")\n",
        "stop_words=set(stopwords.words('english'))\n",
        "print(\"stopwords sample:\",list(stop_words)[:])"
      ],
      "metadata": {
        "colab": {
          "base_uri": "https://localhost:8080/"
        },
        "id": "vAIvTZDVwrYF",
        "outputId": "29509089-16b5-4621-cd6c-7d3a600b31ce"
      },
      "execution_count": null,
      "outputs": [
        {
          "output_type": "stream",
          "name": "stdout",
          "text": [
            "stopwords sample: [\"we'll\", \"it'd\", 'here', \"she'd\", 'who', 'shan', 'no', \"you've\", \"haven't\", 'under', 'against', 'himself', 'there', 'up', 'weren', 'won', \"you're\", 'such', 'each', 'myself', 'hasn', 'his', \"she's\", \"you'd\", 'wasn', \"needn't\", 'd', 'own', 'how', 'into', 'only', 'don', 'i', \"i'd\", 'until', 'its', \"hadn't\", \"wasn't\", 'all', 'once', \"they're\", 'ourselves', \"it'll\", 'their', 'couldn', 'if', 'yourselves', 'a', \"he'd\", 'our', 'should', 'was', \"we're\", 'when', 'about', 'above', 'does', 'isn', 'it', 'themselves', 'some', 'off', 'shouldn', \"she'll\", 'an', 'down', 'through', 'then', 'further', 'ma', 'my', 'o', 'the', 'had', 'at', \"mightn't\", 'for', 'same', 'why', \"didn't\", \"i'll\", \"they'll\", \"he'll\", 'most', 'what', \"we've\", 'more', 'her', 'to', \"we'd\", \"should've\", 'can', 'am', 'nor', 's', 'because', 'has', 'yourself', \"you'll\", 'any', 'out', 'hers', \"wouldn't\", 'now', \"couldn't\", \"shan't\", \"aren't\", 'yours', \"doesn't\", 'that', \"they've\", 'y', 'and', 'of', \"they'd\", 'been', 'haven', 'on', 't', 'where', 'this', 'from', \"that'll\", 'are', \"it's\", \"won't\", 'after', 'as', \"isn't\", 'which', 'being', 'm', 'have', 'he', 'your', 'mustn', 'needn', 'aren', 'just', 'mightn', 'few', 'before', 'those', 'than', 'herself', 'wouldn', 'him', 'but', 'me', \"don't\", 'did', 'so', 'were', 'by', 'itself', 'll', 'while', \"i've\", 've', \"i'm\", 're', 'with', 'these', 'do', 'ours', 'doesn', 'whom', 'doing', 'too', 'between', 'is', 'theirs', 'we', 'below', \"hasn't\", 'very', \"mustn't\", \"shouldn't\", 'will', 'or', 'she', 'again', \"he's\", 'in', \"weren't\", 'during', 'didn', 'having', 'not', 'both', 'them', 'be', 'you', 'hadn', 'other', 'ain', 'they', 'over']\n"
          ]
        },
        {
          "output_type": "stream",
          "name": "stderr",
          "text": [
            "[nltk_data] Downloading package stopwords to /root/nltk_data...\n",
            "[nltk_data]   Unzipping corpora/stopwords.zip.\n"
          ]
        }
      ]
    },
    {
      "cell_type": "code",
      "source": [
        "filtered_tokens=[ w for w in tokens if w.lower() not in stop_words]\n",
        "print(\"Filtered Tokens:\",filtered_tokens)\n",
        "#"
      ],
      "metadata": {
        "colab": {
          "base_uri": "https://localhost:8080/"
        },
        "id": "9E-MMA0GzU18",
        "outputId": "75cd36d2-2cfe-408f-923a-8932d45cc6a9"
      },
      "execution_count": null,
      "outputs": [
        {
          "output_type": "stream",
          "name": "stdout",
          "text": [
            "Filtered Tokens: ['love', 'love']\n"
          ]
        }
      ]
    },
    {
      "cell_type": "code",
      "source": [
        "from nltk.stem import PorterStemmer\n",
        "Stemmer = PorterStemmer()\n",
        "words = [\"running\",'runs','runner','ran','easily','fairly','better']\n",
        "stemmed_words = [Stemmer.stem(w) for w in words]\n",
        "print(\"Stemmed Words:\",stemmed_words)"
      ],
      "metadata": {
        "colab": {
          "base_uri": "https://localhost:8080/"
        },
        "id": "6WFaM8IL1J96",
        "outputId": "8247662b-a1b5-411d-c00c-3f83d0832aa5"
      },
      "execution_count": null,
      "outputs": [
        {
          "output_type": "stream",
          "name": "stdout",
          "text": [
            "Stemmed Words: ['run', 'run', 'runner', 'ran', 'easili', 'fairli', 'better']\n"
          ]
        }
      ]
    },
    {
      "cell_type": "code",
      "source": [
        "from nltk.stem import WordNetLemmatizer\n",
        "import nltk\n",
        "nltk.download('wordnet')\n",
        "nltk.download('omw-1.4')\n",
        "\n",
        "lemmatizer = WordNetLemmatizer()\n",
        "\n",
        "words_to_lemmatize = [\"running\", \"runs\", \"runner\", \"ran\", \"easily\", \"fairly\", \"better\",\"Went\"]\n",
        "lemmatized_words = [lemmatizer.lemmatize(word,pos=\"v\") for word in words_to_lemmatize]\n",
        "\n",
        "print(\"Original words:\", words_to_lemmatize)\n",
        "print(\"Lemmatized words:\", lemmatized_words)"
      ],
      "metadata": {
        "colab": {
          "base_uri": "https://localhost:8080/"
        },
        "id": "D1D49-zT4Sux",
        "outputId": "6c24671c-479d-4924-87dc-fe529e823a70"
      },
      "execution_count": null,
      "outputs": [
        {
          "output_type": "stream",
          "name": "stderr",
          "text": [
            "[nltk_data] Downloading package wordnet to /root/nltk_data...\n",
            "[nltk_data] Downloading package omw-1.4 to /root/nltk_data...\n"
          ]
        },
        {
          "output_type": "stream",
          "name": "stdout",
          "text": [
            "Original words: ['running', 'runs', 'runner', 'ran', 'easily', 'fairly', 'better', 'Went']\n",
            "Lemmatized words: ['run', 'run', 'runner', 'run', 'easily', 'fairly', 'better', 'Went']\n"
          ]
        }
      ]
    },
    {
      "cell_type": "code",
      "source": [
        "from nltk import pos_tag\n",
        "#nltk.download('averaged_perceptron_tagger')\n",
        "nltk.download('averaged_perceptron_tagger_eng')\n",
        "#ltk.download('tagsets')\n",
        "Ssentence=\"This is wonderfull day\"\n",
        "tokens=word_tokenize(Ssentence)\n",
        "pos_tags=pos_tag(tokens)\n",
        "print(\"POS Tags:\",pos_tags)\n",
        "lemmatized_words = [lemmatizer.lemmatize(tokens,pos=\"v\") for tokens in words_to_lemmatize]\n",
        "print(lemmatized_words)\n",
        "\n"
      ],
      "metadata": {
        "colab": {
          "base_uri": "https://localhost:8080/"
        },
        "id": "IxVmgWNt--wE",
        "outputId": "cd721bcc-84d3-45cc-d9df-f4d86dc52033"
      },
      "execution_count": null,
      "outputs": [
        {
          "output_type": "stream",
          "name": "stderr",
          "text": [
            "[nltk_data] Downloading package averaged_perceptron_tagger_eng to\n",
            "[nltk_data]     /root/nltk_data...\n",
            "[nltk_data]   Unzipping taggers/averaged_perceptron_tagger_eng.zip.\n"
          ]
        },
        {
          "output_type": "stream",
          "name": "stdout",
          "text": [
            "POS Tags: [('This', 'DT'), ('is', 'VBZ'), ('wonderfull', 'JJ'), ('day', 'NN')]\n",
            "['run', 'run', 'runner', 'run', 'easily', 'fairly', 'better', 'Went']\n"
          ]
        }
      ]
    },
    {
      "cell_type": "code",
      "source": [
        "import spacy\n",
        "nlp=spacy.load('en_core_web_sm')\n",
        "text=\"barack obama was born in hawaii and was the 44th president of the united states\"\n",
        "doc=nlp(text)\n",
        "print(\"Named enities:\",[(ent.text,ent.label_)for ent in doc.ents])\n"
      ],
      "metadata": {
        "id": "8Ttsp5gvUis-",
        "colab": {
          "base_uri": "https://localhost:8080/"
        },
        "outputId": "9b90ce3e-8700-460f-c573-12798720a8e2"
      },
      "execution_count": null,
      "outputs": [
        {
          "output_type": "stream",
          "name": "stdout",
          "text": [
            "Named enities: [('barack obama', 'PERSON'), ('hawaii', 'GPE'), ('44th', 'ORDINAL'), ('the united states', 'GPE')]\n"
          ]
        }
      ]
    },
    {
      "cell_type": "markdown",
      "source": [
        "#DAY 2\n"
      ],
      "metadata": {
        "id": "7CJ4mS2W24LW"
      }
    },
    {
      "cell_type": "code",
      "source": [
        "# BOW\n",
        "''' \"ai\" → column 0\n",
        "\n",
        "\"love\" → column 1\n",
        "\n",
        "\"loves\" → column 2\n",
        "\n",
        "\"me\" → column 3 '''\n",
        "from sklearn.feature_extraction.text import CountVectorizer\n",
        "docs=[\" I love AI\", \"AI loves me\",]\n",
        "cv= CountVectorizer()\n",
        "x=cv.fit_transform(docs)\n",
        "print(\"Vocabulary (unique words):\",cv.vocabulary_)\n",
        "print(\"Document term matrix:\\n\",x.toarray())"
      ],
      "metadata": {
        "id": "WHgzl808YMc6",
        "colab": {
          "base_uri": "https://localhost:8080/"
        },
        "outputId": "93990ca5-bd7f-4bee-a3ef-2a447244251e"
      },
      "execution_count": null,
      "outputs": [
        {
          "output_type": "stream",
          "name": "stdout",
          "text": [
            "Vocabulary (unique words): {'love': 1, 'ai': 0, 'loves': 2, 'me': 3}\n",
            "Document term matrix:\n",
            " [[1 1 0 0]\n",
            " [1 0 1 1]]\n"
          ]
        }
      ]
    },
    {
      "cell_type": "code",
      "source": [
        "#TF-IDF\n",
        "#TF-IDF(word,doc)=TF(word,doc)×log(N/df)​\n",
        "#TF(word,doc)=Number of times the word appears in the document​/Total number of words in the document\n",
        "#Eg:\n",
        "#TF(\"AI\", doc) = 1/3 ≈ 0.333\n",
        "#TF(\"loves\", doc) = 1/3 ≈ 0.333\n",
        "#TF(\"me\", doc) = 1/3 ≈ 0.333\n",
        "from sklearn.feature_extraction.text import TfidfVectorizer\n",
        "docs=[\" I love AI\", \"AI loves me\",]\n",
        "tfidf=TfidfVectorizer()\n",
        "x=tfidf.fit_transform(docs)\n",
        "print(\"Vocabulary (unique words):\",tfidf.vocabulary_)\n",
        "print(\"Document term matrix:\\n\",x.toarray())\n"
      ],
      "metadata": {
        "colab": {
          "base_uri": "https://localhost:8080/"
        },
        "id": "4gJy3xCXnT87",
        "outputId": "4996a1c0-cf77-402a-cb26-61b096811cc0"
      },
      "execution_count": null,
      "outputs": [
        {
          "output_type": "stream",
          "name": "stdout",
          "text": [
            "Vocabulary (unique words): {'love': 1, 'ai': 0, 'loves': 2, 'me': 3}\n",
            "Document term matrix:\n",
            " [[0.57973867 0.81480247 0.         0.        ]\n",
            " [0.44943642 0.         0.6316672  0.6316672 ]]\n"
          ]
        }
      ]
    },
    {
      "cell_type": "code",
      "source": [
        "!pip install gensim"
      ],
      "metadata": {
        "colab": {
          "base_uri": "https://localhost:8080/"
        },
        "id": "h-uGDzYX5AYs",
        "outputId": "4675b5c0-b755-47c1-d14e-39c26730d310"
      },
      "execution_count": null,
      "outputs": [
        {
          "output_type": "stream",
          "name": "stdout",
          "text": [
            "Requirement already satisfied: gensim in /usr/local/lib/python3.12/dist-packages (4.3.3)\n",
            "Requirement already satisfied: numpy<2.0,>=1.18.5 in /usr/local/lib/python3.12/dist-packages (from gensim) (1.26.4)\n",
            "Requirement already satisfied: scipy<1.14.0,>=1.7.0 in /usr/local/lib/python3.12/dist-packages (from gensim) (1.13.1)\n",
            "Requirement already satisfied: smart-open>=1.8.1 in /usr/local/lib/python3.12/dist-packages (from gensim) (7.3.0.post1)\n",
            "Requirement already satisfied: wrapt in /usr/local/lib/python3.12/dist-packages (from smart-open>=1.8.1->gensim) (1.17.3)\n"
          ]
        }
      ]
    },
    {
      "cell_type": "code",
      "source": [
        "\n",
        "from gensim.models import Word2Vec\n",
        "sentences =[\n",
        "    [\"dog\",\"bark\"],\n",
        "    [\"cat\",'meow'],\n",
        "    [\"dog\",\"runs\"],\n",
        "    [\"bird\",\"sings\"],\n",
        "    [\"cat\",\"sleeps\"],\n",
        "    [\"bird\",\"flys\"]\n",
        "]\n",
        "model=Word2Vec(sentences,vector_size=10,window=2,min_count=1,workers=2)\n",
        "print(\"vector for dog\",model.wv['dog'])"
      ],
      "metadata": {
        "colab": {
          "base_uri": "https://localhost:8080/"
        },
        "id": "hTc4TlAZ3kIh",
        "outputId": "75456f3c-2e5a-4d0b-8fec-758f328f823c"
      },
      "execution_count": null,
      "outputs": [
        {
          "output_type": "stream",
          "name": "stdout",
          "text": [
            "vector for dog [ 0.07311766  0.05070262  0.06757693  0.00762866  0.06350891 -0.03405366\n",
            " -0.00946401  0.05768573 -0.07521638 -0.03936104]\n"
          ]
        }
      ]
    },
    {
      "cell_type": "code",
      "source": [
        "import gensim.downloader as api\n",
        "model=api.load(\"glove-wiki-gigaword-50\")\n",
        "similar_words=model.most_similar(\"cat\")\n",
        "print(\"Most similar words to 'cat :\",similar_words)\n"
      ],
      "metadata": {
        "colab": {
          "base_uri": "https://localhost:8080/"
        },
        "id": "YMhPrgxi-Ih8",
        "outputId": "c75df27a-299e-45c7-c2d9-c92f6d87f90f"
      },
      "execution_count": null,
      "outputs": [
        {
          "output_type": "stream",
          "name": "stdout",
          "text": [
            "[==================================================] 100.0% 66.0/66.0MB downloaded\n",
            "Most similar words to 'cat : [('dog', 0.9218006134033203), ('rabbit', 0.8487821221351624), ('monkey', 0.8041081428527832), ('rat', 0.7891963124275208), ('cats', 0.7865270972251892), ('snake', 0.7798910737037659), ('dogs', 0.7795814871788025), ('pet', 0.7792249917984009), ('mouse', 0.773166835308075), ('bite', 0.7728800177574158)]\n"
          ]
        }
      ]
    },
    {
      "cell_type": "code",
      "source": [
        "import numpy as np\n",
        "from sklearn.model_selection import train_test_split\n",
        "from sklearn.linear_model import LogisticRegression\n",
        "from sklearn.metrics import accuracy_score\n",
        "x=np.array([[1],[2],[3],[4],[5],[6],[7],[8],[9]])\n",
        "y=np.array([0,0,0,0,1,1,1,1,1])\n",
        "x_train,x_test,y_train,y_test=train_test_split(x,y,test_size=0.3,random_state=42)\n",
        "model=LogisticRegression()\n",
        "print(x_train)\n",
        "print(y_train)\n",
        "model.fit(x_train,y_train)\n",
        "y_pred=model.predict(x_test)\n",
        "accuracy=accuracy_score(y_test,y_pred)\n",
        "print(accuracy)"
      ],
      "metadata": {
        "colab": {
          "base_uri": "https://localhost:8080/"
        },
        "id": "qdBsVlC7ClP7",
        "outputId": "3e052afe-cc90-46d5-9c44-8784ef96bb9d"
      },
      "execution_count": null,
      "outputs": [
        {
          "output_type": "stream",
          "name": "stdout",
          "text": [
            "[[1]\n",
            " [9]\n",
            " [3]\n",
            " [5]\n",
            " [4]\n",
            " [7]]\n",
            "[0 1 0 1 0 1]\n",
            "1.0\n"
          ]
        }
      ]
    },
    {
      "cell_type": "code",
      "source": [
        "import nltk\n",
        "nltk.download('punkt')\n",
        "nltk.download('punkt_tab')\n",
        "!pip install gensim transformers torch nltk -q\n",
        "from gensim.models import Word2Vec\n",
        "from nltk.tokenize import word_tokenize\n",
        "from transformers import BertTokenizer, BertModel\n",
        "import torch\n",
        "sentence1=\"He sat on the bank of the river.\"\n",
        "sentences2=\"I deposited money in the bank.\"\n",
        "sentences=[sentence1,sentences2]\n",
        "tokenized_data=[word_tokenize(sent.lower()) for sent in sentences]\n",
        "w2v_model=Word2Vec(tokenized_data,vector_size=100,window=5,min_count=1,workers=4)\n",
        "print(w2v_model.wv['bank'])\n"
      ],
      "metadata": {
        "colab": {
          "base_uri": "https://localhost:8080/"
        },
        "id": "u5bSDjQ6LKak",
        "outputId": "15015446-b980-43a6-97b4-f968c4c67a9c"
      },
      "execution_count": null,
      "outputs": [
        {
          "output_type": "stream",
          "name": "stderr",
          "text": [
            "[nltk_data] Downloading package punkt to /root/nltk_data...\n",
            "[nltk_data]   Package punkt is already up-to-date!\n",
            "[nltk_data] Downloading package punkt_tab to /root/nltk_data...\n",
            "[nltk_data]   Package punkt_tab is already up-to-date!\n"
          ]
        },
        {
          "output_type": "stream",
          "name": "stdout",
          "text": [
            "[ 9.4563962e-05  3.0773198e-03 -6.8126451e-03 -1.3754654e-03\n",
            "  7.6685809e-03  7.3464094e-03 -3.6732971e-03  2.6427018e-03\n",
            " -8.3171297e-03  6.2054861e-03 -4.6373224e-03 -3.1641065e-03\n",
            "  9.3113566e-03  8.7338570e-04  7.4907029e-03 -6.0740625e-03\n",
            "  5.1605068e-03  9.9228229e-03 -8.4573915e-03 -5.1356913e-03\n",
            " -7.0648370e-03 -4.8626517e-03 -3.7785638e-03 -8.5361991e-03\n",
            "  7.9556061e-03 -4.8439382e-03  8.4236134e-03  5.2625705e-03\n",
            " -6.5500261e-03  3.9578713e-03  5.4701497e-03 -7.4265362e-03\n",
            " -7.4057197e-03 -2.4752307e-03 -8.6257253e-03 -1.5815723e-03\n",
            " -4.0343284e-04  3.2996845e-03  1.4418805e-03 -8.8142155e-04\n",
            " -5.5940580e-03  1.7303658e-03 -8.9737179e-04  6.7936908e-03\n",
            "  3.9735902e-03  4.5294715e-03  1.4343059e-03 -2.6998555e-03\n",
            " -4.3668128e-03 -1.0320747e-03  1.4370275e-03 -2.6460087e-03\n",
            " -7.0737829e-03 -7.8053069e-03 -9.1217868e-03 -5.9351693e-03\n",
            " -1.8474245e-03 -4.3238713e-03 -6.4606704e-03 -3.7173224e-03\n",
            "  4.2891586e-03 -3.7390434e-03  8.3781751e-03  1.5339935e-03\n",
            " -7.2423196e-03  9.4337985e-03  7.6312125e-03  5.4932819e-03\n",
            " -6.8488456e-03  5.8226790e-03  4.0090932e-03  5.1853694e-03\n",
            "  4.2559016e-03  1.9397545e-03 -3.1701624e-03  8.3538452e-03\n",
            "  9.6121803e-03  3.7926030e-03 -2.8369951e-03  7.1275235e-06\n",
            "  1.2188185e-03 -8.4583247e-03 -8.2239453e-03 -2.3101569e-04\n",
            "  1.2372875e-03 -5.7433806e-03 -4.7252737e-03 -7.3460746e-03\n",
            "  8.3286157e-03  1.2129784e-04 -4.5093987e-03  5.7017053e-03\n",
            "  9.1800150e-03 -4.0998720e-03  7.9646818e-03  5.3754342e-03\n",
            "  5.8791232e-03  5.1259040e-04  8.2130842e-03 -7.0190406e-03]\n"
          ]
        }
      ]
    },
    {
      "cell_type": "code",
      "source": [
        "from gensim.models import fasttext\n",
        "sentence=[[\"happy\",\"happiness\",\"unhappy\",\"unhappiness\"]]\n",
        "ft_model=fasttext.FastText(sentence,vector_size=100,window=5,min_count=1,workers=4)\n",
        "print(\"vector for unhappiness:\\n\",ft_model.wv['unhappiness'])\n",
        "print(\"Most similiar to 'unhappiness :\",ft_model.wv.most_similar(\"unhappiness\"))\n",
        "print(\"Most similiar to 'happy :\",ft_model.wv.most_similar(\"happy\"))"
      ],
      "metadata": {
        "colab": {
          "base_uri": "https://localhost:8080/"
        },
        "id": "rxOSFOgpOYxk",
        "outputId": "000f6db7-da3d-47dd-aea7-08724f96bd78"
      },
      "execution_count": null,
      "outputs": [
        {
          "output_type": "stream",
          "name": "stdout",
          "text": [
            "vector for unhappiness:\n",
            " [-1.4853789e-03 -1.1603916e-04 -2.6417556e-04  1.1438081e-03\n",
            " -8.1752997e-04 -5.4228184e-04  1.1870451e-03  3.4255657e-04\n",
            " -8.2351820e-04  2.2573932e-04  9.8163390e-04  3.5353398e-04\n",
            "  9.3867898e-04  1.2089836e-03  4.9651033e-05 -1.1284894e-03\n",
            "  1.3815335e-03  6.9125171e-04  4.9050205e-04 -4.6529397e-04\n",
            "  9.9748909e-04  1.5839431e-04 -1.4485023e-04  5.4476346e-04\n",
            "  2.4787354e-04 -1.0724869e-03 -8.7360683e-04  1.6209706e-04\n",
            " -8.8858698e-04  3.1862097e-04 -2.3912589e-04  1.9212552e-05\n",
            " -3.4380897e-05  7.1254489e-04  1.8871486e-05  3.2873513e-04\n",
            " -1.1267792e-03  5.9013313e-05 -5.4184196e-04  8.1133458e-04\n",
            " -1.3385013e-03  9.0538560e-05 -9.3875977e-04  2.8281425e-05\n",
            " -4.4753894e-04  1.5761622e-03 -1.3700468e-03  3.4709636e-04\n",
            "  3.1044416e-04  1.0422460e-03  1.8874579e-04 -1.1543221e-03\n",
            " -1.4086190e-03 -1.2028741e-03 -8.1470772e-04 -3.7127556e-04\n",
            " -7.9761801e-04 -1.5276838e-03  8.5123332e-04  1.7463227e-04\n",
            "  6.3609367e-04 -9.5208018e-04  5.3143554e-04 -6.4415572e-04\n",
            " -1.1153717e-03  1.3501280e-03 -1.4643796e-03  1.4484806e-03\n",
            " -1.4181433e-03  9.7660301e-04 -4.9502516e-05  4.9274601e-04\n",
            "  3.4747875e-04 -1.3664770e-03  1.6628414e-04  3.0661715e-04\n",
            "  1.8437508e-03  2.8605058e-04 -3.6886381e-04  7.8701251e-04\n",
            " -1.4375478e-03 -2.1015967e-03  2.3758225e-04  1.1913174e-04\n",
            " -4.1113101e-04 -5.0180042e-05 -9.5920684e-04 -9.2991424e-04\n",
            "  3.6925910e-04 -2.0305370e-05 -1.4884006e-03 -1.0531822e-03\n",
            " -3.4296838e-05 -1.6030062e-03 -2.4977329e-03  2.9588988e-04\n",
            " -2.9344298e-04  8.0599514e-04 -6.3236948e-04 -6.0758425e-04]\n",
            "Most similiar to 'unhappiness : [('happiness', 0.7931649684906006), ('unhappy', 0.41798579692840576), ('happy', 0.13856150209903717)]\n",
            "Most similiar to 'happy : [('unhappy', 0.5397574305534363), ('happiness', 0.2657625377178192), ('unhappiness', 0.13856150209903717)]\n"
          ]
        }
      ]
    },
    {
      "cell_type": "markdown",
      "source": [
        "#DAY 3"
      ],
      "metadata": {
        "id": "9EJu0M50_ssP"
      }
    },
    {
      "cell_type": "code",
      "source": [
        "#install gTTs\n",
        "!pip install gTTS pydub -q\n",
        "!pip install SpeechRecognition -q\n",
        "from gtts import gTTS #to generate speech audio from text\n",
        "#help convert audio between formart(mp3,wav)\n",
        "from pydub import AudioSegment\n",
        "#Generate speech audio from text\n",
        "tts=gTTS(\"I LOVE YOU (YOUR LOVER NAME)\",lang='en')\n",
        "tts.save(\"temp.mp3\")\n",
        "#Convert MP3 to WAV\n",
        "sound = AudioSegment.from_mp3(\"temp.mp3\")\n",
        "sound.export(\"output.wav\",format=\"wav\")\n",
        "#speech recognition\n",
        "import speech_recognition as sr\n",
        "r=sr.Recognizer()\n",
        "with sr.AudioFile(\"output.wav\") as source:\n",
        "  audio_data=r.record(source)\n",
        "  text=r.recognize_google(audio_data)\n",
        "  print(\"Recognized text:\",text)\n",
        "from google.colab import files\n",
        "\n",
        "files.download(\"output.wav\")\n",
        "\n"
      ],
      "metadata": {
        "colab": {
          "base_uri": "https://localhost:8080/",
          "height": 34
        },
        "id": "v6GlG2yo_0Fu",
        "outputId": "06cd9e77-46c2-4661-d0e5-7a5ac463dfb2"
      },
      "execution_count": null,
      "outputs": [
        {
          "output_type": "stream",
          "name": "stdout",
          "text": [
            "Recognized text: IAM Shamir\n"
          ]
        },
        {
          "output_type": "display_data",
          "data": {
            "text/plain": [
              "<IPython.core.display.Javascript object>"
            ],
            "application/javascript": [
              "\n",
              "    async function download(id, filename, size) {\n",
              "      if (!google.colab.kernel.accessAllowed) {\n",
              "        return;\n",
              "      }\n",
              "      const div = document.createElement('div');\n",
              "      const label = document.createElement('label');\n",
              "      label.textContent = `Downloading \"${filename}\": `;\n",
              "      div.appendChild(label);\n",
              "      const progress = document.createElement('progress');\n",
              "      progress.max = size;\n",
              "      div.appendChild(progress);\n",
              "      document.body.appendChild(div);\n",
              "\n",
              "      const buffers = [];\n",
              "      let downloaded = 0;\n",
              "\n",
              "      const channel = await google.colab.kernel.comms.open(id);\n",
              "      // Send a message to notify the kernel that we're ready.\n",
              "      channel.send({})\n",
              "\n",
              "      for await (const message of channel.messages) {\n",
              "        // Send a message to notify the kernel that we're ready.\n",
              "        channel.send({})\n",
              "        if (message.buffers) {\n",
              "          for (const buffer of message.buffers) {\n",
              "            buffers.push(buffer);\n",
              "            downloaded += buffer.byteLength;\n",
              "            progress.value = downloaded;\n",
              "          }\n",
              "        }\n",
              "      }\n",
              "      const blob = new Blob(buffers, {type: 'application/binary'});\n",
              "      const a = document.createElement('a');\n",
              "      a.href = window.URL.createObjectURL(blob);\n",
              "      a.download = filename;\n",
              "      div.appendChild(a);\n",
              "      a.click();\n",
              "      div.remove();\n",
              "    }\n",
              "  "
            ]
          },
          "metadata": {}
        },
        {
          "output_type": "display_data",
          "data": {
            "text/plain": [
              "<IPython.core.display.Javascript object>"
            ],
            "application/javascript": [
              "download(\"download_7dd64da0-8adc-4e7c-b2b2-51c0260119aa\", \"output.wav\", 79532)"
            ]
          },
          "metadata": {}
        }
      ]
    },
    {
      "cell_type": "code",
      "source": [
        "# same code for german lang\n",
        "!pip install gTTS pydub SpeechRecognition -q\n",
        "\n",
        "from gtts import gTTS\n",
        "from pydub import AudioSegment\n",
        "import speech_recognition as sr\n",
        "\n",
        "# Generate German speech audio\n",
        "tts = gTTS(\"I love you shameer\", lang='en')\n",
        "tts.save(\"temp.mp3\")\n",
        "\n",
        "# Convert MP3 to WAV\n",
        "sound = AudioSegment.from_mp3(\"temp.mp3\")\n",
        "sound.export(\"output.wav\", format=\"wav\")\n",
        "\n",
        "# Speech recognition\n",
        "r = sr.Recognizer()\n",
        "with sr.AudioFile(\"output.wav\") as source:\n",
        "    audio_data = r.record(source)\n",
        "    # Specify German language\n",
        "    text = r.recognize_google(audio_data)\n",
        "    print(\"Recognized text:\", text)\n",
        "from IPython.display import Audio\n",
        "\n",
        "# Play the generated audio\n",
        "Audio(\"output.wav\")   # or \"temp.mp3\"\n",
        "from google.colab import files\n",
        "\n",
        "files.download(\"output.wav\")\n",
        "\n",
        "\n",
        "\n",
        "\n",
        "\n"
      ],
      "metadata": {
        "colab": {
          "base_uri": "https://localhost:8080/",
          "height": 93
        },
        "id": "BvYfrvDgDcZ5",
        "outputId": "63788d0d-e73a-4d54-ee48-4b85c7af7fe1"
      },
      "execution_count": null,
      "outputs": [
        {
          "output_type": "stream",
          "name": "stdout",
          "text": [
            "Recognized text: I love you Shamir\n"
          ]
        },
        {
          "output_type": "execute_result",
          "data": {
            "text/plain": [
              "<IPython.lib.display.Audio object>"
            ],
            "text/html": [
              "\n",
              "                <audio  controls=\"controls\" >\n",
              "                    <source src=\"data:audio/x-wav;base64,UklGRqQkAQBXQVZFZm10IBAAAAABAAEAwF0AAIC7AAACABAAZGF0YYAkAQAAAAAAAAAAAAAAAAAAAAAAAAAAAAAAAAAAAAAAAAAAAAAAAAAAAAAAAAAAAAAAAAAAAAAAAAAAAAAAAAAAAAAAAAAAAAAAAAAAAAAAAAAAAAAAAAAAAAAAAAAAAAAAAAAAAAAAAAAAAAAAAAAAAAAAAAAAAAAAAAAAAAAAAAAAAAAAAAAAAAAAAAAAAAAAAAAAAAAAAAAAAAAAAAAAAAAAAAAAAAAAAAAAAAAAAAAAAAAAAAAAAAAAAAAAAAAAAAAAAAAAAAAAAAAAAAAAAAAAAAAAAAAAAAAAAAAAAAAAAAAAAAAAAAAAAAAAAAAAAAAAAAAAAAAAAAAAAAAAAAAAAAAAAAAAAAAAAAAAAAAAAAAAAAAAAAAAAAAAAAAAAAAAAAAAAAAAAAAAAAAAAAAAAAAAAAAAAAAAAAAAAAAAAAAAAAAAAAAAAAAAAAAAAAAAAAAAAAAAAAAAAAAAAAAAAAAAAAAAAAAAAAAAAAAAAAAAAAAAAAAAAAAAAAAAAAAAAAAAAAAAAAAAAAAAAAAAAAAAAAAAAAAAAAAAAAAAAAAAAAAAAAAAAAAAAAAAAAAAAAAAAAAAAAAAAAAAAAAAAAAAAAAAAAAAAAAAAAAAAAAAAAAAAAAAAAAAAAAAAAAAAAAAAAAAAAAAAAAAAAAAAAAAAAAAAAAAAAAAAAAAAAAAAAAAAAAAAAAAAAAAAAAAAAAAAAAAAAAAAAAAAAAAAAAAAAAAAAAAAAAAAAAAAAAAAAAAAAAAAAAAAAAAAAAAAAAAAAAAAAAAAAAAAAAAAAAAAAAAAAAAAAAAAAAAAAAAAAAAAAAAAAAAAAAAAAAAAAAAAAAAAAAAAAAAAAAAAAAAAAAAAAAAAAAAAAAAAAAAAAAAAAAAAAAAAAAAAAAAAAAAAAAAAAAAAAAAAAAAAAAAAAAAAAAAAAAAAAAAAAAAAAAAAAAAAAAAAAAAAAAAAAAAAAAAAAAAAAAAAAAAAAAAAAAAAAAAAAAAAAAAAAAAAAAAAAAAAAAAAAAAAAAAAAAAAAAAAAAAAAAAAAAAAAAAAAAAAAAAAAAAAAAAAAAAAAAAAAAAAAAAAAAAAAAAAAAAAAAAAAAAAAAAAAAAAAAAAAAAAAAAAAAAAAAAAAAAAAAAAAAAAAAAAAAAAAAAAAAAAAAAAAAAAAAAAAAAAAAAAAAAAAAAAAAAAAAAAAAAAAAAAAAAAAAAAAAAAAAAAAAAAAAAAAAAAAAAAAAAAAAAAAAAAAAAAAAAAAAAAAAAAAAAAAAAAAAAAAAAAAAAAAAAAAAAAAAAAAAAAAAAAAAAAAAAAAAAAAAAAAAAAAAAAAAAAAAAAAAAAAAAAAAAAAAAAAAAAAAAAAAAAAAAAAAAAAAAAAAAAAAAAAAAAAAAAAAAAAAAAAAAAAAAAAAAAAAAAAAAAAAAAAAAAAAAAAAAAAAAAAAAAAAAAAAAAAAAAAAAAAAAAAAAAAAAAAAAAAAAAAAAAAAAAAAAAAAAAAAAAAAAAAAAAAAAAAAAAAAAAAAAAAAAAAAAAAAAAAAAAAAAAAAAAAAAAAAAAAAAAAAAAAAAAAAAAAAAAAAAAAAAAAAAAAAAAAAAAAAAAAAAAAAAAAAAAAAAAAAAAAAAAAAAAAAAAAAAAAAAAAAAAAAAAAAAAAAAAAAAAAAAAAAAAAAAAAAAAAAAAAAAAAAAAAAAAAAAAAAAAAAAAAAAAAAAAAAAAAAAAAAAAAAAAAAAAAAAAAAAAAAAAAAAAAAAAAAAAAAAAAAAAAAAAAAAAAAAAAAAAAAAAAAAAAAAAAAAAAAAAAAAAAAAAAAAAAAAAAAAAAAAAAAAAAAAAAAAAAAAAAAAAAAAAAAAAAAAAAAAAAAAAAAAAAAAAAAAAAAAAAAAAAAAAAAAAAAAAAAAAAAAAAAAAAAAAAAAAAAAAAAAAAAAAAAAAAAAAAAAAAAAAAAAAAAAAAAAAAAAAAAAAAAAAAAAAAAAAAAAAAAAAAAAAAAAAAAAAAAAAAAAAAAAAAAAAAAAAAAAAAAAAAAAAAAAAAAAAAAAAAAAAAAAAAAAAAAAAAAAAAAAAAAAAAAAAAAAAAAAAAAAAAAAAAAAAAAAAAAAAAAAAAAAAAAAAAAAAAAAAAAAAAAAAAAAAAAAAAAAAAAAAAAAAAAAAAAAAAAAAAAAAAAAAAAAAAAAAAAAAAAAAAAAAAAAAAAAAAAAAAAAAAAAAAAAAAAAAAAAAAAAAAAAAAAAAAAAAAAAAAAAAAAAAAAAAAAAAAAAAAAAAAAAAAAAAAAAAAAAAAAAAAAAAAAAAAAAAAAAAAAAAAAAAAAAAAAAAAAAAAAAAAAAAAAAAAAAAAAAAAAAAAAAAAAAAAAAAAAAAAAAAAAAAAAAAAAAAAAAAAAAAAAAAAAAAAAAAAAAAAAAAAAAAAAAAAAAAAAAAAAAAAAAAAAAAAAAAAAAAAAAAAAAAAAAAAAAAAAAAAAAAAAAAAAAAAAAAAAAAAAAAAAAAAAAAAAAAAAAAAAAAAAAAAAAAAAAAAAAAAAAAAAAAAAAAAAAAAAAAAAAAAAAAAAAAAAAAAAAAAAAAAAAAAAAAAAAAAAAAAAAAAAAAAAAAAAAAAAAAAAAAAAAAAAAAAAAAAAAAAAAAAAAAAAAAAAAAAAAAAAAAAAAAAAAAAAAAAAAAAAAAAAAAAAAAAAAAAAAAAAAAAAAAAAAAAAAAAAAAAAAAAAAAAAAAAAAAAAAAAAAAAAAAAAAAAAAAAAAAAAAAAAAAAAAAAAAAAAAAAAAAAAAAAAAAAAAAAAAAAAAAAAAAAAAAAAAAAAAAAAAAAAAAAAAAAAAAAAAAAAAAAAAAAAAAAAAAAAAAAAAAAAAAAAAAAAAAAAAAAAAAAAAAAAAAAAAAAAAAAAAAAAAAAAAAAAAAAABAAAAAAAAAAAAAAAAAAAAAAAAAAAAAAAAAAAAAAAAAAAAAAAAAAAAAAAAAAAAAAAAAAAAAAAAAAAAAAAAAAAAAAAAAAAAAAAAAAEAAAAAAAAAAAAAAAAAAAAAAAAAAAAAAAAAAAAAAAAAAAAAAAAAAAAAAAAAAAAAAAAAAAAAAAAAAQAAAAAAAAAAAAAAAAAAAAAAAAAAAAAAAAAAAAAAAAAAAAAAAAAAAAAAAAAAAAAAAAAAAAAAAAAAAAAAAAAAAAAAAAAAAAAAAAAAAAAAAAAAAAAAAAAAAAAAAAAAAAAAAAAAAAAAAAAAAAAAAAAAAAAAAAAAAAAAAAAAAAAAAAAAAAAAAAAAAAAAAAAAAAAAAAAAAAAAAAAAAAAAAAAAAAAAAAAAAAAAAAAAAAAAAAAAAAAAAAAAAAAAAAAAAAEAAAAAAAAAAAAAAAAAAAAAAAAAAAAAAAAA//8AAAAAAAAAAAAAAAAAAAAAAAAAAAAAAAD//wAA/////wAAAAAAAAAAAAAAAAAAAAAAAAAAAAABAAAAAAAAAAAAAAAAAAAAAAAAAAAAAAAAAAAAAAAAAAAAAAAAAAAAAAAAAAAAAAAAAAAAAAAAAAAAAAAAAAAAAAAAAAAAAAAAAAAAAAABAAEAAAABAAEAAQABAAAAAAAAAAAAAAAAAAAAAAAAAAEAAAAAAAAAAAAAAAAAAAAAAAAAAAAAAAAAAAAAAAAAAAAAAAAAAAAAAAAAAAAAAAAAAAAAAAAAAAD//wAAAAAAAAAAAAAAAAAAAQAAAAEAAAAAAAAAAAAAAAAAAAAAAAAAAAAAAAAAAAAAAAAAAAAAAAAAAAAAAAAAAAAAAAAAAAAAAP//////////AAD//wAAAAAAAAAAAAAAAAAAAAAAAAAAAAAAAAAAAAAAAAAAAAAAAAAAAAAAAAAAAAAAAAAAAAABAAEAAQABAAEAAAAAAAEAAAAAAP///////wAA////////////////AAD/////AAAAAAAAAAAAAAAAAAAAAAAAAAAAAP//AAD//wAAAAAAAAEAAAAAAAAAAAAAAAAAAAAAAAAA/////wAAAAD//wAAAAD//wAAAAAAAAAAAAD//wEAAQAAAAAAAAAAAAAAAQAAAAAAAAD//wAAAQAAAAAAAQD/////AAAAAAAAAAAAAP//AAAAAAAAAAAAAAAAAAABAAAA////////AAAAAAEAAAD///////8AAAAA/////wAA///+////AAD//wAAAAD//wAAAAAAAAAAAQAAAAEAAQAAAAAAAAAAAP//AAD//wAA/v8AAAAAAQABAAAAAgAAAAEA//8AAAAA/////////////wAAAQAAAAAA//8AAAIA/////wAA////////AAD+/////f///wEAAAD9////AQD//wAA//8AAP7//v/9////AAD+//////////7//v8AAP/////9//7/AAD+//7//f///////v8AAP7////+/wEAAwADAAEAAAACAAIAAQD//wAAAAAAAP///////wAAAgAGAAYAAwAAAAAAAgADAAEA//8FAAMAAgAEAAMA+v8CAB4AJwAjAB4AHAAXABMADQAEAAEAAAD8//n/+P/2//L/7//y//T/8//w//L/9//5//r//f8DAAcABwAJAA0ADQALAAoACwALAAYABAAFAAcABQADAAUABgAFAAIABAAFAAIAAAAAAAIAAgAAAAAAAgAEAAIAAQAEAAQAAQAAAAUABgADAAEAAgAFAAQAAgAEAAYABAACAAIABQAEAAEAAQAEAAMA/////wEAAQD/////AAABAAAAAAADAAUABQAFAAYABwAFAAIAAAAAAP///P/7//z/+v/2//b/+v/8//j/9f/3//b/8f/t//D/8P/u/+3/8f/z//H/8v/1//f/9P/z//P/8v/w/+//7f/q/+j/5//n/+f/6f/q/+v/7v/y//H/6//p/+z/7f/r/+z/7f/n/+P/6f/x/+7/6v/w//j/9P/u//H/9P/t/+b/6f/v/+3/6f/q/+v/6P/o/+7/8f/y//b/+v/7//7/AwAAAPb/8//3//b/7//v//X/8//t//H/+f/1/+//9P/6//L/6v/x//3//f/9/wUACgAGAAQACgAKAAQAAgAGAAUAAAABAAMA/f/3//v/AAD///7/BQALAAgABQALAA4ACgAGAAYACQASABsAHAATAA4AEwAXABUAFgAYABMACgAIAAwACQAFAAsAFwAdABoAFgATAA0ACAAHAAgABwADAAEAAgAFAAoACQACAAEACQAKAAAA+v/+/wMABAAEAAIA///9/wcAFQASAA8AGgAjACAAEAAHABYAHQAXABYADgAFAAEA/P8CAAgABwAMAA0ACwAMAAoACgASABUACwD///z///8HABYAHwAiAB4AEwAYAB4AGgAdAB8AIAAfABsAKwBAAEsAYAB7AJQAlwB5AFMAMwAlACMAGgAYABUADwAZACAAKwBIAGcAewBzAFIAIQDb/53/jP+Z/5v/gv9n/17/cP+Y/8z/AQAqAEQAVABUAFQAZgCMALAAyQDiAOMA1gDUANMA2QDiAOYA5QDGAKEAgQBdAGAAiQDFAAcBJQE5AV8BjwHbAUsC0QIfA9gCIAI+AUAAMf9M/rv9W/0c/QX9D/1G/aH9Kf7q/p//FAAsAN//Z//1/o7+Jf63/VH95/xv/P77x/vB+6j7mfuf+3z7LvvH+oH6cvpA+u75t/mf+YD5P/lE+av55vnl+fL5D/oO+un5GPq8+lX7MfxX/h4CigYCChQMug15D4YQ+g/hDQsLMAgDBfoA1fzK+Sv4vPcw+ML5o/yp/yUCwASTB0UKEAwyDIoLvgpmCZcHXgVYA1ECwQE5AcQAXQBqAM8ALwGNAa4BjAFNAdQATwA/AN8AxQFoAvUCswNrBLQEdwQSBPAD2gMnA84BYgB0/0b/Uf8//5D/TgDyABsB7AAAAVABYAEiAbkAawA4AMv/Wf9u/wgAfwByAD8ASgBCAMv/bP9t/1b/H//h/rH+zP4O/3b/5P8ZAGEAcwACAHX/1/5I/sn9Jf3F/HP82vuN+4b7QPvU+of6Rfqv+ZT4Pvf79aL0FvOo8arwG/Cx75nvUfBr8Z3yG/Sa9V73S/o+/3sGxg2lEjUVoBaQFw8X5RM2D2YKZwWP/8D4FPNV8ILv3O/e8aD1jPru/ukB0gRUCEwLegzTC8oKBwqTCFEGSwR9A60DWgODAh8CsgHuACwAcP/o/jX+Ev06/O77CPyD/Fn9u/5hAOkBbgOiBGUFDQaIBg8HngdwB8AGYAZlBnYGDwZrBVMFfwX1BGEDjQFzAJL/Qf4A/Uz8Tfyf/Kv8B/0g/lT/XQBiAVYC5AK/AjoCtAEbAVoAdP/c/sr+rf6N/rv+zP6j/nL+N/7R/bf86PpN+Tj4B/c19WfznvJf8s3xH/HH8PbwKfHB8GLwZ/AA8O7uiu0+7LXrFe368aj6GQXGDkUWxxuDH2cgHB6hGckTGA1aBW/87vO37afq8epD7hf0PvsAAnQHhwuFDlUQPxCnDpkMDwr6BqsDsAAh/07/kwBVAuMD2AQxBd0E5wNVAoIA9v6E/U38yPvf+8L8hv6lAOYC4wQmBt0GCgeaBtMF+gRNBNMD2gPKBCIGeAf+CIgK2wtwDLYLMAolCEEF/QEO/7X85fqT+TH53/kq+7j8Kf58/78AdAGWAS0B5f9r/nT90fxg/BT8EPx//Pf8Mf0n/cH84Ps3+gP4m/WT8ifvT+xj6knpM+ig5rflVObJ5yrpherH7LTvAPJu9ED6pwW9E10egCM7Jm8oIyizIoUZFxFqCmMCofcY7bPmAuVF5gTqtfCG+eUBoAeHCz8PaBI0FF4UNhNpEcQOMguSB+IEqAN6A1wDZQIaADr9/fqb+Rj5SPmA+QL6L/sK/bH/egL/BJ4HVgonDMcLRgkzBgoEQgODA/cDkASiBfYGdQjICZcKcAtfDHsMAwvbB6cDgP9f/Kn6K/od+h36K/qW+of7b/x6/dv+6f80ALn/lf6f/V39mv1D/uT+/P5C/pv8ePoT+L71AvRz8tLwye4E7JXpmejQ6FLpXOnf6KjoZuiX50Lm+uQa5evnne/q/NQM0xvcJ50wYDYKN58w/yQgGDEMWABZ8zHnht+p3ZzgR+bv7oX6ggWEDWESrhQAFRUTyw+eDZYMxgr5BykGoAYJCJwI7QguCdIH8gMd/vn4dPWg8ofxrfMg+OD88QC3BPUIqwxiDj0OIQ3GCqAGdAFG/S/7l/uB/usCHAi9DJgP1xAcESEQrw0MCqYFHQHt/FP5jfah9QP3DPq1/SkBZgOMBOEE9AMkAp3/nvwF+kf4//Zb9pv29fcW+ib8Ov2J/C/6qPZm8lrurOtT6Qrn5OXT5V3mduaV5ePk8+Td5FPkj+NQ41nk9uho9IoGNRpEKkA1QjyIP1k7Bi8KHwkQAgMH9jnpet8D2+zbNuEj6q/1HwH6CZMPchLCEmURJQ9VDRsNuA3dDsQPUhA9EI0PxA6YDL8H1gBo+bnyxe3d6j3qmez98T75PAERCMkMQw9KEHgQoA6PCukExP8P/Vf9rv9KAwkIJQ2AEaMT9BI5EJ4MyAgTBWcB+/2/+j/4ePcB+Sj8Tv8sArUETwYQBiME+wC2/fr6Avko+Cz4CvmB+mX8+v2i/gP+n/yk+vj3w/TB8MbsrOlB5yXmhOYC51Dn7+YU5jrlceSy4p/f29x+2xPcv97+5Qb0uggPIEYzrD+jRe1EZD0vMPAf6w8QAjv2uesg5G7goeAo5BrrvfT+/ZoE4QYBB4QHMAjMCDAKkw3DEroXlBqJG0UbuRmKFrgROguNApz39e30587lX+f66ufwr/gFAEAFmQjVCo8MDg3IC3cJXQaCA/QBMgLsBLcJdw66EkgVvhRoEZQMIwieBMkBCP9W/Dj6fvnj+Wf7CP4QAXsDqASPBEIDlgHO/3/+rf1C/bv8IvzF+3n7hvtW+4v6qPlv+Of1hvLK7p/rqOkd6afpZuqI6njp+ecO5q7jeOBM3fDa19g719vWi9h03hvry/4VF2cuZD8fSL5JwEO/NuIlMhVACBL+S/Wv7hPrzemV6rztbvO/+YH9L/7T/M/6Svqh+8j/fQg7Ek0b5SILJ4cn4CPuHJ0UtQvEAcj39e6B6Wrob+oh76j0avkl/m0BngK1AuYBzwHcAZYBfAHpAn0GBQvDD4wUrhkfHQMdJRmSEzAO1gikA1v/aPyX+lj5pvht+ND4W/ow/Gf+FwDKABUBuwFAA78E8QWyBqoGNgUNAxkAovzw+Pr01vF277TtV+yG67freew67dHtJO1866jp5OdP5pHkheKw4Oren9x02vXXLdcG2eDeyOrD+v4NmiFoMik/t0TEQUo5lC2qILIUKQoiAnD8RffB84rxpfA58gnzmvRV9p/1TPRA8730c/q1AoMLKBXYHX0jWyUQI6oekxjrEHQJ6gHD+1r3F/TX89n1vPgr++X88vxv+435Zfff9gD41/lm/JwAywW4CtgPKRVtGpceOyDRHpMaSBXFDyoK6wXMAnAAhv57/K751vbj9M/zn/RW9qH4Y/u5/ioC3wRGB9oI0gk0CfcGRANQ/i75s/N+78ntee3+7YfuoO4y7q/sFurU5l/kAeMO46riK+Hl3p3bytkg2L3WFdcV2fzc4ONm8HoCvhcWLCA7bkSxR/NCkDYIJ3MZEg/KB8sB1P14+9L41vbX9D30NfT58gXxQu9U7ljv3/NK+6kFFhG0GgAiTyWBI5ke7BdBEY4LBQbFAf3/iv+M/+3/0v/g/23+iPt7+Fv0/fBS74bvJfIX9mj6PgCcBmkMMxF7FF4YlhsRHIsbNhrOGI0X0hR6ERANYQf2AMb6yfWa8pHwse9W8cTzVPdo++3+DgInBDoFKAX/AyMCLAAx/57+hv11+734xfa19MDy1+/66x7oJ+T34BnfXN7o3uDg5+Eu4THfVdv61sLTE9GZ0bLVf90r6jL7QA/nIqUyCjwtQI09ZTVHKtQewhaIEvwPHg75DFYKBAad/xH5oPOU7nTqbegw6M3pZe6m9Yn/BAquEswYyRvZGt8WeRE1De4KMgpSC1kNMA/2D5wOCwujBpQBp/sr9jjyyu9Z723wIPNl9kz5QPzN/noB6wNFBzELvw+pFKkYUhyMHpcfkB5eG4QWaRBoCRkCwvsc9zb1yPTI9TH3P/jf+Pb4gfhQ+G/4jfjO+df60fyp/jgAtQHFAb4AvP5K+8D2XPIW7kfrB+mU5/3mDuZR5M3hvd7D2mHVg89Vy4fJPcqMzQrUS91O6TT4aQk6GkkoCjHaNZY3HjW9LxMniiAlHnAcJhq1F5kTxA2qBc776vOI7Qzpf+fm6Ers/PCm9Yf73AFaB8gLRw73D3YPRg6MDdoN4A8HErgTLhWWFXETQQ8fCu8EJgCT+wr4nPU29B70GPSC89byPvO29G329fhB/XkDSQuREmYYJB3qHx4gNB4zG7YXsRPbDk8KswatA4QApP09+2D5pPcX9hz1mvTX9Bn17PUP94X4UvoY/DP9A/4z/rL9XPwq+rP4Evfm9Ovxdu8U7dvqUug65XfimN5J2YvSUs0Nyp/IbclUzCbSm9nn4WDt9vvvC5IbjyYHLpgylTHZLIQoayWYJOAkjyPeIdcdjRaSDf4Djft19TvxJe/W7jfvtO+C8Zb1J/oK/5cC/QTmBs4HyAcWCXELOg0mEHETmBa2FxgWTRP9EIINGQmGBOb/N/2F+xP6LPh69lb0xfI88nfy6/Pd9jP81AKXCd8OcxJrFbcXdRhqGMkX+RaBFewSRhBuDUAKTweHBI8BpP6S+074yvWA9FXz/PJl8yz0x/St9cH2nveQ+Mz49fhm+Mv3OPdO9pT16PSh823xBu7p6f7kDd+o2c7Uv9FC0AvPjc6Gz9jR89Sx2PveMutp/NMNuxotIyQpnCsRKsEm3yQsJksoKSlpKS0m8h82GHEP3wiYAwP+Nvmg9gb1AfSM8qfygfU6+C/6mPsI/Q3+bv8mAYIEBQh4C+QOqBHgExgUJRPlEZYQBw7ACyIJMQbKA2wBD/90/F75R/ZD9JfzFfT59Lz31PylAuIGAwoLDekP+BE5EwcUShRvFBUUzBKOEXQQlw1uCuIHqAXiAr//Pv24+9360/ih9gn1JvSK81jyTPIM823zjfOA80vzw/L98YLxX/ET8RzxXe+j7J3pH+XH33TbLNiY1R7Vz9S91VXWiNbf1xndd+cm9WMEohAoGoYgqCIYIawfjR5oINIkhiaXJy8nWCNzHdQXTxGZDGUHSwGn/Vj6bPdv9fb1//cm+4D8i/vQ+jX6Efo4+779TgGcBUYJAwwFDukOrw4bDwAQDxA8DmULeAnRCJUHGgVTArIAR/97/Ff5TvYR9mH43Psq/+wChwbRCJsKUQvcCwENeQ4fEAQSRRKeEdYQ1Q+cDr4MnAkVB1wFeQNHAcP+sfyc+lj5UPdf9fnz2vJ58ivyrvGq8QHxYPAK8GrvAu/e7Wnt6+yA7Grq5uaF4xHguNvl2DXXF9ZV1zzYqtlP29/cQeHQ68v4PAaWEJsWNhwKH8IehhxKHNQf0yOuJR8l2CPwIaMdXBjNE3EPpwr+BUQB+/2I+0v5vfjx+a/7PfwI+0T42/f196r4nfrl/GIAogSZB3sJbAvrCxkNmg2qDN8LSQuQCh0KHglACMcGSgTWAaj/Vf1j+9b6sPuL/lgBEAPfA0sFvgYoCQoKRQupDMIMUg0/DeENDg5GDmUNHw1+CysJmgZ0BCEDiQGd/8j8g/rx9xj2jPN48kHyOvKk8c3wXfBY78DtM+xm7HLtJ+1e60fpaOYR5JHgZdye2WrZgtg52aLautmy2kXbGN4/6cP14f8cCngQsxUjGQkZOhirGx0eSyAYIwsjUCPgIRIfjhu/GaoUXA9+Ca4E9wHk/xH+VP1h/zv+Qf3++AL39fV19dH2w/dh+9T9iAAEAsYDngXSBw0JXgm7CQYJhglWCr8LOQy4C/4Jrwh6B5YDPwBY/pb+/P8BAT4B9wLgBK8FgwbdBT8G6AacB1UIhwnwCiMMGA29DTANsgtJCW4HTgeCBoAFkQNWAvQAAP+J+wf5qvdP9x33BfZw9H7yuPAc75juBO027RHs0uyf7Dzr0Oh85dTj8OBx3uraRdl/2NHZnNmA2ivaB9oC3xrn9/LI/Q4GrgxlE6cW+ReyGF8a6h2CISsjMyTNJIQkFSOqIJgdYhmoE2YNUAmpBYUD+gBdAAwAuP8J/WX5vfZ/9B/0e/Pr83303/bt+AL8rf58AVQDEgWhBZAFmwZjB7kJdgtyDSMO9g7iDRUMAgqnCNIFoATEBDUEAAb/BWoGXwcGCGcHaAdtBtoF6gV/BrEGCQhVCQQJZgqvCXsIZwb6AwMD3wKcAX4AV/9Z/tD8kPuA+r75nfjE9tn1xfPG8gHxbvCG8EXxYfAT7knrmemj6BrmnuLp3Wjcbdks2erZC9pZ2ubZrNkf3BTjgOkx9ND9uAQrDCwQnhGjFR8ZdBsGIKEhYCLWI7kimyIAJMUi/B+SHGQXZBHWDP0HdAVhBOUCawH//hH8m/iT9o/09/Mx85/y7PGF8hb1Wffw+jX+HwGLAsQClQKNBFUHiQmlC30MVA0/DsMNrAwXDLALdgvyCpMJJAhoCHEHygeOCEoIxAiYCBYIEgdZBrEEXgSoBQcGTwY0BtQEEQX2BGgDsAINAbT/i/5H/W781fvB+6f7vPub+ub4Y/e19R/1dPN68RTwpu/n75zveu1d63Tq2ui25fjgXdxx2X/ZYtjM2AvYSNde2FHaBOAN6E3y4/khAlsI9QzVELYS0BXJGrcewh/xIbYitSTYJgInzCbKJFMgLhpGFfIQ4gwUCkUHrAV4BG8BR/3N+rX4jfaX9GXx/O/u7v7uMPA+89X2W/lq+zz9tv7k/1oBnwKlBZEHPgmzCj0MYQ6xD0QQ6A/SDnUOjg3QDOwMKQzJDFAM5wvqCw8LLwppCTwIDwekBecDvwJLAj0CAQI3AugB4AF8AZD/tv1d/ET7fvpx+Xz5pPm2+Z359fk++pf50/eP9Wb0SvOQ8g3xt+/e7mPu7+x26ljmruOA4DDdfNu/2PfXWtfd1sbXi9qS3jjmrO2O9cH7EwHyBWwJ6g50ElMWlBlLHEUfeCKdI/0lqyc3KPMmYSPkHgcanRcOFP0R3w6bC4MI0AUBA7v/nfxv+b/2cfTl8K/tAu1y7SXwq/Ei8wb0vvXE9+/5wvwi/zwBJAMZBAcGsghSCokNbQ9eEbIRNxEsEb8RthKaEhUSMREsEDoPpA7rDfAMigzwCpAIXgb2Am8B0f8jABIAbv98/kf9/vxi/HT7LPq5+U74u/eR9rT2/faI+Ln58vmN+Uv40fZv9Qr15vMd8z3xlu8/7hbtxOka6EPlj+M64WzdndoJ2C3YI9fl2BDau99L51vuvvWw+wQB5gVKChQN7hBMEhIVOhhFG58e1CD7I6Am4CeGJzwkECHZHWsahhfYE2QQkA0vC3sIFgdrBLUBcP7h+u/2xvJi7yPtIO1V7dLtqO6I8IXybvW098353vs1/aj+ZAAJAoQEHQfECasMew6iEGES5BO5FA4VrhTSFE0UvRPpEsoRYRGuEAgQVQ3lCksIrQVMBEYBJv8g/rD8jfyd+7b6EfrM+c74dvcd9qL0dPR/9CH1svWA9qr2d/fh93T3rvaW9VD0L/Me8Yvu+ewM697pSuhj5ljk5uFK38bdg9u02rbZZtkd3kzjE+q98ML1evuVAcAFxgjlC3YOJxHLE7cVzheGG54fLCJ0JVQm/yQjJHUhKB/uHPgYoBRUEnYPAg2JCvUHPAZZBPYAZ/x++KH0//Ha70Pu3uzR7MTsXe6V8C/zVfUU93T5GPuU/EP9Xv+nAa8FlQeHCUEMrw6ZEb8TaBXSFeoWgRbkFYYV6RT6EyAU+xJKEW8P1wyqCrYIlQZDAzUB0f4w/RP8hPpy+db43/fV9nj1RvTA86/zCvTq8xP0/PNR9C/1GvY89hj2cvUn9CLzyvFU8F/vwO0V7Bvq8+fV5XfjwuKX4G/e8twy2xHcbN+N43TppO9i9Jr5jP7NAqEGNAr4C88NLBC4EQUUUxe4GssevCLnI80kgyTXIkwh6h7xG1UYJRUAEp4PFA7gC/4JewjqBVsCJf5J+d31bvPH8Hzur+wf7N3ssO7i8ObyKfUE90/4jPka+ib7LP1o/ykC2gTlBtAJRQ2cEJoT0hTSFR0WKhYPFkIVPRV0FMkTCBNkEeUPCQ6GDJIKJgiuBXkC2P+m/fT75/ro+Wb4FPch9ur0hfQ59NzzV/PT8mTyDfJs8rvycvMe9PvzZPN+8oTxDPE/8PvuTu3b6gLpzuYm5QTkWeJY4cPfd94Q38ngl+QO6nXuF/PJ9zf7AAAhBIoGiwkLC9kMTQ/0EJwTshYUGmsduh9PIV8iJiIkIvEgYh6nG9MXBxXnEmgQlA6pDKEKKQmIBiwDj//V+6H4xvVd8sbvB+557WPuKu/48EXyyPOw9Wv3PvhM+Qb6/Pp8/df+6ACLA98GYArSDWQQFRIZFEwVAhYfFmUVhBTRE4UTvhKzEaUQBQ8iDqsMxgo2CG8FPwPtAFj+jPuA+eL3tva+9e305PS99Cf01vNu87ry4vHQ8fjw5PCX8I7vhe8874bvou9Z7ynuQO3I6/fpDegh5rPk0+KG4Y3gvd+N4KXiNOaE627vx/NT+Gz8swBPBFYGNgj5CQML4wx3Du4QAxSyF6IaMB2KH/4gtyExIrkhlB9pHe8Z/xYLFVoS7Q9cDoAMQgtSCRoGUQNUAJj9a/rZ9r7zMvF777vuqu5m71jwWfEE88/0hfYZ+BD5SfqW+3P8zv1Q/50BmwREB0UK6gyAD1oSXxT9FckWwBYiFq8VrhQaE70R8w+eDvgNaQyECm8JUwewBdADzQBK/nv7jPhk9qL0M/Nz8gvy1PGD8djx8fG58ZLxzfDc7zDv+u0L7crsVuzv69LrSetx6qDqYurP6WToGud75SjknuOa4irkz+aX6X/t+/HG9cb6ev+qAh0GdQjnCS8LTAz9DNsOghAgEugUkRcQGqYc5h6/INwhNCHiH9kdVxuQGIkV7BJSEPkNOQw/Cl4I2AZSBFsCfQA2/XH6Vfd19NPyMPHE7z7vde8U8GfxwvKZ9Fv2Hvho+YT6F/xH/SH/dQBrAoQEWwZFCS8MLA84ElMUwhUlF5AXehf6FogVtRNDEhoQSQ5lDKcKygkXCMYGxwS5AoMAN/6b+zX5Rveg9B/zQvFD8Brw2O8O8PTv9e+h70fvMO927m3tZuxZ68XqLupj6dDoC+kC6froEOgU5/fmSOZq5szlIeah6HDqiu1S8Tf0+/jW/B8ATQQGBygJPAtbDHYNkA8MEMwRixNKFQIYkRkaHCseHiCrIEggkh8jHhUcphn8FucThxFfDuAL5AnMB9cFwQO/Adz/uP0O+7f4XvaN9I/ynvD273jvXu8q8AvxbPIX9Nn1bfdj+Rf7m/xq/gQAVALrA2UGTwjMCsUNoQ/jEaQT0hW9FlIXxhbfFZgUShOmESsPmA3uCmIJhgegBcoDAgJVACj+sfxc+mv4aPaq9E/zv/Gq8G/vou5O7pftNe0L7cHsjuzy62vrKOua6k/qHupx6VXpj+jm597nKef35sLmJObA5iPoJOoY7WjvufI89qb5Mv1HAD0DYAWUB08JwQr3C2MNpw5nEDAS2xMwFgcYdRqhHHIeXR9oH2Mfrx4SHWwbIhmJFmEUdREuD9kMgQpyCHwGtwTGArkAgf5T/Ff6LPiX9Z/zq/GT8ODvVe9077zvq/AY8r3zJfXD9nb4Z/pK/O390v++AaEDcgbvCPUK0w3xDzMSgBR1FRAWoBbTFSsVgxRHEosQuQ55DO0K3wjpBqkFkgP2AYAAOP5m/Kn6UfhM9jf0e/EH8IHupOy569zqF+rV6Xvp9ej76A7pG+nI6InolOjZ51nnpOaL5aLlPeWw5G3l8+V65zXqlewY8JTzz/al+s39LQH0Ay0G7weOCfQKpwvUDAEOLw98EHQSIxSBFvwYBhttHbIevh/nH68f7h43HWAb0xjNFVQTBBFkDmEMHwotCLAGAgWQA5sB3f/+/VD7BflD9v/zPfJm8FnvUe7y7eLtwe6J8BHyoPOE9YX3s/kO/Pf9GQDdAeUDHAb6B9IJ4gsWDtIPfxGHEn0THxRzFIgUAhS/EhkR+g80DlYMZworCDgGLQQwAlUAZP6V/N36AvkE9xz1b/Oc8cfvyu1m7ATrxekO6Szo/edv5yTnYedi54rnruef51rnOee85gXm7+WQ5aTll+ZL5+jp0Oze73jznfaz+mr+/gHXBEwHJAmrCt8Lngz8DTIOOA9rEM0R9RPWFV0YkBqgHJIe/x/PIPEgLCAqH00dsRptGJQV1xIcEHQNNws1CVgHwgVaBIoC5wD//vH8x/pq+CX23PPx8TXw1O7J7SbtcO027krv3vCn8t/09fZU+cz77P00ABYCPgQaBvAHygleC+AMUA7WD8MQsRFhEscSyBJ/EtcRHREEEFIO2Qz9Cv8I1wbwBOQC1wC3/qX88/oK+VL3Y/Wd877x3O9G7snsMuvS6ZPogefO5gPmx+Vw5UTlWuVg5VXleeW85cjl9uXK5Qjmi+YP6Dfqpeza78PyN/Yj+g/+agHRBIgHlQkWDHcN5Q7wD2AQOxEkEhATZBQPFu4X8RmLG2gdlx53H0IgPyCXHxseChzIGW4XZBSUEcMO2wuNCW4HZAXLAwYCNADK/vj8DfsJ+UL3YvWz8+bxHPDp7h3uG+4h7uLumu/k8CXzDPVO94b5qvsi/owAdQJ0BG8GKgi6Cf4KPgweDQEO4w6TD/cPIhAfEAMQERB8D7EOVg3cC2MKigjdBqYEggJzADT+Jvxh+ln4gvaz9OzydPG+71/u7ezB66HqS+kS6Gzno+a05YvlAuXJ5Nnkw+Qb5TrlduX15YzmvecR6U3rbe3r75fyfPVO+fv7Tf8pAh8FlAeVCb8LrwxqDl0PhhAbEuISJxQAFlwXXxnuGiMc7h2DHrEfxB8hH5MePR2MGzkZ6RZeFOgRKA+xDFgK9wfaBZgD4gEQAA/+I/xj+sX42vYm9U/zvPFs8FLvz+5j7mbu2u687xrx4fKZ9LD2z/gI+1b9ef+qASsDEwV8BuAHTgkQCkELCQzGDHUN1g1qDtkO/A4YD8cO/g00DSkMtAonCV4HGgXyAgcB6v7f/Hv6Ufiw9sf0JvNu8ebvo+4O7XnrSOoH6Z3noOah5dzkPuRI4xXj+OLA4iHjCuPr49zkd+Zu6JTqj+217yfz1fVD+bH8U/9zAp4EawdCCScL2gxeDtgPMhHuElkUWRYHGKAZZhvpHBIeLR8QIIAgOiCRH3Me3xwwGwgZzBZIFNURGw/iDMIKJggqBq8DuAHC/4v9M/wp+nT4xfbT9K3zNfIS8Trwgu9f7zjvr++r8KjxH/O09HX2fPii+qX8o/6sAFcC/QN6BfEGCwjfCMkJlgojC7ULMQyCDO4MAQ0oDdgMcwzHC+IK7QlkCPYGKQVkA2MBPv9E/UX7PPl896315vNc8nvwI++y7UHs5+qD6UToTOcb5hHlZeRf40jjoeLJ4gjjEeNy5FvlwOdj6YDrb+6q8CH00vbZ+bf8c/9CAs4ETAcACfIKfwwsDsYPgRFfE9MUzxbPGFcaAxykHcUe8R+YILwgeSC2H5EeHx1aGygZzxZnFEASpw9TDRILfQhmBiMEPQJDAC/+rPy6+t34EvdT9Qn0ofJb8Yfw5+9277DvE/DN8L3x4vKa9DH2B/jq+dP7mv1q//8AkgIVBPwEUgY9BxsIzwhmCSUKngogC1sLqAuyC5kLTgsKCzgK+QjqB20G9QQ3A18BVP9z/Yv7dPmy9871/fM68m3wzu5h7bnreuoM6Ybnk+Yv5T/koeOk4h/iu+Gt4TTi2uJ35APm+Od+6szsyu+j8o31Y/h2+1D+8ACuA8EFyAeCCXQLEw3FDggR9xIPFVkXfxlXGzsd+R5XID0h1iH0IaQhDyGqHyIeRhwJGrEXShUuE74QOg4dDOwJkAd3BTsDKgFV/zj9UPt2+YT30PVT9NnytvGa8O3vqu+y7z/wrvCO8ZDyAvSU9Qj31fh3+kD80f1D/90ANQJKA2MEWgVHBhwHuweaCFsJ0gknCoAKzQrMCpgKUAqwCaoIsQeBBhUFiAOoAcP/1f3m+/P5Jvhg9mT0wfLy8ELv3O0m7MfqWunU533mVuVO5BzjceKc4Vjhv+EI4nrjqeRY5sTo3eqI7UvwJ/Pn9fX41vuo/m4BgwPJBY0HjwmHCyINuw/wEQUUdRaxGOoa1xzHHnsgsCGSItoisiJdIjghyB9MHisc/BnFF3AVBBOmEFEONAzCCZEHpwU0A20BW/9T/ZP7iPm29wv2kfQb8/vxLfGo8ErwZPC28DHxAvIV82P0tPVh9+D4h/oN/Iv9GP9LAJ8BdwKSA3AEMAVMBtkGswdpCM8ITAmvCd8J1Qm+CUkJlgjXB7QGVgUYBEUCVwCo/nz8ofrc+KD2zfQe80Pxte8j7n3sDuts6d3nyOZQ5fbj8uLv4YDhaeHW4Xfi2+N75eTmaOm46zDuTPE19Cn3/vmB/NP+GAEPA0wFMAclCbELzQ0/EMoSQBWnFxsahhx4HkAgoSGSIhwjbiP9IiEiIiFUH5AdmhtfGRkXtRSgEk8Q5g3lC6cJUwd2BUED+QAL/9n8y/oC+R/3UfXI84LygvHH8FnwNPA38JXwa/FK8mnz0PQx9rD3PfmU+vT7e/2u/vX/BAEIAisD7gMBBesFsAaGBxUIywhJCYQJsAmaCVQJtggECP0GqwVYBLQCxQDu/iP9Ifsi+Rb3P/V084Xx5u9K7qvsF+tM6RTofubz5OTja+Il4lThE+EC4jjiluM75QXnXem561PuC/Hf86f2bPkd/Ij+kwDNAtQE2AZUCdELeg7xEJMTDxZfGN0aNB1oHwchoCJ5I9cjNyRdI4sidiGGH9MdyBuaGVUXyhSWEjcQyQ21C2kJTgdyBRoDFAEo/+b83/rv+A33f/Xx84vyiPGt8GjwFvBB8MTwZvFz8nvzCvU+9pj3KvmH+in8nv23/u3/PgEsAiIDMAQsBfsFzQaJByYIrAgICS8JUQk9CbMINwhZB0kGGwV2A9AB+v8L/iH8K/os+Br2BfQI8mPwqe7n7ErrsekA6Hfm8uSX437ideH44MvgX+HR4Q3jtuRQ5sno4Oqs7XbwQPMi9tj4hvvs/TwAfAIqBTwHtQk0DGcOOhGdEzAWwhhoG80dth/QITMjLiTEJPAkZSRvI1UibiCIHlsc2xl2F9kUbxLhD0MNVguyCJUGqgQNAk4AK/4x/F36b/iv9u70YPMW8hPxS/Dt73Xvpu8S8JvwzvH28nT07vWC9yj5xPpv/PD9hP++AOUB+wJGBDYFHgYqB6YHoggBCVsJ7Qn5Cf0JvglZCY0IbgebBkcFWAPwAdD/m/3Y+3T5VPdO9eLy5/AJ7/LsLOtn6aDnLOZO5N/i6OFH4Nrfi9+p30rg6uC/4gzkb+ZD6V/rie6f8WP0w/fJ+in90/8jAmgE/gZgCSoMlw7+EAQUcRbnGLUbFx4SIDwi/SP3JL0lNibAJfIk/CMIIvQf0x1CG4YYzBXjEhQQbw0EC1oI1wW3A0cBEv/8/Br7/vhL99b19vOK8mHxC/B07/XubO7W7i3v+u8E8UPy6/OS9Ub3Wfkp+/D8E/+NAEUCwQPjBAwGDgcGCMkIaAkbCogKiwrKCrAKkgoyCpAJtghYBz4GXwScAtUAff5m/Ab6zPdX9QLz7PCs7onsseqz6K/mBOVe45DhCOAb3xfe3t0O3pPeTN/l4Mfim+Qn6KTqjO088ejzZ/en+r/98AAPA6EFEwg+CioNjg/WEe8UVRfTGfoc8B5oIZQjMiWSJiInWycKJ0sm0iTXIiIgzx3AGroXxxRREXMOUwu0CPMFTgM5ART/3vwg+xH5Mfft9Sf0pfIs8fjvEe9f7jfuAu4E7rDurO/b8IDyS/Qk9lX4n/r2/DH/agFEA+oEnQbuB/kIAArtClsLDgxTDGEMbwxMDDwMigvhCuYJtQh6B9AFzwPAAVv/r/x6+q73BPWC8r7vpe1C6xXpP+dS5UfjF+Jd4K7ePt5I3Ercf9yP3EPePt9M4Z3jfeah6QHt6fCF9Ff4uvv4/h0C6AS1B8MKBA0sD9sR2RONFhIZPRvOHTEgISIoJAMmxyb1J6gnWSd3JsAkCCMtIF4dtBnBFjETABC3DBAJHAb+AmUAFf7a+2X5BPik9ffzvPLm8BDw/+7+7WrtIu3V7DPtxu2j7v/vpfFw89H1LPhw+lT9q//6AZkEvQbvCOQKBQx2DXAOJw+8D9IP2g+eDw0Pew4LDuUMegs7CrsIyQb8BO0CSwAh/oj7tfha9mrzwPAp7pXrROnA5ofkj+J14L/ekt3A25zarNli2aXZdNpm3IHdBuA24zfmhuq27kTyxfYI+3H+lALSBZ4IdwvRDT8QWBKoFN0WRxm1G7odVSAqIqYkvybiJ2MpRSnBKEEo6ibVJJgi9B5GGxYY4xNDEFwMjAgeBdUBx/7v+2L5AvcR9T7zgfHq78buqe0+7Xzsh+uB60Lr8Ov87MHt8u6b8JzyDPW394b6qP2eANQD1wZUCccLMA7qD5MRwBIgE6cT5xPuEzkTqRKFERkQIA+ADa0LfwlTB6cESQK5/9r8ffkq9oXz6u867S3qDOeG5C3iu9+/3SXcPtqK2aDX59bA1T/V8tYX2J7asdys30bjIOhs7TbyEvcF/EQBZgUsCoANkBBlEzcVdhcmGTsbAB3LHgEhwSKpJLYmYCikKbIqCit8KnIpUCeSJCohKh1vGPkTmg9MCr8F9gB7/Pr47vXU8kzwwO757Nfr/epH6ujpnOkC6p3plOm/6iHrQewX7tbvp/Gh9OP3wPrX/i8DBgf9CmgPqRLPFScZHBtRHFkdux3dHMsb4xrIGB0W7RPCEKQN9gqkBxgEwQDH/VT63/bv83fwlu0n6//n+OQQ4ibg6N3122DaZNiD1+HVXtVH1CTTT9NW0gfUN9br2fren+Pv6VbwyPeo/8sHxw4hFUUaEx5bIU8j3iTTJG8kKyNmIUwgXSBDIC4g1x9BH3wfVB8VIM8eAB3UGqUW6xI/Dv8IuQOf/YP4GfMl7h7rcehQ57zmreYV53ToC+uX7erv2fJr9Ov1f/hW+o38sf1V/6oA6wK9BUwIzQoPDukRBBR4F8AZzRvEHcoetx5NHVAc2hnhFk4UCBCqC7YH0wPQADr9q/o496/0VPOm8VfwIu/Z7cbrTOsc6tXo8Oe45mDlj+Tm4xLjD+PJ46Pj1+L/4jniY+KL4uzhPuAt4Lfh9uQN6gnvzvOe+BkBnQgzEY4YWh0NIXQjrCWfJNojYyFCHQEZbxUgEW8OAQ72DOsMbgzSDEgN9w6LEEYPCw4IDHsIzgV0AtT+ZPrV9aDynO/f71XwO/Gp8072fPmq/HgA2QP3BrYIPAnNCBQIwAfSBtYFAwT8AagAzgBSAqUDkwTgBe0HEgr8DHcOgQ8DEKEPDA8+DXwMEAruBzAG1AN/AYP/yP4o/sP+2P08/B37uPon+l74o/YC9DPxaO+47G3qmuh35pXliuTc5G/kx+Oi48TisuHb4A/fRd3n2q3Ystq33evkZuot8Bf4RQHVDUYXeSDiJTMpAyt8KyYqXSfYIqwbZxViDxoMawivB08H7AaECGEJbwuKDeYPfw+yDWoKRQZ3AjL/evs49kby7O5e7k7wNPOm9uH5Uf69AscHxwyRDw4RrRA5DxMNWgp/B8oDXQAY/Y36Nfoz+2H94f8eAv4EsAfZCqYNfw9xEL4PIw77CxcKbghyBhoEwQIfAUkAhgBkAEkBLwHHAAf/Lv1G/G/53/Za85Du0upD6EnmEuSk4qvhxeCR4WzikeHG4J/fe90a3FLaF9f50z3U1tn14HTpC/Gb+BEFPBPCINkppjD/M8k07DQVMc8rQSSxHCQUNQ0eCDcEDgM7A1MF/wVFB5wIVwo/DLwMpAlBBDr/uPoH+CT13fEU7qHty+8u9Bv5Q/1DApEHOA0WEXQT+hP3E1sScA/eCu4F5wH+/nj9lftr+tD5ZPxsAIMERwdsCA0KhgygDocODA1dCncI3wbCBa4ESQNAAg0C5gJwA7ED0AI8AuUB9P+k/G/4zvSB8VvuqOrb5mnkZeKZ4gjjQeOE4w7jQ+Mm403i/98+3ePal9hl1cXTB9Ui25rlDfAQ+csCxw97HcEqqDPTN8Y4bDfVMhUthybGHRQVlgs2BUwAXP5u/tH/RQIkBM0FhAZICdYJ7whjBQIAsvsR+Wr3c/Xf9PLzuvVU+bb91AICCGoMng+5Ei4ThxJqES4P6wsUByECmf0U/Hv7C/qi+Xj5HPtt/sICfwXeB+4IDQmvCgIL7AroCewIPAdoBo0FbQTMBDQFxQXpBAwEiwK1ASIBwv7q+mL28/KB7yDt8up454TkdOIk4j/i1+LV4rfhreEy4X7f/9yr3Jvawdhk157VhNl94yTwCvrFBOINRRobKL8xEzerN0g3HzIgLX0laB0tFNwKggP2/I37gfqF+1f9iQAhAkkE7gWkBeIGJQYlBMv/a/w4+mL6wPt0/FL9qf/oA5wImQ3EEDgSPxKBElYRXA84DLYHZQO0/gP71vjB9y33XfcA+Dn6av1BADMDdgYoCHgJEwomCkILogt6CzEKEgmIB1EHSwdxBtcF4gMUAkgALf9Z/Zr6J/dJ80vw/+3C60boveVT5EfipuEF4drf1d9I4AXgkt4o3ijcW9wh3dnbYNuH3Ifkme+g/DYG+A4GGU4kDTFlN7E6jTdAMmUrqiRYHZAThAp5/wH6CfZU9ST2n/de+vv8WgAMATEE5QStBcgE/wEw/5r9qP/tAFQD8gMPBhMJsQ0QEvETnhSZE24SbBDdDh0KiQXyAO/8x/lB95D2NPZF97b33PmK/EAAlAMCBvsHPAmbCugK/AtcDGIMhAtOCuMIqQenBxEHMgX8AswAP/4o/BX6tPd69Fjxfu1w6unoEOe15Eri9uAv30Te6t003pne7N0x3TPcFN1M3nbe3d1I4OfnqfJe/1cIYhDaGu0mnDFEN0A4FjU1MfYp9CFWGY0P4wZV/vT3RPQn9P3zi/bw+dP76f0R/50AaAJDBMwCrgC+/kL+mADSA1QG6QfDCiYOOBPRFrIXjxe0FlQUhBAXDHkGWwJP/oX5y/Vx89/yJPSg9kb4ivoU/TsAigSDB6AJXQrYCngLswxYDV8NJA2dCxgL2Qk/COwG4QR8AS7+DftC9/b0c/Kk7rbr9eig5dfjtuJ84I7eSd7X3CDc39tg2yzcEN3o3T3eKd9T3u3fZuXu7w39aQZADo4XKCOiLTA2PjhJNsEyUixoJOcbYBIzCHIAoPlx9Bjx7fDP8hr2Ffnc+v77Yf2k/0YBfgL/ADT/lP7PAPsDGgdBCWELSw+qE1MY+xkpGugYtxfoFAUQdgluA9H/mPu/9/nz3/G68Qn0i/az+CX7xP2GAeUFfQnOCgILjgv2DP4Nyg7qDREMjwpoCmoJvQYsBPQA/P0H+733nvIt73vs3ehJ5jvjv9+23H/b0NrM2hDawdki2mrZ3duL3i/fGuA64G7gYecR9IL+TgnjEdUYfyNcL0s3IDkVODEzNC2eJbYc5hJRCYsBrfiG8jfv3u0g7uXw3/MA9pX3kPgM+2T+nAB9ALH/Vf9IAgsG8AnQDGsP0hLyFlEbvxxhHXYbfxk6FpwRPQyXBQ0AePvg9zTz3/Bv8AfyIvXN9sr4m/wxAV8F4gjfCqkMxg03DlMP3Q/QDq8N1AsCChwJqAaXAwkB0v05+k32NvFv7DTp0eUk4i3etNk+1wLWUdVV1V3WqNYq1+HYfdsf4Ezi/eID5iDva/u5CNsS1hmUI1ItaDYxO707ZjbWL4golh9DF/0MEgOg+C7yfO0V6y/qyOpp7cbvhvLn8s/0K/hi/ND9kf4n/+v/3wNiCeYOERJXFUEXwRtgIC0iDCE6HsYakBQvD3QIUAL0+xP2kfHB7g3uBe7J8M3zLPdn+iv+4wIYB18KQg1qD5AQPhHGERwTfxOpEXIOLAxNCaUGPgPf/X74APMQ7gTpjeRL32fa3tb104DS1tHi0e7RRNIf1KbX2toY3bHf7eFl583ypv+tDFoXeR40J5gySjpHPoo+TDnmMmQpzx6LFeQLuwBA9xvvD+kf5ynlLOey6fLq/uuy7Zbw1/Rw+TT7EP3h/aYBCgiQDmQT3BUtGVkduSADImMhPR7eG8UXMhGpCggE3P3W+WD15u8I7i7tQu5w8S300faD+rD+eQNbCZ4MqA1JD1MR5hNEFbMUIxPwEN4OAwz8CGUEZv8Y+jn1ovBa6nnkFd8D27LW6tL6zz/O5c21z7XRB9OU1pDaB9+k40Hn5+uq+D0HkxIzHO0jxiziNgE+fj72PGo31S6BJdwbthFRB8H87/Kr7OznsuXp5BjmteeK6u/r5u278YL0uPj1+5T+AgA0BOEI8g7DFGEXLhqRHIYfIyBvH5QcjRjtEqIM7QZ0Adb8kPeW8j3vze6T78/xl/ML9ZP37Pu7AL0E+AcQCq4MzA5WEHARYxIUEuAQXQ4tDJoJQAZTAiH9z/eD8eHrmuWh4PPaVNac0tbPENCfz6jQLdEB09nWsNuv3XTgq+fB8vACIw/PFywi0C0kOKpAJ0JPP5w7SzNgKlchWRaSCnkAivYz8L7rVef75Xzmpug36uDqQ+tQ7b/wWfSh9uv3ivq2/+4GQg6iE4oXnRtbH8ciXiMUIrceBxqQFJoNzwZnAHn71vbT8qDvXu5x72/xnvMz9Vb3T/qK/S8BsQSzBxAKrwuUDbgP0RGzEsQRjg+EDYwKagajAUr7IfX17gro8+BM2zvXONVQ037RRtAmz5fQM9OW1RjXeNlS3cnng/cWBTwRERypJ9Mz2D7KQ91D3EFiOyAztilzHy8UBwmb/qv1GO+J6jbobOc86MjomOg76EXpjet17o7xkfM29u76lAK1CUoQtBYrG1of7SKBJKEjwCEkHeMWKxG4CksEDP+q+un1IvII8MDvc/BB8TXySvMo9XT3pvlm/IoAAASvBsYJRw0SEJASXhSZEycS3g6YCaUD+P0x94nuQuZf3tTYj9V402HROND8zxLQCdLl1BbXoNjI24DjO/E0/s0JsRT/H4IuYDpUQb5DLkTgPxQ5JzAjJU4bGBDnBa771fPv7UvpMeeA5y3onedj57jmLOkF7V7wVPJs9L74bv9aBx0OwRS/GRAfFyMfJK0jqyEdHjkZJhNxC+cEff9L+3f4d/Xh8kHx1PDS8Vzz7POA9Pj1hvfp+Qn9gwBUBE0HSAraDOwPLxIPEvoQlA1PCesCG/xG9QHuXefw39HZidOh0OzPQc8hz7jOGs/hzzrTLtdL4F3udvqhBB4Q2xzWKtg3ND6AQVlC4j81OqEzZCvCIYoXlAzdA6X7ivV98HftbOui6fnnw+Xg5TTnfun06xLuc/Cm9bn8JwR9C7ES4RjSHTshNiMGJOkhZx5rGMgSqQyRBvkB7/3U+o/2tvM48pPyEPMK84bzzvP09HX2XPg2+zf+XAGTBFQHCQocDDoO/w47DpAKagQX/jz3//BS6oXih9qq1XrTNtFIz+HOus700GrTQtOJ2PTiDu8Q++4FDg/EGpgocjITOsQ9lT6WPGw4zzJFK/sirRmqD9QGzf9t+FrzWe8+7U3rKugD5mvlfufp6SbtGe/w8rf4BP8XBlMMXBLXFwsdsR98IO4f4B76G7QX9RHeC+8GUQJ3/wD8A/lJ9mT0KvPM8qLyaPKK83X0UPUW9yj60fxMAGYDzwbgCXMLjAwRDGcKxgbAAHz59fIh7Dvl2t4I2QfU+NBKz5fOtM4nzwLQwNAC13bhKu3/+HACqAxYGQomIy96NXw6WzyxOrE2tzFWK2gkOhzlEl4LlgNs/ET3kvSL8a3tTuqf58Xnwugd66TsNe+P8x75IQDwBYQL2RBvFqEalhyTHfQdiBw2GlMWEBKdDRwIGwTwAJD+Yftj+ET2/fRB9a/0s/Sb9Sn2svdq+V38xP55AWoESAaFCAUJ+wjiBloEpP/M+Obxwepk5Pjeytmp1JDRlM5bzpDO186Tz6nRUdcy43nvxvjZAhoM9RiYJBouTzLGNrY4hjbzM+ctbylpIhMdpBS6DMIFfv9K/Oz47PXZ8Dztluqi6sPqVO1u7uLwmvWR+gQBawWNCxUQHxZiGfAZpRp5GrMayBgUFScQcws/CKsFFgN1AAX9Sfsn+fX3xPbt9eP2ZPey+Kr5FfuD/RMArAJkBXkGPAcWBwUHhQW4AZj8lvQO7nTnk+BW2wfWVNFxzizNS8xuzBnN1c071W3fgupv9h7/7wkCFoIhwSm/L0EzizTGNCwyfC1bKDEjIR0kGF8RYApKBG4A6Pwn+Uv1LPDf7WTs+uuE7DXuovDq9I76Wf8fBF4JoA4JFDYYIxnGGdEZFhklFz8UlxDPDCkKWgeiBBMCMf/0/Jf70vnz99n2xvaa98L4hPkf+y39NwBjAwcG8QdhCDoIAAdvBIr/O/kd8qDrYORW3dLW0dFVz23NLcxly77L/8sW0R7ZMeTE76b4twLFDbUaOSQoKx0w9DLPMx4y0i5XKhYm2CBYGw0Wjg85CDcDX/+3/NH4nPPJ7wrta+x37NXtCu8d8hT3nvv9AEQF/wkHEBAVIhesF2EYbRjUF/EVHhNZD7oLggjdBXAErQHS/tL8R/sQ+q/4fvg1+Y36O/vI+7b9rf/8AiIG3AdeCJAHYAY3A8j+afgZ8RvrR+Qg3STXIdGYzTjLUcrBymbJTsuY0BDbweaD8VT72wRwETQbIySHKqMuOzF7MSYwDCxLJ7ciex4RGqUUlQ3qBzgDtv/9+/P3T/RE8AXu0ewO7S7udfAX9Gv4Av2SAfUFqAuHEP4TdRbiFtAWxxXHFLgSpRAfDcMJZgeOBBsDMwEcAAz/TP0++yf6IfrW+ij8Ff3O/g0BDgPRBMcGPwgkCVEISwVxAGb62PPR7GDmUd862ALSVc1Iy7TJycjnyPPJeM+z2BHjFe5H+C4Cbw3/GM0gqSYKLPsucjAML4Mr0ifiJPog0Bt3FuMP6wmOBR0C8v1B+Ub0nfCD7uTsoOxr7Qrw3/PA+O78cwCwBEEJpQ5+EnUTbxN9E54TABPKEQMQZQ2rClwI4gaWBMkCMwH6/xv/x/zW+iz6rvsn/Sf+s/+qAb4DfgbgCH0J8ggyBy4EVv+Z+S/yBOsn5FPd0taU0HfM58gTxyPHX8jeyxjTNd4x6Zjz9P6sCVsUvR2oI2YoNi1UL1ougCx4KRwlXCEIHk8ZYRSgDmEJEQXwAEb8Avdq8xTwXO0t7LTsbO5F8Yn1vPqw/hYCJAblCkAPShEJEl0R7xFMEToPXA79DMUK6AjZB0UGjgRxA1sCCwG7//L8hftF/FX9x/12/9YBSgMwBc8GBwjbB+QG+wPj/9z5LfLx6fbiA93Y1WTQqcwIygXIjMjUykLQXtnz4/7tDfg7AugLohZsHnQjuyY3KogrQyrnJ7Qk/CEZHz8csBegEpoNigmYBQcCff3n+K318vKp8BvvA/Db8H/zcfeN+5/+agGIBekJ6g1cDzsP8g7bDnUNyAuaCpoJFQihBqoFGgTVAsQBTQG1AJX/Gv5u/cL9Z/7H//kBpATcBg4IgQjnCOoHyQUzAkv8efUY7lHmqN7V16DR7cwuyvrH9sY2yQfP0djj5N7ukPchAU4MQxYWHV0hHCSXJw4pqSfAJPIhDyAgHlMcYxlAFJUPawxeCX0FKwAn+wD3+vTI8hXwku9o8PnymfY/+tL8ev/+A6YIGgvjC5sLrQsSDMkLtgoKCWIISQdFBqYFPAR5ApYB6wHVAVMAx/5e/vr+jADhASQDigSXBl0IcQi/B2cF0AF1/mH5vfHk6PfgZNqb1I7QwMyIyQvJw8tY0s/bUOYJ8Bz5xwP3DDYUhRp9Hk4huyLjIscgTR5aHGQa1BnJGF4WERRTEcIOmQxYCQIGPQJX/kz6jfcP9ULzQ/T69TT49PoT/ab+qgGNBPoGmgj+COgH9gaYBosFCgVZBCEE/gOMA9QCfQLIAQwCbAIRArYBNgFxAdgB4wP7BCMGtwfaBxAHFAYCBFIA/Ptg9lzvHuiv4VXaNtUJ0XHNNszgzZXSs9kY5JPtZPa9/28IkA+lFegZyxywHqIebRzfGa8YPReBFggWoBXXE9MRUxB6DpIMagpIB28DgQC8/In5C/iu9zH4Wfo8/N38dP6xAHkCHARLBWcFrAXPBP8CiQEqARoBVAHoARACDwKoAXwBJgKGAhsC+gHKASICTwKNAjoDlARxBnoHRQdKBc8COgDz/ET4CvIn64zklt6c2S3VV9Lw0QTVMNtU4o7pzPBy+YMBNwgVDTsQ3hIVFV0V5hOzEuQQ+g8oERAS+xGSEjkSvxHaEXsQWg7IDMcKlwf5BKMBU/5r/eD9l/7C/1sALwAeAT8ClQLlAs8CJgLhASsBhv8c/lH92/05/97/CgAjABIAXQBDAdYB9AEwAl0CegL+AsACUwLzA3UFdwWuBOsCEwCH/Q376fae8s/tJejj447g29yF2sHbsd8h5VjrPfA39av7HgGXBQEJHgvuDOcNrQ1aDMEKoAkCCjgLBgxWDe0NDg70DnMPHQ/CDuoNHAxtCmsItgWhA+QCkQJSA+UD5AIuAgECYgLvAkMDpwLZASIB0/91/gf9yPyg/Xf+3v7k/oT+Jf6w/sL/kAA1AWEBFgE3AUoBNQGHAXgCKAM9Ay0CPQAA/rP76Pm69/D0HvF87XLqUegA56fmsOhT7Hzwu/PZ9ir6Lf0rAI0CcgM4BOkEIAQDA6UCXwJ6AsADngT6BcsH7wjdCWcLZwxlDE0MWAtYCk0J9Ae7BmsG7QWOBfQFugVpBWgFYAVkBWkFkARqA5cCgQFFAHL/mv5K/mn+bf6Z/uj+Hf9I/7z/JACRAOgAJwEbAYEB6AE0AlYCQwI9AuIBYQERALz+K/1z+8P5Ivgq9u/zP/K98AfwfvBy8RnzwvVI98T4Mfo3+1381/wP/TP9fP1q/Jz7U/tB+2b8h/2b/hIA/gFoA68EwAV7BncHSgh8CC8IjAefBnYGlQZ9BsQGtQbYBnsHkQcVB8cGdAbEBZ8FcgSyAqsBxwBjADoATgD8//P/cQCJAPQAfAF3AT8C+AInA0EDvAJ/AnsCsQJjAh4CuQHuAHAA3//2/rX9Bv1K/KT7HPsI+vb4fvgv+KD3hPf991z4IvlF+TT5fPkf+U75kvkO+g/6+flB+ib6Jfp0+rf63fp4+0D8TP3v/Zr+XP8zAEkBRwIRA78DWwSYBDYFxAUHBiAGXgaABjQGHQbeBYcFXQUkBcMEZwT4A1oDRwNBAy4D/wLPArECdQLCAvgCXwOsA94D+wPnA/MDfgNNA30DUQNlA08DjwLqAXwB8gBhAK3/Cf/Y/j7+1/3r/H/8NPx5+0T7uPoJ+3P6Gfot+ur50fmI+ZX5rPnC+b359Pm1+Zz58/lX+vj5kfkL+qn6evv++y/8vPyZ/UD+jv7t/of/CgC5AEsB6QGLAlADwgP4A1UEcwSOBKYE2QSzBNkE0gRgBDQELwT4A+QDzgOFA8wD6APBA9ID+wMiBIQEpwRVBHME7QRrBAUE+gP3A84DJgOkAu8B/AHlAYIBRQEZAeoAqgBWAPX/u/9h/+3+X/7L/dj8hPxB/NT7JPsv+0z7xPqO+pT66PrP+iL7PPtx+1b7PPsw+zz7g/tt+537sPsZ/KH8KP06/ZD9DP6z/jT/Tf9f/9b/mQCxADkBhgESApICbwJoAnIC+gIfA0ADcAM5A3QDXQOwAysE+APnA/8DGwSOA8AD5gNmA8gD3ANTA5ADvwOHA6YDagNuA1oDOQPFAm4CmQL5AcUBlgFeAbAADQBdAPj/Q/8f/wr/Hv7f/az9U/14/UD9Vf1M/dX81/zA/Fv8pfzT/LL8T/yb/G/8Wfxx/PL7h/yw/OH85Pz0/Gv9h/3d/Sv+fv7R/gP/cf/V/0AAYgCzAOUA7wAcAfEAfAGBAV8ByAEoAqEB5wENAsYBXQJaAkICEAKiAvUBQwL2AgsCpQLwAoAClAK0AsgCZQLAAqoCHQKBAjoCFAJlAd0BhwHfAHIB6AAbAJMA/ADT/87/cP/N/pL+LP/G/rr+/P6y/rr+Tv6z/vf9Pv5y/kP+Cv66/av9gf36/YL9Df1v/Wj9tP3w/W791/0w/oz+p/4B//3+GP+p/9T/CQDc//f/AgD8/w8ALwBEAHsAZQCsALQAvAB2AJwAPgHRAJQAhQDXAA8BMwFeATgBJwGAAWEBowFLAZkBygFOAZQBYgGKARkBWgE5AQsBDQEaATkB7QDYAHgAYwBuACIAff8S/3X/tf8V/3D/Tv9k/3P/R/8+/wT/X/8N/x3/9v6g/pn+v/6N/mH+hf48/lf+l/4g/qD+mP5j/tf+tP4h/0z/Nf8S/6f/m/+5/+b/oP+n/+T/QgAcAEwAAQAcAF8AIQA7AD0AAwBSACkAdgB+AIwAuQCIACYBhQDmADcB3QAkAe4AFwECAQYBNAHbAA4BuQD0ADQBDwFCAccA9ADkADYBDQECAdUAewCDAEcAkABnAD8AFQAXAEkAWwD2/+P/4f8EALr/xf/s/7D/zP9k/3H/Kv9I/x//U/9g/xb/W/9b/7D/SP8r/zf/Pv92/2v/bv+P/6L/vf/y/8j/sv/w/wMAyv/y/9//u/84AFEATwBnAEAAbwCqAIMAygCwAL8AEAHLALAAswD4AN8AYwEfAQkBKQEDAUMB5wBlAeEAWgFtARoBHQHeABQB0ABHAYwArgDdAIkAzABuAIIAVwBXAH0AHwCTAE8AFQAJAMf/lf+J/+n/Df/7/27/P/+q/1n/kP8J/2X/rv7r/un+FP/+/vj+xf5q/t/+2v73/o3+tv6H/tj+oP6t/ob+of4O/6P+lP7C/jj/5P4G/7X+Dv8P/w//+/6f/g7/I/8j/8n+WP/C/kD/5/8T/zr/Xf9y/0D/3f+w/0f/dv95/1X/SP+a/3L/r/+j/5f/Lf+n/5f/cf+5/2P/mv8y/zcAmv+9/0X/4v5p/+b+xf8D/03/OP8o/xz/Qv/A/kH/eP/X/lP/OP5X/x3/9f7X/nP+hv6o/p/+of4E/57+X/4v/hP/Ff6J/hf+Zf5J/hP+Tv8c/hn/Tv6s/l3+c/7G/iH+K/9Z/g7/4v7X/or+p/4w/9z+Hf+f/t3+vf51/7//rP/Y/1D/W/9j/4v/m/9e/5z/1v8fABEA1/8LAHX/t/9v/87/tv+i/7n/i//GAN//EADW/83/e/9+/8//QP9WALr/AgANAHr/UP9j/7v/f/+6/0D/nv/K/2n/tf8+/9n/Xf8l/7X/r//3/2H/AgBk/1r/ff9d/8X/lv/A/2P/rP9k/4//dv+R/8T/lP/a/2D/mv+X/8j/z/+s//z/3/8nAKL/uf+K/6L//f/X/xYAYf8VAMj/5f8eAPr/BADR/xcAif/r/+n/TwAbAEoA5P8RAJAAFQC4AB0ALQAPAGoAZQAjAJUANQCBAKkAeACbAE8AggCTAFwAsAA/AGoAYwDVAL8ATgC9AE8AyQDoAFAAYABiAEQAhgDU/yYAbQBhAPAA6P9cAAIADgBmAOD/RwBKAKYAggC3AB4A+/8uAMX/CQA4AAQAxwAAATcAgwAgACcA8P8VAPv/aQCLAAQAHgECAcsA1ACnANgA+ACMALIAoAD9ABMB0QDFAJ4A8AD6APYA4gAgAboAPAHwAL8A+wB4ANMA/QDjAPQA8ACqABUB0wDtAAIBwABZAckAfwD6ADAABgF1AbcA+AC2ADsAtQCrAGYAJAFXANAAwQDcAMIAXwCCABoAxQB/AAwAogCSAXIADAG/AGoAlQAwABwAXQCxAfv/egBzALv/0QBsAHQA5gAeAfoAJQBuAHYAnAC4AGUAzABRACcAbwDvAI4A1ACTAN0AUwCmAHMBLwBlACgAtABwADkA7v8UARYBOACWAJ//OAC/ABIBaQHnAD0A3v/2/zQAUQAqAdkA8wDUACMAFwB9AJkAVwBCACkASQEVALkA2QAxAH0A7f8jAA0AewCaAG0A2P9qAPD/SAB/AM3/PABBABoAev/u/zP/8P/aADQAYgDt/xMAUwAwAP//DgAWAFcAo/8w/9D/DQD6/0wAagB4/78A4f8iAEYAKf9GAFv/YgBmAB4AawALAAkAYADz/wYAHgAPAHoAVf8XAPb/FgADAAcAyf/h/xwAy/8NACgAYwCh/y4A4f8ZAH7/m/+//0IA1v91/0cAU/+DAOj/4/98/7f/7f8XAP7/i/9rACv/gf+n/57/nP/J/9f/JADzAJr/RP+//1z/CgDt/6f/ef+u/wcAy/8yAHT/fP9f/3z/WP8yAFkA4f/O/8v/of+H/uf/LP8VAM7/+f8MAFj/mQAt/8X/X//h/4D/OQBeAEX/lP8u/wUAyP+AAG3/tv9r/zgAWQAS/1oAFf88ACcAt/+q/8L/6/8i/17/RAD1AOr/nQBx/x7/YQCy/5P/tv9r/wv/f/8FACgAXwAxAE//Q/9H/xP/VP/p/53/P//D/xMAx//m/+P+8v73/yr/hQBJAJf/tv7R/pb/GP89AMv/RAAiANX+Y//R/07/iv8//0P/JgAzAH0AkP8+/4r/sf8+ABgAgf8S/y3/eP/gANoAFv/6/gr/pP/h/6oAIgAR/woA7P6w/zkAtf/d/0n/8f+tADgA1v9j/3z/DQCC/wcArf+o/23/7/+QAND/+P/L/n3/Tf+r/5QArf8jAFz/AAC+/0D/MACt/28AzP9c/6n/g/+W/6L/RQB/AEoAs/+L/2v/1P+A/20AawAJAGIAy/64/jj/GQCg/+3/fADA/8j/sv9V/3P/vP8s/zP/mwALATgA4f/g/pb/w//z/68Asv8z/2oATQAnABQBff+K/+7+UP8GACQASADx/9H/hv9RAFj/kgApAH//v/+e/3ABKwF3/xD/m//R/xEB6v+F/2P/Hf8WAQoB/QAUAIb+2v5h/8b/tACH/3z/VwDb/+gAEwCZ/6v/Zv8bAOD/wf/I//T/1v9oAOv/BgCSAFP/hf+B/yAAZgA5AEMA+P5N/2gA8f9AAFAAS/+o/2cANQA6AKkAHwDM/5D//P9m/84AagHM//D/Kf84AFH/s/+6/3v/UwC8/9kA9P9SADYAcP/r/8f/2/9gAKL/n/9oAEgAHAAWAC0Axf9aAEQAIADD/mT/rgB8AEEAAACqAPT/oP9UAN4Ad/8VAML/zP/bAOIA8AA8AOgA3v++/9H+aP8nAXYAmQCoACYA0P8vAMj/Z/+D/zb/l/+hAKkAQAAdADAAj/92/73/oP+9/xoAYACJALoAi//9/k0ARQEOADgADgCr/38AqwC4AEsAxwCJAFgAlv+8/6IAxwDVAM8AigDF/4UBaAG//9L/AwA2ALUA3gC4APIAxADnAJcAuv9X/7D/jwB1AEoBiQFv/23/GAAtALH/wf87AHwAEQHL/z7/0/9mABoAsAAnALv+Mv+A/+X/rP9DAP3/u//0/woA+P8Z/3b/bACbALr/if+i/1r/fv8iAFEA9v+Z/z7/Pf/Y/3T/Wf/p/zUApABvAD8Aiv96/yD/hP9XAMUA5AC1AM8A7f+HADgA0v+6ALYAzQAEAekASQCAABMCewKGAGH/agDrADwBFwJlAnYB8wBfAKX/GAGjAekBIwFcATMCRQFlARkBNQE0AbwArwDMAKcAMgKGAmkBUgBM//b/LABlAOT/MgAhABcA0gBZAKz/lv9u//D+xP4j/gr+2/7d/1n/g/6y/Xn9sP3c/Af9mv3H/V39Iv05/Xn9zP1X/dD9qf0W/Qj9gPxh/I/8Mf4c/vb9DP7C/PP8Pv2d/Sb+G/88/4j/Vf9V/1YAlgBeAfUBUwJfAQkB0AGaAqMD2QM0BEgEqwSDBAwEOgTfBHgGUQabBYUFYgWUBW4GvwZEBmMGpQahBi4GDAaFBbIFAAYOBScEbASwBP0DfwPXAoMCLQJPAdoApwC6//n+Yf6+/QP9IP3W/LP7Ivt4+j76zPmK+a34D/jJ9932l/ZP9k71QfXJ9SL1d/RV9Cj0JPTN9OT02vQE9Rr1IfXf9SL3s/dy+M/4d/kq+nT6P/yA/bf9u/7E/xkBLQLGAuUDWwV7Bj8Hugd2CGYJtAq1C+8LLgx0DAsNhw1CDh4O1w3yDSEOUw4tDp0N4wzFDEMM7gtoC5cKngm3CCwIjQerBpQFKQWoBLADMgM4AgUBPwAEANH/O/+1/mP9rvz5+wH7dvok+vX5hvlq+DH3P/aG9ef0dfSK9OrzWPP28bPwEvB88E3wbfAQ8SDwBvBY70HvQO8V8P7wGvGr8Zjx5/Ha8vLzE/U09gP32Pcm+c/62/tA/Qn/dgDUAWYDNAS2BfcHpgldCzwMRA1mDjEPSRBxESAS0xJTE00T8RLQExsUexOtE98SbBFiELEQ9hCKEJYO6AvBCr4KUQrgCLYHzwYnBlgFlQNuAuwB2AADAFH/of50/e78afyu+9X6cvkT+af4n/jm91L2DfW59DT1a/T58zPz2/FI8f3wEfGU8A/wGO9y7nvur+7Z76nwBfDx7rLtwe3j7/rwoPH88SHy6/E68pTzVfX+9uj3BPkA+sL71vw7/h4AJALiA94EmgZUCH0KsAyxDsEP7A/XEGQSshPpFIoVWxbdFnQWDRalFY8VoRWkFe4UVBQ7E5ARbxDHD1wP6g3YC1UKWwnKCBMIxgYQBbID2AIvAl8BHwA1/0P+XP2K/Kn7Nvvm+vP59/hE+J/3Vvcb99P2DfYW9b/z9fKf8/vzHfNL8l/xmvD38Ifwn+/V7n7ume687vHvHvBg8B/wZe5e7m3vTvEB8kDy0fJA8xz0cfQs9cL2Z/hB+ZX64ft1/YH/YgH6AjIENwWlBngJBAyqDeYOWhCXEeYS1ROaFOYV0haCFxMYWBglGB0Y4RcpF1cWdRWRFEUUGhTIErUQ7w5DDdoLEQsDCs0I2QdABm8EJwM1ArkBzgD9/+H+1P0f/TP84/v4+gL6XPmH+Or3p/f297P3tvba9fD0x/SA9AD0zvNp8yXzBvKq8cDx//Bu8GzvQe8S723uvu6d7uLvzPAU8Dfv0e3C7gvwbvFH8sTxf/JP8zr0ZfTv9GL2N/i8+Zj6J/w1/ukA3gHFAiEEFwY0CawK6AzoDqQQzxE7EqIT4RSVFnMXCBjLGC0ZGBnuGP4YUhgAF/MVPhYmFjAVTRNKEb4P2g2qDFELYwpzCYwHHAakBCgDnwFoAEQAkP9H/iX9R/wp/CT73fkc+Xz4aPj697f3iPc691n2bvWk9aH1G/Wi9H30nvQ89ELzgfKI8hPzfvIu8rnxg/AY8Hbvo+9270zv4u8/8XDylPCD7mTu4u+V8UfyvfFT8u3zWvS79Dr1dvZt9/v4UvrJ+5D+9P83AZEC5wMeBYcHUAqSDHkPlRASETcSwRP7FCcWgBceGAoZHBoGGtUZTRmXFzUXDBcZF68W+RRHE1sRUhB7Ds4MpwvaCaIISwdzBeEDowJUAV0AX/9W/hr9lvxP/Hb7cfr++GX4GPju97X3Tff/9pH2V/YI9pL1KfUF9ST1cvU49YP0avMO8ynzzPIY81zzEPNy8pvxdvDR79rvIfDt7+XwSfJS8g3y5O+M71jwd/Gq8lHy0PNc9Bj1//SP9Ez2KvfO+Gz6G/we/sb/vwHcApcDAQUABwIK6QygDjgQjxHtEswTkhQlFp8XnxgQGZAZFRq6GegYUxiXF/YWEBZwFfAU4hP/EUEPog04DPIKvQl4CFQHcwWVA+cB/wAhAO7+If50/cP8JvwC+/H5h/nL+B/4wfeq90/3YPc091L2Q/YE9qL15vU59vL1lvVt9QD12PTI9M7zsvMr9PvzWfTf8yPzcPJP8XHwafAi8eXwv/HC8wvzgvFI8NHui/Da8n/zI/O+86z0IvSR9Yb1sPXb96b59fqH/Ov+HwAuAoIC5wJ8BdgIXAvqDM0PthAlEuMSZBOZFY0XIxggGOgZDhq3GQ8ZjxgdGFAXURZOFQ0WkBQSEgQQoA46DasL7wlICBAIRwb9Ax8CfgFGAPz+Sf4k/Tb9Xvw5+yr66/ku+XT4S/gP+FT4m/cn95H2BffL9lf21vbu9nX3AfeS9k32svbL9ib2tPXh9d31avWW9Wn1//UG9XHzKfLt8fHyEfJP8ujyvPPr88DxM/A+8Krxb/KG8obz2fOD86Dz0vNb9eH2Off79zT6svwB/qL/bQHQAqsD8ARzByALPw4pD18QBxI8Ey0U+BToFvMYjhlWGSUZyBmWGa8Y+hcBF7IW0hXXFDEUJhOjEPoNegwfC1wKyQhYB9sFcwTKAroALQA1/4P+8P3l/GD81fvo+vf5TfnT+H34mPiY+EX4YPit98D2nfZM9973Ivje93n3Dvi190P35PYs91j3wfbE9p72G/e89r31gvX29FP0YvPC8j/zFPPr8hrzyfO788Tx1vD07xPxwPLT8sPyw/J58+ryzfPF9Cr1ofYQ+Oj5C/yv/r3/PQCcAUsDhQViCPIKow3eD8EQhRFHEmgUGBaNF2YY5Bg4Gs0ZgBlnGdwY0xeEFg4WDhYPFqoUyRGfD1cOpgxSC2kKcgnQB8YFsgNVAnwBNABd/wX/3/6F/T/8yvtx++v6ifnR+CH5qflY+Yz4HvgA+Ib3Uffu93P4p/gF+Kv39/ch+Jj3C/dY99H3rvcb97b2jvbX9lX20/Xr9Sz1+vNQ8wbzafLP8dLxxvLz86nzmvCW7mTvq/Dq8fPx3/Hn8Vbyr/Lj8kL03/S49av3Gvob/Dn9nf4TAAoCbAOxBPYHXwsgDpEPgRCbEXQSLhS8FQ4YdBkmGUUZ3hlyGrEZkRhRFycXRReSFoIVShSAEqoPAQ5hDFoLlgo2CZMHvwUOBJ8BoABVAMH/9/7P/bj8Jvz7+836uvl6+Vj5G/nx+Lf4z/jV+D74b/eD9+z3//eN+K745Pic+AD4xPfm92T4Ufhd+GP45/dq99b2Xfbo9ur2z/YL9lT0P/NO8kryz/EN8h/zUPMI8yfx2u5l7ifvefDV8T7y3/G88FjxjfKm85H0vPTm9m35kPuh/Br+GgBpASgDqAS7BzILiQ18D0sR7xINE1ITURWoF0Ya2RoCGjQaIhr+GfMYZxjHF7MWhBbMFRUVSBNFEJcNYAy1CycKrwiEB3EGuAQOAuz/Ev9I//H+0/0d/eX7FftB+p353flk+bD4Nvia+CD5zPhs+OD3bvfo9/H3Rfgt+Wb5SPnP+ML4NPhX+DD5sflG+qL5g/jq9zj4OPip95v3OPca96/2X/Tf8hDy1/Hu8WzyuPMF82DyWu/r7ODtYO8G8QvxlvGs8I7wBfEX8Qbzv/Rp9ov37Pm8+/L8BP/YAPYC4gRrBuIIdgxSD2kRjxLKE2EUfxV0FyoZ0BscHEAb4RrAGsIa2hmIGbMYjReWFu0UERTvEuwQEA5mCzAKIQmBCCsHpgWjAyoBrf99/jf+kP3k/FH8cfux+oj53fjb+O34yfgn+K334Pfy9yf4HPjY94P3gPca+OP4vvnG+T/5rfgD+ar5JvoH+rT5Svp3+tr5nPiU91H3afgV+Xz4L/dR9W3z7fFA8rbxZPFx8gvzYvNi8Tnux+tM7EXvqPCA8RPx1O+q7//vVvGr8l309vUr+AD7gvyr/f7+XgHIA0EGZQi8CjIOBhGME/kUIhUKFToW9Bj+G7wdth3HHCYc/hslG/4aWxo0GX0YkhesFtYUJhIuDzwNdAzGCtAIngc6BrcEkAL5/5H9ivxB/Az8lPyj+9/5m/ed9pn27vbr92P3gvck91z2RvZ29vv2Mffb90b4kvgu+V35FPmt+Rz6BPp2+iD72/sj/B78Pvux+s/6p/qz+oL6avrJ+Rf5Wvj49g72xvNv8jzys/Fw8p7yJPPT8Tbvjux86pfs+O4P8HHwBvBS7//uX+9t8IfyT/U499/40PtS/bz+iAD1Ap0FbwglCwANBhHVE+AV1RZNFxcY0BjUG7Mdnh8cIKMeoB2oHPobeBs2G58adRmgF6IVMROYEToPhwzfCvkIcQfJBU4ETQKEACb+0vtw+tz58PmE+X355/dn9h718POF9I/1wPbq9pb2xfXh9B71A/bh9gb41PgS+XL5nPnH+ab5Ovob+zT8Vf15/YD9Ev3e/JT8cfyX/D38P/yn+zv7B/v9+WL4M/YT9SD0XfN78inxIfGT8QryevDs7XfrROq166/t1e8t8G/vPe7G7ffupPA689T1tPjw+p/8s/1G//UB9gRTCPIKkw2bDw0SDBXhF8wZ9RkGGtMaEh0uH7cgOSGvIIUfWx3hG+QayBrCGrwZchjQFUoSsQ4aDEELOwrxCKQGigMfAdv+JP11+0H6H/n+95f32fYb9jX1dfTX82DzWfNp8yf0EPWF9ef1nPXt9PH0/vUm+O/5Jvs7+5b6lvqy+qz7Ff28/tn/CgDA/xT/uP5z/g7/Yf8n/6X++v13/QL86/qL+Ub4pfdG9sH04vI08ZPvwO7R79Hwa/DF7TnqMuiG6KnqzuxK7lTu1+2L7WTtZu548Nrz0PeY+xX+vP5p/04BXQShCO0M/Q9rEiQUtBYjGbIa4Rs6HCce1h93IUgilyHAIfcg5x8iHk0cAhvzGS8aaRnWFtgSRw74CkoJkAhOB1sFGgMXAEL9YfoD+KT2Q/bB9qT2uPU/8yLxv/BI8U/yqfKk8pvy6/Jw86zzZ/Q/9Uj2qvel+JP59fmm+tz7m/0M//P+BP8j/1wA+wETAyMDTwJDAooBdAFEAa0AJQCQ/23/Lf6x/Gn6BvjY9iP2H/WO8w3xlO737L/s7O0b7oPtW+oX5+blVube6Nbqs+xC7QXtlOzc6+fswu9w9Ib5hP28/3MAvgAzAnQFEQrkDg0T7RVoF9gY5xkZG14cdR4mIfQiOiR3I0ciXSGyIEsgAx/NHe0bMhrEGNAWchQVEc4NEAu9CFEG6gOwAYb/0f3M+2H5efYi9Obyx/Kg84Hz8vFV8GTvAO/b7i7vWvDQ8anzYPRI9Az0BvQy9TL3+fnb++f8SP0D/hD/2P+5AJ8B9ALnA8AEOwVFBdoEoQSzBLIEYgTLApUBsgCgABsA3v3h+1n50/cY9jr0y/LL7wXuOezH6oXqIOoy6rHoNOet5abju+Oj5PjmZ+m668Tsruty6/br1+4T85r4ef2AALkCwwMJBf0GoAqQD8YUXhmQHPccEx0hHdYdKyC2Ivcl1SafJmglWiOtIXEfeh4THrIdpRwEGlUWghJVD3IM0wl3BzgFKgKz/7b98vpW+Pn1NfRq8kbxB/Ao7/TuGO9d7/zus+5q7ensTO1Q7zvyKfSe9Tf2yPbo9n738vgS+//9RQF0AxsE9wP/AscCqAPbBSoIzAnZCjEK7QjcBo8FlwQrBN0EEgW5BFcCfP+n+/L4l/c29i31TPN68VnuK+so6NXlpuX05u3nsufc5fbiweD+33rhHeRG6IDrJO187W7sXewI7nXySPi5/toDqwbYB98HqQhGC3YQTRauG68fiSGzIQ0hgiD1IHkjFSZEKP8orSjpJoojXiCDHfAcfBy4G/UZzhZ6E30PtguoB6EEGALj/zP+SPzH+Xf2GfTl8bTvDu7y7Jjs6OyZ7dntz+1S7YHspusz7CruufAk8xT1fffh+Jz51vld+v/7tv6VAl0FSAcTCAgIwwf+B0EJHAqxC0QNvQ1NDSIMkAqmCF0HsQZNBm8F0gMkAYH+Bvyv+Wn3XfT58XLvbO3e6gbog+W94ibiVeIA4/jiBeKB4Pndzt2j3h3hdeQ15xjqfusn7UbtQ+438RT23vyFAogH+wmwC9wM6g6vEggXKRzGIJIkHyaFJqcl+CSaJU4nhynbKpcr5ykvJykkKyHTHkgc8ho/GUIXMhQUEKMLSwclBNQAIf48+9X4Kvas8+zxtO+X7avrXepJ6QvpKumT6R7qXes/7Jjs5OwE7UTuKPAn83r2SvmS+1v9rP6W/9YAmwIXBSUIWQuIDa4Niw0JDccMgw2XDsEPAhApEDYPTw37ClsIJgbgBCIEIAPDAHn9Ivqa9obzYfAx7p7roult50fkO+Gj3eDbh9pH2z7d/91j3uncyttJ207c697r4YXmmep/7pHwUPE18lT0Mvkq/4gGJAwxEAIT5xSsFn0YrhvOH90kZylwLLssMSy4KiUpTynqKVoraCtkKmgoKCWiIUUdshkHFwEVqRJwD4oLWQd5A17/6PtM+E31dfIf8HnuV+yj6gvp6+fX5i7mY+V55SPmfOdi6eXq2eyJ7XTuqO/w8f70Rvj9++b+yQGXAw8F+gWlB0UK8wxKEDgSWRPyEkwS6RGaEX8SMRO4Ew0TnBEdD0wMWgmnBhkF0APmAlsAcvyz95LzT/Bl7Tjr2eh/5mXjG+B13PfYxdYf1YTURdUP10DZfdqb2rfZ0dgQ2pncs+Br5TTqjO9+8y32I/dz+Fr7swBQCJQP/xU3Gt8ckh0uHjYg6SJjJ0csIjA6Mooy6TAcLsErvirhKhIrnSrGKCYmfiIYHpsZHBV1EUUOEgtOB+8DngDi/Dz5yPX98c/t8epi6NXmjOav5ozm+OUG5Znj3eJR49HkI+eL6gLu/vAg8mLyU/Nl9cr49/yRAWQFuQgiCyYMVgyqDcMPRhKwFRwYrBhiGJ0XHBYZFQMVARW/FMwT6BEYD8kLpQhuBU8DSgE4/2r8XvhN9PfvVewA6YPmReQ64bveMNyu2B3Wn9Pr0dbQt9D40XvT4tYg2bvacdsO3FjdZd+f48To8+479N/4Cvw9/o8AOQP4B5MNaBQrG/MfcSPbJFklFibxJyErki75MfMzFzSPMkIwAy4ELCkq1yiHJ3YlnyL4HlAawBXfEckN6AmXBfQB1f1F+pT34/Ok8JHt1url58DlIOQg4/niEeN4453jNeR/5A/lROaO6NrrEO848qr0+/ZH+cL7p/6dARgFJwkRDdQP2RHwErYTHRXdFskYfRrgGywceRsvGpgY1xZZFU4UBxNeERIP2wvYBw8EsACe/Rb7evhF9Z/xwO216crlkOLF31Pd9dpu2CnWT9Pt0CnPr82kzbTNq85z0P3SN9fL2lHdHd9S4BTi+eU168XwmfZk/LgBdwXECBgLtg0lEuYXFh6ZI2AoBitiLAct6i0SL3IwjDK1M7g0gDTPMocwMi1iKs0nIiVnIjQfhBt1F4MThQ8nC3UGNALC/WH5k/Uc8jDvuOyb6grod+Vx42vh4d9r39rfI+Gv4vjjCuUN5l/nMOmY673uhvKB9kH6d/0yAN0CgAVmCPILTw95ElAVlhcHGfoZDRvCG4kcYh1wHf4cZRwPGzgZ/RbnFLoSRRDADZQKOAfiA0oAqvw2+az1evI474zr5edC5M/g+91u2+jYONbw0yTSYNArz17Ons0mzYDNhc0pzz/S0dY33BzgneP05KXmjek27Ynym/hL/2MF1QpfDqoQuRIHFT0ZKh4TJFkpVS0RMFEwljB4MIQwPTESMqYy/DKhMpIwfC2MKVImyyK6H9cc+RhMFWwRfA1SCQ4FcQAM/OH3NPQF8dHtXusA6QLnMOV341ni6eD937vfYODg4Y7jguUl5+PoOeuw7TDwe/PA9iH65/1TAaQEjAdPChgNOhBoEyUWiBjoGd4a/hvFHHEd5R0OHqsd1xzRGwAaoBc/FaMSCxC9DSsLAQiPBOMAKv2a+eb1kPIi78TrdOha5WPiG99K3InZ7dYA1XvTY9FM0E7Phs6JzvzNx84uz1vQddOj1t3b4OCX5AvoEuqa7ObvVfS2+a7/1QXcCnoPUBP5FbEXiRrhHfchMydZKyEu2y+1MJUwZjCdMKkwPjD4L10vuy2kK68oDCXzIYUebhsPGL8TlQ8xCzcHWAMSACz8CPiS9E/xHu736l3o2uVv5JLjA+Pw4RbhC+HY4AvikONN5WfneOkF7GXubPFr9Fz34voe/rYBOQUXCK8Klg0nEBUTQxa/GKkakhuJHL8cCR1jHQcd2xy0HCgcthoBGTYWIxMuEGANIAtzCKAFGAJe/r/6vfbk8lrvCewn6VfmauOa4Knd5tp42ALWXNQF05nRNtFC0KrPes9iz1bQ9tCy0uLUTNhH3c7hl+a26Tbs8u7K8ff1vvqKAAgGjQsQEIATbhaQGGAb7h0EIv0lrim8LC4uNS8aL0gvKS9OL/gubC6iLRIsTiokJwkkeyCSHdsaEhfDE2kPEwvzBuwCmP9A/Pj4cvVC8h7vZex36R3nbeU15NvjMeMH47HiueJT44DkV+Yh6PfpSeys7lDxmPRk98j6Sf6IAcAEhgddCs4MZg9MEg0VxxfsGUkb9BtxHIQcpRy0HIgchBypG4EaqxhxFt0T/xAwDokLEAlRBkgDhv/i+0T4mvQq8d7to+rR5xXlmuL63wvdrdpX2KjWP9UG1NTSMtL50VrRi9Gq0UnSZdOi1E7XPtrh3rzjwefZ6xruyPC18zf38PvfAAMGQwvrD2wTjxaFGKQaEB0CIOgjaCeJKpAsJy1eLVwtCS0sLSYtuywcLJAqhyjgJZkizx+vHAMaOBeiEwcQdgsGBzkDtf/x/Ib6Wfc89Ajx/e2b6xnpk+dc5nnlouVZ5cHkzOQp5Qnmque36ZTrh+2r79LxOvR+91n7pP4MArUExAYGCTUL0w1vEE4TYBbpGOIakBsbG6EaTBq7GnwbzhuhG74ayhgBFiwTSRDDDbsL6AmxBxoF4wGx/V35dvVd8vvv9e3f6+fohuVi4jXfxdzN2iHZC9gR11HWL9XE09LSbNLO0qfTsdTc1VvXXdkz3ATg7eNz6PXrae4Z8XLzCPck+wIADQWICR8OsxFSFFwWbxinGi8eJiJzJVkozykbK3graiuCKxormCtzK9gqsymQJ0UlvyLpHwwdthrYF/oUSRElDSIJEwU3AiP/J/w3+Tb2RPNz8OrtLutZ6T/otec658HmWebu5U7m2uYi6OXpGex07mfwrfLA9I/3jvqR/YkAXwMpBmgIEgshDVkP/RGfFPkWnBi+GbAZqRnEGaMZvRnZGbAZ9BidF40V/RJuEAQOswtvCWsH2gTaAaD+hPrp9srzvfBt7iXshOnx5ljkveEu3+zcFNuC2XfYEtgi11fW+NXk1C/VbtU51qbXbtiS2pLcx9/k45DnNOv77VXwDvNU9vz5nP7QAgUHFgtdDgUSWRSoFtMYrRrYHecg/SNJJsEnbCifKM8owSiaKCIoBCgqJ1MmASWLIgIgPh2JGv0XWRVREhYPegsGCOME/wEO/wP8A/nn9WrzU/Er70Ptq+uK6uzpk+kz6X3ofej46Pjpu+uQ7VfvFPEm8zT1ePcc+s38ev82Ap8E4wYxCVQLjw20D9kRHRQCFhsXWhc4Fy8XTRexF+gXxhf2FucVYRT/EdUPrA2JC4kJxQd2BZ8Ctf8P/H/4fvUY88rwge4+7H3pyOZl5FniOuCN3g7dyNs9213aYdlU2O7XA9iT2KLZf9p82yncFd183vPghuT36KvtBPE286H0afYL+bP8VAGsBfoJxA2OEJ0S7RPiFFwWwxisG0ofiyJ8JOEkMiRoI/oioCNqJKUkoST5I4giwiBYHmUb1RjSFgcVKhPNEL0NRgrIBq0DBwHm/rH8Rfqq9+z0tfIx8Qbw8O787fnshOxn7JTsiuyo7Pntae9K8SXzlvTo9bP3DPpt/Av/bwHcA4MF8AazCIQKGw2bD78RNRPGE+gT4hPxE+cTThTkFFYVVRXvE4wR9g7IDC4LSQo2Cb0H3wUNA8v/Y/wg+Tf2OvTi8o3xku/47Ofpx+Zq5JXiweFu4RDhNuCP3krdLtyg2wfcbNxx3fPd0t4K4CLgReFQ4kDkk+fZ6kPu3vB886X1rffi+U/8j/+5AuIG6QlsDMQOAhAiEjIT1xSIFpQYfBtGHbIeDB8zH9UesR62HskeDx8WHw8f/R3BHGQa+Rc0Fh8UXBKFENsOvgxhCpkHjwTdAXn/iP2c+0H6a/jF9rD1YPR6823yh/Hy8BPxVPHE8abypfMJ9Rj2SfeK+PT5iftE/Sz/BQHIAoIEWAbRB/MIIAroC3oNBw88EI0QjBCEELYQYhAdEBwQ0Q9iD4QO9wwXCxIJIwdtBUQE9gJ6AYn/2/wL+mX3HPUH867xGfCI7gXtcetQ6Wjn/OW/5IfkP+Qf5GTjpuIH4srhG+Lo4gfkauW65hnnjeem58vo4uqL7QHxKPTi9qr4kfn/+WH6BPwp/xkDcAZTCUoLFgzVDOQMsg0/DpcPLhKYFPcW8RcsGI8XeBbrFeoVmhbUFz0YSxjyF5cW6xQTE5YRWxDtDuEN1QxGC9sJxwfVBVkE+wKLAbf/Df6H/F77XvoR+sP5Tfla+b34GfiM92z37/em+DP6qvvF/LH97P1I/hf/+P+oAUYDwATsBdAGRAd5B7AIcAltCpULRAxLDOwLaQsKCycLHgs+C/oK8wl3CPEGrwWqBHED1QIkAjYBev/4/If6Ffij9vL1B/aP9en0cfMW8avutOwn7Ojruex67b/tcO0n7FLr2+qe66jsNu3L7UXuR+9i8ODxhfKo8qTzi/R59aD2wfcg+bj6N/z3/Zv+B/9U/+n+zf+UAfADqQVCBWIEGgS3BPMFowZbBw0IkggxCToJAAm5COcH1AfsCCkK+QvyDA8MjgrOCM8HUwjHCf8KLwvpCgYKowjRB+0GDgalBXcF0wVMBqYGuAWrBKoDggJ0ApgC8ALgAhcD1AJGAnsCrgKPApoCfAJjAuAC4gIoA1oDwgPoAwEEPwTeA3MD1wNxBL0EFwW/BPUDlgJ5AmQD0ANKBAsEQAMPArYAXwCx/+T+NP/+/6EApABh/739Dfsa+W352vmV+yf8Y/sl+QP3l/bN9Vb0xvQ697T4Y/q3+f/09vDC8SnzzfVU+ZT5sPio+Kv29fOM8yL0zfZ0+0H/sv7T/QX7mvYg87/0h/nY/RMD4AP7AfT9i/pa92f5Vv4aAfgC0gHr/8/9rf2x/Pz9nQA4AWcCAgJ5/w7+gP4ZANMCkQR7BCkD5gENALH/eADqAT0FfweABysFhgKmATsCGwN/BPMG2AilCDMGWAOcAjsDawXAB6sImwhRBfgCfgI9A7MFnQh+CTkHkgWuA6MDNQSQBOcFKweCB8gFfQShAwwDEAOlAgQE/QWxBS4EOQIzAKb/NwJuAgsDtgOnAngAhv4w/en8KQI8BE8DAf9W/cD6Ovvb/kP+RwHI/uH+MP6F+e34kvk1+qb9sf3F/C4BhPzG97n4sPcR+zb+IfxG+tD52vux/NP+4vuH9qf0PPeb/Qb/7wE5/3r6cPkh+uf59Psd/j373fs0/pf/SACe/lL6Vfo8+BL7fgLmBhAHyf/L+OHz1fgvATsFCAWAAhL/2vxS/mP+yv6rAbABtwD9/xv/YQMCBFECUv9J/uj/Rf9eBBMGHASUAM38fP7rAmMHpwRbAI3+tP+gAmkDYQW9A+EBGv+V/fUD8QYyBiYE1wBF/fz+kAN5A7IFkQEF/0IF8AMxA7IAP/0s/74AzQR9BeIIjQZh/Zb5HPqcA1oJpAxnBe36hPyF/Jb/zQXlBiQE/AN6AD/+2wBK/3b9pv5TATQECgZBBH/8Hvrp+lz6hP/7AAADpP8T/XT8uPkc/jn/gQJbAtn+IvlB8xH5HQDZB/MKUQBf90r06PZy/AMDsAdxAUn82/o6+tj9vv///SwENwLT/uUAvvzCAY8AZP1J/KX9UAOgBIgFRf9C/DX7jvqHAmkE1QAuAMX9iv9pAs0AF/5i+bf6+AE2BRYFNARZ/lP7O/mL+VACLATnBdgBb/5+AF3+8P+3/VL/2AAAApcFbgFO/uwAxPwZAB0DGP4qBC8EGQSu/1H94fwgAOMDowJDCeT/Q/vF+R79EQOoByARxQRZ+vfyYPboAqICdQZGCBIFBgHG/lT54PcyAY0CKQKOBEIAzP79Ahv+Cf6XAfoA5gIuAHP/fACu/S/9av4QA1oHgARyBoL9AvnV/UX6sf/MBlwHZgaGBLn4Qvna/QD8lQLpCLAHHARA/7/5/PrH/UMGMP9//a3+Xf2wBTsDywTE+DD1hP0NAQgHOwI//oX6EPiP/voEOwbKAk36bvZJ9ib90wamA6AA7v33/WEAJ/yf/JT7uf/kAmz/uAJl/zj+ngAG/MH9IALX/sIGBQLU96L7Nf5wCCAEjwBY+W78ngVuAdkEOP6n+gf6GQJ9BxwMJQTd9r/2i/QfBOEMTA1nAbz0xvKM/GEIzAeJBVj6j/kL/MQDmwZv/Vf9y/zK+x0E0AkIAhj31/jP/yQD7gkTAiL5VPf/+6EFowUtBPEBqPkG+DT+7v5jA38EZAUl/4f7Wf08/loAjf4sBfb+8f9rAir/tPyA+4ABzgENBhkCjf59+Kj7UQQyBRQGTwFK+4j3owEqAUQBkAHsAFAEQ/7e/sb8Lf71ANgDdQSYA23+j/iB+r76EwWgCc4JJAWD+IjxUPJ8/gEN3Q5WA937zPaZ81j+JAs8A9D/N/699xr9WwFuA7j9OAEXA1L/W/74/Fb8u/sHA/gEDAF9/n4BLPvg+nr9kQHTCUMF2f4I+RD66PyvBPkFcwPg+xz8TwGS/qUCkQP3AVn98P7p+Yf7GwZXBUYEOv3o+P/+4QH8Ayb/7PuY+skBvg7QAUD5N/RM+X8CMQo0CUj7mPi296IATwR4B4gDV/xS+gL2Nv29CeIObQX5+pP21vIx/O0J6wncCFgAcPIK9IkAOgcmDYEGX/a19xsBDAZMBqX+CPas+pIFNQu7CB3+A/Ja98QCxwt0DfkAAPR68s/4OQizE1EKuvxp8mH09v1nCBEJmgXI+kf2xPkeBhEKZP8e/gf3FAG+AhIF1Puo/dEBs/oXB/gFMQTU87X0lADzCvoJogLh9UnzbQKJA+wKwAI++EX0pP7ZBoAIAwNf/cL+OvzhA9f/NP7T/qL/1wCwBE8CFf1MANf7A/67/NwCCw1bA3z7Jff/8ur+9A5FDFQCpvmc8sP2QQNICqsJugdH/NPzNvkKAP0CCQOSAfb/uwFAAQkCYP96+pf9+P1kAcAI8QWL/aH4Mfmu/TwHCQzDA135XfTZ/bQGYQekBf78Z/pT+tX/mgUcBXYCFP3n/Xz+2QEBAfT/ZQFV/mwBEQJw/kX8//7YAN4DXQW+/lr9LwBW/9n+QAILAK//VgMlAPb6AfppArQFvwREApT99Pol+vgFkAFD/0wAS/pzABUAKQVJAwwDhAL5+tX2XfruAy4F2gieAnj9ZPtD+u0BMANV/xL/UfzDAQsJlwVaAGn69Plu+w4Glwb9AK/9C/Vl+0IHtAsjCTP+Lvdk9Jv3CQccC8sJ/ADX9/L3vPsxBdsFeQD5+yr80P3IAywFawLMAh3++fqX+Wr7hwAHBOEEmQI+A6cBI/3Y+cD99AN/AdL+LPsI/owAcwV1Bp//iQKe/bX6+/n6/O0CMQNvC0IDHfu2/RP6pf5EAdoDwQJKAG4BHPtK/MYAiAH1ByYFT/18+lz2iPoqBPINXQo+AtL1me/0/NYFfAokBDP+yfnq+Kv/WAe+BccAIQHy+Ir5NfqcAekKswWYAw3+Yfk2+if7lAGtBUQFkgNg/937o/if/moEUQf4Ayz87Pus+k78DwPLB4kG/wZM/tr1UfmG+iwA5QcbCV0F+P+l+YH2BfvJA+4FbAkKAlL5Kvij9rEInAhsAuUBKPoH/SX/2v53/Z3+ywB8BDMDYQHWACb/Rvqg9Az/fAjnCSUESfw79qT5TgXfCM0ChfgI+ST8EQT8BxoCjwCQ/RX7U/xgAswFTQGA/Ij9lfj9/9sJvQK0Anr/1vo++IUAjgNw/3oEo/zp+zX/7v/SCLgAfPnj/OD5IgN5CNYDzf1P+YH9BAEuA/X+uwBCALH7mv/O/gQC2AUi/yn+MwLu/xX/d/ub+AMC9QgbBzsCmPor9Sv6QwdnDLMBdfVX97MBzQbaB2AAIPZr/VUB1gFiAwP+if1K/JsAIwcoBrX8Ifrf/MT6EQJaCEYGbf7D90n7U//GAhsIFALX+5T70P3PA4IFygDk/Mj81P68Aj4B6QDt/x78U//YAz8AZwCsAM0BswHj+vb8WfwkAlYJmQLp/Af9vvxSAGQD1P9f/9wAPf6Q/pEBjv4fAbgCtAGo/WX4dfu3/uQEfwyjBVz7qPi89oH9QAPGAxcEHP9O+4IAgAF8ANQC4AEf/DL73P0L/v4CHwRxAm7/aQII/on/xwJ3/bH+gvstAiwGRAMp/HX45P2kB/MFOP+D/Gf5lv+eAkAHVQHG/wL7EvsTAk/74wL7AVD/CgD3/yP8hP4ZBmoCYQEy+m/5P/2pAe7/sAA8BzoJWgEh9vf3SvcoBgAKugPMAfP77/y0+lYAQQSTBLgECAG2+hD9pP8Y/T0BAgdrBjICov+J83z4JwVLBtMHf/4j9sf5TwQuCeEDWvpl9lsAYQgMBlH/XPkR91D8WQMMCP4ITACi93X1f/y0BusKvwNi+iL1MfxUBzIJ/QUJ+5n5S/kK/a8GiQimAjX97foY/TgECQKlAEz+w/7V/FP/GAanAbEAFwCh/g39qP12/T0AQgdGBHP9qPso/aD+mgBmAuMCbgJo/QX8GP1T/8oCVASWAv79fgDz+yP7x/zF/7ILAwZa/kb74PX+/BAEYgZvCYn9P/TM+AsCBAjWBRj/J/gxAnUFOf6Q+wT2FP3jB0wLkQX5+qn2ovezA+YHRQYvA437Ofkj9dv8+wipDkMHXPqD8/L30wawByoBivut/3YDmAL6ALn87vme+1UDjAMRBlUBAPol+0X9/ANjCOMBPPs++g74ewDmBDUFQAbfAav5OvfY/cABXwZkAiP7TP3ZAnEC4gPB/pP7P/zH/TEJNwag/xr60vku/q8GRAlJAOb6S/Z0+5UDZAcRCucEi/Me8ycAgAbvCJQEOvmO9cn/1gNAA1UCQQHv/o8AZ/42+UX8/wIBBgsBOv1QASQEcP7a/ST8HgFhCH0Ctvr6+Ej9lgAEBksGTwCh/GT7Af5x/ob9nQWgBeUCfv/e+NL5WfzvBasETQKW/Tr3CgBVBNAFAwHj/K36ef3RA2gAsQHc/4H+eQO9AywB3f6w+6H41QARB5gG8gC++zr8jPpaBroHbP5w/hP7L/uyAh8GFgDM/vj8RP3YAmkC5v8d/r78dv2qA+MBKv0+ASAAUvz3/SABPQYtBHH8Bfgt+6EJJw0xAKDz4fFa/qELfQtVBSj8nfRV+pUDyAiWBUj+Ffi194QBsgfACWMCkPaQ9635WgSyDd8EPvoY9Rr5iwKEDXsGVvy6/aP3r/y5BVIFEgIv+wT5Y/8yB4ELo/+d9JX5DP1PCNQJ4wBz+xj3hP5GBLIFSAGw/Hn8EPzgAjUFsPwE+tgAAgYXBe/8ffhc978A2As9BLYAnP5V+2D4C/6TByYF0AYFAJf5mfn/+B0D+QozCuUBD/cM9wX9rgZaBkj/SQQF/lr8jQA+/r//x/9VAKD+GwTbAjj5Lvhe/WUHuwuz/9v2QPdr+ugGXQgHBTv/i/m2+2n73f5wAtkE/AVwANn7WPwA/xUEFAELAoADtgDb/wj7wP7CAdEEswJA/TX83vvgBToIdwDh+yb64/9dBTkBzv2q/XD+7AK7BDv+gvni/bIARwPsBgL+Lvey+4cAaAMbAz4Exf7N+WP/BQKG/tcBcgTg/ur+Ff0L+h3+QQlGCZgAkPp1+J38CQDmCSYFM/7X/OX6qgQqBpMBsPs9+5/+wgOqBg7+Ovkx+4IEpwqMBK39t/hk+GT9PgOKCcwFIv4n/A35PvwfAogF4gR//R35EPnt/+UImQaNAC788fvM+0z9HgRDACYC/wPT/zIA5/qq/Bf/bAJnBqMD+QCJ/PD42fjx/74M+w/IAzr14O8S+VoFxQ6jCIr61/co9qECsQssBgwC7/Ud9nIARwJ7CNgBcPm6/jP/QwDuAm0Cf/rb+Wf+gAQnDDsEYPqk8m7ytQPHD4cMOwPi9Nnxhfx3B9UM7ASR+sL2NvtIBjwGkf/M/8/9AvxwANoFUgD7+0b8LfzXCAILYf/+98/0pvt4BfAIPAb++4f0sfWHA74LWQnVCf33OexQ9OT+mQ3VE5oEcvMp9f36CgPQCLcExf9y+aD5XAIMBAgCdf/G/S7/cAL3AlQAsP3i+UX9SwBzBs8IRAC0+CL1/foCCL0KuAK1/V/0o/a8Aa4KmAttBCz8A/FD9n7/XgeWCyEEGf13+Pf1f/88CiAJdAD99w35F/qABfQIQwHNAej4tffCAWIE3QKoAEz7M/56BSkBRvxQ/a76S/1jCsMJov7N+bX3jvsLBd0HLQTV//r7L/ny+m8B7QVuBl4Cavyb+Ov8WQQ7BgYDbv9F+Of2owUFBk//Pfxi+iD+1QK2CnQElPxU9yj23/07BFsNpwY5+0H4/PIU/esLsgtqBtD29u+x++wJnwxvBCcBbfLB8vgFdQ6pC4j8mvBY8tYEqg4JCuv/DPRg9i/9PgcqDl0CgPIA9EEACwoDDy0D5O1679z/nQpcECUCZPHV81H99wcwDPMFEfta9s34/AEoB+QF9QX0+5/06vnAApYL2wlN/uH3Y/kMAWQFxQAW//ADkwFYAQ4Eq/jc+eUCOQJhAcsBSv3Y/LMASQF1/wP8tgUaBn7/5/k8+Bj7bAPnDBsGGP3V8KL3IwNzC68MJ/z78mj2aQGXCboIvgFt/8f5Z/3y/XoA+QLhAMYFmv54AHb//P1vAdb+IPyvAt4Hv/6R+vP8KAKUCKsI8P+b99/1c/rSAbEJLwaWBDL8Fvay/EX+VghzBV4Czv+s+Rj6Pf5dBH8EWQLO/l/8CfwTAC4CMQIS/ZYEWgcH/w/7Sfb9+pUAYgnKDFsFovls+JP0vPkbD44OVQJR+Lr0Jvi/A4YMewgDAMH9Lfmj+lcE6AWXA+/84vn3/qYIYAIT+tQA4wHpATsBcfw//BEAkwALAAUFQwNqAdX8TvcW/qb9eAAiBu4Gov8d+774tPsXBkYFRgep+xD2HPv4/7EIpgZ5Ab/9xfxO/Jf/wAHqAeIENwDH+2ACQgPxAmX64fsbBJ8BZAhRADz56PoNAfsEWgNEA/b7Wv7sAbj8KPn0/hgJKQpm//byCPXsAAAH3wmiAv353Prc+lj9QwT5BwIAC/hB907/mgguCcAElft38/n6LAIUA2ELxQKg+/n7RfqZ/i4GvAth/4z34PosAPUGsAd4/V32+/seAYsFjgkZA576Evs4+nz/rQQhBsEBr/nt/eH/vP8qAtH+lv1QALr8tQBIBewA0AMvAA33iPhQ/08FuwOCAaD5cfxvCVQAifoP/fECjwCM/E3/qAB4BWMDnv6U+RH8mwEwCAIDU/ue+j367QRXCEYEpvuj92T8XwRWCf4D8PtO9nT70wPiBdsBVwMEArj2H/v8/3ICNwY8/xn6r/32BfQGRQE+98X1U/7KCUEKof43+wP17PlMCUYJIwG5+8T3s/n4BjoIzfxy/lT9V/6aBMwCH/+S+Gn6gv5ZBWIIfwHW/5/7Rffk/gEFvwXYBLH7a/u5/2kCYAEN/Jz9mv4ZBqkKEgF69zP2K/sQBtQMfAf3/kn04fWO/W0I6A2xAYH5SPTs/JoEkf+uAk0EYAFb/d78ZP9C/hD/1v4//0sC8wM1A3MA+P6j+C/47P/OBWUG1gUS//70tfjSAQcJSQhCAhz7fvmE/VkBfAS8Ar757vpyBHgDFwVt//X5E/+k/vH+1gJNBeQCQv1x+vv6lP9ZBmMJugFR+o/4Rfn2AWEGqAWh/RD7kgSiBesBIPwV9pD6wgOyCoIJrv0N9mb4GQGlAykHFwXE+WD5tfxR//UBrgUrAk/+0/1e/qIB9v0NALz8m/v8B7IFU/+K+5X5rP22AxMJvAZ7/QL4jfim/I8GMAtDBT/+7vnA+S8BUAQCBEAAJPtl/HQDjgON/e8Bav7o/g8AkgC8/xr6vgPLBej6K/v+A2cC4gHw/YD53/znAosGsADU/g/81vyDAUUCAgMHApf62vbVAFAI8AcvAKX6iPoDAR0I0v/H+cv8ov9KAk8FmwGY/tX+aAHb/aX7bP9t/+wHfAD1+2v/zP/T//v+fAGV+n79MQV2BzwAPPpr+Af8ngX4Bo8DEP6/+kP7lgFoBXcDBf4E/Lf99wHzA2gBSQCD/C35Rv4ZBnIEz/1V+soAjwIG//8AGgAJ/xz/8P1u+7wCkQje/4b7Tvvd/MUBFAnAA+n2CPqx/aECnAhQBJ38jPmO+vr/xwXmBJj9xvkqAVUCE/9s/wH+Vf6tAo8FBwEk/P75g/stBREHZQMQ/zv7TP9h//L+gv78/5ME2wN8ABP+iPhx+PT/tQRJCZ0EWvnD8yH69gSCCSsHUv3j9xT42P/hBvgBwPyO/CsEHQP1/sL8mviRASwIWQJS/jgB4vvU+dz9m/+UBhgJEgOG+t32I/nnANEHAgnbAnn4gvs2/gf7FwJhBjYGvQGJ/n/4d/l5ArIAgQK+BPACgv6N/GL2ZPn9AwAH0wRnAYkAxf3j/XP2qvptBy8NbQXH+fP6BPo6AP4FYQNb/7b+PgA+AIMBBv7O/loAfQK+BAT6gvrMAKIA2wIyB0YBMfmI/LH60/1mBnMHXv+u/iP8jfjUAUQD9AOaBHAA6/pT/WQCHgBTAF8B0gLwAVH/8P7o+rn7BwEsA/0InwZf+hL0sfb6/40J5QpBBIj8g/b790MAuQaJAwr/GP9l/aQAYQI0//78wf7Y/90AvwP7AGX9dvw9/K3+7gV4BwgCIflO+Lj/FwZoBW3/lP0U+0T/DwI6A8YEWgB1/EX9NgCKAhUCOP5VAGACL/92/yECqP4M/Z//FP8GAQYDdgBl/4H+GgBXAe//X//pAdgDIf8//Z/9HQG5AQsCZwG+/ikAav+xAS8DcAHT/V/6uP3IAfEB7wFOAPr9iv5yA+4CEAA5+xb6L/+9AaUGWAIv/iD/7/9qAIf/AAAwAsD+Dv5UBdgD7wBj/W/5H/49BhEFdwFg/Hn5sf+4Aj4DEwTu/s/4DP/uB+kFufyc+W/9JgM3BLUCoP8o+7T8hQEmBwMFq/7K97352AEnBdsGjABJ+TP78QK8BM8BZP0Z+9j+2gNpAzL96v3U/UD/TgUJBj4AIfp/+hD+UwW0BqUCJQAs/m/+/v9o/5X/mgFSAnABRf4C/oT/8v92AMUAVwAJAN/9LP+sA3QDAQGG/pj8kP1e/50AmAPOASz+WADyAb/+r/1T/bEAWgJQASEDuf3x+/H9YgDfA3cEGgNr/qf7q/yfALgDzAJUAcL+If4b/5v/6v+iAfkDbQCv/vn+T/6H/ub/2QGQA2ICRwCj/S76S/vb/kQDEAQtA7T/uvwP/Cr9UQD0A9EFkwFc/Jr8IQB1AZ0CEQHfAJcBegKmAdr/3P38/EkBVANUAyMA1P20/f7/TQEBAj0Cxf6s/df+HgBm/8X/Zf92/uwAtQGoADH/Ff2Z/oYA4/8aAED/Pv7KANcBegGa/3/9Pf9KAaQC+QAF/27+UP9w/xz/2wCKAcYBRwDm/rv/1f+L/ywAqAAkAG//BwBaADD/Kf4y/xYBOgEm/3f+Pf4C/Yn9f/6qAMYAOP4m/f78Qf42AJcA5v4k/uT+t//V/6f+I/8dAKABdAE9AMMAJwBp/wT/Q/+w/6oBmAKIAXAAcv6D/loA/gAUAWAAv/+W/s/+DAH4Af8B8/+o/+gAQgKOAET+sf7J//4BBAOYAuf/If2G/ZgAMwKBAjwBZ/+v/jT/6P4E/7z/XgHXA0gCVgBG/sP9N/++ADgBTwEfAJ7/pv7e/SP/Af8hAR4CxgBu/kz9D/72/+gBHALVARwBRP9i/mj9A/+FAlsDmAIY/zH9ZfzI/pcBNAKTAuYBZv/K/bD9lf32/7QA4AGPARYAvP6j/ef9p/6E/2v/rf5m/Xj8x/sX/br9qf4E/7L9Ef0g/G37e/z7/Uj98fw3/cX7p/u6/Pj80P2M/XL85/sK/LX84PwC/dH9s/2O/kf/uv60/h3/IQBoAHcBVgDr/wUBbgGIA10EOwRxA+cC5QJbBGEFLgVZBgMGuwXCBUAGlAbsBToGXAafBvYGxwadBVgFZgX8BbUGKwZ5BSAFkwRgA58DCwT2A/wDowN7A9cDYwP9AnsCYwJwAm4CPAIBAjACuAE1Ar8BoAEaAYAApgCvAEIApv+D/9v+W/9K/2T+Wf6C/vX95fzM+6f6gfnd+dz4g/jF+EP4tfdZ9q31tvMg82jzIfM+8obxfPDz8Azx/++s70PvM/Dc743vAe/t7lvvH/Hr8gn0Vvab+Bn7p/yJ/Sf/RwGKA6oF5gb5CJALfQ2mDoYPfRDFEagSQxPiEp8SvRKTEugS0xLIEmYSoRExEAsPkgyqC4QKvwgiCGcGYQWxA2gCFgHz/47+tf1n/Ln6vvo4+nn5c/kh+ur6OPuO+x78xvuT/Dn+yf69/8YB5AP0BT4HiwdSCL0JjgoFC20LIgydDJQMEA2dDLgL5gotCqkJ1whSBwkGtgRNA0oC+QAW/5D9iPxa+xP7j/p7+qb5hvgI+Mn3O/ji95r3f/fr9nv2O/aY9eL0hvSO9Lv0TvWa9YP0N/PL8/LzavNS83LyTfHd8PXwlfAo74btP+y36rDqAuqc6YDpeOiO6J/ptuq/7A/xuvR8+QX9Hf/NARkDiQStBmcJCAzyDhES5hQkF7sZKRx2HEQcyBsMG9YZWhhwF0sW3xVnFX0UZxIuEAANGwlYBvECBgAT/ZH6NPiY9kf15POC82zyZPH98KfwU/Bm8Pbw8fHx84722Pj7+sT8NP+rAcgDswUxCPcK4AxJD6ARmBMDFaEVchU8FdQUpBNgEqwRMxAHDloMPwoaCA8GGwQLAqn/z/0K/C/6uvhL98v17PRR9bj1TfbD9n73TvhS+Nv42/kp+wb9tf6o//oAlwEqAnwCiQKVAmECgAIeAkgBx/9W/un8jfvm+T34O/bV86LxoO/b7f/rHOqZ6G/nleYl5TPjIuLb4H3gPeCg4AfhDeJ95Lbnueyt8e73Ev7MA9sI2gzeD/QRnxMPFfAXJhucHqchXCRLJesk4iPiINMd6BkaFtUSPhD6DSELOwkTB5QEswFD/lL6x/ZM8/vvLO7M7LbsOO0O7invc/Cj8cnyIfRD9Rr3Afl5+1P+gAEzBeoIQgw6DzoRZBKMEz0UKRUeFjsXehgoGUMZtBh/F8QVRRN2EJYNywoeCKoFmANWAYj/Yf1G+5L5E/iT9gH1CfR88/bzlfTB9er2JPix+Yv7iP3K/jYAJQGFAtQDIgVhBogHYQieCOMISghqB7gFPwSsAjQB4f9q/nT9GPyN+mj4R/aj8wPxle5k7Lbq/+jQ5+DmC+bv5BHkVuMR49vi1OKH41/ku+Xp5q3oPutX7rLxG/X8+En+bgUZDdgT2RdzGfMZIhrzGcoZzhmjGl4csh1pHsYdIRyGGfUVwxFTDQgJZAVJAsD/O/4A/Sz8+PpT+Zj34vX/8x7yr/DB7xjwSPE/87r1T/jQ+ij9Bf+RAO4BTwPCBKkF5QaDCPoK0w0fEN4RHxPTE8sTcBOZEvkRcxEGEYEQqg9mDsYMRQsKCX8GmwPwAGD+jvvf+Ib2fPW39AL0dfMd80DzevO38wf0EfWK9kf43PkO+3X8fv4nAVMDEgVKBjUHEggGCM8H6QeNCB0JEwlLCLkGTwWWA/YBVwCB/tj8CfsV+Zz2JPTP8Zzveu2B6+jprOiq51HmZuWe5MLj+uIb4p7hc+F54aHhQeIm42fkVebs6PPr9O5o8b/zqvbo+i4BYgiyD10VUxndG9EcoRwZG4kZTRgkGFgY2RgXGWIYCBdHFFARmw3mCdQFvwEy/nD7afqy+b/5Hfl++Of37/Yh9u30NvSQ887zvvSb9iv5z/u2/mEB8QPTBVkHQAiNCKEI0Ai/CSoLxgw4DsQPShEkEpASVhK3EfQQuw+hDpMNfwwrCwUKHAn7B7MG4gQTAwABV/5I+6T4uPZn9c303/Tr9Rf39/c9+Kz4fPla+kH7m/vR+3f8jP4+ArYGLwrYCz4M8wtWC3EKkwnfCIYI0wcfB6MG/AUWBZoDKwLQAEH/5PwD+h73VPQC8gjwm+6G7bDs9uty68vqo+lY6PPmseVO5FrjMePC45bkp+QG5RHmw+fz6TPssO4m8UDzrfRD9x38XAM7DD8UQBq4HTkfFR8EHhUczBl/GBsY2BiaGVAa/hltGOYVMBLUDiUL6wZJAkn+j/uA+qT6k/rj+s76XPq9+cr4nvem9gf2q/VR9sr3IPrU/HP/2QFVBAYH+QjUCfAJiAmJCTwKKAvODK0ObRDrET4T0RPTE3ATZBKMEXIQSQ8iDgsNuwtrCnkJlAhuB2UFvALU/3f9O/tU+QD4Fve89tj2NfeT9w74avgU+fT50fpm+yT84vzQ/YH/+AErBa8H2QiKCCQI+QfOB3sH+AavBloG1AWqBIUDWgI/Adn/Yf6k/Kz6pfjR9QvzePCn7mXteOxJ6z3qmem66M3ndeZj5YzkCuRy4+7i+eI/47vjcuTI5dvn3eoR7q/wCvPu9Cv3ZPtfAUgJXhHHF7gbch2hHWwc6RqhGDEXlRb8Fr4X/RfHF/MV0xOxEIkNUgr4Bj4Dff/c/NT6sfp3+hD6mvnU+Fb4y/cw9y72tfWQ9Rr2ePcc+RL7Lf10/8kBJgRjBrwHfQikCIIIIAlQCvcLqg1GDysQGhHLEfURShIFEs4RWxGrEGYP7w1RDEoKigi7BnkFVwTaAoAAs/0x+/L4Z/ci9kf1HfVj9Zn1sfXf9R/2A/cg+D75qvoD/Cf9/v3n/kQAfALGBB0GwAbwBl4H7gc2CNIHKgdZBhwFuQP5AUMAvP5c/eD7Xfq9+Jv2FvQU8Q7us+sc6grpQ+jC50fnBefR5kDmzOUX5WDk2eOe46bjAeTE5L3lsecA6sXsW+918UPzOfWa+Ib9SARnC60R+xVjGDYZ6hgUGGkWDBVLFGcUOBUVFjQWnBUvFCgSKxD7DYALcQj4BIcB8P4l/R38N/t++gn6x/nj+ZL5A/kx+Gr3xfbW9nb33fjb+qr80v4kAcoDMAbwB7IIIQmKCTMKIgvtC+IMog28DtAP8hD2EdUSSRM9E8ASihFSEGcOOQz9CSII5gbpBcYEFwM9AQH/4vzN+g35pPds9qD1DfXT9Of0DfVg9Q/23vYW+Ij5APt+/AL+Zv/LABICCwMxBDoFWgYwB+QHWwhXCAUIEAf5BaEELQN0Adz/VP6q/BP7EfkJ9+n00/Lm8F3vDO677JXrZupd6XvosOcH57fmd+ZA5gLmweWW5brlM+bV5hjo0elO7P7ucPFs85H13PhR/RIDywjGDRYRvhILE8USnRIlEgoSEBK7Ev8TOhXVFZUVoxRYE0MSLhESEGwOJwxYCU8GjQNlAbr/vP4M/rX92f21/XX9pfzJ+wn7xvrn+nn7fPxO/UD+vf6h/6cABAJ5A8EEJQZCB2MIDgnOCVoK+wq5C3cMgw2fDqMPQhCDEEkQ6w9dD9AOLQ5oDVsM+wpZCaYH6AU1BMUCKgELAOr+5P3u/Lf7cPoW+d/3rfYa9sz19vVK9rD2UfcR+B35Cfoj+0v8Wf1Q/kL/IQAVAeUBPAJ+AscC+wJGA3ADRgMpA8MCOgKRAbkAqP+C/n39hvzS+zD7mPrj+Tr5X/iB98b2v/XD9MrzvfLd8R/xd/AI8Izv0+4P7qTtfO2K7ZDtWO0q7S/tgO1S7tPvbPEe86j0+/VN9034+fhq+Qb6+fps/Dn+IgDeAYwDGAWfBlEI9AmWCxUNLQ7JDkQPaA+LD6wPxQ8oELMQRhHHEUISXBJTEvQRiRE7Ed8QbhDGD/oO+Q3kDKoLqAqqCfIIRQiIB9YG3gXtBOsDCQMkAo4B/wCgAFgA3f+f/1//Tv9m/73/JgCkAPIA7gD3ANEAowB/AEcASwB6ALgAJAFwAcsBBgJCApcC5QIvA34DrQOvA8gDcwNtA2IDQwN6A4ADswPMA8IDkwNeAwADhALxAUABgwCE/4r+Y/1G/D77FPoe+UD4T/eB9qX1wPTw8yDzc/Lo8Xzx6fBr8ADwm+9R7/DugO4P7rrtdu137Yjtcu1B7RDtGO1Q7ant3u0G7nDuFu818MzxbPMj9af27Pcv+VH6RfsV/Af9Ov4BACQCVQRpBh0IkQnPCjkMqw0wD6EQthGIEt4S9hLDEqUSnxK1EjQTrxMhFDkU0xMHEywSORFrEO0PPA99DkYN0AtOCs0IcQc0BkgFgwTmAz0DlwK+AdYA8/8i/7r+h/6T/rn+5/7v/gb/O/+H/xQAqQBEAe8BdAK7Au4C7gLlAuMC4QIMA2EDygMuBGgEfwSCBFAEJwTVA5UDiANwA2kDYwNGAykDFQPdAsQCjwI4AtoBbQH7AFwApP/V/gv+Nv1g/H37u/ri+en4FvhD95L2xPXl9Ab0UPOo8gvym/Ew8dXwZ/AW8MPvjO9b7xPv7e7E7p3uju6P7oDuce5O7iruPe6S7vPuW++M76/vHfDe8BHygPM09cr2M/hM+TX6APu++6r8wP2c/6EB0wP5BawHCgkSCgwLTwz0DWYP0hDqEboSIhMTE/sS7RIsE5ITKhTKFD8V/BRbFGgTTBJgEWYQtQ8ADzEO4gyCCwwKjAhBB+8F+gQkBIIDxwIdAlYBZQCI/8r+d/5a/oX+q/7o/ir/WP+f/wAAagDoAH8BDgKwAhEDPAMoAwwD6wLvAiwDYQOyA88D7gPrA9QDmwNXAzAD+wLgArcCqgJ0AjIC2gGIAWoBJAH+ANQAoQBVAMr/HP9j/oP9ifyn+8/6HfpY+ZP43fch92L2rvUQ9X704/NK8/Tyo/JP8sTxGvGX8Bjwx++k77Dvse+p74fvU+8r79juoe6O7p7uxO4D70zvXO9Z7z7vcO9S8LTxm/Ob9T/3YPgY+bv5V/oe+x/8ov2q/wICOQQTBp0HfQhpCZgKGwwbDuYPOhEKEj0S9RHIEdIRNBLsErUTfRT6FPEUUBRFEzYSTRGaEEsQzg8CD9UNHwxqCuYImgeZBu4FKwV0BJIDcwJlAWYAtP8t/wn/Cf8u/1r/Wf9d/3z/1/9UABgB2QGWAiQDigPeAxsETgQ8BEMEPwQ3BEUEUgRpBJoEsASwBLAEaQQhBMUDgANQAwwDywKBAjkC8AGmAV0BSwEZAe4AsgAvAK//2/7l/d78z/vp+ir6iPnl+Db4X/eI9p/12vRE9K3zQvO08ifypvEY8ZLwGPC172PvXO9b72jvWO8G76vuUe4i7gjuBO7/7QfuDe4y7kruUu6K7qzuOe858IbxRfMQ9aP29fff+In5PPo6+5T8Lf4nAEICcAR7BhUIRwmACsALPg0VD6wQEBK6EgIT/hIDE00TjxNeFCsV4hVRFlkW4BUrFUcUUxPNEiUSfRGEEFYP0Q0eDJYKNglICFgHVgY2BSgE8gLNAbwAwP8R/3z+P/4Z/jj+Sf5g/rX+C/+Y/zUAvwA4Aa0B9wFVAqUCzALxAtwCvAKqArkCAwNOA40DrwObA20DCwOVAikC0wGsAcoB/QEeAhgC5AG6AY0BfAFmAXEBUgHwAHcAr//1/gv+Kv1s/Nv7WvvL+jb6dfm5+Mb3+/Yy9oz1B/Vw9AP0dvP88nbyCvKf8U7xIvHr8L3wZPAD8I3vFe+e7k7uIe7r7bHtd+1s7WDtUe1E7Untne0c7gfvdPAm8vrze/Xe9v/39vgB+g/7ivw2/iAAVAK0BNYGnQj5CSkLpgwZDugPfhHLEpwTxRPyE/MTIRR8FBIV8xXUFj4XQxe3FrsVlBRFE3ESuxExEVMQDA+MDcYLJAqzCIUHdQaJBV4EXAM6AgsBAwDn/jX+uv2+/ev9PP6E/rf+Af9i/+v/hwBVAe4BgQLgAj0DkgPdA/8D4wP/A+8DFwRDBF0EdwRzBEUEAATBA1QD8wKDAjsCCwIBAvcByQGZAUkBDAHWAK0AXgANAKX/Bv9K/mH9U/xP+2P6jPkV+Y344vcZ9yL2afXK9DL0y/NS8/HykvIN8rDxL/G28FHwE/AK8B3wLPAc8N3vSu/Q7lTuK+4g7gXuHe4r7i7uGO4O7urtC+5p7lvvJfFC80n13PYk+AH5v/l5+nj75fy+/tYAEwOiBZoHHAk0ChgLawwYDvoPxREoE7ATmhNaE0ATcBMDFOUUxxWuFg0XzBZAFjYVBhQeE2gS3hFBETwQ2w43DXILrglCCD4HQwZRBT0E5gKwAW4AOv9X/qr9Qf0U/Rj9OP11/cT9Kv60/nr/SwAHAcwBUgLVAlsDogPpAwIE9wPxA+cD+QMqBHkExgT0BOgEnAQpBJcDEgOjAnICegKGApICewI7AukBhgE4ARgB7gCiACcAcv+L/mj9GPzt+gb6XPnu+G/44/cU9xD2JfVk9NfzV/Pj8oPyM/LR8Vvx4fB08BDw0u/R7+fv9e+270fvuO477s3tl+2X7Y3th+1X7VDtOO0u7TftZe087nHvFPH28qf0G/ZO9zX4F/kL+ir7u/y0/vgATwNtBTkHmgjFCSkLlQxZDgQQXBF/EvsSNRM1E2ATtRNAFAwV0BWKFuAWtRYNFjMVFRQtE4ES4RFFETkQ5A5GDZ4LAQqOCGAHTAYrBQAE0QKbAYYAZf9j/q39RP0g/UP9hP3W/Tr+mv4Q/6//aQAWAc8BaQIMA40D0wP9A+UD1wO0A8UDDwR9BNoECQURBcoEeATYA1cDEgPdAvECAAMEA/YCmQInAtsBjAF3AWYBQQEQAV0AY/9R/jP9VfyL+9T6Xfqk+d/4CPgI90T2YfWz9D30z/Nc87vyGvJ+8fvwhvA08PLv0u+w75Lvcu8R76nuIO7H7W3tM+0d7f7sAO3U7L7swuzY7OPsIu227dnumPCD8p30RfaU93T4Lvkl+j/7wfyg/t8AQwOwBaYHOgl1CpELEg3UDrgQThJrE+0TAhS/E6sT5BONFJ8VjRZ5F8gXfReyFpwVlhS8ExgTfhLVEbMQNQ9TDYgL7AmTCJAHhAaCBUsECQPEAZYAhv+q/hT+z/2z/bD9xv23/ev9Kv67/oj/RwANAY0BDQJ4AusCXQO0A+QD7wPmA8kD1wPrAywEaQSXBMoEzgS9BFAE1AN+A0kDUQNFAz8DJwPsApsCQAL+AcIBZQH5AIEA0/8L//X9zfy4+6361/kZ+Xj4u/fu9hb2QfVx9MHzJvOX8iDyZ/HR8Dvwo+8m76rubO5K7knuMO7u7YntBe2T7FfsQ+w07D3sVuxb7H7si+yd7Afto+347uzwPfNm9SD3d/hk+Uz6Dfs+/Mn9xP/2AR4EfQZPCN4JHQtZDOgNow9aEeASFxRpFFcUARTrE1QU3hS1FXAWDRc8F98WQhZdFWEUihPlEj4SdBEtEHQOqAy+CgsJtAeiBqoFmARrAyUCCwH8/xb/cf7t/Z39Uv1H/Vj9gP3Z/Tn+1v6o/3cAMAHaAU0CyAJYA8MDKQRRBFcERgQqBDAEWAS9BC0FfQWhBaYFZgUSBbUEVgRQBF8EeAR9BFoE9wOAAwUDkQJUAgQCvQE6AZsAtP95/kL98vvq+hL6U/mX+Mj30/bB9dH09fM585Py5vE+8Zfw5+83747uD+6T7UrtEu3J7IXsDOyf6zHrBevl6vPqD+sI6xfr9eoP6yXrruux7CjuSPBX8lf09fUh9yL4KflI+rb7V/0+/3QBmQPDBZQHLgmwChAMtA2ZD2gRCRMGFHkUvBSpFN4UKhXGFZAWFheYF7IXfBfrFg0WKRV4FLYT8BLhEWYQsA6gDNQKKwnQB4sGNQX/A74CkQFlAG7/jP7g/WL9Bf3n/NT82fzm/CX9l/08/vT+pv9JAM0AfQEaArwCRwOOA9MD2APXA/ADFwRsBMMEAwVMBXYFdQVMBfUEwwSyBLoE8wT1BL4EaATQA2EDDAO3AnQCEwKwARkBSQBf/yr+DP35+wD7TvqG+aT4nPd09lf1U/Re85zy5PFE8ZLwye8b71PusO0U7ansWewr7NnrcesG64zqTuoR6jTqUup+6pXqleq66vDqT+v961TtD+9i8W7zPvXV9u33FfkO+mD7+/zI/u8ABgNBBVsH9ghUCq8LKQ3+DuwQjRLqE4EUvxS0FLIUJRV6FTkWzRYwF2oXDBeCFrsV2BQBFEwTghKGETEQdQ6vDNYKGwmIBysGCAXEA4oCUgE8AGD/m/78/XL9K/3l/Lf8vfzP/CL9if0h/rf+Zv8cAJUAMQG/AXQCJwO9A/4DBwQMBPQDGAQ9BJ8E+wRQBYAFiAV1BSgF9gTCBNcE/AQCBdwEcwTgA0kD0AKAAkkCBwKoARwBUQA3//r9xfy3+9X6Cfo6+WT4Wfc69gr1BfQ282Ty1vE38aDw7u8N7zfufu0K7ZjsW+wK7LnrbOvl6pfqQOow6kPqWuqw6tXq/+r66v7qcOt47CHuHfBQ8lX0+/VM91T4YPmZ+i385v3q/zUCQwRHBuEHUgm7Cl4MSw46EEoSvRPMFEgVZhV3FZkV+xVzFgAXYRfHF7MXSBeHFnkVtRT4E0cTaBI8EcsPAw4SDBwKZwjaBoQFOATlAtMBswCz/9P+Gv6t/Tj99PzR/Nr8Jf1R/Z79Cf7F/nP/EwC7AF4BOgLlAq4DKASzBOAE1QTSBMYEKQU/BZ8F1gULBkQGNgYOBr0FfQVjBV4FXgVVBe0EdgS4A/gCbwIZAssBYQHBAO3/M/8j/uz8tftp+nX5sPi89+T2xPWV9IfzZfKg8efwIfCI77/uI+6l7R/tuews7Pbrset26yLrt+pk6iHqFuod6mnqwuoh6yrrYeuk60/sgu1A77jx+PNS9vL3Jfk6+hv7KfyU/ZL/uAEcBDIGDQiSCdwKXgwIDg8QTRI9FKcVaRZHFikW6BUJFncWyhaXF+0XAxh3F7AWsxW2FOQT8BJSEjUR1g/kDfALBAowCIQG3QSJAwMC0ACQ/6H+3v0V/YX8BfzK+6n7wvv/+1/81vxn/SD+5v6d/0UACwEhAiQDLAQcBbgFRQZBBhQGCQYYBoUG8gZLB7AH7wfpB9oHkQciB8QGcAY3BvkFrwUFBS0EPgNrAs0BUgHZABIANP8k/gT9v/t/+iH54/fJ9pz1v/SS82vyNPH47xvvSO647SXtmew67Mvrcesg67TqOOrT6WzpJ+n66M/oyOij6K/opuiz6PXoQeks6nzrhe0B8Gny3vTJ9pz4APoz+6b87f0SAHYCDAWVB9EJkwsdDfoOsxDnEpEUGBYjF7UXRBg9GDsYNRheGGUYcRhNGAEYUxdnFlEV9xPmEpARMBC3DioNggufCdIHCwZDBGYCnwDX/lL9HPwH+1T6vvle+TX5MPlv+eX5efpd+2n8mv2r/sH/CAH9AUkDkAQMBogHtQiRCeIJSAqfCg4LmQsrDI8MzAy0DFsMswv3CkEKjgnTCPQHMAcNBuAEnANjAmUBlgCD/1n+3fxn+/f5efhN9/P1//Sc82Ly1/Bl71DuRe2F7KPrL+tg6rjp7egI6I3nVecC5+fmuOZL5uzlQ+XC5Jvk/+Sf5Rvmx+ZP52jnk+jm6RTtWPHl9SD6hPz3/sr/hQF4Aw4GiQlFDScRtRMDFl8W9BYaF90XKBm2GpYcGR1+HWIchBuIGoYZNxinFvIU5xJOEWYP+w1hDOoK7AjWBnQEzgE+/+z8V/tY+hH6/viI92z1RPPM8VnxsvGr8r3zzPSm9av2O/iQ+cj70/2CABkD0QUOCOAJuQtsDf4PShLNFNYVGRZGFbgU8hSAFT8WExZoFcwTHhKsD6YNoAtECv8IbAfNBV8D2ADn/en7MfpI+Xn4Ifds9arzTvIY8ffwyPCu8Gvw/e9n79Tui+4l7lTunu5W74fvbe8H73zutu7T7ljvUu/N7r/tmexu6+DqeOoY6t7pQOl36aDozeiP51/mBObg5njrgPAL9wr6hPvL+nP5tPo6/VcDJgkhD1QSeBO5ErYQaA8CELkTtRgyHjggKCAFHd0ZXhe2FkkYNxlkGtIY7BbqE/gQZg5jDDQLvgk5CMgFlgPYAOP+M/1b/D/7G/kO9r/y8/CQ8PHxdvMc9UX1qfTD81Pzm/Tw9iP7gP+cA4oGnwfbBz4I0wnQDOgQvhQUF7EXEBfBFQIVnRSeFCgVKRXIFGYTFxFeDpoLeQmOBysGtQR2AgwAjf3R+4D6cPn895P1q/NC8nnxavHn8YTy3/Jm8i7xvu8y74jvbvAZ8pnz5fRO9KvyMPED8VvyL/R+9bH1zvQI807xX++N75XvGfBb76ntDOx96bXpdOh96B3oYOc/6DDpqexN8FL0ZvZz9uz1nfZm+mwAfwYyC+0NUg5cDTwMsQwQD38UvhlnHakeCx0BGnEWaRW6FuIZlRyJHO4ZDRbhEfQOKg2fDAMNgAwcC0cIKAW2AWz/G/4c/TD8dfqQ+PT1qPTt87/zOvTM80TzxfI38+T0DvfB+Yb8DP9pAaAC9AOBBREIPQzPDxoTsBRGFScV5hRNFbYVtRZCF6EX2hZBFd0SzQ/YDLUKfgk9CWsI7AXzAt3+ZvxE+vT49PcK9672DvU+9Nby9fH58IHwcvB98FXxc/GQ8R7xAPG88KTwrvAQ8avxmPL089jzJ/Od8bjwC/CY70nw0u/B73fviO07683pcumN6YjpAelt587ml+gP6/fvAPSj9bb0/PK79Cb5EgFJB/4KGQxhC/0K/gqcDRsRlRZkGzkeQx53Gy8YGRY3F/gZyByhHU0czxhOFSgSDBD9Dg0OrA1aDBELqgiYBZYCTADe/nf9tPuI+Sj4PPfg9hn2WfRu8inxqPDL8TH08vYV+Yj6sPs6/Nb9sv+WAvwGcgt0D/8QIhHvEE0R8BOiFmMZaRpMGSQYlBZ3FQcUfhLoELoPnQ4RDL4IzAXBAqkAM/+T/fr7aPkf9/r0YPQ59Gzza/IG8W7wOfCN8Mrw0vDw8Kzwc/CD8HXwsfCM8RXyy/L38lPyxvG+8IHw2O+18FXwMfDz7r7rFOzF6WvqLulr6KjoiedB6JTluOcn6jru5fFm8/Dz0vPw9Tv5i/8JBYYJ8wl3CjgKhgu9DrIS/xeXGq8cABttGpIYkRhPGs8bdh41HUMbzRfDFc0TRRIhEcIPlA6vDFoKpAcDBjwDeQHT/u/8Kvt3+W/48vaW9rn0MPOz8OzvJPDJ8bX0Q/ao9+73SPhr+Xj8NgDfBFkIbwuQDDINtA6FEGMUqRbZGMsYlRhVGHsXSxdCFrEVfxQbE1MRBA/qC68IRgZ+BNcC5AB4/mT7X/mD98n1u/Tq8qHxpfDX8ODwhPCR70juHO7m7Z7uHe/u7//vB/B47+Xute427sjuW+/b76TvaO4b7Pvqleqc6gLrH+vt6cro7edm5h3loeVu56jq5u/r8vbzxvKj8hf04Pix/4kF0wlYC4QLYAqzC2wO7RL4FoQa1xyxHOUbZBrdGXca5hsiHAocHxvtGUYY0BVAEwEQkA3NCwQL4grNCfMHtgTQACr9cPqD+aD5R/or+h/4r/SU8RjvF+/h8IfzkPUf9gb2y/Va99P5Ov1QAFQDQgZtCMMKWQ3/DzgS2BP/FNwVTRf+GAgahxp+GY8XoRU9FHwTxBKwEcwPpQwFCUgFUwJaAAP/2f0s/Kf5JfYi8wfxpfCw8IbwAfDL7nXttuyb7PPsVe1Q7R3tf+0y7nruz+5L7uvtOe3d7P7rT+w27KzrMOyh6kzpReeB5jnmHOc66BHnE+eO6Enrv+9U86f0nPSX9L/39fxSBIUJWgs8Cy8KWwsLDmUStBY2GlsbRxsNG3gaUhrfGtobTxx5HDEbjhkhGP0WmBSQEccOPQyLC8EK7QqUCf8F9AHp/ar75/pd+1b7ePrG+Jn1yPGV7wjvaPB68jn0JvWO9FD0PPV692X6Iv4FAZIDAQctCqgMfA7cD9YQsBIxFiIZNhsEHJ4aTxn2F0AX+BbFFtQWuBWFE38P8gpZB6AEmwOiAgYBRv6v+g/3FvRZ8mvx0fDf7yPvNe5M7Sns/OoL6m3qpepI6zrrLevR6xbsfuvK6RvpDuiK6XfqUusF6jbp0eai5azmCuYT6KXmeOe35izpt+vl7uzypvMF9oP2w/lE/VIDAQicC1gN4QzXDHcOSRJXFoAaGRzkHNcbpRv0GkYbZxxDHJ4ceBtKGrcYKRZEFEwRKQ8dDZ4L0wo0CfsHBAXWAXD+0/tK+n/6RPpM+Xb3U/XI8vDwefBx8BvyjvLH8/fzfPWE9hP4mPqt/AQAdwLNBT4JYgxYDtoPJhHUEgAVLRiVGvgbexujGaMYGRijGIgYkBfjFVYTSBA0DZoK7wcJBYED/ACZ/tT7r/hw9azyFfF679Xuse2Q7OHqOeol6cbnrucS6JToAunQ6FLo8+fj59PnWuev59Dm9OZ+59vmGuek5VTlzeWo5SbnoeYF6EXoy+tm8CD0FPj89nn4C/ql/x8FKgslD5sP8Q8aD8cQyxMXGHobWx6PHgwekRtGGzsbTRzzHCocORs+GLsWjBSKE3wQbA0WCq8I2QctBx8FpgJBAC39u/o++GH4evdV+O/2uvUi87DwlO9J7+3xwPOL9cD1KfZR9iz46fp//q0BswQUB7IJqAw4DmcQIBLYFNYW3xgpGnwaIRtOGokZMxngGLAXKxYUFQQTzBCkDeEJNwYcBNsBDABb/tr6avd/81Dxju/77pHtguxc6wfq5eiG5/7mBeb65vbmaefd5mzm+uW25cblqeWS5d7kIuXi5Knlj+Xz5UvlNOX25YDl2eXt6J3tFvJx9nv3PPe996j7sgCaB6oNng+KEG0QLBEeEv0UshiPHBsflB/XHvoc+huVGxIcMRwKHMIarBhhF30VLRJxDncLcwl1CBgIvQawBH0CFf8o/Ib58feL9+T3WPgy90P1F/LF717v2u+p8YHz6PTF9fX1Bfdi+CX7e/5RAWwEUwcVClgMqw7ZEKESeRQWFo0XXxr2G7oclRuHGdcX5RZ6F+4WfxYyFG8ReQ1yCXAFggJfAbMAP//C+9n3I/Nd8ETug+3c7LHs0ute6ofodeZT5XbkFOXG5QLnVOeA5r/kguNJ41fkIeSz5PPjFeWz5aPk7eS/4szkmeQ652TpD+1Y8qz01fdD9/j4pftcAb0HVA20EIARHBEiEWcSMBWiGc8cbR+sHwEgmh0YHNQasRrYHPwcXBzYGFMWuBMUESQP6AsbCgEJmge4BmcE9QF3/wD9D/sf+av4CviC98v2KvVK86Lxwe9b77LwJPNW9Q32cPbZ9sj40/pj/ff/fQNDB3sKBA2tDegOWBD4EuMVhxh7GhgbyRrTGbMYnBivGGQYeRcpFVITKBDADK4JHQfBBLYCSAAw/bL6M/hR9c7xpO/C7UDtKe0+7MHqt+gY5xjmb+Xs5XXmouYC587lLOWp4yLji+Pf4/jkWOUA5ULkD+Nu4yzka+Xy5mDm8unO7M/xdvW+9pj4Ufng/VQBOwgwDRoQKhFlEBERQRINFi8Zcx3KH1Qgvx6RHLIazho5HEYdAx4pHKMZqBWhE4AQHg4sDVELxgr8CPUGJAS9AZ3/IP2H+0D6Tvnd+LD3Ova/9BjyNPAx77bvgPGz8/z07/R99fv1X/di+cj8kABIBKkHwQgtChYLQA2AEDMTgxYQGHAZlxkrGUIZUBicGF8YMhjAFy0WqhPUDzsMdAmkB+oFVgQIAiP/yvsP+Lj02vEG8HXvnu5F7sjsYurY55LlI+Wv5JDl7eX/5UblIORl4lfhgOAu4YniLeMz5Nfi2OLK4eziHuMY5HjlvOcs7K7vrPRp9iX4BPgS+8v/iQb7DFkQVhLuEWUSRxLFFBgYnx3HIDkihiHJHlwcthrDG7wciR7uHYwb8xfkFNQR1Q63DEMLOAolCckHOQVAAkn/Kf3v+pL5Nfjy94z3s/aH9Y/yOvDx7t/u1e858nH0Z/W/9er1Rfbd9+P6P/6pAnsGUAmDCggLRwwYDvoRdhVoGG4ZhBklGcUYzxjnFzkYChjDFxkWjxOMEI8N8wpTCDYGZwQtAlv/o/ws+Xj2IPO18MHuB+5P7fLrn+pw6MLmSuWO5CrkOOQP5JjkHeTY47nh++AF4JzgS+LV4ajjVeJc4zTiReN+5HrltOnR7KnyMPaY+Gr48flA/WgChgi+DcIQaxJKEzoSexM7FTUZ/xxNIRwisCBWHqwa8Rl3GrscrR3+HFkacBbzEpcP+AwiDCYLyQqgCcoGqQNyAJD+kvy4+7r6PPl8+Lv3K/ZS9IzyGfFk8P3w8PEc81H0ufQM9tf2ZPgh+nb8nP/GAm0GkwisCjUMhQ1fD+ER2xSjFsAX2Bi/GB0YqheCFnQWhhYQFiQU2xF3DwkM2gk+B3AFIwPHAP397PqC+Eb1/vLf8Hbvxu2G7Bbrfekj6MHmUOXP5HPkkONU41DiVuKq4Y7h3OBS4HvggeBW4YPhMuLc4qDjKuTH5b7ovO3o8sj2kfgd+Y36EP7BA58J7A6TEesSQRODE1oU4RbOGq4eViH/IeAgfh4jHHQaQRuEHIodVRyDGU0WwBKTD3UM2gopCp4JPwhFBiQDJQB+/RH7jfnE+KH4h/ee9kn1iPM98sTw5+/j75LxRfOA9O71xvY8+IP5FvuN/AD/GANtB3ELDQ2yDbAN/w7yEboUhxdGGcwZbRl1GBwXLRaCFUEVFBVZFBQS5Q48C6YHeQXIAzMCu/8j/XP60/cg9Tfy2e8G7kPtLOy76pHpZ+hH50bmhOV65ITjzeK34rXjs+Pf41vi9uB44HTgOOLP4svk2+TS5XDmVucc6prtqfPF90D7afuj/L7+tgLYCB8OVRLJExkUcBMAFOAVARo8HTwhKyKpIPMduBrDGU0Z1Bu6HHoc0xnOFZQRPw7GC5IKhAooCkEJ9gWXAtT+tfzc+i/64Pk1+cP3pvX68xbykvEG8e3wYfEn8u7y4PPQ9Az2vvfy+dP7FP5aANMCEAarCHcLqg2LD6UQ3hHtE+4V1BcRGVYZxRgCGOQWTBXRFPgTFBOiETAP2AsiCLAFxQImAQT/Nf3k+s33hvTR8QvwP+4h7WvrCusQ6kTpKOfL5eHkEOQo5NHjFuSQ48bjquLm4SvhKOGp4aTixuM05CXlN+Wd5c/n7uxc8q73wfl/+b35Mfz4AMQGAg15ELgS4xJAEpIRKBNpFwocViDmIfAgwB2xGlgYhBjgGoocexyiGpoXuhMAEDoMZAo+CocK4gmaB2kEvAAJ/qz7Svqg+QT5KPjM9in1v/O+8rHxBvGX8EDxivJI9G71WPbs9zT5ufpJ/D3+DwHPBDkIgAo7DLgN8g4vEDASGRTLFXkX+xfOF6wX3xYcFdITsBIUElwR2w9TDfoJPwf3A8wBk/8D/kX8IPq79570JvKI7wvukexs7I7rvOpA6f/mleXl5PDkauRp5I7jWuMV42XiEeEG4TrhBOId46LjAuQT5H/lDudD7DbxPPYU+Uv5wfnH+qX/HQVbCwQQ5BLgE18TWxJcErAVeRpwH10iYiK3HzocBhmtF/QYBxuGHEMc1Rl0FcUQXQxvCf8IewnjCcAI3QXDAef9P/tw+Zv4QPjS9972ofWg88/xrfBM8Hrw3vD98UrzvfTw9fz2TPg6+kz8Rf7CAJsDgQZ9CQ0MOw4pEEsRUxKLE1MVrBbpF+UYlBgcGFYWeRTcEoQRlRBdDzkO5wu/COIESwGq/qj8G/t1+X33dPUC8zTwYe2A647qROpz6qbp1+gk55blWOSs4+njIuT348LjGOOe4ozi+uFP4hPieeOk41HlR+Yp6Frti/Eh9wH5Ivq++Sn87/8PBaoL2w93E84TyhNdElUTfRUXGbYdSiF8ItAgTR1ZGdgXxBeoGXcabBucGSQWqBGrDKMJ+AdJCA0Ixwe5BXgCHf+u+yT56Pfh98D3Kffh9afzyvKG8b3wz/BD8dnyxPMd9YP1J/f0+M360/zG/uIABwO1BTkIXgsSDlgQOREOEroS3hMWFW4WLBfPF+kXNhZPFEMRjw/8DcANEw2GC5oJ2AVlAoP+sfux+RL5cPhr94L1WvJ773HsoerS6dPqnuus62vqwee85T/kwuOp4wPli+Xa5Rnla+MX4vbgvuGo4oHk1uWr5lLoQuyn8Dv1nviM+Vj6R/v0/tUDcwqcD44SKRQXFG8T7BJ9FFsXbBzUICYjNSKhHvsZchYbFrsXNxpnG9QagRexEiQNiAhhBmsGuAc3CFAHMQS9/1f7AfiD9pz2EvdR9672NvVv83/xXPD47+vwc/JA9DD2HvdA+FH52fqm/J3+uQDhAhgG5giTCyoODhBPERESYBLbEuMTWhVbFi4XcRcpFhsUIBGcDl8MiQv2CgQK8AjxBTUC+v2k+iv47vbB9uf1CfUo80fwse1l6xjq1unf6qbrxuvp6q3ogObY5IrkMuWM5mPnLuf55aHkz+Iy4uTiY+Rj5nrnM+mV61Lw1/SV+Dj63/r3+zv+0wJSB9YMpRCtE/AUnxSHE/cSlhTVF9gcgSAWIiUgGxy8F0AVQBWaFiwY3xjxFw8VjRAYC/QGwgTvBOIFmQZvBasCaP5A+mz3GPZj9nr2mPa69c70UfNj8pPxW/H78ezy3PSB9oT45PnE+5j9O//EABwCPgTDBuAJVA1UEGcS9xJwEhcSmxKXE1cUkBURFksWCxVQEv4O9wvzCTsIDghLBzEG6QNYAIP8Afmt9kf1NfX79IL0DfPS8A3ucOvl6eXpTOuL7Bbt0+vj6TTnseVh5UDmCuhj6FHoh+Zy5aXjD+N+43TkUeca6bvrcu1o8Sn1iPgS+3r7hv2EABEF6gg1DRsQjxJzFHIUTxSAFAAWZBivGx4eAx8OHuwbtxiPFosVgxV7FqcW2xWLE1gQMwxBCG0FlwTRBBkFJwR5AYX+MPt0+I72svV29VL11fT382LznPIL8r/xAvI788L0mPZU+GT6QPzT/ZX/6QDoAh8FtAeDCikNkw9EEdwSVRMOE58SmhKfE/oUpBVfFVEUOxKUDz4MfAm3B9oGRgZcBZUDvgBj/ZX53Pbg9Fj0PfRD9KLz1PHD70Tty+uF6svqk+u/7Entduzw6u7o4OfR5jTns+d36MHoF+jx5gjlH+S046LkveZZ6dTsMPF09eD4svr/+jT7t/xZAJ0FQQsMEEkTzRQaFf8TshK2EqsUuhhgHbsgiyE9HxAbmxaiEwITrxNHFYEWXBYkFOsPrwrXBcgChwHvAdgCEAOoAbz+J/t297P0AvN18rnyePMz9JT0tvTI8+DyVvLa8mD0hfZa+VT8k//TAVYD7AOYBJEFhgf6CtAOxhISFcgVKxURFLYS0hHAEYYS0BN9FC0UHhI6DycLMQcoBCYCpQF1AQkBif8A/XP57vUT8ynxnfDp8Lvx9PFd8bnv4u127GjrN+vf6xbt3u0K7g3tXey36/bq7emS6FXo/Od46BfomOdW5yznsudZ6Krq4+3l8vL3qvti/ar92P35/iQC9AWmCnUPShOkFW4WKhXtE0kTUxRmF08bAx8QIBMfnBsQGMsUkhKjEdQRNxO1ExUT6w+TC5YGhALj/zb/uv8UALz/q/0B+5r3qPRD8hXxm/A78WbysfOi9CH0tfMv8wT0h/WL9xL6EP0aAPUCjwUiB5EIRQmdCu0MOhCFE/AVTRcaF5QWcRVhFIQT1RJvEoASahIMEZAOpArgBrsDWgGx/1D+Ov3P+0r6I/i59QXzvvA077buIO9i767vHO9a7m7tq+wg7NDr8uuA7MLtve4w76ruTO2H6wLq0uiu6ArptOkq6gfqnOmQ6MnoXeqn7kD0rfl2/c3+bv8F/w8AAwJjBR8KNA/nE54WiRejFWgT+RFeEnwVsBm4HbcfMh8/HP0X4hOGENsOkg9lERkT8hI1EKILhAbwAW3+Gf0F/bH91P3P/KT6i/dO9BfxZ+9I76rwtvJl9Cv18fR79F701/RW9oz4kPtN/5YCZQURB6AI4AlsC5QNIBAFEz8VsxbgFhsXZxaWFbQUzBOjExQTbhKxED0OOQvlB/4EywLMABv/e/2f+9r5z/fW9fPzgPI28XTwMfAE8MPvEO977lDuh+637qDufu5k7grvse+N8E/x2fBo8InuFO1K69HpielC6ZDqGOt861vqWemn6FjqE+8+9Fj6bf1W/47/u/8AAOcA/gMQCCAOQBP+FvAXwBYtFM8RuxHhE9wX+BvCHhofvh05GrUVqhHrDnUOKBDcETUSbxBSDK8H0QLj/jn8//o0+1v79Pp++Qj3HPQ38QrvYe5l7wDxhPJ18/3zyfSm9bP2GfgZ+v78cQCpA0AGKAi0CXsLwA3zDzMSFhRGFTgWhRarFloW+RU5FWIU0hOWEukQYw6gC9YIjQZLBNoB2f+9/eT7KPpN+Gj2yPR680Lyl/H78D/w3u9Z7zHvZe/g7yrwU/B28Fzw8PAg8UvxQPE68YPxd/Ea8aTv7+0q7O3qMur36fHprumB6YToOOgl6fvr0/Di9TT61Pw9/n7+c/7P/lIA/QNuCZIPyxQYGIQYBxemFMkS9xIcFdwY1hzLH9YgOB+eG8EWBRJbD5QOfg+0EMcQNQ/nC/UGWwF1/BX5wvdv98H3S/dK9jj0H/F57qTsa+xI7cbuOfAQ8pLz5/S69cX2nfhC+yj/uQJQBhoJYAs0DewOlRBhEo4UihaBGJoZEBpfGQMYYBbiFOMT+RLLERcQDQ5kCxgIewTxACz+aPzV+q/5XvjT9in16vL48LDvC+8y76zvHPDT8EXxIvEK8ePwDvH98b/ykfMN9Ir0tfTT9Jb0wvNA8ybyYvGt7wPuIuyb6tXpU+kl6Wbo/OfC5q/nAOo67n3z9vdl+1D9u/52/hj/w/+SAkAHRQ1vE+EX4RqEGlcZIBfiFRsWOhhdG6MekyHTIYIgSxwiF0oS2Q5pDRINPA29DEELAwhfA639dvhw9AfyKPEH8ULxQ/FY8Lbu/uxn6/vqduvh7DTvH/Lp9G/32/n3+7j+twHNBBsIZAtwDhgROxPSFDEWtBcyGVQaGRv+GvoZnBjoFs4UKBMeESEPlA2EC1sJXAaiAuT+qPsi+X33Q/Z99Sn1YPRW88HxHfBH7wfvie+j8ATyq/Ow9FT1W/Vd9Xz11/V39kH3yfh1+Q36evls+Df38PWW9MjyTfEC71ftFeua6ffnm+Z65VzjsuKT4nrkOeg07fnx4/ZE+uf7F/3J/Hn9Mf/sAqYI2A//Fk8cIx9AH78dtRspGqUZCRscHvEhAyX5JdMjRR9HGQgTIA4eC8QJsAnDCYwI0wXWAEr6q/NU7g/rHuqv6sPrxuwh7VXsz+o16QHoq+i56nLuxfIo9zb7WP5DAbsDRQYwCcEMUhBRFFgXYBnKGjAbxxskHG4coRyOHKYbGBpPF9wTlhAzDToK4Ae4BcYD+gGv/iH7jvf/86Hx5u/q7m7vtfDB8YHyAvJD8a3wP/Cz8BTymvQG+ED7e/2x/p/++P3+/Pj7uPtf/K/9JP+t/yL/a/2C+i33KfOI75Xs/Olz6Cbn0+XX5Hnimd9J3XHbzdxu4FXl5uv58f72TPsf/Xj9tf0V/iQBkQbwDUAWvB1iI24mhCZ+JJMhwR4SHiUf3iE6JVcnFCdvJDQfThhJEY4K6QVUA44CBQKvAIf9n/i48pPsdueQ4yHiQeIc5HjmduiU6djpD+qH6k3suu6V8vH2IPxtAdwFAQpZDWQQsBPSFl8Zbhx9HhggGCGQIBggIB/ZHX8cbxpCGOsVfRLeDrEKRQbdAi3/4fud+Tn3a/V786vwbO6e7C7rz+oD6/3rSu5g8Evy3PPx9Dj2UveN+Cn6qfzT/9oCOQXtBlcHFgcDBuMDiwJwAbQAhQD2/x//+P1B+1f3rvK67Zrp0eV84vvfP9793CvcRdoW2NzWXtak2HLdX+Pq6rLyzvjR/o8CGQSeBUAG9giQDm8VqB2kJU0rfS9ZML8tHyopJZkhhCCoIEgiDCS7I5Mh0Bx0FZsNPQUi/jf5EPb+9Az0Y/Lx7+XrhedU41DfXd1L3dzef+IY5qDp/exO7+bxhPRy90v7gf8sBBEJtQ0mEg8WWxlqHKceuiBMIski6SLiIe4f/R2eG/IYpRbDE5IQow3PCYQFBwFA/Pz3rvQ38jbwG+9T7l7t+ew57CzrBOsD697rPe568GrzrfZI+XL81v5nABICVAPyBB8H/AjTCngMSg1kDUMMRArCBw8FwwJFAB3+T/zz+YD3evSU8ObsDunn5CHhZN1v2mbYx9b91UPVL9Wk1b7VRtdq2i3f5uZU74730gDzB/0MnhDbEJYRORQ2F+Uc4yM0Kh0xVjUxNdAyTi1UJp4gfhtvGDkYghibGKwXHBRuDt4Gtv3+9N7tdOl750nnVOga6Xrpp+iR5hjkFeId4fbh6uSB6V7vVfXL+k//TgNxBhsJrgtODrURMhXCGMUbbB58IJgh1iHwILYfNh4cHLgZ2RZtE0QQbgxjCMoEBwHo/eb6zvct9bLybfBO7kjs9+pT6oPqlutA7XTvDfKE9Kz24vi1+mH8Xv5xABQDfQZ1CQUMHA73DloP9A6PDUEMJgsSCoIJtAhVB6kFuwLS/rr6dPaZ8kPvQ+xA6gLp0Ofa5TLjTuCS3R7bqdii1uvVptZE2J7a29yA3yHis+S76BjukPVu/rAGrw4wFvwaBB5bHnscfBwkHeMemyJDJicqpC12LVsq8iQjHawVkA7VCAsGRQWbBQUG7gRrAlH+Ifhw8ejqSuaE5HLkdOaL6bDsPPAI8lrywfJk8jrzZPW09xH8OwHmBfYKxg6qEVAUXxXRFXkWDBcFGMgYyxgSGf4YUxgJF4wUHBJ4Dz4MMgmmBYsCFwDk/Gb6GfjO9an08fKF8SXxbvA68BLwxu/C8DbyC/RP9sT40fv+/q0B6wOtBfkGSAjtCI0JqwqRC6gMgA2TDYENrgzCCrIIJQbsAwwCBQCI/gb9d/uU+QD3KPRj8Y3u6+vh6Vnolec+57zmWub55QblGuQU4yniUOJ24uviYOS+5cDnBeoy60DtJPCL8535WQAiB9MOQRREGPsaAhrvF0QVjhLPEqMUYBeYGxYfOiF3ISEeKxgrEZwJQgN3/7f9lv4WATED7QTRBC0C6P0a+JvyuO6B7Lns4e6J8jP3Qfsi/o7/Zf+2/u/9nv2d/nYAXAMqB9IKhQ4+EVIS3BI2Ei0RpRBYD5EORg6cDdQNnQ2VDL8LDAooCGcGxwNlAVP/Lf3H+2X6GvmU+CX4KPh6+Iv40PjK+JH4lvh8+Pn4Avp2++r9jgAvA7oFeQeKCN0IOwgoB1QG0gXSBY4GWQdbCF4JLQkeCA8G+gISADL9mfoN+U34Wfjb+On4HviR9lL0h/Hr7o/s0+pe6nrqc+sD7fvt5+6+7mntdOyN6gLpjehj5yjo2enn6uHth+/57wby6fJj9Xj6Xf7NAygKyA7vE/AWChblFMsSEhDRDw8QNBEqFZUY7xqXHMYapRauER0LVQXCATf/1P7lABUDeQXUBv4E7wHj/c740/S28SjwSvEC9MD3qvvS/r8AewFKAW0AyP+e/0MAAwKdBBMIUAvoDYcPgw9UD6gOeg3dDNcLQAuTC38LXAvtCqkJTAjeBhEFfwMlAnAACP+z/XD8qvuZ+s35b/l6+VD6tfoP+277HftV+1D7Sftw/K79dv/3ASEEKAaAB20HwAbgBd4EGgS9A+QD1gQwBgwH7Qb8BTsE4wGU/xr9HPsD+kL5H/k7+QL5bPgM9zf1SvOc8T7w++587o/uOu8g8I/w7/D98OTwW/AZ703uTu2a7GnsduuQ69/r6Ovh7G/thO5D8BzyYvWv+Wf/NAUcCs0OZREgEywTjBDFDjMNqwzBDvAQURRcGIIaHxuHGYMVPhCGCrgEzQCY/+3/JgLaBKMGKAh2B6AE9gAX/B/4aPWy81L0e/aP+Y39ggB7ArwDQwNOAlIBCgAgADQBgQIlBbsH4gkmDBANGQ05DUoMYgvECpsJVQn4CDEI5gcfB6kGMgbwBFkEJAMTAigB+f65/V/8y/py+qP5zflH+xz8gP1i/lz+Sf5p/UP8vvvZ+7b8ef7kAI8DBwZ4B1MHegboBAgDbQEUAM7/6AB2AhgEBQXEBMwDqwHf/vD7Vvnm94j30Pe9+Ir5L/pX+lf5w/e59Z3zDPLu8IHwP/Fg8rnz0vRQ9Yf1MfXx80TyhvAN70vulu0l7ULtcO227cntO+1I7ajtmu4y8ab0rPnY/0gFeApxDgYQgBCnDsgLOQoaCfUJ4gwgEAsVdRmLGx0cMxl8FCQP8AhHBHgBzgDFApQFrAjxCngLEgqsBjkCS/1G+Vn2OfVy9vr4tPwlAE8C0wOnA44C3wCl/rX9tv0I/1cB2QOfBuwIdAolC+QKPwpeCYMI0AdpB0kHNwdvBzYHHgfUBiEGwAX3BCEEaAP0AawAR/+j/aj8e/vV+gj7fPuC/Kn9Ev53/mf+iv3l/AP8Yfsm/GP9H/+4AWwD5gT0BYMFqQRoA3wBdQBFAHsAtAHsAqADRwQpBKQC2ABY/vT7xfri+bX5Y/oM+/X7ffz7+9D69vgP90v1NPST85fzSPQd9SL2tva99mj2YPU19NXyPvEh8LHudu1U7FvrmOrz6ZzpPunW6dvqzus87uHwKvQx+TD97AFPB8oKFg4hEKkP+A/BD3QOcA90EBsSCBZCGP8Z4Bt3GnoYKRXLD9sLLggQBS4EFgQCBfAGvge9B88GOwTeAB79//hU9s30cPQL9hT45Prr/aj/BQGFAc8AjwDF/2v/dQCgAbgDVwY4CFEK1gstDJwMEQwPC3MKZAmcCH8IsQdeByMHSAYtBl8FEQQ+A7kBlACv//r9BP3g+w376PqB+p36y/oA+3b7pfvV+/P7+/ts/AX9HP4m/08AdwGbAtMDZwScBIgEVwRgBDsE2QO4A6sD6gP0A5cD6AIaAhgB4f+R/jr9R/xu+836U/rz+b/5jfkV+cb4Pvib9wD3EvZG9bv0LPTr8w70IvSt9BT1OPVT9Q/1TvRO883xEPCo7ljtZ+z366XrzuuN7P3s6+2y7sfvQPIO9cb4Uv2AAV4GnwoVDSUPVg+5Do4OlA2mDT0PwhDIE7MWlRiCGhoa9RfpFKIQ0Ax7CYcGSAVKBYEG9AeuCKEIqwfDBdMCQv+k+xv5lvcx9xD4mPnL+xv+b/95AL8AYgAHAFT/Rv/6/zwBzAKOBFwGEAhlCf8JAwoJCsEJXgm0CM8Hbgf3BooG1wUUBcQEfQQGBFYDSwKQAaAASf/U/Sr8I/tv+vr5E/qM+nT7gvwE/X/9k/1i/Qz9gfy0/H/90v5ZANIBiAPzBJoFgQV4BK0D4wIWArEBcQH6AdACTwNuAyEDYAJEAbT/Df63/Pr7Xvso+zf7SfuO+0D7j/rz+Ur5lfgM+Dv3x/ax9lX2DfbL9Wj1ifWL9Vr1ffVV9T/13/QO9ATz4/Gj8G/vbu6o7VLtM+0S7TbtMO1a7RLuze4k8Ur0KfiG/VgCMAfVCwUOcw+DD9gNPA1NDAAM7A0qEHkTcxe1GVUbLBuYGBwVbBC8CyIIiwWGBCYFsQasCBMKaQpsCTsH1gPo/xD8+Phb99f2t/et+fL7Rf7m/1sAeQDS/83+IP6k/Sj+tf9hAXcDfwUEB4kI+QjmCJQI0QdmB+IGSgY1Bu4F2wXaBV0FAAVmBJUDyALjAaoAjf9N/gX9KPxT+7f6nfqn+i/78Ptl/Oz8A/0U/R394fzQ/P78iP3e/k8ArwEuAxEEtQTqBDEEYQOtAvUBCwI+Ap0CVwO2A8gDeQOTAlYB9f+N/pH9+Py4/Jb8g/yG/Hv8GPx++436r/lB+c/4mvh4+ED4MPgq+NP3e/cN94n2U/Y89gH25vWa9Tr1AfVp9NrzFPM48pHxn/DY7zfvLe6g7fPsIuxa7GLs6+z77kXx8PTe+QH+GQMSCFsLkA7pD5UP9g9ND4MORQ++D58R4RTiFhMZnBrDGZsYthU/Eb0N2QnFBpAFwAROBb4Gawf4B6gH9gWwA7MAJ/1M+hH4tfb49ub3lvnG+5L9P/9RAIUAbgDk/5v/sP8YAC8BhQI3BPgFawepCGUJjAlcCcwIOAiVB90GHwZ/BRkFqQQ0BIsD0QIsAloBVAAq/9P9qfx++5X68fmP+cP5C/q6+qP7Mvzf/C39Nf2v/cT9Fv66/ln/pgAIAi8DSwT4BFMFgAU/BcIEOgTEA30DkgOnA7gDrQNbA/kCUAJTASQA5f7n/TP9kvwW/KX7Z/tJ+/z6e/r3+XD5HfnX+GT4Pvgu+Cz4Vvg9+Cz4SfgU+P334Pem96X3ZPcC99v2q/Zn9vD1JPWF9AX0W/Nt8lnxbPC+7xHvSe6q7ZbtEu4a78/wUfPv9iP7i/8aBFoIJQzhDgUQaxBHEOIPvA+CDyoQABIlFHYWDxi0GMIYWhe5FEcRaA0hCmAHYgWCBIEEUQUiBnwGYAZtBb0DOwEv/mD7J/m59xX3Tfde+AT67vt0/ZT+aP+v/9X/xv+W/+7/fgBgAc4CPQTXBWEHYQhDCeAJAgreCS0JPAh2B4wGhgVfBCcDWALBAR4BdwCo//3+Y/5o/Vf8K/sO+nT58/jW+Gb5Evoi+038Jf0v/tL+9v46/13/zf+UAC4BHAJVA34EeQXdBdMFsQVuBekELwSKAx4D7wLFAmYC/QGIAekAJgBD/1P+cf2g/NX7Svvj+nD6Dfqd+V75U/ko+R35Jfle+dP59Pnw+dr5qvmW+T75ufhz+Gf4i/ix+Jn4Zfhc+BT4d/er9ln1MvQt89Xx8vD+7wrvpu4L7sXt4+2+7QXu0e5n8CjzjvZI+of+UAPUB4ULxA1zDuYO1Q41DvcN2A0VD7ER+xNjFjQY4hj3GDAXAxS6EBQN9gmxBwsG9AW9BmIHBAj/B1kHEgZdAxAA8vxB+n74NPet9mP3vfhm+q37ZfwJ/Uv9PP0V/er8Rf0d/hX/XQDpAVoDyAT5BdAG2QebCOkILAn+CMQIaghkB0oGHQUFBEEDVgKKAfIAewAhAGb/XP4M/ab7hvpj+ZH4OPg8+Ab5I/pB+3b8Uv0G/rz+Qv/I/zUAkwBGATwCWgNRBNsEVQXRBTQGXwYMBpgFWQUkBdUEOwRyA7kCBwJGAV8Ai//V/i/+tP0y/b78TfyW++j6T/q0+UL5yPht+Ir4x/jx+Cj5RPl1+cf5ovlU+Sj52fjL+Kf4RPhS+F34bfiq+Ij4jPiQ+Bv4rPfU9qD1gfQP88fx1PDZ7zvv1e7E7jDvrO+H8M7xw/Ou9sP5L/3nAGEE7geXCgAM+gw6DUgNgQ2EDSgOng9jEYMTdhWlFjIXsBbdFHkSiw9KDJkJVwcLBv4FNAaqBhgH/QZ/BvUEYQJ0/2j83vn896T2jPZ098/4u/pL/G/9ov67/mr+RP6K/aX9F/5r/igA8QHEAwYGNgeJCMAJ1wnwCWsJkQg0CGgHhwbrBS4FpAQzBG0DrQL3AeEA2/+6/mP9dvxO+z/6z/lT+X/59/kw+gr74Pub/Iz9Cf6Q/k3/5P+MADcB9gHtAuMDrARNBd8FXQaeBoIGOwbxBaUFPAV7BLcDHQOEAvQBIgFPAND/Nv+O/tX9/Px2/Pr7SfvB+mH6Lfor+hH68/kV+jf6LfoQ+uT54Pn8+ff59PkU+lb6pfqv+oL6Yvoy+gP6w/lf+Uj5XPld+U354fhV+JP3W/b19EXz3vHW8MbvUO8S70rvPfDM8MnxRvMC9fH3vvqi/VwBqwQpCAgLYwy8DXsOlg7LDnkOnw6+Dw4RqxJIFH8VRBYbFssUqRIJEBsNNQq7BwYGOQX5BO0EBAUTBcwEwQPAAT7/ufxs+oj4Efdm9tb27/d++Q37Nfxn/SH+Vv6V/mH+Yf7l/l//jAAdApcDXwXlBjIIXwn4CRYKwQlHCcwILQiMB6kG5QVnBcEEJgQ+AzICawFaAEL///19/ID7nPr4+dD5qvkL+q36RPsh/LH8JP2R/cb9Uf7k/m7/LADvAAcCLwMABI4E0wQpBXIFWwUmBdsErwTIBJQEGQSrA/8CQQKGAXcAoP8Q/1f+3f18/Qv9u/wv/HD76Pp6+gX6ovlO+TD5i/nH+cX54fnI+eH5E/rO+c35A/op+pn6zfrC+uT64vqf+mn6D/qQ+Vz59fhy+CL4P/dE9jn1uPOq8oLxX/D375vv2++H8AzxQPLN8+D1ufiH+77+IQI9BUMISgpMC/EL5wu6C8YLlgshDKgNVg+AEWETOxTIFC8UUxISEBANLwogCHQG1AUKBk8G0wb3BlkGSQUxA0oAeP20+qn4ePfI9kH3j/gg+sv7xPxS/bH9b/0m/df8wfyF/Zb+8//FAYwDRAW3BpkHKAiGCIAIPgj9B74HugePBzUHygY4BsAF6wTCA8gCnwG3ANj/n/7W/Rn9efwA/GP7A/vc+tn6/Po4+7X7S/zu/Kj9TP4f/8v/RwDVAE4B3gFrAsgCKgOxAyUEYARhBBYEugNjA8EC/QFZAc0AgABFAPT/qv9q/xX/c/68/eH8C/xf+7P6Ofr2+ev56fn5+RX6D/oN+uv5mvl++Vf5T/l4+ZL54/kp+mf6jfqE+lr6E/rO+YP5MPnW+Gr49/dr97P2rvV+9FbzIPI88Wnwue+L75fv/e/F8J/x0vJY9C72Z/jJ+mv9/P+aAkIFawc5CaYKnAu6DLcNcg5ADw0Q8hDJEWASYhIJElsRERCgDugM+QpjCewH3wY4Bn0F0AQCBCADJgLPAEL/o/06/ET7lfpb+pj6HfsW/BH92P2g/uj+Fv9F/1b/uP81AOoA8QFBA64EBQYhB+wHcAi3CIcIJwiKB9sGUQaEBeQEGwQrA0QCHAHl/9D+hP1a/GL7fvoO+pL5Rfkm+SH5dvm2+ef5XPrQ+pr7nvxk/V7+eP94AIQBbgLtArYDhgQWBQkGqgY1B/4HMAhXCGEI1AckBzsGFwUVBBwD+AEKAXYA+P+v/2r/9P6y/mL+2/0c/Ur8fPu5+k/68/nJ+Ub6xvpW+0/8rfwn/Y39Bf2y/BT8A/t1+qL5DflE+VH50/l7+uX6hPuc+zT7p/pa+QP4bPaE9FXzAfIG8bnwZvDj8KjxO/JC80z0lPXe9lD43fmA++39IwCRAosF6wduCgANgg48EJgR7BGNEuESxRIyEx0TnRKfEg0SahGbEDAP7w2zDH8LUgoICfYHBQf/BSMF5wOhAsYBjQCh//7+GP7o/QL+zf1C/qb+zP6R/8D/BQC6AAwBsQFnAhsDVwRXBUgGMgemB5QIyAiwCN8IbQhoCHkIzgeOB0sHMgavBa4EIQNoAgIBnf8x/wj+Y/0G/e/70vuT+xX7Efuu+rf6Svun+0r89Py8/fH+8P+pAFoB3AGIAkUDrgNHBNEERQXNBRcGIAYYBq4FHQWtBP0DYAOzAvEBnQFMAfcArAAMAKf/Sf+0/jX+hf31/L/8gPxY/DX8FPwo/EH8QPwy/BD85fu9+2T7Evu3+lT6B/rX+bf5yvnh+c357/nz+ef5uPkW+Wr4wPcY92/2dvWv9PPzYvP88iHya/Hn8FfwJ/AD8NLvTPDS8KvxAPNh9CL2FvgX+pj8Kv/SAY8EuQY4CS4LtQwcDoIO2g40DyMPYg+TD10Pug/ID4cPSg8xDvAMmwu2CREIgQbyBBQEJgOFAk0CugFCAXgAcP+O/pT9oPz4+6P7nvsP/Hf8Cf2q/Rv+h/7W/g//j/8YAMMAzgGsAtQDvgRLBeoFFgYxBi4G3QXfBdcFwgWcBQYFfgSyA5sCOAGh/0n+Gf1A/ID76vrW+or6afog+nr5RfnM+H/4ovjp+KT5qPp0+4z8n/19/k3/m//9/5gAMQHkAYoCJQMxBOoESwVdBeYEmQQHBD0DiQLmAZIBcwExAQABugA6ALL/0v7t/S39Uvy4+1f7G/tG+337hvuu+7L7tfu9+1r7Efv1+u/6IvsS+//6Svt4+677uvtt+2H7QvvJ+mT60/kw+dv4R/jA92z30/Yv9of1ofQB9C7zNfJ88c7ws/C/8LHw4vB58TrydPNx9Fj1IvcR+UH7qv2y/xAC2wTSBp8I/gnpCiAMzAwzDcYNcw4/D/APNhB3EHQQ7Q8OD30NCAzCCiMJ6wf9BkoGTQb+BUwFCgVXBIADbAK1AIH/u/7//Zr9ZP2I/VL+xP4h/2j/Xf+s/53/gf/f/yAAtwCaAToCYwNsBBIF0AUfBngG1gbABo8GPQbsBbIFEAUwBC4DQgKSAbUAw//5/jX+q/0M/T38pvsF+2z6KPoD+iH6mPrW+nP7Tvz5/KT98/0p/rb+Yf/p/4MAJwEXAkwDLQSfBNYE9wQVBfIEdwT2A5MDcgNAAwUD2QKBAjQCrAEeAY8Av/8F/zr+v/1//Q39t/xr/E/8h/yH/G78Qvwr/Ef8Efy2+yT7s/q++q76mPrD+vn6ifsv/GH8gPyK/DD84Pt4+9D6dPoH+s757PkK+v75svkd+Wz4kfdt9i71zfMR87jywPIH81Tz//MG9TX2H/co+FX5yvqu/I/+UQCPAo0EbwZvCJ0J9wr4C4QMUA3eDXIOHA+ID/0PcRBhEBAQNA8mDkEN/AvGCpUJkQggCKkH+AZkBpsF1QT/A4QCJQHy/9P+IP6H/RX9Qf1w/ZT97v3s/R/+RP4T/kL+k/4X//n/vwCuAQkDHAQmBfcFRQb1BlEHXwd4BxMH6wbsBoAGHQZ8BaEEDwQyAzUCOAEdAC3/af6m/f/8c/z0+8T7lvuE+137MPs/+2P7v/sr/J38P/0M/uL+zv+CAAsBmAHxAU4ClAKiAugCNgN/A+sDCwQaBDME8AOiAyYDXQLAARsBfgASAJX/K//v/oj+Jf6d/eL8UPyQ+/D6dvrw+bX5lPl2+ab5s/mp+cf5pfm4+d757fkt+nT6y/o1+477xPvs+/37+/vm+737kftt+0f7CPuY+gH6Nvln+In3lvbv9Uf1F/U79UT1u/U/9rD2jPcK+Jb4x/mn+hH8qP0c/xABxwIeBHwFoAa1B8cIeAlmCjgLXwxBDboNRQ4sDhgOkQ2eDKkL5AoeCqIJTwn4COAIcQjEB8YGwQVMBOIChQFQAOD/j/+X/+//XQC4AAYBtABKAMn/G//Z/p7+2P5t/2gAegGYAokDJASmBL0EwQSrBKwEsQS2BO0EFAUxBTIFtQQvBLoD3wJBAoMBnwA9AKz/4/5H/kz9bfz3+yX7pvpx+lT64Pph++L7kPwR/Z397P0B/iT+J/5f/rr+Ov8OANsAqQF0AhADZgN1AwgDbwLsAVoB+ACoAHAAkwDtABsBIgHlAGMA5P8Y//D97vwI/Fj7MfsF+xT7c/ub+7r7t/tA+6X6B/oo+Z/4Zvg8+LL4Yvk4+nr7Vfz0/FX9Sv0q/a386fsb+3z6Fvrn+Zz5Yfka+c74jvj89173rvZE9gT2I/ZG9o/2T/fz99b4rvky+v366fuR/Nj9wv7N/1wBYQLZAw0F5AXtBqkHOQgeCY4JNAoJC1gLUQyLDGoMWQxeC8sKDAq+CBYIaQcIB0MH/QbeBtoGhwYSBi8F+gPgAgQCJQGPACsAEABXAHcAmwCgAJIAjwBWAA4AFgBEAJIAMQGWAVcCLwNrA9QD6wPqAy4E1gOfA5sDfwOiA2ED+wKrAiACpAHvACAAqP8Z/8n+jf4y/hr+2/2H/Uf97/yc/Fr8B/z/+zX8lfwT/Zr9Qv7w/p3/9/8tAEoAXAB2AGsAcACqAB4BnAEPAmECnQLGAoICAQJGAXgAx/8A/2D+8f3T/fr9Pf5d/m7+Xv4g/rL96fwg/Gv76vqB+lj6WPqY+vX6MvuH+7L7zPvI+7b7qPuy+6v7pPux+6f7tPuX+2b7SPsq+zH7SPtB+0n7SPsk+/H6YvrB+U352fjF+Ln45/iF+f35pvoM+0D7lvuI+3v7l/uw+1n8Qf1h/i0A2AGGA+kEsQVkBq0GpQaKBkoGdAYXB8MHswhYCQIKswqkClUKcAliCKAHngb7BasFlwX7BSwGYQZdBv8FgAWeBMQD3QILAqEBYAFsAbAB4wEzAksCNAITAtUBjAFUATcBSwGsAfsBcgLEAhUDVANRA04D+wLPArQChwKUAm4CQwI+AtkBkwEcAZAAKQDB/47/bv91/1L/Q/8m//r+z/6A/iL+8/3t/f79Kf5S/rL+Hv+B/6H/q/+o/7H/r/+o/7D/v/8DADcAbQCTAJ0AjwB3ADYA+f/V/6T/gP91/2b/bv9Z///+n/4o/qr9Gf2X/BX81Pu5+6D7pvuX+4L7aPs3++r6rvp/+ob6uPoQ+3z79Ptl/LT82fzE/Gf86vts+/L6wPqX+qv66Po7+6b77fv2+9X7oPtr+0L7B/vz+g/7evv4+278xfwP/WD9pv3j/Rb+iP4w/w4A8QC6AXMCLgOvAwUEVwR3BMsEJwVpBQEGbwapBvQGzAa4BqoGOAYIBuEF1wU9BlIGXwZkBikGCwZuBZ0E6gM6A+8CpQJaAowCvAIAAy8D6gLBAngC/wGVATYBEQFEAX4BzgEyApIC2wLRAr4CegJiAj0C+wEGAhoCXQKDAmwCXwJGAhcCzgFRARIB6QC7AJMARQAVAPD/mf8v/+/+qP6X/nP+SP5y/pT+sP6w/qb+0P4G/zD/Pv9b/67/4P8WAAEA8/8SABAAHwATADIAbgCmALwAtACkAIAAMQDE/2L/A//N/o3+V/5O/jr+F/7c/W/9Cv2l/CX8wPtw+077T/tl+3j7gPuS+3L7Uvsq+/X67frt+v76J/tn+5j7zPvo++r7//sA/Pr7+vsK/CX8NfxH/Cj8Hfwa/O/7/vv6+xz8cPzD/Cb9jP3o/SL+Sv48/hb+/P32/f79X/7d/pH/ZgASAbYBJQJWAjwCEgLjAfEBMQKiAkMDGgQMBbwFLgYwBuAFbAW2BP0DlANyA74DPwTSBFoF0AXsBZwFBAUgBFYDuAJPAjMChALzAnsDywPEA40DCQNZAqUBKAHvABIBbQH6AZEC/gIXA+ECeAL0AXQBCAHQAOYAPgG0ARACPAJDAgsCngEDAXIAGQD7//7/KABuAL4A+ADuAKwAPwDN/1P/8/6//sn+F/+A/+T/QwCGAKwAigBBAPn/tf+e/4b/o//4/1UAoQDgAOMA4QC9AFwA/P+C/zf/Ff8D/+n+5P7k/ur+zv6J/jP+2/2V/U79Ef3h/MT8pvyg/H38ZfxL/CX8GfwI/Pr7APwI/A/8Jvwx/Ev8S/xL/E78Uvxg/Ff8Vfxa/Gr8ivyf/Kz8wvza/AH9Ef0T/Rz9L/1a/ZD9tv3s/R/+Ov5h/mr+Z/5l/k/+U/54/p7+5P4u/4z/DQCGAOoABwEXARsBDgEFAeAA8wBdAecBiQIWA4oD+QMrBAQEnwMXA6ICXAJGAmoCygJoAxEEmATeBMoEbgTVAwkDTQK9AWUBXQGLAfgBhgL1AjADJQPjAmgCywEzAbsAgwCKAMgALwGjAQQCPgI9AgECpQE2AcsAfQBlAHwAswD0AC4BaAF2AUUB8ACHADkAAwDc/9z/8/8mAGcAhwCEAFsAFgDQ/37/Qf8t/zT/Yv+u/woAYACKAIYAaQA4AO//l/9S/zD/RP95/7T/AwBFAHIAiwBgAAkAnv80/+L+q/6X/qz+5P4u/27/lv99/y3/yf5D/sv9W/0N/QD9L/13/cP9Af4X/gv+wP1J/cH8R/zr+8b7yPsA/F78v/wc/VH9c/1P/Q39vfx9/G78dvys/A79kv0f/pL+1/7r/tX+mP5E/gT+0P3U/QL+Wf7T/kT/tf8FACwALgAcAPP/w/+p/7n/9v9NAKcACgFkAa8B4QHqAdkBvwGyAZMBcQFTAU0BXAF+AawB9QE8AnYCpwKvApsCaAIuAu4BxQGnAbEB0AH1ATYCawKfAqkClAJrAjcC8gGiAVwBOQEtATIBSAFtAaIBxwHpAe4B2gGnAWQBEQHEAI4AagBvAIIAtgD4ACsBRwFIATcBDAHOAIMAQgAmABoAGgAwAE8AeQCjAKoArgCkAIQAbQBLADQAJAAbAA0AFAAfACMAKgAfAB4AIAAlABoAFwASABkAKgAzADwAPwA/ADYAMAAZAAQA+v/s/+X/6f/u//T/7P/V/8P/p/+K/3b/Zf9Z/1r/Wf9V/zz/FP/t/sH+oP6F/nj+g/6m/tL+8f4G/wj/AP/b/qL+av4p/vL9x/2v/bj91P0G/k3+lv7d/g7/H/8R/+f+tv5+/kD+Gf4c/k3+lP7e/jP/g/+7/8L/mv9P//b+pP5g/kf+bv7L/kT/y/9KAKoA0ACwAHYALwD6/+b/8/86AK4ANAGfAcsBwAGGASsBwABrAFIAfQDuAHkBCwKMAscCuAJOAqgB8QBCANP/wP8BAIsAOwHhAVwClAJ9AhkCcwHBACkAtP+B/5H/4P9OALEA/wAeAQ8B1wCFACgA5f/G/8z/7v8fAFMAcAB2AGMAQwAaAPn/7f8AACcAUwCDAKEApwCHAEUA9v+v/37/bP94/6D/3P8uAGsAggB3AEkAFQDW/5z/eP9y/4n/vP/7/zgAaQCDAH8AZgBCACAACQD4//z/DQAmADIAKgAVAPH/yP+l/5L/l/+9//b/MgBiAHEAWQAfAMT/bP8Y/93+zP7o/jT/gP/E/+T/3v+6/3X/G//F/oX+aP52/pX+vv7p/gv/Jv80/yT/D//3/u3+9P75/gf/E/8n/zL/Lf8b/wb/+f7//hX/N/9f/37/lv+d/5v/iP90/13/Vf9r/5P/0P8LAEwAggCeAJwAfABXACwACAD0/wUAPACIANcAGgFWAW4BZAE3AfkAyQCqAK8A0QAOAV4BqAHYAd4BrQFqARsBzQCUAHEAgACkANMABQErATQBFgHSAIEALADj/7b/ov+2/+L/JQBfAH4AiQByAEoABACt/1v/If8C//3+EP83/23/pP/B/8P/tP+X/3r/Tv8g/xL/Gf8h/zn/Tv9x/6D/s/+3/7H/s/+8/7f/ov+Y/6H/tf/H/9T/6P8LADoATwBKAEEAMwAkAAQA4v/W/93/5v/3/w0AKgBbAHsAfQByAGgAZgBSADIAHgAiADYASgBeAHQAigCVAIkAbQBOACcA9P+4/33/Yv9g/3H/k//D/wsASQBoAGIAPwAVAOD/pP92/1z/X/93/5L/rf/A/83/y/+3/5T/bv9K/zD/KP8w/0z/af+K/63/yf/n//L/7v/m/9D/zv/M/8b/0f/Q/9j/4f/y/w4AIwArADYAQQA9ADIAGgAMAAsAEQArAEcAcwClANAA7QDoAOIAzwCvAI4AcgBvAHcAhQCPAJoApwCyAKcAkAB8AGoAYQBWAFEAVABhAGQAXwBKAC8AGQABAPX/9P8JACgAQgBFAEcAPwAdAOb/nf9t/1r/X/9r/3n/mf/H/+b/6P/U/7T/kv9o/0r/OP89/17/hf+t/8P/z//Q/7f/kf9z/2j/Zv9t/3r/n//M/+P/4P/D/63/of+a/5L/lv+3/+z/IQA+AE4AVABQAEEAKQAUABQAJAAzAEAAVQB6AIkAhAByAGIAWgBMAD4AMwA/AGAAhACZAKUAsAC5AMAAsQCeAI4AggB2AGAASAAxAB4ADgACAPv/9//6//H/4//f/9j/0//Q/8n/0f/k//L/9v/t/+7/+P8BAAgACwAWAB4AHQANAPr/6P/e/9v/2//0/wwAJAAsACAAFAAKAAUA7v/j/+v/CQAmADAAMwA1ACsAEAD8/+b/6v/3/wMAGwA4AFcAYQBgAEoAOQAyACYAJAAhACYAPwBZAHAAewB7AH8AegBcAEAANwA3AD8ASwBhAHgAiACSAIoAewBjAEMAHwD4/+v/8P/7/wgABQAEAAQA6P/I/6P/iP+K/5P/rf/I/9z/7f/j/9P/w/+2/6r/mf+R/5b/pf+9/9P/2P/X/9H/yv/F/73/t/+z/7T/vP/K/83/zv/N/83/2P/l//v/BQAIAAoABgACAPP/4P/X/+H/8/8NAC0AQgBLAEoAQgA6ADAAJQAbABwALABHAF4AYwBoAGUAYwBfAFAAOwArACgAIgAiACkANQBHAFMATgBHADcAFADs/7//o/+W/5H/nP+1/9P/7P/2//D/5f/U/7//qP+f/6D/rv/D/9v/8v/+/wcAAQDz/9//zP/E/7z/vf/J/9f/6v/2//X/7f/X/8f/tf+p/6X/o/+r/7z/0v/t/wUADAAJAP//9v/g/8r/uv+s/7n/zv/t/w4AIQArACgAEgD6/9//vf+u/6z/uf/c/wcAJwA+AEgAQAAvAA0A5P/F/7L/q/+1/8n/4P/6/wsAEAAQAAAA7P/d/8H/s/+v/6r/r/+y/73/xP/C/8D/uP+u/6H/n/+o/7f/xf/P/9r/4f/k/97/zv/E/77/vf++/8P/1P/k/+//7//r/+v/6f/n/9//3f/m//r/DwATABIACwD//+3/0/+//7n/xP/X//D/BgAWACMAHgAZABUACAAFAAMACQAXACUAMgAuACEAHgAXAAUA+f/p/+n/6v/u//n/+v8FAAcACQAGAP3/8f/k/97/2P/i//b/DgAfADEANQAvACsAGgAKAPf/8f/0//7/BAABAP//+//9//7/AQAGAAgABwAFAAIA8//i/9X/yf/L/9r/6P/4/wQACQAPABEAAwDs/9r/0P/O/9L/0f/U/9T/0v/X/9P/1f/X/+X/9P/+/woACQAHAP3/9//x//P/AQALABsAKQA6AEUAQgA2ACkAHAAUAAsADAAVACAAKAArADMAMAAqAB0AEgAMAAoAEAAVABsAHAAhACMAHgAXABMADAD9//r///8MABYAHQApACwALwAzAC0AIAAYABIADAAIAAYACgASABYAHwAoACcAIwAZAAwAAgD7//T/8v/1/wAACwALAAUA///z/+f/4f/c/9v/3v/i//D//P8IAA0ACgAKAAYACwAHAPz//f8DAA8AFwAbABUADgAJAAEA/f/7/wAAAgAIABQAJQAqACgAIwAWABUADwAEAP7//////wMABAADAAkABwAGAPz/9P/i/9L/0P/Q/9n/3v/v//7/CAANAA0ADgACAPL/6P/m/+n/7v/2////CQAQABAACwD+//P/8//3//3/AwARABwAIAAiACAAFwAMAAEA+f/1//T//P/8//3/AQAFAAkABQD+//X/8v/y//X/+v/+/wgADwAXAB8AHwAbABMACAACAP///P///wIACAAMABEAEAAIAAYAAgD5//b/9f/4/wIACwAWABUAFQATAAkAAgD1/+7/8P/8/wcAEQAgACcAKAAhABUABgD6/+z/4v/e/+b/9f/3//3/AAAJAA0ABgD8//T/8//x/+z/6P/t//r/CAARABUAGQAbABUACgACAP///P/5//T/+P/+/wAA+//z//H/7//1//P/8//4////CAAFAP//+//5//T/7//s//H/+f8AAAEAAgAPABIAEwAPAAwADQAMAAkAAgABAAgAEAAUABcAHAAgACUAJQAgABoAFAARAA4ACAAGAAMA+//6//n/8v/s/+j/5P/k/+b/5P/m/+P/5v/q/+v/8v/y//L/+P8BAAUACQAJAAUABQADAAUABAAAAP3/AQADAAgAFAARABEAEgAPABAADgAJAAkADAAQABMAEAAJAAMA/v/1//H/9f/4/wAACQALAAkABgD9/+//5//h/9//4//n//H/+f/6/wAABAD//wEABAAAAP3/AQAGAA0AFAAZACAAHwAcABgAFQAPAA4ADAAIAA0AEAAUABYAEAAKAAUA+//0/+z/6P/p//D//f8CAAoADgALAAEA8f/l/97/1v/V/9f/3f/p//T/+P/x/+3/5//l/+H/3P/d/+H/6v/y//j/+v/9//r/+v/6//r/+f/4//n/+f/9//r/8//u/+f/5v/u//D/8//3//f/+P/5//j/9v/z//X/9v/8/wQAAgADAAIAAwABAAAA+//4//r//P/+/wEABAAGAAcAAgADAPv/9P/x/+z/7//y//T/8v/2//j/+/////z/+//8//z//f8AAP7//P/8//7////8//r/9v/1//P/8f/z//P/8v/z//D/7v/s/+r/5v/j/+T/5//u//P/9//7//z/+//9/wEA/P/2//T/9v/5//r/+v/1//j/+//8/wEA///+//z/9//0//T/8f/u/+r/7//3//3/AAD9/wEABAADAAAA/f/3//T/9f/y/+7/7v/1//j/+P/7//v//P/9//X/9P/y//H/8//x//T/+P/6//j/+v/3//f/+f/2//n/+v/8//v//f/7//n/+f/4//v//f/+//7//f/8///////9//v/9v/6//z/AAD//wEABAACAAcAAwAAAP7/+v/2//T/8v/0//b/8//4//v//v8CAAYABwAHAAoACwAOAAoACgAJAAQACAAHAAQAAgD+/wMAAAD9//3/+f/5//r/+v/5//v/+//7//z/+/8AAP//AAAEAAQABwAFAAYACQAJAAgABQABAAEAAgD///3/+v/8//3/AgAGAAYACQAIAAcABAADAAMAAgD+//7/AwAFAAcACAAGAAgABgACAAMA/////wAA/f/9//v/+v/7//f/+f/6//7/AQAAAAQAAwAFAAMAAwD+////AQACAAgABwALAAwACwALAAgACAAIAAYABwAKAAsADwARABAAEQAPAA0ADgAMAAkACAAJAA0ACQAHAAkABgAFAAkACAAFAAgABwAIAAkABwAGAAcACQAJAAgABwAGAAgABgAFAAkABwAHAAkACQAKAA0ADAAKAA0ACgAKAAcAAgAFAAYABwAFAAQABQAEAAAAAAD+//3////+/wEAAwADAAEAAQAFAAIABAAJAAUABgAJAAwACgAGAAMAAwABAPz//f/8//7/AQABAAQABAACAAUABQADAAYABAAFAAcABAACAAAA/////wAA/v/+///////+//3//v/9/////v/6////AAACAAEAAgADAAIAAgAAAAEA/v8BAAAA//8AAPz/AAD9//n//P8BAAEABAAHAAYABwAFAAIAAAD9//z//P/8//3/AAACAAIABAAFAAYABQACAAEAAwABAAAA///+//7//P///wAAAAAAAAAA/v//////AAABAAAABAABAAIAAgAAAP//AAD+////AgACAAUACAAIAAMAAAD///v//P/9//v//v8BAAMAAgABAAEAAAD///7//f/8//7//v///wEAAgABAAIAAAD///3//P/7//r/+//8//7//f8BAAAA//8BAP//AAD9//z//f///wAAAAABAP//AAD///3////+/////v///wMAAQD7//v/+v/6//v/+f/7//r//f/9//v/+v/3//j/+P/3//r/+v/7//z//P///////v/+//3//v/9//v/+//6//r/+f/3//n/+P/4//v/+v/7//v//P/8//r/+v/2//b/+f/5//r//P/8/wAAAAD+//3//P/9//r/+v/6//j/9//5//v/+P/5//r/+f/7//j/+f/5//n//P/4//n/+P/3//b/9//2//b/+P/4//n/+P/4//f/9v/1//b/9//2//f/9//3//f/+f/7//v/+v/4//f/+f/6//r/+//6//r/+v/5//r/9//2//j/9//1//T/9P/z//T/8v/2//b/9v/5//r/+f/6//z/+//7//r//f/4//b/+f/5//r/9v/2//r/9v/3//f/8//5//r/+f/5//j/9//6//z/+f/8//z/+v/7//v//P/6//z/+//5//v/+//6//n/+v/5//f/9f/5//j/9//5//r/+//5//r/+f/5//3/+//6//r/+//8//z//P/8//3//P/+/////f/+/////f/9//z/+//8//n/+//7//z//f/9/wAA/f/+//7//v/8//z//v///wAA/v8AAAAAAAD///z//v8AAP//AgABAAAAAgADAAIAAgACAAAAAwADAAEAAQAEAAMAAAAAAAIAAgAAAAMAAgAAAAIAAAABAAQAAgADAAMAAQAFAAUABAAEAAUABAADAAMAAQADAAIAAwAFAAMABAAFAAYABAAEAAMAAgADAAMABAAFAAQABAAFAAQABAAEAAMABAABAAQABAADAAQAAwAGAAUAAwAEAAMABAAFAAYABgAFAAUABQAFAAQABAAEAAUABgAFAAQABQAFAAMABAAGAAgABgAEAAYABQAEAAUAAwAEAAQAAgAFAAQABQAFAAIABQAGAAUAAwAEAAUABwAIAAcABwAGAAYABQADAAUABAAEAAUABAADAAEABAAEAAEAAwAFAAUABQAHAAcABgAGAAUABAAGAAQABQAEAAEABQADAAEAAgABAAMABQABAP//AgACAAIAAwADAAMABAAEAAMAAwABAAAAAAAAAAEAAAAAAAAAAAD+//3//f/9//7////+////AQABAAIAAQABAP////8AAP//AgABAAAAAQAAAAEAAQAAAAEAAAD//wAA/v/+//7//f/8//z//f/8//z/+//8//7//P/9//z//f/9//z/+//7//z/+//8//v//f/8//z//v/+//7//f/+//z//P/+//n/+//8//v/+v/6//v/+v/8//3//f/6//v//P/6//n/+f/4//j/9//5//r/+v/9//v/+//3//n//v/7//3/+v/5//v/+//4//r/+//4//r/+f/2//n/+P/3//n/9//4//j/9v/4//j/9//4//n/+P/5//r/+P/5//r/+v/7//r/+//6//j/+//6//n/+P/6//n/+P/7//z/+//6//v//P/6//j/+v/5//n/+v/6//v/+//8//v/+v/6//j/9//6//v/+v/6//r/+//8//v/+//6//j/+f/7//r//P/8//r//f/8//7/+//7//z/+f/6//j/+//8//v//P////3//P/+//z//P/9//z//P/8//z//v/7//z/+//7//3/+//8//7//f/8//z//f/+//3///8BAP////////7//f/+//3//v////z//P/9//z//P/8//z/+//8//z//f////7//v///////v8AAP////8AAP//AAABAAAAAgACAAAA///+//3//v8BAP7/////////AAD//wAAAQABAAIAAQACAAIAAQABAAIAAwADAAIAAQACAAIAAAAAAAAA//8AAAEA//8AAAAA//////////////////8AAAAAAQAAAAAAAgAAAAQAAgABAAMAAQAAAAAAAwACAAEAAQABAAAAAAABAP//AAACAAAAAQACAAEAAgD+/////////wEAAAACAAEAAQACAAIAAQABAAAA//8AAAAA/v/+/wEAAQD+/wEAAgABAAAA/v8AAAAA//8AAAEAAAAAAAIAAQAAAAEAAQD//wEAAAD/////AAAAAP///v8AAAAA/v/+//7//v//////AAAAAAAAAAD+////AAD////////+//7//////wAA//8AAP7//v///wAAAAAAAAAAAAAAAP7//////wAAAAAAAP///v8BAAAA/////wAAAAD9//3//v/9//3//P/8//z//f/9//7//v/+//3//v8BAAEA/////wEAAQABAAAAAgAAAP3//f/9//7//f/8///////9//3/+//8//z//v/+//3//v///////v8BAAEAAQAAAP/////+//7//v/+/////v/+//7//v/9//3//f/+//z//P/9//3//P/+//7//f/+/wAA///+//3//v////7//v///wAA/v///wAA/f/9//3//P/9//z//f/+//v//P/7//z//v/9//7//f/9//3//f/8//z//f/8//3//f/+//3///8AAPz//f/+//3//f/9//7///////////8AAP//AgAAAAAAAAD+/wEA/f/9//7//v/8//7////8//3//f/+//////8AAP////8AAP///////wEAAAD//wAA//8AAAAA/////wAAAAD//wAAAAABAAAA/v8AAAAAAQD/////AAAAAP////8AAP///v///wAAAAAAAP////////7//v//////AAAAAAEAAAD///////8AAAAAAAAAAAEAAAD//wAAAAD//wAAAQAAAAAA/v8AAAIAAgABAP/////+/wAAAQAAAAAA///+////AAAAAAEAAAD//wAA//8AAAAAAAD/////AQD///////8AAAAA/v/+//7/AAAAAP7///8BAP7/AAAAAP//AQD///7/////////AAABAAAAAAAAAAAAAAABAAAAAAD///7/AAAAAAAAAAAAAP////8BAAEAAAAAAP///f/9//7//v/+////AAD9//3//v////3//f/+/wAAAAD/////AAAAAP7//f////3//v8AAP3//P/+/////v/9//7//v/+//7//v/+/////f/8//3//P/8//z//P/9//v/+//8//v/+//8//7//f/9//z//f/9//z//v/9//3//f/+//3//P/8//z//v/9//3//v/+//7//f/8//3//P/7//z//f/9//3//v/+//3//P/9//z/+//7//z//f/9//7//f/9//7//P/9//7//f////////////z//P/9//3//f/9//7//f/8//3//f/9//3//f/+//7//v/9//3//v/9//7//f/9//7//f/9//z//f/9//7//v////3//f/+//7//v/9/////v////7///////7////+//7//v/+//7//v/+//7//f/+//7//f/9//7///////7//v/+////AAD///////////////////////////7///////7//v/+//7//f/+//7//v/9//7//v/+/////v////////8AAAEA//8AAAAA////////AAD///7//v///////v/9//7//v/+//7//f////////////7//v/////////////////////////////////+///////+//7///////7//v/+/////v/+//7//v/+//7//v///wAA///+//7//v/+//7//v/+/////////////////////////////v/+//3//v/+/////////////v////7//v/+//7////+//7//v/+//7///////7//////////v/+//7//v///////////////////////////////v/+//7//v/+//7////+/////v/+/////////////v///////v/////////+//7//v/+//7//v/+//7//v/+/////////////v////7///////7//////////v/+//7//v/+/////v/+//7//v////7//v////7//v/+///////////////////////+//7//v/+//7//v/+/////v/+/////v/////////+//7//v/+//7//v/+//7///////////////7//v/+//7//v/+//7//v/+//7//v/+/////v/+//7//v/+//7////+//7//v/////////+/////v///////v////7//v/+//7//////////v/+//7////+//7//v/+//7//v/+//////////////////7//v/+//7//v/+//7//v/+//7//v/+//7//v////7////////////+//7//v/+//7//v/+//7//v/+///////+//7//v/+/////v////7//v/+//7//v/+///////+//7////+//7//////////v/+//////////7//v/+//7////+//7//v/+//7//v/////////+//7//v///////////////v/+/////v///////v/+//7//v/+//7//v/+//7//////////v/+/////v///////v/+//7////+//7////+/////v/+//////////7//v/+//7//v/+//7//v/+//7//v////7//v/+/////v/+/////v////////////7//v/+/////v////7//v/+//7////+//7//v/+//7//v/+//7//v////7//v/+//7//v/+/////v/+//7//v/+//7//v/+//7///////7//v/+/////v/+//7//v/+//7//v/+//7//v////7//v/+//7//v/+//7////+//////////////////7//v/+//7////+//7//v////7//v/+//7////+/////v/+//7//v/+//7//v/+//7////+//7//v////7//v///////////////v////7//v////7//v/////////+//7//v/+//7//v/+//7////+//7//////////v////////////7////+//7//v/+//7//v/+//7////+//7//v/+//7//////////v/+//7//v/+//////////7//v/+//7//v/+//7//v///////v/+/////////////v/+/////v/+///////+//7//v/+//7//v/+//7////+/////v///////v///////v/+//7//v/+//7//////////////////v/+//7//v/+//7//v/+/////v/+//7//v/+//7//v/+//7//v/+//7//v///////////////v/+//7//v/+//7//v/+//7//v/+//7//v/+//7//v/+//7//v////7//v/+//7//v/+//////////7//v/+//7//v/////////+//7//v/+/////v/+//7//v/+//7//v/+/////v/+/////v/+//7////+//7//v/+/////v///////////////////////v///////v/+//7//v/+//7///////7//v/+//7//v/+//7//v/+//7//v/+//7////+///////+/////v/+//7///////7///////7//v/+//7//v/+//7//v/+//7//v/+/////v/+//7//v/+/////v/+/////v/+//7//v/+//7//v////////////7//v/+//7//v/+//7//v/+//7//v/+//7////////////+//7////+//7//v/+//7//v/+//////////7///////7////+//7//v/+//7//v/+//7//v/+//7//v/+//7//////////v///////v/+//7//v/+//7//v///////v/+//7//v/+/////v/+//7//v/+//7//v/+/////v/+//7//v/+//7//v/+//7///////7////+//7////////////+//7//v/+//7//v/+//7//v/+//7//v/+/////////////v////7//v////7//v/+//7//v/+//7//v/+//7//v////7//v/+//7//v/+//7//v////////////7//v/+/////v////7//v/+//7//v/+/////v///////v/+//7///////7//v/+//7//v/+/////////////v/+//7//v/+//7//v/+//7//v/+///////+//////////7//v/+//7//v/+/////v/+//////////////////7//v/+//7//v/+//7//v/+//7//v/+//7//////////v/+//7//v/+//7//v/+//7//v/+/////v/+//7///////7////+/////v/+//7//v/+//7//////////v/+//7//v/+//7//v/+///////+//7//v/+//7//v///////v/+//7//v/+///////+/////v/+//7//v/+//7//v/+/////v/+//////////7//v/+//7////+//7//v///////v/+//7//v/+//7//v/+//7//v/+//7//v/+//7//v/+//7//v/+//7//v/+///////+//7////+///////+//7//v/+//7///////7//v/+//7//v/+//7//v/+//7//v/+//7//v////7///////7//v////7//v/+//7//v/+//7//v/+/////////////v/+/////v////7//v/+//7//v/+//7//v/+//////////7//v/+//7//v/+//7//v/+//7////////////+/////v/+//7//v/////////+//7//v/+//7//v///////v/+//7//v/////////+//7//v/+//7//v/+//7//v////////////7////+//7//v/+//7//v/////////+//7///////7//v/+//7//v/+/////v/+//7//v/+/////v/+//7//v/+//7//v/+//7//v/+//7//v/+//7//v/+//7//v/+//7//v/+//7//v////////////7//v/+//7////+//7//v/+//7//v/+//7//v/+//7//v/+//7//v////7//v/+//7//v/+//7//v/+//7//v/+//7//v/+//7////+//7//v/+/////v/+//7//v/+//7//v/+//7//v/+//////////7//v/+//7//v/+//7//v/+//7//v/+//7//v///////v////7//v////7//v/+//7//v/+//7//v////7///////7//v/+//7//v/+/////v/+//7//v/+//7//v/+//7//v/+//7//v/+///////////////+/////v/+//7////+/////v/+//7//v/+/////v/+//7//v/+//7//v///////////////v/+//7//v/+/////v////7//v/+//7//v/+//7//v/+//7//////////v/+//7////+///////+//7//v/+//7//v/+//7//v/+//7//v/+//7//v/+//7//v/+//7//v/////////+//7//v/+//7//v/+//7//v/+//7//v////7///////7//v/+//7//v/+//7//v/+//7//v/+//7//v////7//v////7//v////7//v/+//7//v/+//7//v/+//7////+//7//v/+//7////+//7//v////7//v/+//7//v////7//v/+//7//v/+//7//v/+//7////////////+//7//v/+///////+//7//v/+///////+//7//v/+//7//v/+//7//v/+//7//v/+//7//v/+//7//v/+//7//v/+/////v/////////+/////v/+//7//v/+//7//v/////////+//7//v/+//7//v/+//7////+//7//v/+//7//v////7//v/+//7//v/+//7////+//7//v/+//7//v/+/////////////v/+//7//v/+///////+/////v/+//7//v/+//7//v///////v/+//7//v////7//v/+//7////+/////v/+//7//v/+//7//v/+/////////////v/+//7//v/+//7////+//7//v/+//7//v/+//7//v/+/////v///////v////7//v/+//7//v/+//7//v/+///////////////+//7//v/+//7//v/+//7//v/+//7//v////7//v/+//7//v/+//7////+//7//v/+//7//v////////////7//v/+//7//v/////////+//7//v/+//7//v/+//7//v////7//v///////v/+//7//v/+/////v/+//7//v/+//7//v/+//7//v/+//7//v/+//////////7//v/+//7//v/+//7//v/+//7//v/+//7//v/+//7//v/+///////+//7////+//7//v/+//7//v/+//7//v////////////7//v/+//7//v/+//7//////////v/+//7//v/+//7//v/+//7//v/+//7///////7//v/+//7//v/+/////v/+/////v/+//7///////7//v/+//7//v/+//7//v/+/////v/+//7//v/+/////////////v/+//7//v/+//7//v/+//7//v/+//7///////7////////////+//7//v/+/////v////7//v/+//7//v/+//7//v/+//7//v/+//7//v/////////+//7///////7////+//7//v///////v///////v/+//7//v/+//7//v/+///////+//7//v/+//7//v/+//7//v////7//v/+//7////+//7//v/+//7////+//7//v/+//7//v/+//7////+//7//v/+//7//v////7//v/+//7//v/+//7//v/+//7//v/+//7//v///////v/+//7//v/+//7//v/+//7//v/+//7////+//7//v/+//7////+///////+///////+//7//v/+/////v/+//7//v/+//7//v/+//7//v/+/////////////v/+//7//v/+//7//v/+//7////+//7//v/////////+//7//v/+//7//v/+//7//v/+//7//v/+//7//v/+//7//v///////v/+//7//v8AAAAAAAAAAAAAAAAAAAAAAAAAAAAAAAAAAAAAAAAAAAAAAAAAAAAAAAAAAAAAAAAAAAAAAAAAAAAAAAAAAAAAAAAAAAAAAAAAAAAAAAAAAAAAAAAAAAAAAAAAAAAAAAAAAAAAAAAAAAAAAAAAAAAAAAAAAAAAAAAAAAAAAAAAAAAAAAAAAAAAAAAAAAAAAAAAAAAAAAAAAAAAAAAAAAAAAAAAAAAAAAAAAAAAAAAAAAAAAAAAAAAAAAAAAAAAAAAAAAAAAAAAAAAAAAAAAAAAAAAAAAAAAAAAAAAAAAAAAAAAAAAAAAAAAAAAAAAAAAAAAAAAAAAAAAAAAAAAAAAAAAAAAAAAAAAAAAAAAAAAAAAAAAAAAAAAAAAAAAAAAAAAAAAAAAAAAAAAAAAAAAAAAAAAAAAAAAAAAAAAAAAAAAAAAAAAAAAAAAAAAAAAAAAAAAAAAAAAAAAAAAAAAAAAAAA=\" type=\"audio/x-wav\" />\n",
              "                    Your browser does not support the audio element.\n",
              "                </audio>\n",
              "              "
            ]
          },
          "metadata": {},
          "execution_count": 18
        }
      ]
    },
    {
      "cell_type": "code",
      "source": [
        "# audio to text\n",
        "import speech_recognition\n",
        "r=sr.Recognizer()\n",
        "audio_file=\"output.wav\"\n",
        "with sr.AudioFile(audio_file) as source:\n",
        "  audio_data=r.record(source)\n",
        "try:\n",
        "    text=r.recognize_google(audio_data)\n",
        "    print(\"Recognized text:\",text)\n",
        "except Exception as e:\n",
        "   print(\"ERROR:\",e)\n"
      ],
      "metadata": {
        "colab": {
          "base_uri": "https://localhost:8080/"
        },
        "id": "ypili4UlJlP_",
        "outputId": "957b7d41-3c47-4d87-871e-142b140d577f"
      },
      "execution_count": null,
      "outputs": [
        {
          "output_type": "stream",
          "name": "stdout",
          "text": [
            "Recognized text: I love you\n"
          ]
        }
      ]
    },
    {
      "cell_type": "code",
      "source": [
        "#Text simple using RNN,LSTM,GRU\n",
        "import numpy as np\n",
        "from tensorflow.keras.models import Sequential\n",
        "from tensorflow.keras.layers import Dense,LSTM,GRU,SimpleRNN\n",
        "from tensorflow.keras.utils import to_categorical\n",
        "\n",
        "#Step 1: Sample text\n",
        "text = \"Hello world\"\n",
        "chars = sorted(list(set(text))) #get unique character in the text\n",
        "char_to_int = dict((c, i) for i, c in enumerate(chars)) # MAP each character in the text\n",
        "int_to_char = dict((i, c) for i, c in enumerate(chars)) #MAP number back to character\n",
        "vocab_size = len(chars)# total unique character\n",
        "seq_length = 3\n",
        "x,y=[],[]\n",
        "for i in range(len(text)-seq_length):\n",
        "  seq_in=text[i:i+seq_length]\n",
        "  seq_out=text[i+seq_length]\n",
        "  x.append([char_to_int[char] for char in seq_in])\n",
        "  y.append(char_to_int[seq_out])\n",
        "x=np.array(x)\n",
        "y=np.array(y)\n",
        "\n",
        "# One-hot encode the target variable\n",
        "y = to_categorical(y, num_classes=vocab_size)\n",
        "\n",
        "x=np.eye(vocab_size)[x]\n",
        "model=Sequential()\n",
        "x=x.reshape((x.shape[0],x.shape[1],vocab_size))\n",
        "def build_model(model_type=\"RNN\"):\n",
        "  model=Sequential()\n",
        "  if model_type==\"RNN\":\n",
        "    model.add(SimpleRNN(50,input_shape=(seq_length,vocab_size)))\n",
        "  elif model_type==\"LSTM\":\n",
        "    model.add(LSTM(50,input_shape=(seq_length,vocab_size)))\n",
        "  elif model_type==\"GRU\":\n",
        "    model.add(GRU(50,input_shape=(seq_length,vocab_size)))\n",
        "  model.add(Dense(vocab_size,activation='softmax'))\n",
        "  model.compile(loss='categorical_crossentropy',optimizer=\"adam\")\n",
        "  return model\n",
        "for model_type in [\"RNN\",\"LSTM\",\"GRU\"]:\n",
        "  print(f\"\\n--Training{model_type}---\")\n",
        "  model=build_model(model_type)\n",
        "  model.fit(x,y,epochs=500,verbose=0)\n",
        "  print(f\"{model_type} trained!\")\n",
        "seed = \"hel\"\n",
        "generated_text = seed\n",
        "char_to_idx = char_to_int\n",
        "idx_to_char = int_to_char\n",
        "for _ in range(10):\n",
        "  x_seed = np.array([char_to_idx[c] for c in seed]).reshape(1,seq_length)\n",
        "  x_seed = np.eye(vocab_size)[x_seed]\n",
        "  pred = np.argmax(model.predict(x_seed, verbose=0))\n",
        "  next_char = idx_to_char[pred]\n",
        "  generated_text+=next_char\n",
        "  seed=seed[1:]+next_char\n",
        "\n",
        "print(\"Generated Text:\",generated_text)"
      ],
      "metadata": {
        "colab": {
          "base_uri": "https://localhost:8080/",
          "height": 439
        },
        "id": "yViyNPEsKFUc",
        "outputId": "a86ab55c-7ba3-47b9-d378-99c3d9841575"
      },
      "execution_count": null,
      "outputs": [
        {
          "output_type": "stream",
          "name": "stdout",
          "text": [
            "\n",
            "--TrainingRNN---\n"
          ]
        },
        {
          "output_type": "stream",
          "name": "stderr",
          "text": [
            "/usr/local/lib/python3.12/dist-packages/keras/src/layers/rnn/rnn.py:199: UserWarning: Do not pass an `input_shape`/`input_dim` argument to a layer. When using Sequential models, prefer using an `Input(shape)` object as the first layer in the model instead.\n",
            "  super().__init__(**kwargs)\n"
          ]
        },
        {
          "output_type": "stream",
          "name": "stdout",
          "text": [
            "RNN trained!\n",
            "\n",
            "--TrainingLSTM---\n",
            "LSTM trained!\n",
            "\n",
            "--TrainingGRU---\n",
            "GRU trained!\n"
          ]
        },
        {
          "output_type": "error",
          "ename": "KeyError",
          "evalue": "'h'",
          "traceback": [
            "\u001b[0;31m---------------------------------------------------------------------------\u001b[0m",
            "\u001b[0;31mKeyError\u001b[0m                                  Traceback (most recent call last)",
            "\u001b[0;32m/tmp/ipython-input-435509714.py\u001b[0m in \u001b[0;36m<cell line: 0>\u001b[0;34m()\u001b[0m\n\u001b[1;32m     48\u001b[0m \u001b[0midx_to_char\u001b[0m \u001b[0;34m=\u001b[0m \u001b[0mint_to_char\u001b[0m\u001b[0;34m\u001b[0m\u001b[0;34m\u001b[0m\u001b[0m\n\u001b[1;32m     49\u001b[0m \u001b[0;32mfor\u001b[0m \u001b[0m_\u001b[0m \u001b[0;32min\u001b[0m \u001b[0mrange\u001b[0m\u001b[0;34m(\u001b[0m\u001b[0;36m10\u001b[0m\u001b[0;34m)\u001b[0m\u001b[0;34m:\u001b[0m\u001b[0;34m\u001b[0m\u001b[0;34m\u001b[0m\u001b[0m\n\u001b[0;32m---> 50\u001b[0;31m   \u001b[0mx_seed\u001b[0m \u001b[0;34m=\u001b[0m \u001b[0mnp\u001b[0m\u001b[0;34m.\u001b[0m\u001b[0marray\u001b[0m\u001b[0;34m(\u001b[0m\u001b[0;34m[\u001b[0m\u001b[0mchar_to_idx\u001b[0m\u001b[0;34m[\u001b[0m\u001b[0mc\u001b[0m\u001b[0;34m]\u001b[0m \u001b[0;32mfor\u001b[0m \u001b[0mc\u001b[0m \u001b[0;32min\u001b[0m \u001b[0mseed\u001b[0m\u001b[0;34m]\u001b[0m\u001b[0;34m)\u001b[0m\u001b[0;34m.\u001b[0m\u001b[0mreshape\u001b[0m\u001b[0;34m(\u001b[0m\u001b[0;36m1\u001b[0m\u001b[0;34m,\u001b[0m\u001b[0mseq_length\u001b[0m\u001b[0;34m)\u001b[0m\u001b[0;34m\u001b[0m\u001b[0;34m\u001b[0m\u001b[0m\n\u001b[0m\u001b[1;32m     51\u001b[0m   \u001b[0mx_seed\u001b[0m \u001b[0;34m=\u001b[0m \u001b[0mnp\u001b[0m\u001b[0;34m.\u001b[0m\u001b[0meye\u001b[0m\u001b[0;34m(\u001b[0m\u001b[0mvocab_size\u001b[0m\u001b[0;34m)\u001b[0m\u001b[0;34m[\u001b[0m\u001b[0mx_seed\u001b[0m\u001b[0;34m]\u001b[0m\u001b[0;34m\u001b[0m\u001b[0;34m\u001b[0m\u001b[0m\n\u001b[1;32m     52\u001b[0m   \u001b[0mpred\u001b[0m \u001b[0;34m=\u001b[0m \u001b[0mnp\u001b[0m\u001b[0;34m.\u001b[0m\u001b[0margmax\u001b[0m\u001b[0;34m(\u001b[0m\u001b[0mmodel\u001b[0m\u001b[0;34m.\u001b[0m\u001b[0mpredict\u001b[0m\u001b[0;34m(\u001b[0m\u001b[0mx_seed\u001b[0m\u001b[0;34m,\u001b[0m \u001b[0mverbose\u001b[0m\u001b[0;34m=\u001b[0m\u001b[0;36m0\u001b[0m\u001b[0;34m)\u001b[0m\u001b[0;34m)\u001b[0m\u001b[0;34m\u001b[0m\u001b[0;34m\u001b[0m\u001b[0m\n",
            "\u001b[0;31mKeyError\u001b[0m: 'h'"
          ]
        }
      ]
    },
    {
      "cell_type": "code",
      "source": [],
      "metadata": {
        "id": "TbOsV947NpT3"
      },
      "execution_count": null,
      "outputs": []
    },
    {
      "cell_type": "code",
      "metadata": {
        "colab": {
          "base_uri": "https://localhost:8080/"
        },
        "id": "40aa3443",
        "outputId": "49fc5b68-8d05-4c97-fa50-58baa9ac73cb"
      },
      "source": [
        "#Text simple using RNN,LSTM,GRU\n",
        "import numpy as np\n",
        "from tensorflow.keras.models import Sequential\n",
        "from tensorflow.keras.layers import Dense,LSTM,GRU,SimpleRNN\n",
        "from tensorflow.keras.utils import to_categorical\n",
        "\n",
        "#Step 1: Sample text\n",
        "text = \"Hello world\"\n",
        "chars = sorted(list(set(text))) #get unique character in the text\n",
        "char_to_int = dict((c, i) for i, c in enumerate(chars)) # MAP each character in the text\n",
        "int_to_char = dict((i, c) for i, c in enumerate(chars)) #MAP number back to character\n",
        "vocab_size = len(chars)# total unique character\n",
        "seq_length = 2\n",
        "x,y=[],[]\n",
        "for i in range(len(text)-seq_length):\n",
        "  seq_in=text[i:i+seq_length]\n",
        "  seq_out=text[i+seq_length]\n",
        "  x.append([char_to_int[char] for char in seq_in])\n",
        "  y.append(char_to_int[seq_out])\n",
        "x=np.array(x)\n",
        "y=np.array(y)\n",
        "\n",
        "# One-hot encode the target variable\n",
        "y = to_categorical(y, num_classes=vocab_size)\n",
        "\n",
        "x=np.eye(vocab_size)[x]\n",
        "x=x.reshape((x.shape[0],x.shape[1],vocab_size))\n",
        "\n",
        "def build_model(model_type=\"RNN\"):\n",
        "  model=Sequential()\n",
        "  if model_type==\"RNN\":\n",
        "    model.add(SimpleRNN(50,input_shape=(seq_length,vocab_size)))\n",
        "  elif model_type==\"LSTM\":\n",
        "    model.add(LSTM(50,input_shape=(seq_length,vocab_size)))\n",
        "  elif model_type==\"GRU\":\n",
        "    model.add(GRU(50,input_shape=(seq_length,vocab_size)))\n",
        "  model.add(Dense(vocab_size,activation='softmax'))\n",
        "  model.compile(loss='categorical_crossentropy',optimizer=\"adam\")\n",
        "  return model\n",
        "\n",
        "# Train and generate text for each model type\n",
        "for model_type in [\"RNN\",\"LSTM\",\"GRU\"]:\n",
        "  print(f\"\\n--Training{model_type}---\")\n",
        "  model=build_model(model_type)\n",
        "  model.fit(x,y,epochs=500,verbose=0)\n",
        "  print(f\"{model_type} trained!\")\n",
        "\n",
        "  # Text generation\n",
        "  seed = \"He\" # Start with a seed that is in the vocabulary\n",
        "  generated_text = seed\n",
        "  char_to_idx = char_to_int\n",
        "  idx_to_char = int_to_char\n",
        "\n",
        "  # Ensure seed is in the vocabulary\n",
        "  seed = \"\".join([c for c in seed if c in char_to_idx])\n",
        "  if len(seed) < seq_length:\n",
        "    print(f\"Seed '{seed}' is too short for sequence length {seq_length}. Skipping generation for {model_type}.\")\n",
        "    continue\n",
        "\n",
        "  for _ in range(10):\n",
        "    x_seed = np.array([char_to_idx[c] for c in seed[-seq_length:]]).reshape(1,seq_length)\n",
        "    x_seed = np.eye(vocab_size)[x_seed]\n",
        "    pred = np.argmax(model.predict(x_seed, verbose=0))\n",
        "    next_char = idx_to_char[pred]\n",
        "    generated_text+=next_char\n",
        "    seed=seed[1:]+next_char\n",
        "\n",
        "  print(\"Generated Text:\",generated_text)"
      ],
      "execution_count": null,
      "outputs": [
        {
          "output_type": "stream",
          "name": "stdout",
          "text": [
            "\n",
            "--TrainingRNN---\n"
          ]
        },
        {
          "output_type": "stream",
          "name": "stderr",
          "text": [
            "/usr/local/lib/python3.12/dist-packages/keras/src/layers/rnn/rnn.py:199: UserWarning: Do not pass an `input_shape`/`input_dim` argument to a layer. When using Sequential models, prefer using an `Input(shape)` object as the first layer in the model instead.\n",
            "  super().__init__(**kwargs)\n"
          ]
        },
        {
          "output_type": "stream",
          "name": "stdout",
          "text": [
            "RNN trained!\n",
            "Generated Text: Hello world \n",
            "\n",
            "--TrainingLSTM---\n",
            "LSTM trained!\n",
            "Generated Text: Hello worldo\n",
            "\n",
            "--TrainingGRU---\n",
            "GRU trained!\n",
            "Generated Text: Hello world \n"
          ]
        }
      ]
    },
    {
      "cell_type": "code",
      "source": [
        "#Text simple using RNN,LSTM,GRU\n",
        "!pip install SpeechRecognition -q\n",
        "import numpy as np\n",
        "from tensorflow.keras.models import Sequential\n",
        "from tensorflow.keras.layers import Dense,LSTM,GRU,SimpleRNN\n",
        "from tensorflow.keras.utils import to_categorical\n",
        "import speech_recognition as sr\n",
        "from google.colab import files\n",
        "\n",
        "print(\"HEY!! user, what do you have?\\n1. Audio file\\n2. Text\")\n",
        "choice = int(input(\"Enter your choice (1 or 2): \"))\n",
        "\n",
        "if choice == 1:\n",
        "    print(\"Please upload your audio file (wav format recommended)...\")\n",
        "    uploaded = files.upload()\n",
        "\n",
        "    for fn in uploaded.keys():\n",
        "        filename = fn\n",
        "\n",
        "    r = sr.Recognizer()\n",
        "    with sr.AudioFile(filename) as source:\n",
        "        audio_data = r.record(source)\n",
        "        text = r.recognize_google(audio_data)\n",
        "        print(\"Recognized text:\", text)\n",
        "\n",
        "else:\n",
        "    text = input(\"Enter your text: \")\n",
        "    print(\"Your entered text:\", text)\n",
        "\n",
        "chars = sorted(list(set(text))) #get unique character in the text\n",
        "char_to_int = dict((c, i) for i, c in enumerate(chars)) # MAP each character in the text\n",
        "int_to_char = dict((i, c) for i, c in enumerate(chars)) #MAP number back to character\n",
        "vocab_size = len(chars)# total unique character\n",
        "seq_length = 2\n",
        "x,y=[],[]\n",
        "for i in range(len(text)-seq_length):\n",
        "  seq_in=text[i:i+seq_length]\n",
        "  seq_out=text[i+seq_length]\n",
        "  x.append([char_to_int[char] for char in seq_in])\n",
        "  y.append(char_to_int[seq_out])\n",
        "x=np.array(x)\n",
        "y=np.array(y)\n",
        "\n",
        "# One-hot encode the target variable\n",
        "y = to_categorical(y, num_classes=vocab_size)\n",
        "\n",
        "x=np.eye(vocab_size)[x]\n",
        "x=x.reshape((x.shape[0],x.shape[1],vocab_size))\n",
        "\n",
        "def build_model(model_type=\"RNN\"):\n",
        "  model=Sequential()\n",
        "  if model_type==\"RNN\":\n",
        "    model.add(SimpleRNN(50,input_shape=(seq_length,vocab_size)))\n",
        "  elif model_type==\"LSTM\":\n",
        "    model.add(LSTM(50,input_shape=(seq_length,vocab_size)))\n",
        "  elif model_type==\"GRU\":\n",
        "    model.add(GRU(50,input_shape=(seq_length,vocab_size)))\n",
        "  model.add(Dense(vocab_size,activation='softmax'))\n",
        "  model.compile(loss='categorical_crossentropy',optimizer=\"adam\")\n",
        "  return model\n",
        "\n",
        "# Train and generate text for each model type\n",
        "for model_type in [\"RNN\",\"LSTM\",\"GRU\"]:\n",
        "  print(f\"\\n--Training{model_type}---\")\n",
        "  model=build_model(model_type)\n",
        "  model.fit(x,y,epochs=500,verbose=0)\n",
        "  print(f\"{model_type} trained!\")\n",
        "\n",
        "  # Text generation\n",
        "  seed = \"lo\" # Start with a seed that is in the vocabulary\n",
        "  generated_text = seed\n",
        "  char_to_idx = char_to_int\n",
        "  idx_to_char = int_to_char\n",
        "\n",
        "  # Ensure seed is in the vocabulary\n",
        "  seed = \"\".join([c for c in seed if c in char_to_idx])\n",
        "  if len(seed) < seq_length:\n",
        "    print(f\"Seed '{seed}' is too short for sequence length {seq_length}. Skipping generation for {model_type}.\")\n",
        "    continue\n",
        "\n",
        "  for _ in range(10):\n",
        "    x_seed = np.array([char_to_idx[c] for c in seed[-seq_length:]]).reshape(1,seq_length)\n",
        "    x_seed = np.eye(vocab_size)[x_seed]\n",
        "    pred = np.argmax(model.predict(x_seed, verbose=0))\n",
        "    next_char = idx_to_char[pred]\n",
        "    generated_text+=next_char\n",
        "    seed=seed[1:]+next_char\n",
        "\n",
        "  print(\"Generated Text:\",generated_text)"
      ],
      "metadata": {
        "colab": {
          "base_uri": "https://localhost:8080/",
          "height": 385
        },
        "id": "88AHMKofrLZ9",
        "outputId": "7c72bffd-b267-4c4a-8c42-9d97fa3d7aca"
      },
      "execution_count": null,
      "outputs": [
        {
          "output_type": "stream",
          "name": "stdout",
          "text": [
            "HEY!! user, what do you have?\n",
            "1. Audio file\n",
            "2. Text\n",
            "Enter your choice (1 or 2): 1\n",
            "Please upload your audio file (wav format recommended)...\n"
          ]
        },
        {
          "output_type": "display_data",
          "data": {
            "text/plain": [
              "<IPython.core.display.HTML object>"
            ],
            "text/html": [
              "\n",
              "     <input type=\"file\" id=\"files-67704589-55c4-48dd-89b8-acf864089f05\" name=\"files[]\" multiple disabled\n",
              "        style=\"border:none\" />\n",
              "     <output id=\"result-67704589-55c4-48dd-89b8-acf864089f05\">\n",
              "      Upload widget is only available when the cell has been executed in the\n",
              "      current browser session. Please rerun this cell to enable.\n",
              "      </output>\n",
              "      <script>// Copyright 2017 Google LLC\n",
              "//\n",
              "// Licensed under the Apache License, Version 2.0 (the \"License\");\n",
              "// you may not use this file except in compliance with the License.\n",
              "// You may obtain a copy of the License at\n",
              "//\n",
              "//      http://www.apache.org/licenses/LICENSE-2.0\n",
              "//\n",
              "// Unless required by applicable law or agreed to in writing, software\n",
              "// distributed under the License is distributed on an \"AS IS\" BASIS,\n",
              "// WITHOUT WARRANTIES OR CONDITIONS OF ANY KIND, either express or implied.\n",
              "// See the License for the specific language governing permissions and\n",
              "// limitations under the License.\n",
              "\n",
              "/**\n",
              " * @fileoverview Helpers for google.colab Python module.\n",
              " */\n",
              "(function(scope) {\n",
              "function span(text, styleAttributes = {}) {\n",
              "  const element = document.createElement('span');\n",
              "  element.textContent = text;\n",
              "  for (const key of Object.keys(styleAttributes)) {\n",
              "    element.style[key] = styleAttributes[key];\n",
              "  }\n",
              "  return element;\n",
              "}\n",
              "\n",
              "// Max number of bytes which will be uploaded at a time.\n",
              "const MAX_PAYLOAD_SIZE = 100 * 1024;\n",
              "\n",
              "function _uploadFiles(inputId, outputId) {\n",
              "  const steps = uploadFilesStep(inputId, outputId);\n",
              "  const outputElement = document.getElementById(outputId);\n",
              "  // Cache steps on the outputElement to make it available for the next call\n",
              "  // to uploadFilesContinue from Python.\n",
              "  outputElement.steps = steps;\n",
              "\n",
              "  return _uploadFilesContinue(outputId);\n",
              "}\n",
              "\n",
              "// This is roughly an async generator (not supported in the browser yet),\n",
              "// where there are multiple asynchronous steps and the Python side is going\n",
              "// to poll for completion of each step.\n",
              "// This uses a Promise to block the python side on completion of each step,\n",
              "// then passes the result of the previous step as the input to the next step.\n",
              "function _uploadFilesContinue(outputId) {\n",
              "  const outputElement = document.getElementById(outputId);\n",
              "  const steps = outputElement.steps;\n",
              "\n",
              "  const next = steps.next(outputElement.lastPromiseValue);\n",
              "  return Promise.resolve(next.value.promise).then((value) => {\n",
              "    // Cache the last promise value to make it available to the next\n",
              "    // step of the generator.\n",
              "    outputElement.lastPromiseValue = value;\n",
              "    return next.value.response;\n",
              "  });\n",
              "}\n",
              "\n",
              "/**\n",
              " * Generator function which is called between each async step of the upload\n",
              " * process.\n",
              " * @param {string} inputId Element ID of the input file picker element.\n",
              " * @param {string} outputId Element ID of the output display.\n",
              " * @return {!Iterable<!Object>} Iterable of next steps.\n",
              " */\n",
              "function* uploadFilesStep(inputId, outputId) {\n",
              "  const inputElement = document.getElementById(inputId);\n",
              "  inputElement.disabled = false;\n",
              "\n",
              "  const outputElement = document.getElementById(outputId);\n",
              "  outputElement.innerHTML = '';\n",
              "\n",
              "  const pickedPromise = new Promise((resolve) => {\n",
              "    inputElement.addEventListener('change', (e) => {\n",
              "      resolve(e.target.files);\n",
              "    });\n",
              "  });\n",
              "\n",
              "  const cancel = document.createElement('button');\n",
              "  inputElement.parentElement.appendChild(cancel);\n",
              "  cancel.textContent = 'Cancel upload';\n",
              "  const cancelPromise = new Promise((resolve) => {\n",
              "    cancel.onclick = () => {\n",
              "      resolve(null);\n",
              "    };\n",
              "  });\n",
              "\n",
              "  // Wait for the user to pick the files.\n",
              "  const files = yield {\n",
              "    promise: Promise.race([pickedPromise, cancelPromise]),\n",
              "    response: {\n",
              "      action: 'starting',\n",
              "    }\n",
              "  };\n",
              "\n",
              "  cancel.remove();\n",
              "\n",
              "  // Disable the input element since further picks are not allowed.\n",
              "  inputElement.disabled = true;\n",
              "\n",
              "  if (!files) {\n",
              "    return {\n",
              "      response: {\n",
              "        action: 'complete',\n",
              "      }\n",
              "    };\n",
              "  }\n",
              "\n",
              "  for (const file of files) {\n",
              "    const li = document.createElement('li');\n",
              "    li.append(span(file.name, {fontWeight: 'bold'}));\n",
              "    li.append(span(\n",
              "        `(${file.type || 'n/a'}) - ${file.size} bytes, ` +\n",
              "        `last modified: ${\n",
              "            file.lastModifiedDate ? file.lastModifiedDate.toLocaleDateString() :\n",
              "                                    'n/a'} - `));\n",
              "    const percent = span('0% done');\n",
              "    li.appendChild(percent);\n",
              "\n",
              "    outputElement.appendChild(li);\n",
              "\n",
              "    const fileDataPromise = new Promise((resolve) => {\n",
              "      const reader = new FileReader();\n",
              "      reader.onload = (e) => {\n",
              "        resolve(e.target.result);\n",
              "      };\n",
              "      reader.readAsArrayBuffer(file);\n",
              "    });\n",
              "    // Wait for the data to be ready.\n",
              "    let fileData = yield {\n",
              "      promise: fileDataPromise,\n",
              "      response: {\n",
              "        action: 'continue',\n",
              "      }\n",
              "    };\n",
              "\n",
              "    // Use a chunked sending to avoid message size limits. See b/62115660.\n",
              "    let position = 0;\n",
              "    do {\n",
              "      const length = Math.min(fileData.byteLength - position, MAX_PAYLOAD_SIZE);\n",
              "      const chunk = new Uint8Array(fileData, position, length);\n",
              "      position += length;\n",
              "\n",
              "      const base64 = btoa(String.fromCharCode.apply(null, chunk));\n",
              "      yield {\n",
              "        response: {\n",
              "          action: 'append',\n",
              "          file: file.name,\n",
              "          data: base64,\n",
              "        },\n",
              "      };\n",
              "\n",
              "      let percentDone = fileData.byteLength === 0 ?\n",
              "          100 :\n",
              "          Math.round((position / fileData.byteLength) * 100);\n",
              "      percent.textContent = `${percentDone}% done`;\n",
              "\n",
              "    } while (position < fileData.byteLength);\n",
              "  }\n",
              "\n",
              "  // All done.\n",
              "  yield {\n",
              "    response: {\n",
              "      action: 'complete',\n",
              "    }\n",
              "  };\n",
              "}\n",
              "\n",
              "scope.google = scope.google || {};\n",
              "scope.google.colab = scope.google.colab || {};\n",
              "scope.google.colab._files = {\n",
              "  _uploadFiles,\n",
              "  _uploadFilesContinue,\n",
              "};\n",
              "})(self);\n",
              "</script> "
            ]
          },
          "metadata": {}
        },
        {
          "output_type": "stream",
          "name": "stdout",
          "text": [
            "Saving output.wav to output (1).wav\n",
            "Recognized text: I love you\n",
            "\n",
            "--TrainingRNN---\n",
            "RNN trained!\n",
            "Generated Text: love youe yo\n",
            "\n",
            "--TrainingLSTM---\n",
            "LSTM trained!\n",
            "Generated Text: love youe yo\n",
            "\n",
            "--TrainingGRU---\n",
            "GRU trained!\n",
            "Generated Text: love youe yo\n"
          ]
        }
      ]
    },
    {
      "cell_type": "markdown",
      "source": [
        "#DAY 4"
      ],
      "metadata": {
        "id": "b9OSxJ6r_MJv"
      }
    },
    {
      "cell_type": "code",
      "source": [
        "from transformers import pipeline\n",
        "generator = pipeline(\"text-generation\", model=\"gpt2\")\n",
        "result=generator(\"I am superhero from another universe \",max_length=40,num_return_sequences=1)\n",
        "print(result[0][\"generated_text\"])"
      ],
      "metadata": {
        "id": "50416O8RtFR2",
        "colab": {
          "base_uri": "https://localhost:8080/"
        },
        "outputId": "8ac82c53-9931-4c2d-a849-d3f237b56056"
      },
      "execution_count": null,
      "outputs": [
        {
          "output_type": "stream",
          "name": "stderr",
          "text": [
            "Device set to use cpu\n",
            "Truncation was not explicitly activated but `max_length` is provided a specific value, please use `truncation=True` to explicitly truncate examples to max length. Defaulting to 'longest_first' truncation strategy. If you encode pairs of sequences (GLUE-style) with the tokenizer you can select this strategy more precisely by providing a specific strategy to `truncation`.\n",
            "Setting `pad_token_id` to `eos_token_id`:50256 for open-end generation.\n",
            "Both `max_new_tokens` (=256) and `max_length`(=40) seem to have been set. `max_new_tokens` will take precedence. Please refer to the documentation for more information. (https://huggingface.co/docs/transformers/main/en/main_classes/text_generation)\n"
          ]
        },
        {
          "output_type": "stream",
          "name": "stdout",
          "text": [
            "I am superhero from another universe \"\n",
            "\n",
            "\"I'll take care of it!\" he shouted, turning against the boy. \"I won't tell anyone about your power. You can be a warrior if you want to, but I won't be able to force anyone to know about your power.\"\n",
            "\n",
            "As he stood up, the boy was already standing at the side of the wall, his sword with a long blade in its hand. In one hand was a small shield, in the other he was a small sword.\n",
            "\n",
            "\"But you can wield this sword at all, so why don't you take care of it?\" he asked.\n",
            "\n",
            "\"This is an old man's sword, I can't use it in this world to fight against it. But I'll do it. You have been fighting against the Dragon Army for some time, so it's no problem if we fight with you.\"\n",
            "\n",
            "\"Of course, I can.\"\n",
            "\n",
            "As if he was taking a step back, the boy pointed to the sword that was holding it and said, \"I have the power to take care of this sword. I will carry it for you, and when you are ready, you can take care of it.\"\n",
            "\n",
            "\"I will!\" the boy shouted, his tone low\n"
          ]
        }
      ]
    },
    {
      "cell_type": "code",
      "source": [
        "!pip install gTTs\n",
        "from gtts import gTTS\n",
        "from IPython.display import Audio\n",
        "text= \"what is AI?\"\n",
        "tts= gTTS(text=text,lang='en')\n",
        "tts.save(\"output.mp3\")\n",
        "Audio(\"output.mp3\")"
      ],
      "metadata": {
        "id": "przrrVFzIp8r"
      },
      "execution_count": null,
      "outputs": []
    },
    {
      "cell_type": "code",
      "source": [
        "from transformers import pipeline\n",
        "chatbot =  pipeline(\"text-generation\", model=\"gpt2\")\n",
        "prompt=\"Hello students welcome to generation\"\n",
        "response=chatbot(prompt,max_length=40,num_return_sequences=1)\n",
        "print(response[0]['generated_text'])"
      ],
      "metadata": {
        "colab": {
          "base_uri": "https://localhost:8080/"
        },
        "id": "152ZzdvZGcyw",
        "outputId": "2fa23b40-94ad-4bb9-820b-2306e2e480f8"
      },
      "execution_count": null,
      "outputs": [
        {
          "output_type": "stream",
          "name": "stderr",
          "text": [
            "Device set to use cpu\n",
            "Truncation was not explicitly activated but `max_length` is provided a specific value, please use `truncation=True` to explicitly truncate examples to max length. Defaulting to 'longest_first' truncation strategy. If you encode pairs of sequences (GLUE-style) with the tokenizer you can select this strategy more precisely by providing a specific strategy to `truncation`.\n",
            "Setting `pad_token_id` to `eos_token_id`:50256 for open-end generation.\n",
            "Both `max_new_tokens` (=256) and `max_length`(=40) seem to have been set. `max_new_tokens` will take precedence. Please refer to the documentation for more information. (https://huggingface.co/docs/transformers/main/en/main_classes/text_generation)\n"
          ]
        },
        {
          "output_type": "stream",
          "name": "stdout",
          "text": [
            "Hello students welcome to generation theory, a subject that has been neglected by many of the more esoteric systems of linguistics. The main point is that it is possible to think of a language as a single, unified language. In other words, it is possible to conceptualize language as a collection of syntactic elements, e.g., a word-order structure, the way that we think of names, and the kinds of meanings that people can come up with.\n",
            "\n",
            "Let us think of language as a collection of syntactic elements, e.g., a word-order structure, the way that we think of names, and the kinds of meanings that people can come up with. Consider the following definition of a language:\n",
            "\n",
            "A language is a collection of syntactic elements, e.g., a word-order structure, the way that we think of names, and the kinds of meanings that people can come up with.\n",
            "\n",
            "Since we are not talking about a single language, it is easy to find words, sentences, and sentences that we are referring to. However, if we were to consider a language as a collection of syntactic elements, e.g., a word-order structure, the way that we think of names, and the kinds of meanings that people can come\n"
          ]
        }
      ]
    },
    {
      "cell_type": "code",
      "source": [
        "from transformers import pipeline\n",
        "chatbot =  pipeline(\"text-generation\", model=\"gpt2\")\n",
        "prompt=\"what is AI?\"\n",
        "response=chatbot(prompt,max_length=40,num_return_sequences=1)\n",
        "print(response[0]['generated_text'])"
      ],
      "metadata": {
        "colab": {
          "base_uri": "https://localhost:8080/",
          "height": 729,
          "referenced_widgets": [
            "a552c5012f664e9cb682b6942c2dc805",
            "72ea21b4b41040bfb106ef7d372d1bb1",
            "68c393742dc543e4bc439aa7277c1ce9",
            "06aebbe3a93843f487ccb6a93b0aa681",
            "ff878d7ebddc49698d8b4ddc09c07587",
            "b1a6b55b649f4f1599bc532f78fae25e",
            "f9fbc96d3558455d86b47baae70cae77",
            "8ba97d11e2104321a3e2cb9bdae7e87e",
            "b5a75a091c5746c1a3b117d5f3ad6bc1",
            "50d9487953da45d19705f7b06de3d13e",
            "30137cc55ae44ecc9de5b961b900701b",
            "4db475d049ba453e801a0c81c1f832be",
            "a4264be560da42518f21fc05b72d2175",
            "5270e571275d40bb99b52a80f9800b9e",
            "f7f3a1ed5ba94ba39dd42a37b5ec77d4",
            "c0cb2cf70da54aa48ac5befaea1e1130",
            "1205cc3c02f54cee90971e1e4b0a6579",
            "db7dc95e5edc45069d0b8ffed7b7f8f4",
            "9e8383e3b0ef4d9c9c5bf767f700eb2c",
            "0d3591d2879c41e08ac9ae6a6624aa45",
            "f4868e0726844bdda355a2360bf86582",
            "f9888c9584034f8f8fc0067af17da9ba",
            "e33bd049fbe14232b89fc9ef0812f2d3",
            "3e8eefbede274e75a56e0a9f5b3cb7c3",
            "24cd1b650686460581019206815c0878",
            "86cb8161e15d49c4a5bd9fa47815bc5f",
            "799357dd4f594a6899a9140cabbb61ba",
            "0cd43257af464ad9b46af82aa66a2851",
            "2200c7392eb94d879ebfb1f6167a2cdd",
            "0211aa5e244441d4a71263469bed7c2e",
            "4edae341d0144f219e37c23a3dc4563d",
            "3368dab0cd654d0ba961549674dc4f63",
            "7eab1e7e73e54c9f831f988e298a9697",
            "60dd44a486eb461280c18d6db7ec7489",
            "c2acb9b2275a45bb96f6255becf562d7",
            "c224b2aa054a41c7a4f285c2da361f81",
            "1c2f5133f1b04752a5cf4ce39f5e3766",
            "0e6bdeadfc10475e82270822700aeec9",
            "edbc17c127d345f88259118f668feb4b",
            "861dd20984a74d93a560f0708be09f2f",
            "f96961bbecb842af9a2c324389bae17d",
            "a13e7ff208664e6e9ec209c0cefb9463",
            "2bc44316dfa0419a94510e335cc363c8",
            "c806478973dd4983b7602db8cf3f5b3c",
            "d0b7525d75c245abad172ae25582ea47",
            "a044791308994d30ab2ccc38ed4d375c",
            "14b9177d6a5a454fae27d0ec2948004b",
            "e2e77c7165de4188933f11345b3ed0b3",
            "5b0c4733167e4e92a295a57109c91eb2",
            "d25c3ebcb8194b6dbd8ded1cfb3b2224",
            "6754a23583944c5d805d291bc2b17d94",
            "7eaf3471bd5d445e9735d30e81af14b5",
            "79c245304938488dbca99b8b74543c16",
            "40bfd446e71d442bb0cd11ab475fddbb",
            "9a5e9a47037d4d9d9171e91343358f7f",
            "ff0e5ce91c57415fac33069bfe92316d",
            "ae7671033bf845838be4c1d07f1d1a42",
            "61fd4301f73e4e25964b73356bff9d51",
            "69d9d6c8d07041d2a562aeb362d1c3e5",
            "57c0eeb3a4d341cb809d0d9692e139cb",
            "a0fb9eebb6e14731996398665c21b62e",
            "be325eb0cc5347f69e2d4244277c94f1",
            "078715757354423887ec4b4d089b3433",
            "d02d95f41889400dbe11f85b58eb1e57",
            "bc08745e24dd4f519351f857beb2a7b0",
            "52fe4ab51c3c45e4a7b5bd142017c2f9",
            "bf6a316b9f0b40dda013c407ad73e95c",
            "883729c6cbf14a23a28facbdc0db2ec6",
            "c09e783d9a814f58a717e787fa120868",
            "0bb94477e5054b0bb18102aca49995fb",
            "9d81c1b415d844d393143aaea799e2c8",
            "6d4719244094414599d01e4713d81934",
            "4cbf5545f5544cb6a9e6378610b6b343",
            "65584cf97f134b01aa065b38ca3c9d70",
            "a7a9f05a9cbc450fb226b17008eea979",
            "016ce95a894b43299577df36639ae1d1",
            "44003520b7c34c198c5705bfe82dbbcf"
          ]
        },
        "id": "ZdoLA_bAIk-X",
        "outputId": "8fa7e67b-0bca-49ab-dc37-c95863c60bf0"
      },
      "execution_count": null,
      "outputs": [
        {
          "output_type": "stream",
          "name": "stderr",
          "text": [
            "/usr/local/lib/python3.12/dist-packages/huggingface_hub/utils/_auth.py:94: UserWarning: \n",
            "The secret `HF_TOKEN` does not exist in your Colab secrets.\n",
            "To authenticate with the Hugging Face Hub, create a token in your settings tab (https://huggingface.co/settings/tokens), set it as secret in your Google Colab and restart your session.\n",
            "You will be able to reuse this secret in all of your notebooks.\n",
            "Please note that authentication is recommended but still optional to access public models or datasets.\n",
            "  warnings.warn(\n"
          ]
        },
        {
          "output_type": "display_data",
          "data": {
            "text/plain": [
              "config.json:   0%|          | 0.00/665 [00:00<?, ?B/s]"
            ],
            "application/vnd.jupyter.widget-view+json": {
              "version_major": 2,
              "version_minor": 0,
              "model_id": "a552c5012f664e9cb682b6942c2dc805"
            }
          },
          "metadata": {}
        },
        {
          "output_type": "display_data",
          "data": {
            "text/plain": [
              "model.safetensors:   0%|          | 0.00/548M [00:00<?, ?B/s]"
            ],
            "application/vnd.jupyter.widget-view+json": {
              "version_major": 2,
              "version_minor": 0,
              "model_id": "4db475d049ba453e801a0c81c1f832be"
            }
          },
          "metadata": {}
        },
        {
          "output_type": "display_data",
          "data": {
            "text/plain": [
              "generation_config.json:   0%|          | 0.00/124 [00:00<?, ?B/s]"
            ],
            "application/vnd.jupyter.widget-view+json": {
              "version_major": 2,
              "version_minor": 0,
              "model_id": "e33bd049fbe14232b89fc9ef0812f2d3"
            }
          },
          "metadata": {}
        },
        {
          "output_type": "display_data",
          "data": {
            "text/plain": [
              "tokenizer_config.json:   0%|          | 0.00/26.0 [00:00<?, ?B/s]"
            ],
            "application/vnd.jupyter.widget-view+json": {
              "version_major": 2,
              "version_minor": 0,
              "model_id": "60dd44a486eb461280c18d6db7ec7489"
            }
          },
          "metadata": {}
        },
        {
          "output_type": "display_data",
          "data": {
            "text/plain": [
              "vocab.json:   0%|          | 0.00/1.04M [00:00<?, ?B/s]"
            ],
            "application/vnd.jupyter.widget-view+json": {
              "version_major": 2,
              "version_minor": 0,
              "model_id": "d0b7525d75c245abad172ae25582ea47"
            }
          },
          "metadata": {}
        },
        {
          "output_type": "display_data",
          "data": {
            "text/plain": [
              "merges.txt:   0%|          | 0.00/456k [00:00<?, ?B/s]"
            ],
            "application/vnd.jupyter.widget-view+json": {
              "version_major": 2,
              "version_minor": 0,
              "model_id": "ff0e5ce91c57415fac33069bfe92316d"
            }
          },
          "metadata": {}
        },
        {
          "output_type": "display_data",
          "data": {
            "text/plain": [
              "tokenizer.json:   0%|          | 0.00/1.36M [00:00<?, ?B/s]"
            ],
            "application/vnd.jupyter.widget-view+json": {
              "version_major": 2,
              "version_minor": 0,
              "model_id": "bf6a316b9f0b40dda013c407ad73e95c"
            }
          },
          "metadata": {}
        },
        {
          "output_type": "stream",
          "name": "stderr",
          "text": [
            "Device set to use cpu\n",
            "Truncation was not explicitly activated but `max_length` is provided a specific value, please use `truncation=True` to explicitly truncate examples to max length. Defaulting to 'longest_first' truncation strategy. If you encode pairs of sequences (GLUE-style) with the tokenizer you can select this strategy more precisely by providing a specific strategy to `truncation`.\n",
            "Setting `pad_token_id` to `eos_token_id`:50256 for open-end generation.\n",
            "Both `max_new_tokens` (=256) and `max_length`(=40) seem to have been set. `max_new_tokens` will take precedence. Please refer to the documentation for more information. (https://huggingface.co/docs/transformers/main/en/main_classes/text_generation)\n"
          ]
        },
        {
          "output_type": "stream",
          "name": "stdout",
          "text": [
            "what is AI?\n",
            "\n",
            "A lot of people have speculated on it since the day I met them:\n",
            "\n",
            "If you're a AI, you're probably a lot smarter than the average person, though you almost certainly will not have the best understanding of computers or their workings. The best example of this is Wikipedia. The best example of this is Wikipedia's AI. It's an algorithm that gets the user's information from just some Wikipedia page, then translates the information into sentences that people can read.\n",
            "\n",
            "I'm not sure when this was first made public, but it's been around since at least the 1980s when the National Institute of Standards and Technology was established and the AI was used to translate the Wikipedia page into a human-readable language.\n",
            "\n",
            "How do you use AI?\n",
            "\n",
            "One of the most frequently asked questions in this article is this:\n",
            "\n",
            "Can AI do good work?\n",
            "\n",
            "It doesn't appear to be a simple question, but it's a common one nonetheless. The answer is yes. The problem with AI is that it's a very complex field of science, so it's not exactly clear what it's good at. But it certainly isn't like any other field in the real world.\n",
            "\n",
            "In particular, the most common answer we get\n"
          ]
        }
      ]
    },
    {
      "cell_type": "code",
      "source": [
        "from transformers import pipeline\n",
        "generator = pipeline(\"text-generation\", model=\"gpt2\")\n",
        "prompt=\"create conversation between student and teacher Student:what is AI? Teacher:  \"\n",
        "result=generator(prompt,max_length=40,num_return_sequences=1)\n",
        "print(result[0][\"generated_text\"])"
      ],
      "metadata": {
        "colab": {
          "base_uri": "https://localhost:8080/"
        },
        "id": "TTBEUfzuJS0j",
        "outputId": "9bbeffd5-87a5-4ff7-f55c-e93ffb42527b"
      },
      "execution_count": null,
      "outputs": [
        {
          "output_type": "stream",
          "name": "stderr",
          "text": [
            "Device set to use cpu\n",
            "Truncation was not explicitly activated but `max_length` is provided a specific value, please use `truncation=True` to explicitly truncate examples to max length. Defaulting to 'longest_first' truncation strategy. If you encode pairs of sequences (GLUE-style) with the tokenizer you can select this strategy more precisely by providing a specific strategy to `truncation`.\n",
            "Setting `pad_token_id` to `eos_token_id`:50256 for open-end generation.\n",
            "Both `max_new_tokens` (=256) and `max_length`(=40) seem to have been set. `max_new_tokens` will take precedence. Please refer to the documentation for more information. (https://huggingface.co/docs/transformers/main/en/main_classes/text_generation)\n"
          ]
        },
        {
          "output_type": "stream",
          "name": "stdout",
          "text": [
            "create conversation between student and teacher Student:what is AI? Teacher:   AI is the creation of humans that can solve complex problems. Teacher:  AI is the power of humans to solve complex problems. Teacher:  AI is the gift that humans have given us. Teacher:  AI is the science of human progress. Teacher:  AI is the truth that we can change our world. Teacher:  AI is the first step in human history to make humanity better. Teacher:  AI is the first step in human history to make it better. Teacher:  AI is the first step in human history to make it better. Teacher:  AI is the first step in human history to make it better. Teacher:  AI is the first step in human history to make it better. Teacher:  AI is the first step in human history to make it better. Teacher:  AI is the first step in human history to make it better. Teacher:  AI is the first step in human history to make it better. Teacher:  AI is the first step in human history to make it better. Teacher:  AI is the first step in human history to make it better. Teacher:  AI is the first step in human history to make it better.\n"
          ]
        }
      ]
    },
    {
      "cell_type": "code",
      "source": [
        "from transformers import pipeline\n",
        "generator = pipeline(\"text-generation\", model=\"gpt2\")\n",
        "response=chatbot(\n",
        "    \"Student:what is Artificial intelligence?\\nTeacher:\",\n",
        "    max_length=40,\n",
        "    num_return_sequences=1,\n",
        "    temperature=0.9,\n",
        "    top_k=50,\n",
        "    top_p=0.95,\n",
        "    repetition_penalty=1.2\n",
        ")\n",
        "print(\"chatbot response:\\n\")\n",
        "print(response[0][\"generated_text\"])"
      ],
      "metadata": {
        "colab": {
          "base_uri": "https://localhost:8080/"
        },
        "id": "Bh77sYKZKhVU",
        "outputId": "35fc4b11-6b59-4371-b2c8-181aec8c0fd4"
      },
      "execution_count": null,
      "outputs": [
        {
          "output_type": "stream",
          "name": "stderr",
          "text": [
            "Device set to use cpu\n",
            "Setting `pad_token_id` to `eos_token_id`:50256 for open-end generation.\n",
            "Both `max_new_tokens` (=256) and `max_length`(=40) seem to have been set. `max_new_tokens` will take precedence. Please refer to the documentation for more information. (https://huggingface.co/docs/transformers/main/en/main_classes/text_generation)\n"
          ]
        },
        {
          "output_type": "stream",
          "name": "stdout",
          "text": [
            "chatbot response:\n",
            "\n",
            "Student:what is Artificial intelligence?\n",
            "Teacher:yes i am just kidding, not your fault it will never work like that in any real sense. and they did really well teaching this class for a long time then stopped using computers until recently when the computer became more popular but there were still many other problems with people working on AI projects even though most of them are very good ones now.. what you do as an entrepreneur would be to pay off some debt by creating artificial intelligent machines - which can learn better from their own mistakes than humans so if we make something stupid or ugly out here its possible since human thought processes could help us survive without being forced into certain situations... eeheh\n"
          ]
        }
      ]
    },
    {
      "cell_type": "code",
      "source": [
        "from transformers import pipeline\n",
        "translator=pipeline(\"translation_en_to_fr\")\n",
        "text = \"generative AI is the future of creativity.\"\n",
        "translated_text=translator(text)\n",
        "print(\"Original text:\",text)\n",
        "print(\"Translated text:\",translated_text[0][\"translation_text\"])"
      ],
      "metadata": {
        "colab": {
          "base_uri": "https://localhost:8080/"
        },
        "id": "NjQj2qpQL_n4",
        "outputId": "27da78cc-c1c6-4f65-cfde-208a9b3a4d3c"
      },
      "execution_count": null,
      "outputs": [
        {
          "output_type": "stream",
          "name": "stderr",
          "text": [
            "No model was supplied, defaulted to google-t5/t5-base and revision a9723ea (https://huggingface.co/google-t5/t5-base).\n",
            "Using a pipeline without specifying a model name and revision in production is not recommended.\n",
            "Device set to use cpu\n"
          ]
        },
        {
          "output_type": "stream",
          "name": "stdout",
          "text": [
            "Original text: generative AI is the future of creativity.\n",
            "Translated text: L'AI génératrice est l'avenir de la créativité.\n"
          ]
        }
      ]
    },
    {
      "cell_type": "code",
      "source": [
        "from transformers import pipeline\n",
        "translator=pipeline(\"translation_en_to_de\")\n",
        "text = \"generative AI is the future of creativity.\"\n",
        "translated_text=translator(text)\n",
        "print(\"Original text:\",text)\n",
        "print(\"Translated text:\",translated_text[0][\"translation_text\"])"
      ],
      "metadata": {
        "colab": {
          "base_uri": "https://localhost:8080/"
        },
        "id": "oPohIoLNNsaI",
        "outputId": "12224901-2b2e-44e9-ac9d-cfef68679394"
      },
      "execution_count": null,
      "outputs": [
        {
          "output_type": "stream",
          "name": "stderr",
          "text": [
            "No model was supplied, defaulted to google-t5/t5-base and revision a9723ea (https://huggingface.co/google-t5/t5-base).\n",
            "Using a pipeline without specifying a model name and revision in production is not recommended.\n",
            "Device set to use cpu\n"
          ]
        },
        {
          "output_type": "stream",
          "name": "stdout",
          "text": [
            "Original text: generative AI is the future of creativity.\n",
            "Translated text: generative KI ist die Zukunft der Kreativität.\n"
          ]
        }
      ]
    },
    {
      "cell_type": "code",
      "source": [
        "from transformers import pipeline\n",
        "generator = pipeline(\"text-generation\", model=\"gpt2\")\n",
        "response=chatbot(\n",
        "    \"User:write a python code for adding 2 number\",\n",
        "    max_length=40,\n",
        "    num_return_sequences=1,\n",
        "    temperature=0.9,\n",
        "    top_k=50,\n",
        "    top_p=0.95,\n",
        "    repetition_penalty=1.2\n",
        ")\n",
        "print(\"chatbot response:\\n\")\n",
        "print(response[0][\"generated_text\"])"
      ],
      "metadata": {
        "colab": {
          "base_uri": "https://localhost:8080/"
        },
        "id": "TKdRBsTlObGS",
        "outputId": "22a5e549-7aae-4a24-963e-b8d183973404"
      },
      "execution_count": null,
      "outputs": [
        {
          "output_type": "stream",
          "name": "stderr",
          "text": [
            "Device set to use cpu\n",
            "Setting `pad_token_id` to `eos_token_id`:50256 for open-end generation.\n",
            "Both `max_new_tokens` (=256) and `max_length`(=40) seem to have been set. `max_new_tokens` will take precedence. Please refer to the documentation for more information. (https://huggingface.co/docs/transformers/main/en/main_classes/text_generation)\n"
          ]
        },
        {
          "output_type": "stream",
          "name": "stdout",
          "text": [
            "chatbot response:\n",
            "\n",
            "User:write a python code for adding 2 number fields to the form\n",
            "Possible errors in Python 3.7 (with help from KG)\n"
          ]
        }
      ]
    },
    {
      "cell_type": "code",
      "source": [
        "from transformers import pipeline\n",
        "chatbot =  pipeline(\"text-generation\", model=\"gpt2\")\n",
        "prompt=\"User:write a python code to add 2 number \"\n",
        "response=chatbot(prompt,max_length=40,num_return_sequences=1)\n",
        "print(response[0]['generated_text'])"
      ],
      "metadata": {
        "colab": {
          "base_uri": "https://localhost:8080/"
        },
        "id": "sUoL-NbvOn3N",
        "outputId": "c393c43b-bbc7-4b2c-91db-273357fede04"
      },
      "execution_count": null,
      "outputs": [
        {
          "output_type": "stream",
          "name": "stderr",
          "text": [
            "Device set to use cpu\n",
            "Truncation was not explicitly activated but `max_length` is provided a specific value, please use `truncation=True` to explicitly truncate examples to max length. Defaulting to 'longest_first' truncation strategy. If you encode pairs of sequences (GLUE-style) with the tokenizer you can select this strategy more precisely by providing a specific strategy to `truncation`.\n",
            "Setting `pad_token_id` to `eos_token_id`:50256 for open-end generation.\n",
            "Both `max_new_tokens` (=256) and `max_length`(=40) seem to have been set. `max_new_tokens` will take precedence. Please refer to the documentation for more information. (https://huggingface.co/docs/transformers/main/en/main_classes/text_generation)\n"
          ]
        },
        {
          "output_type": "stream",
          "name": "stdout",
          "text": [
            "User:write a python code to add 2 number ips (without arguments), as follows:\n",
            "\n",
            "/* * Put the two numbers in the current Python program. */ #!/usr/bin/env python import sys import argparse import sys # Set the number to 2, and all parameters. # The value of 1 must be an integer. # The value of 2 must be an integer. def find2 ( arg ): # If the argument is a value, this does not work. if arg.any_argument() == 0 : print \"An error occurred.\" return None # If the argument is a number, this does not work. if arg.any_argument() == 1 : print \"An error occurred.\" return None # If the argument is a number, this does not work. if arg.any_argument() == 2 : print \"An error occurred.\" return None # If the argument is a number, this does not work. if arg.any_argument() == 3 : print \"An error occurred.\" return None # If the argument is a number, this does not work. if arg.any_argument() == 4 : print \"An error occurred.\" return None # If the argument is a number, this does not work. # Note that this is to ensure that the number is the same\n"
          ]
        }
      ]
    },
    {
      "cell_type": "code",
      "source": [
        "from transformers import pipeline\n",
        "chatbot =  pipeline(\"text-generation\", model=\"gpt2\")\n",
        "prompt=\"User:write a python code to add 2 number \"\n",
        "response=chatbot(prompt,max_length=40,num_return_sequences=1)\n",
        "print(response[0]['generated_text'])"
      ],
      "metadata": {
        "colab": {
          "base_uri": "https://localhost:8080/"
        },
        "id": "qPeH_HzoP8RC",
        "outputId": "24bffd92-7eae-40c0-c448-9f1497b825ec"
      },
      "execution_count": null,
      "outputs": [
        {
          "output_type": "stream",
          "name": "stderr",
          "text": [
            "Device set to use cpu\n",
            "Truncation was not explicitly activated but `max_length` is provided a specific value, please use `truncation=True` to explicitly truncate examples to max length. Defaulting to 'longest_first' truncation strategy. If you encode pairs of sequences (GLUE-style) with the tokenizer you can select this strategy more precisely by providing a specific strategy to `truncation`.\n",
            "Setting `pad_token_id` to `eos_token_id`:50256 for open-end generation.\n",
            "Both `max_new_tokens` (=256) and `max_length`(=40) seem to have been set. `max_new_tokens` will take precedence. Please refer to the documentation for more information. (https://huggingface.co/docs/transformers/main/en/main_classes/text_generation)\n"
          ]
        },
        {
          "output_type": "stream",
          "name": "stdout",
          "text": [
            "User:write a python code to add 2 number -------------------------- #!/usr/bin/env python import sys import time import sys import timezone import random import random import sys import tty import time import random import os import sys import ws = sys.timezone.DateTime(2012, 2) tty.save('python-file.py', os.environ['system.socket.open', 'http://192.168.1.1:3000/') tty.write('add()'+'' +'' +'' +'' +'' +'' +'' +'' +'' +'' +'' +'' +'' +'' +'' +'' +'' +'' +'' +'' +'' +'' +'' +'' +'' +'' +'+'' +'' +'' +'' +'' +'' +'' +'' +'' +'' +'' +'' +'' +'' +'' +'' +'' +'+'+'' +'' +'' +'' +'' +'' +'' +'+ '\n"
          ]
        }
      ]
    },
    {
      "cell_type": "code",
      "source": [
        "from transformers import pipeline\n",
        "summarizer = pipeline(\"summarization\",model=\"facebook/bart-large-cnn\")\n",
        "text=\"\"\"User:Google Docs is an online word processor and part of the free, web-based Google Docs Editors suite offered by Google. Google Docs is accessible via a web browser as a web-based application and is also available as a mobile app on Android and iOS and as a desktop application on Google's ChromeOS.\n",
        "\"\"\"\n",
        "summary = summarizer(text,max_length=60,min_length=30,do_sample=False)[0]['summary_text']\n",
        "print(\"Original text:\",text)\n",
        "print(\"Summary:\",summary)"
      ],
      "metadata": {
        "colab": {
          "base_uri": "https://localhost:8080/",
          "height": 298,
          "referenced_widgets": [
            "8236d722f54249cc9276c437e6f9db44",
            "35773122ca134c54b6eb1f3732db6703",
            "b68a60dcd59d4bd9a021a61fa4ee4f2f",
            "72ed22065766433c8cacfb794d4be152",
            "fd2e7f890ca5494c9a0eed9c20f4b1b4",
            "f24e89f703144a23a4ba8092b7fec3ef",
            "757aa4c3b6904c53ba352a5ebeab14e2",
            "f8390e56dd2f4a4bab8c8b7c1bfbf653",
            "1a32f3d25a704d24a1f9fb10ef0cd1fb",
            "9666b4294e6f4e3c869faea9932c3a17",
            "caf25285655b40a5ae54b8efde972534",
            "c3d6530f7d5c4520be77aa8d37f27243",
            "b30bfb8f3392475ab819afd882b8311c",
            "fe30e6443b0c44f58e1cc60ce7c1f517",
            "f2d6721548194291bc71417d36005539",
            "3b8f7245846942ad8d8b4b672c53ff74",
            "045ebf3b265d40b2bf3e45f23bf3220e",
            "189489a5655b45bb9c6776c969188890",
            "ce9de2841a3141d2b7e245316a0889d8",
            "89f840b52afd412192c6172d62f03d7b",
            "8c807c322be048d8a4f5cdfd74d9ec71",
            "1aed0b1b63734914a921d3aeae1d16dd",
            "5e867a66ce4f4823a6039c823e774922",
            "2e0e39be2f8046fb9d97fc79b2877d0a",
            "abd3a8d470fd47e7aca08ab5545c1a24",
            "d842e87404bd4b5b9a7f5b63b8f76097",
            "a4b52a2ee0604dc784f1ce9864f90ed3",
            "4c01911ee16444b5af54f0db31f6fcc6",
            "5474b154a28c4520806c9ff33a2a3a63",
            "80550fc8cfb54cc0b25def3862d675e6",
            "9ff9051c32864823ac1e3c47e8075b09",
            "2cbb2d06a4dc413d93a40623ec7bb922",
            "590db3d1add840b3b1a0eb2ee71c6f34",
            "1ecf598f78e6472eacd48b0b9c94acd7",
            "f7e768b795914b66ab9dbc09b676df57",
            "aa1931121abe49e9ab104c2b5d0807a1",
            "fd563959bf36408c80d671685c46626f",
            "e83634dcac49428b9f28711d9e122aa7",
            "26f7371fd1e3496690e850a251420bc8",
            "3841a97da3834893b7f3fef4b559c50c",
            "561cc770833447f7935a152263a7ab23",
            "45e6b215776741e2a21fbea1ad425833",
            "8af3ffde6560494ca5b6bbf25bb6f18b",
            "4ae9de9f5c5c42f89b10c08725b79316",
            "dc286e5aa6ae4f428d44a80e31619db4",
            "edabd15b6a644929919fb7f45137b18c",
            "5eb773e422934aa2a2b02e4cf1ab321f",
            "eb80bca010d9430bb776038d2f41c260",
            "a50f4f7eb6d944c3b5dbaa14dbf3efef",
            "85c39c5ef0954b06b25bd1660e9fad27",
            "14c5a63b0221425287f736f0f30448dd",
            "ee425647ff684fa8852a75ee01869a83",
            "ee5f093219c8441a98e5594e428b7d3b",
            "52f3b27d96494467b6c99b9cd3437938",
            "253323a8a6ff4afc9474c68e4e70dd8f",
            "2affebbf06614a359a4851a6512f4eb2",
            "547733bb5bba4b43b55cbcb3bec34d40",
            "60fdc6eca9ae443ea51ef1a594002932",
            "6c2632330fce48bb864fd44f08a6a744",
            "41f634f5f06f401cbf0b88cd64264dd7",
            "2ca2398a0063401da567560323684426",
            "e9306f7a320442cab7ad1277a7871992",
            "7f961b3859564e34890e36c99e2c21ff",
            "2d74c1c88b914dc19fbb4f13b6319d45",
            "8356ffbbc1f34a22bb6278a69f355df9",
            "9786037d32184758a5ff19eaa7fedaff"
          ]
        },
        "id": "i4bhtxq0Q5TS",
        "outputId": "7942f422-8d05-45b5-a3a7-ba95a62204db"
      },
      "execution_count": null,
      "outputs": [
        {
          "output_type": "display_data",
          "data": {
            "text/plain": [
              "config.json: 0.00B [00:00, ?B/s]"
            ],
            "application/vnd.jupyter.widget-view+json": {
              "version_major": 2,
              "version_minor": 0,
              "model_id": "8236d722f54249cc9276c437e6f9db44"
            }
          },
          "metadata": {}
        },
        {
          "output_type": "display_data",
          "data": {
            "text/plain": [
              "model.safetensors:   0%|          | 0.00/1.63G [00:00<?, ?B/s]"
            ],
            "application/vnd.jupyter.widget-view+json": {
              "version_major": 2,
              "version_minor": 0,
              "model_id": "c3d6530f7d5c4520be77aa8d37f27243"
            }
          },
          "metadata": {}
        },
        {
          "output_type": "display_data",
          "data": {
            "text/plain": [
              "generation_config.json:   0%|          | 0.00/363 [00:00<?, ?B/s]"
            ],
            "application/vnd.jupyter.widget-view+json": {
              "version_major": 2,
              "version_minor": 0,
              "model_id": "5e867a66ce4f4823a6039c823e774922"
            }
          },
          "metadata": {}
        },
        {
          "output_type": "display_data",
          "data": {
            "text/plain": [
              "vocab.json: 0.00B [00:00, ?B/s]"
            ],
            "application/vnd.jupyter.widget-view+json": {
              "version_major": 2,
              "version_minor": 0,
              "model_id": "1ecf598f78e6472eacd48b0b9c94acd7"
            }
          },
          "metadata": {}
        },
        {
          "output_type": "display_data",
          "data": {
            "text/plain": [
              "merges.txt: 0.00B [00:00, ?B/s]"
            ],
            "application/vnd.jupyter.widget-view+json": {
              "version_major": 2,
              "version_minor": 0,
              "model_id": "dc286e5aa6ae4f428d44a80e31619db4"
            }
          },
          "metadata": {}
        },
        {
          "output_type": "display_data",
          "data": {
            "text/plain": [
              "tokenizer.json: 0.00B [00:00, ?B/s]"
            ],
            "application/vnd.jupyter.widget-view+json": {
              "version_major": 2,
              "version_minor": 0,
              "model_id": "2affebbf06614a359a4851a6512f4eb2"
            }
          },
          "metadata": {}
        },
        {
          "output_type": "stream",
          "name": "stderr",
          "text": [
            "Device set to use cpu\n"
          ]
        },
        {
          "output_type": "stream",
          "name": "stdout",
          "text": [
            "Original text: User:Google Docs is an online word processor and part of the free, web-based Google Docs Editors suite offered by Google. Google Docs is accessible via a web browser as a web-based application and is also available as a mobile app on Android and iOS and as a desktop application on Google's ChromeOS.\n",
            "\n",
            "Summary: Google Docs is an online word processor and part of the free, web-based Google Docs Editors suite. It is accessible via a web browser and is also available as a mobile app on Android and iOS and as a desktop application on ChromeOS.\n"
          ]
        }
      ]
    }
  ]
}